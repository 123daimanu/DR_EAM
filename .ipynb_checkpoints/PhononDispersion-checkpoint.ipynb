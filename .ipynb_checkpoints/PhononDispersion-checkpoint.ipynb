{
 "cells": [
  {
   "cell_type": "code",
   "execution_count": 4,
   "metadata": {},
   "outputs": [],
   "source": [
    "#Phonon dispersion curve\n",
    "import numpy as num\n",
    "import pylab as lab\n"
   ]
  },
  {
   "cell_type": "markdown",
   "metadata": {},
   "source": []
  },
  {
   "cell_type": "code",
   "execution_count": 5,
   "metadata": {},
   "outputs": [],
   "source": [
    "def D_comp(a,b,k,R):\n",
    "    vecK=num.array(k)\n",
    "    vecR=num.array(R)\n",
    "    kdotR=num.dot(vecK,vecR)\n",
    "    RR=num.outer(vecR,vecR)\n",
    "    sinkR=num.sin(kdotR/2)\n",
    "    I=num.eye(3)\n",
    "    return sinkR*sinkR*(a*I+b*RR)\n",
    "    "
   ]
  },
  {
   "cell_type": "code",
   "execution_count": 16,
   "metadata": {},
   "outputs": [],
   "source": [
    "def AB(f,d):\n",
    "    delta=0.0001\n",
    "    deriv1=(-f(d+2*delta)+8*f(d+delta)-8*f(d-delta)+f(d-2*delta))/(12*delta)\n",
    "    deriv2=(f(d+delta)-2*f(d)+f(d-delta))/(delta*delta)\n",
    "    A=deriv1/d\n",
    "    B=deriv2-A\n",
    "    return [2*A,2*B]\n",
    "\n"
   ]
  },
  {
   "cell_type": "code",
   "execution_count": 18,
   "metadata": {},
   "outputs": [],
   "source": [
    "def PhEnergy(f,d,Rnear,k):\n",
    "    D=num.zeros(9).reshape(3,3)\n",
    "    for R in Rnear:\n",
    "        D+=D_comp(AB(f,d)[0],AB(f,d)[1],k,R)\n",
    "    values=[]\n",
    "    eigen=num.linalg.eig(D)\n",
    "    for count in [0,1,2]:\n",
    "        if (num.dot(eigen[1][:,count],num.array(k))==0):\n",
    "            values.append([eigen[0][count],'L'])\n",
    "        else:\n",
    "            values.append([eigen[0][count],'T'])\n",
    "    return values\n",
    "\n",
    "            \n"
   ]
  },
  {
   "cell_type": "code",
   "execution_count": 14,
   "metadata": {},
   "outputs": [],
   "source": []
  },
  {
   "cell_type": "code",
   "execution_count": 15,
   "metadata": {},
   "outputs": [
    {
     "data": {
      "text/plain": [
       "9"
      ]
     },
     "execution_count": 15,
     "metadata": {},
     "output_type": "execute_result"
    }
   ],
   "source": []
  },
  {
   "cell_type": "code",
   "execution_count": null,
   "metadata": {},
   "outputs": [],
   "source": []
  }
 ],
 "metadata": {
  "kernelspec": {
   "display_name": "Python [default]",
   "language": "python",
   "name": "python3"
  },
  "language_info": {
   "codemirror_mode": {
    "name": "ipython",
    "version": 3
   },
   "file_extension": ".py",
   "mimetype": "text/x-python",
   "name": "python",
   "nbconvert_exporter": "python",
   "pygments_lexer": "ipython3",
   "version": "3.5.2"
  }
 },
 "nbformat": 4,
 "nbformat_minor": 2
}
