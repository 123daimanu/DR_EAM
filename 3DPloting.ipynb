{
 "cells": [
  {
   "cell_type": "code",
   "execution_count": 1,
   "metadata": {},
   "outputs": [],
   "source": [
    "import plotly"
   ]
  },
  {
   "cell_type": "code",
   "execution_count": 2,
   "metadata": {},
   "outputs": [],
   "source": [
    "plotly.tools.set_credentials_file(username='nanukanchisanu', api_key='5qM3Sc3ZbWiqKPIIGx61')"
   ]
  },
  {
   "cell_type": "code",
   "execution_count": 3,
   "metadata": {},
   "outputs": [
    {
     "data": {
      "text/plain": [
       "'https://plot.ly/~nanukanchisanu/14'"
      ]
     },
     "execution_count": 3,
     "metadata": {},
     "output_type": "execute_result"
    }
   ],
   "source": [
    "import plotly.plotly as py\n",
    "from plotly.graph_objs import *\n",
    "\n",
    "trace0 = Scatter(\n",
    "    x=[1, 2, 3, 4],\n",
    "    y=[10, 15, 13, 17]\n",
    ")\n",
    "trace1 = Scatter(\n",
    "    x=[1, 2, 3, 4],\n",
    "    y=[16, 5, 11, 9]\n",
    ")\n",
    "data = Data([trace0, trace1])\n",
    "\n",
    "py.plot(data, filename = 'basic-line')"
   ]
  },
  {
   "cell_type": "code",
   "execution_count": 4,
   "metadata": {},
   "outputs": [
    {
     "data": {
      "text/plain": [
       "'file:///afs/crc.nd.edu/user/h/hbhattar/Hemanta/metals/pythonScripts/temp-plot.html'"
      ]
     },
     "execution_count": 4,
     "metadata": {},
     "output_type": "execute_result"
    }
   ],
   "source": [
    "import plotly\n",
    "from plotly.graph_objs import Scatter, Layout\n",
    "\n",
    "plotly.offline.plot({\n",
    "    \"data\": [Scatter(x=[1, 2, 3, 4], y=[4, 3, 2, 1])],\n",
    "    \"layout\": Layout(title=\"hello world\")\n",
    "})"
   ]
  },
  {
   "cell_type": "code",
   "execution_count": 3,
   "metadata": {},
   "outputs": [
    {
     "data": {
      "text/html": [
       "<iframe id=\"igraph\" scrolling=\"no\" style=\"border:none;\" seamless=\"seamless\" src=\"https://plot.ly/~nanukanchisanu/16.embed\" height=\"525px\" width=\"100%\"></iframe>"
      ],
      "text/plain": [
       "<plotly.tools.PlotlyDisplay object>"
      ]
     },
     "execution_count": 3,
     "metadata": {},
     "output_type": "execute_result"
    }
   ],
   "source": [
    "import plotly.plotly as py\n",
    "import plotly.graph_objs as go\n",
    "\n",
    "import numpy as np\n",
    "\n",
    "x, y, z = np.random.multivariate_normal(np.array([0,0,0]), np.eye(3), 200).transpose()\n",
    "trace1 = go.Scatter3d(\n",
    "    x=x,\n",
    "    y=y,\n",
    "    z=z,\n",
    "    mode='markers',\n",
    "    marker=dict(\n",
    "        size=12,\n",
    "        line=dict(\n",
    "            color='rgba(217, 217, 217, 0.14)',\n",
    "            width=0.5\n",
    "        ),\n",
    "        opacity=0.8\n",
    "    )\n",
    ")\n",
    "\n",
    "\n",
    "data = [trace1]\n",
    "layout = go.Layout(\n",
    "    margin=dict(\n",
    "        l=0,\n",
    "        r=0,\n",
    "        b=0,\n",
    "        t=0\n",
    "    )\n",
    ")\n",
    "fig = go.Figure(data=data, layout=layout)\n",
    "py.iplot(fig, filename='simple-3d-scatter')"
   ]
  },
  {
   "cell_type": "code",
   "execution_count": 4,
   "metadata": {},
   "outputs": [
    {
     "data": {
      "text/plain": [
       "array([ 0.54574048, -0.24516233,  0.14876086,  0.46683219, -0.34626659,\n",
       "       -0.90331942,  0.24967092,  0.8678496 ,  1.66071337, -0.48108547,\n",
       "        0.24699929,  1.02482006, -0.84023149,  1.30997587, -1.32905064,\n",
       "       -0.04583341, -0.05072361,  0.63086374, -0.47008279,  1.33797637,\n",
       "        0.87962492,  0.36032451,  0.56492795, -0.42053763, -0.19851582,\n",
       "        0.16806667, -0.55790827,  0.72777841, -0.39626757, -0.05539585,\n",
       "        1.00863244, -0.45439262,  1.3534957 , -0.27018859, -0.84305407,\n",
       "       -0.20488756, -0.65841143, -0.89799643,  0.35405502,  0.96897125,\n",
       "        0.6344886 ,  0.57303659,  0.28051287, -0.55480379,  0.24648216,\n",
       "       -0.32636348,  0.64996341, -0.25368793, -1.08140996,  2.25386531,\n",
       "        2.48742642, -0.19217212,  1.42266425, -0.42135101, -1.7750142 ,\n",
       "       -0.13906503, -1.60853913,  0.63152533,  0.85218799, -0.24700849,\n",
       "        0.86199301,  0.94421546,  0.30204517, -0.66906966, -0.74151266,\n",
       "       -0.02987276,  0.47339456,  1.13368961,  0.33145853, -1.75099005,\n",
       "        1.30373247, -0.44809773, -1.10270672, -0.69210156,  0.35953837,\n",
       "        0.36252856,  1.99205758, -0.16019197, -0.85532475, -0.07019011,\n",
       "        0.12999446, -0.82459091, -1.39751198, -0.7562799 ,  0.52765594,\n",
       "        1.65663777, -0.04856287, -0.84462044, -0.90464487, -0.37582017,\n",
       "        1.3531121 ,  0.31345059,  1.91172544,  0.43973404, -0.28878195,\n",
       "       -0.79717384,  0.77350404,  0.09063629, -0.54083252, -0.89547295,\n",
       "       -0.21516285,  0.83473819, -2.5199007 ,  1.6533848 ,  0.82931174,\n",
       "       -0.09905393,  0.47746529,  0.24406319,  1.88673543,  1.2792979 ,\n",
       "        0.50596928, -0.57408937,  1.7557117 ,  0.1819002 ,  0.28165228,\n",
       "       -0.39414601, -0.18964553,  0.40852972,  2.19033068,  1.00193802,\n",
       "        0.06800151, -0.33139527,  0.99275299, -0.96529453,  1.63473916,\n",
       "        0.817842  , -0.73726051,  0.07855058,  0.03932636, -0.23392429,\n",
       "       -0.79754945,  0.11040859, -0.77886481, -0.18769479, -0.39822825,\n",
       "       -0.9213876 , -0.2187949 , -0.11044449,  0.44150742, -2.56340357,\n",
       "       -1.50088374, -1.17255006, -0.06158698, -0.64824485,  1.08726557,\n",
       "       -0.41323492,  1.12103139,  0.28850328, -0.03242615, -1.31353064,\n",
       "       -0.07446313, -0.02964938, -0.10243531,  0.108505  ,  1.32328696,\n",
       "        1.86030674,  1.90204033, -1.17805773, -0.02918105, -1.56153298,\n",
       "       -1.32931965,  0.27308429,  0.01547771, -1.78770514, -0.46760101,\n",
       "        0.6326085 , -1.02130148,  0.72687579,  0.84182294,  1.56058636,\n",
       "        1.82653039, -0.46273174, -0.73249304,  0.25325108,  1.03137495,\n",
       "        1.46129937, -0.31755758,  0.43796865,  0.32891264, -2.4564684 ,\n",
       "        0.32739839, -0.24471691,  1.51356601, -0.1432288 ,  0.92131325,\n",
       "       -0.22905883,  0.38315858, -0.78423133,  0.53304872,  0.47502147,\n",
       "       -1.75025988,  0.48444861,  0.85039372, -1.08022963,  1.58545832,\n",
       "        1.18913868, -0.09540281,  1.18936316,  0.308913  ,  0.03916773])"
      ]
     },
     "execution_count": 4,
     "metadata": {},
     "output_type": "execute_result"
    }
   ],
   "source": [
    "x"
   ]
  },
  {
   "cell_type": "code",
   "execution_count": null,
   "metadata": {},
   "outputs": [],
   "source": []
  }
 ],
 "metadata": {
  "anaconda-cloud": {},
  "kernelspec": {
   "display_name": "Python [default]",
   "language": "python",
   "name": "python3"
  },
  "language_info": {
   "codemirror_mode": {
    "name": "ipython",
    "version": 3
   },
   "file_extension": ".py",
   "mimetype": "text/x-python",
   "name": "python",
   "nbconvert_exporter": "python",
   "pygments_lexer": "ipython3",
   "version": "3.5.2"
  }
 },
 "nbformat": 4,
 "nbformat_minor": 2
}
