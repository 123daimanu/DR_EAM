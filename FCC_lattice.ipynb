{
 "cells": [
  {
   "cell_type": "code",
   "execution_count": 1,
   "metadata": {},
   "outputs": [],
   "source": [
    "import numpy as num\n",
    "import scipy as sci\n",
    "import pandas as pan\n",
    "import pylab as lab\n",
    "from itertools import product\n",
    "import pandas as pan\n",
    "%matplotlib inline\n",
    "#from mpi4py import MPI\n",
    "#comm=MPI.COMM_WORLD\n",
    "#rank=comm.Get_rank()\n"
   ]
  },
  {
   "cell_type": "code",
   "execution_count": 2,
   "metadata": {},
   "outputs": [],
   "source": [
    "def FCC(a,b,c,T):\n",
    "    T=num.array(T)\n",
    "    first=num.array([0,0,0])\n",
    "    second=num.array([a/2.,b/2.,0])\n",
    "    third=num.array([0,b/2.,c/2.])\n",
    "    fourth=num.array([a/2.,0,c/2.])\n",
    "    coordinates=num.array([first+a*T,second+a*T,third+a*T,fourth+a*T])\n",
    "    return(coordinates)\n",
    "    \n",
    "    \n",
    "    \n",
    "    \n",
    "#------------------------------------------------------------------------------------------------------------------------\n",
    "\n",
    "\n",
    "\n",
    "def Lattice(a,b,c,dim):\n",
    "    LatticeCoordinates=[]\n",
    "    size=range(-dim,dim+1)\n",
    "    transVectors=list(product(size,size,size))\n",
    "    for var in transVectors:\n",
    "        LatticeCoordinates.append(FCC(a,b,c,var))\n",
    "        \n",
    "    LatticeCoordinates=num.array(LatticeCoordinates)\n",
    "    shape=LatticeCoordinates.shape\n",
    "    \n",
    "    return LatticeCoordinates.reshape(shape[0]*shape[1],shape[2])\n",
    " \n",
    "    \n",
    "#-------------------------------------------------------------------------------------------------------------------------  \n",
    " "
   ]
  },
  {
   "cell_type": "code",
   "execution_count": 4,
   "metadata": {},
   "outputs": [],
   "source": [
    "   \n",
    "    \n",
    "def EmbeddedEnergy(EmbeddedFunc,fEle,lattice,n,frame):\n",
    "    hostDensity=[]\n",
    "    for base in lattice:\n",
    "        rep=lattice.shape[0]\n",
    "        baseArray=num.repeat([base],rep,axis=0)\n",
    "        diff=lattice-baseArray\n",
    "        dist=num.sqrt(num.sum(num.multiply(diff,diff),axis=1))\n",
    "        individualDensity=fEle(dist,n,frame)\n",
    "        totalHost=num.sum(individualDensity)-fEle(0,n,frame)\n",
    "        hostDensity.append(totalHost)\n",
    "    EmbeddedEnergyIndivisual=EmbeddedFunc(num.array(hostDensity),n,frame)\n",
    "    TotalEmbeddedEnergy=num.sum(EmbeddedEnergyIndivisual)\n",
    "    return TotalEmbeddedEnergy\n",
    "\n",
    "\n",
    "\n",
    "#---------------------------------------------------------------------------------------------------------------------------\n",
    "\n",
    "\n",
    "\n",
    "def PairPotential(Pot,lattice,n,frame):\n",
    "    potential=0\n",
    "    dim=lattice.shape[0]\n",
    "    AtomPairs=list(product(range(dim),range(dim)))\n",
    "    for pair in AtomPairs:\n",
    "        diff=lattice[pair[0]]-lattice[pair[1]]\n",
    "        dist=num.sqrt(num.sum(num.multiply(diff,diff)))\n",
    "        if dist!=0:\n",
    "            potential=potential+Pot(dist,n,frame)\n",
    "    return potential/2\n",
    "    \n",
    " \n",
    "    \n",
    "#---------------------------------------------------------------------------------------------------------------------------\n",
    "def EmbeddedEnergyDaw(EmbeddedFunc,fEle,lattice):\n",
    "    hostDensity=[]\n",
    "    for base in lattice:\n",
    "        rep=lattice.shape[0]\n",
    "        baseArray=num.repeat([base],rep,axis=0)\n",
    "        diff=lattice-baseArray\n",
    "        dist=num.sqrt(num.sum(num.multiply(diff,diff),axis=1))\n",
    "        individualDensity=fEle(dist[dist<5])\n",
    "        totalHost=num.sum(individualDensity)-fEle(0)\n",
    "        if (totalHost<.25):\n",
    "            hostDensity.append(totalHost)\n",
    "    EmbeddedEnergyIndivisual=EmbeddedFunc(num.array(hostDensity))\n",
    "    TotalEmbeddedEnergy=num.sum(EmbeddedEnergyIndivisual)\n",
    "    return TotalEmbeddedEnergy\n",
    "\n",
    "#----------------------------------------------------------------------------------------------------------------------\n",
    "\n",
    "def PairPotentialDaw(Z,lattice):\n",
    "    potential=0\n",
    "    dim=lattice.shape[0]\n",
    "    AtomPairs=list(product(range(dim),range(dim)))\n",
    "    for pair in AtomPairs:\n",
    "        diff=lattice[pair[0]]-lattice[pair[1]]\n",
    "        dist=num.sqrt(num.sum(num.multiply(diff,diff)))\n",
    "        if dist!=0 and dist<5:\n",
    "            potential=potential+Z(dist)**2/float(dist)\n",
    "    return potential/2"
   ]
  },
  {
   "cell_type": "code",
   "execution_count": 5,
   "metadata": {},
   "outputs": [
    {
     "ename": "OSError",
     "evalue": "File b'Pt.VC.Z.dat' does not exist",
     "output_type": "error",
     "traceback": [
      "\u001b[0;31m---------------------------------------------------------------------------\u001b[0m",
      "\u001b[0;31mOSError\u001b[0m                                   Traceback (most recent call last)",
      "\u001b[0;32m<ipython-input-5-4e41b8eed2e1>\u001b[0m in \u001b[0;36m<module>\u001b[0;34m()\u001b[0m\n\u001b[1;32m      1\u001b[0m \u001b[0;32mfrom\u001b[0m \u001b[0mscipy\u001b[0m\u001b[0;34m.\u001b[0m\u001b[0minterpolate\u001b[0m \u001b[0;32mimport\u001b[0m \u001b[0minterp1d\u001b[0m\u001b[0;34m\u001b[0m\u001b[0m\n\u001b[0;32m----> 2\u001b[0;31m \u001b[0mZ\u001b[0m\u001b[0;34m=\u001b[0m\u001b[0mpan\u001b[0m\u001b[0;34m.\u001b[0m\u001b[0mread_csv\u001b[0m\u001b[0;34m(\u001b[0m\u001b[0;34m\"Pt.VC.Z.dat\"\u001b[0m\u001b[0;34m,\u001b[0m\u001b[0msep\u001b[0m\u001b[0;34m=\u001b[0m\u001b[0;34m\"\\t\"\u001b[0m\u001b[0;34m,\u001b[0m\u001b[0mnames\u001b[0m\u001b[0;34m=\u001b[0m\u001b[0;34m[\u001b[0m\u001b[0;34m\"r\"\u001b[0m\u001b[0;34m,\u001b[0m\u001b[0;34m\"Z\"\u001b[0m\u001b[0;34m]\u001b[0m\u001b[0;34m)\u001b[0m\u001b[0;34m\u001b[0m\u001b[0m\n\u001b[0m\u001b[1;32m      3\u001b[0m \u001b[0mZFrame\u001b[0m\u001b[0;34m=\u001b[0m\u001b[0mpan\u001b[0m\u001b[0;34m.\u001b[0m\u001b[0mDataFrame\u001b[0m\u001b[0;34m(\u001b[0m\u001b[0mZ\u001b[0m\u001b[0;34m)\u001b[0m\u001b[0;34m\u001b[0m\u001b[0m\n\u001b[1;32m      4\u001b[0m \u001b[0mZFunc\u001b[0m \u001b[0;34m=\u001b[0m \u001b[0minterp1d\u001b[0m\u001b[0;34m(\u001b[0m\u001b[0mZFrame\u001b[0m\u001b[0;34m.\u001b[0m\u001b[0mr\u001b[0m\u001b[0;34m,\u001b[0m \u001b[0mZFrame\u001b[0m\u001b[0;34m.\u001b[0m\u001b[0mZ\u001b[0m\u001b[0;34m,\u001b[0m \u001b[0mkind\u001b[0m\u001b[0;34m=\u001b[0m\u001b[0;34m'cubic'\u001b[0m\u001b[0;34m)\u001b[0m\u001b[0;34m\u001b[0m\u001b[0m\n\u001b[1;32m      5\u001b[0m \u001b[0;34m\u001b[0m\u001b[0m\n",
      "\u001b[0;32m/home/hbhattar/anaconda3/lib/python3.5/site-packages/pandas/io/parsers.py\u001b[0m in \u001b[0;36mparser_f\u001b[0;34m(filepath_or_buffer, sep, delimiter, header, names, index_col, usecols, squeeze, prefix, mangle_dupe_cols, dtype, engine, converters, true_values, false_values, skipinitialspace, skiprows, skipfooter, nrows, na_values, keep_default_na, na_filter, verbose, skip_blank_lines, parse_dates, infer_datetime_format, keep_date_col, date_parser, dayfirst, iterator, chunksize, compression, thousands, decimal, lineterminator, quotechar, quoting, escapechar, comment, encoding, dialect, tupleize_cols, error_bad_lines, warn_bad_lines, skip_footer, doublequote, delim_whitespace, as_recarray, compact_ints, use_unsigned, low_memory, buffer_lines, memory_map, float_precision)\u001b[0m\n\u001b[1;32m    560\u001b[0m                     skip_blank_lines=skip_blank_lines)\n\u001b[1;32m    561\u001b[0m \u001b[0;34m\u001b[0m\u001b[0m\n\u001b[0;32m--> 562\u001b[0;31m         \u001b[0;32mreturn\u001b[0m \u001b[0m_read\u001b[0m\u001b[0;34m(\u001b[0m\u001b[0mfilepath_or_buffer\u001b[0m\u001b[0;34m,\u001b[0m \u001b[0mkwds\u001b[0m\u001b[0;34m)\u001b[0m\u001b[0;34m\u001b[0m\u001b[0m\n\u001b[0m\u001b[1;32m    563\u001b[0m \u001b[0;34m\u001b[0m\u001b[0m\n\u001b[1;32m    564\u001b[0m     \u001b[0mparser_f\u001b[0m\u001b[0;34m.\u001b[0m\u001b[0m__name__\u001b[0m \u001b[0;34m=\u001b[0m \u001b[0mname\u001b[0m\u001b[0;34m\u001b[0m\u001b[0m\n",
      "\u001b[0;32m/home/hbhattar/anaconda3/lib/python3.5/site-packages/pandas/io/parsers.py\u001b[0m in \u001b[0;36m_read\u001b[0;34m(filepath_or_buffer, kwds)\u001b[0m\n\u001b[1;32m    313\u001b[0m \u001b[0;34m\u001b[0m\u001b[0m\n\u001b[1;32m    314\u001b[0m     \u001b[0;31m# Create the parser.\u001b[0m\u001b[0;34m\u001b[0m\u001b[0;34m\u001b[0m\u001b[0m\n\u001b[0;32m--> 315\u001b[0;31m     \u001b[0mparser\u001b[0m \u001b[0;34m=\u001b[0m \u001b[0mTextFileReader\u001b[0m\u001b[0;34m(\u001b[0m\u001b[0mfilepath_or_buffer\u001b[0m\u001b[0;34m,\u001b[0m \u001b[0;34m**\u001b[0m\u001b[0mkwds\u001b[0m\u001b[0;34m)\u001b[0m\u001b[0;34m\u001b[0m\u001b[0m\n\u001b[0m\u001b[1;32m    316\u001b[0m \u001b[0;34m\u001b[0m\u001b[0m\n\u001b[1;32m    317\u001b[0m     \u001b[0;32mif\u001b[0m \u001b[0;34m(\u001b[0m\u001b[0mnrows\u001b[0m \u001b[0;32mis\u001b[0m \u001b[0;32mnot\u001b[0m \u001b[0;32mNone\u001b[0m\u001b[0;34m)\u001b[0m \u001b[0;32mand\u001b[0m \u001b[0;34m(\u001b[0m\u001b[0mchunksize\u001b[0m \u001b[0;32mis\u001b[0m \u001b[0;32mnot\u001b[0m \u001b[0;32mNone\u001b[0m\u001b[0;34m)\u001b[0m\u001b[0;34m:\u001b[0m\u001b[0;34m\u001b[0m\u001b[0m\n",
      "\u001b[0;32m/home/hbhattar/anaconda3/lib/python3.5/site-packages/pandas/io/parsers.py\u001b[0m in \u001b[0;36m__init__\u001b[0;34m(self, f, engine, **kwds)\u001b[0m\n\u001b[1;32m    643\u001b[0m             \u001b[0mself\u001b[0m\u001b[0;34m.\u001b[0m\u001b[0moptions\u001b[0m\u001b[0;34m[\u001b[0m\u001b[0;34m'has_index_names'\u001b[0m\u001b[0;34m]\u001b[0m \u001b[0;34m=\u001b[0m \u001b[0mkwds\u001b[0m\u001b[0;34m[\u001b[0m\u001b[0;34m'has_index_names'\u001b[0m\u001b[0;34m]\u001b[0m\u001b[0;34m\u001b[0m\u001b[0m\n\u001b[1;32m    644\u001b[0m \u001b[0;34m\u001b[0m\u001b[0m\n\u001b[0;32m--> 645\u001b[0;31m         \u001b[0mself\u001b[0m\u001b[0;34m.\u001b[0m\u001b[0m_make_engine\u001b[0m\u001b[0;34m(\u001b[0m\u001b[0mself\u001b[0m\u001b[0;34m.\u001b[0m\u001b[0mengine\u001b[0m\u001b[0;34m)\u001b[0m\u001b[0;34m\u001b[0m\u001b[0m\n\u001b[0m\u001b[1;32m    646\u001b[0m \u001b[0;34m\u001b[0m\u001b[0m\n\u001b[1;32m    647\u001b[0m     \u001b[0;32mdef\u001b[0m \u001b[0mclose\u001b[0m\u001b[0;34m(\u001b[0m\u001b[0mself\u001b[0m\u001b[0;34m)\u001b[0m\u001b[0;34m:\u001b[0m\u001b[0;34m\u001b[0m\u001b[0m\n",
      "\u001b[0;32m/home/hbhattar/anaconda3/lib/python3.5/site-packages/pandas/io/parsers.py\u001b[0m in \u001b[0;36m_make_engine\u001b[0;34m(self, engine)\u001b[0m\n\u001b[1;32m    797\u001b[0m     \u001b[0;32mdef\u001b[0m \u001b[0m_make_engine\u001b[0m\u001b[0;34m(\u001b[0m\u001b[0mself\u001b[0m\u001b[0;34m,\u001b[0m \u001b[0mengine\u001b[0m\u001b[0;34m=\u001b[0m\u001b[0;34m'c'\u001b[0m\u001b[0;34m)\u001b[0m\u001b[0;34m:\u001b[0m\u001b[0;34m\u001b[0m\u001b[0m\n\u001b[1;32m    798\u001b[0m         \u001b[0;32mif\u001b[0m \u001b[0mengine\u001b[0m \u001b[0;34m==\u001b[0m \u001b[0;34m'c'\u001b[0m\u001b[0;34m:\u001b[0m\u001b[0;34m\u001b[0m\u001b[0m\n\u001b[0;32m--> 799\u001b[0;31m             \u001b[0mself\u001b[0m\u001b[0;34m.\u001b[0m\u001b[0m_engine\u001b[0m \u001b[0;34m=\u001b[0m \u001b[0mCParserWrapper\u001b[0m\u001b[0;34m(\u001b[0m\u001b[0mself\u001b[0m\u001b[0;34m.\u001b[0m\u001b[0mf\u001b[0m\u001b[0;34m,\u001b[0m \u001b[0;34m**\u001b[0m\u001b[0mself\u001b[0m\u001b[0;34m.\u001b[0m\u001b[0moptions\u001b[0m\u001b[0;34m)\u001b[0m\u001b[0;34m\u001b[0m\u001b[0m\n\u001b[0m\u001b[1;32m    800\u001b[0m         \u001b[0;32melse\u001b[0m\u001b[0;34m:\u001b[0m\u001b[0;34m\u001b[0m\u001b[0m\n\u001b[1;32m    801\u001b[0m             \u001b[0;32mif\u001b[0m \u001b[0mengine\u001b[0m \u001b[0;34m==\u001b[0m \u001b[0;34m'python'\u001b[0m\u001b[0;34m:\u001b[0m\u001b[0;34m\u001b[0m\u001b[0m\n",
      "\u001b[0;32m/home/hbhattar/anaconda3/lib/python3.5/site-packages/pandas/io/parsers.py\u001b[0m in \u001b[0;36m__init__\u001b[0;34m(self, src, **kwds)\u001b[0m\n\u001b[1;32m   1211\u001b[0m         \u001b[0mkwds\u001b[0m\u001b[0;34m[\u001b[0m\u001b[0;34m'allow_leading_cols'\u001b[0m\u001b[0;34m]\u001b[0m \u001b[0;34m=\u001b[0m \u001b[0mself\u001b[0m\u001b[0;34m.\u001b[0m\u001b[0mindex_col\u001b[0m \u001b[0;32mis\u001b[0m \u001b[0;32mnot\u001b[0m \u001b[0;32mFalse\u001b[0m\u001b[0;34m\u001b[0m\u001b[0m\n\u001b[1;32m   1212\u001b[0m \u001b[0;34m\u001b[0m\u001b[0m\n\u001b[0;32m-> 1213\u001b[0;31m         \u001b[0mself\u001b[0m\u001b[0;34m.\u001b[0m\u001b[0m_reader\u001b[0m \u001b[0;34m=\u001b[0m \u001b[0m_parser\u001b[0m\u001b[0;34m.\u001b[0m\u001b[0mTextReader\u001b[0m\u001b[0;34m(\u001b[0m\u001b[0msrc\u001b[0m\u001b[0;34m,\u001b[0m \u001b[0;34m**\u001b[0m\u001b[0mkwds\u001b[0m\u001b[0;34m)\u001b[0m\u001b[0;34m\u001b[0m\u001b[0m\n\u001b[0m\u001b[1;32m   1214\u001b[0m \u001b[0;34m\u001b[0m\u001b[0m\n\u001b[1;32m   1215\u001b[0m         \u001b[0;31m# XXX\u001b[0m\u001b[0;34m\u001b[0m\u001b[0;34m\u001b[0m\u001b[0m\n",
      "\u001b[0;32mpandas/parser.pyx\u001b[0m in \u001b[0;36mpandas.parser.TextReader.__cinit__ (pandas/parser.c:3427)\u001b[0;34m()\u001b[0m\n",
      "\u001b[0;32mpandas/parser.pyx\u001b[0m in \u001b[0;36mpandas.parser.TextReader._setup_parser_source (pandas/parser.c:6861)\u001b[0;34m()\u001b[0m\n",
      "\u001b[0;31mOSError\u001b[0m: File b'Pt.VC.Z.dat' does not exist"
     ]
    }
   ],
   "source": [
    "from scipy.interpolate import interp1d\n",
    "Z=pan.read_csv(\"Pt.VC.Z.dat\",sep=\"\\t\",names=[\"r\",\"Z\"])\n",
    "ZFrame=pan.DataFrame(Z)\n",
    "ZFunc = interp1d(ZFrame.r, ZFrame.Z, kind='cubic')\n",
    "\n",
    "F=pan.read_csv(\"Pt.VC.F.dat\",sep=\"\\t\",names=[\"rho\",\"F\"])\n",
    "FFrame=pan.DataFrame(F)\n",
    "FFunc=interp1d(FFrame.rho,FFrame.F)\n",
    "\n",
    "rho=pan.read_csv(\"Pt.VC.rho.dat\",sep=\"\\t\",names=[\"r\",\"rho\"])\n",
    "RhoF=pan.DataFrame(rho)\n",
    "RFunc=interp1d(RhoF.r,RhoF.rho)"
   ]
  },
  {
   "cell_type": "code",
   "execution_count": 5,
   "metadata": {},
   "outputs": [],
   "source": [
    "def fEle(r,n,frame):\n",
    "    data=list(frame.iloc[n])\n",
    "    atom,name,lat,re,fe,rhoe,alpha,beta,A,B,kappa,lam,Fn0,Fn1,Fn2,Fn3,F0,F1,F2,F3,eta,Fe=data\n",
    "    \n",
    "    return fe*num.exp(-beta*(r/re-1))/(1+(r/re-lam)**20)\n",
    "\n",
    "def phiN_(r,n,frame):\n",
    "    data=list(frame.iloc[n])\n",
    "    atom,name,lat,re,fe,rhoe,alpha,beta,A,B,kappa,lam,Fn0,Fn1,Fn2,Fn3,F0,F1,F2,F3,eta,Fe=data\n",
    "    return A*num.exp(-alpha*(r/re-1))/(1+(r/re-kappa)**20)\n",
    "#def phiE(r,q):\n",
    "#    return (1-q/N)*B*num.exp(-beta*(r/re-1))/(1+(r/re-kappa)**20)\n",
    "\n",
    "def phiE_(r,n,frame):\n",
    "    data=list(frame.iloc[n])\n",
    "    atom,name,lat,re,fe,rhoe,alpha,beta,A,B,kappa,lam,Fn0,Fn1,Fn2,Fn3,F0,F1,F2,F3,eta,Fe=data\n",
    "    return B*num.exp(-beta*(r/re-1))/(1+(r/re-kappa)**20)\n",
    "\n",
    "def phiT_(r,n,frame):\n",
    "    return phiN_(r,n,frame)+phiE_(r,n,frame)\n",
    "\n",
    "\n",
    "\n",
    "def F_(rho,n,frame):\n",
    "    func=[]\n",
    "    data=list(frame.iloc[n])\n",
    "    atom,name,lat,re,fe,rhoe,alpha,beta,A,B,kappa,lam,Fn0,Fn1,Fn2,Fn3,F0,F1,F2,F3,eta,Fe=data\n",
    "    rhon=0.85*rhoe\n",
    "    rho0=1.15*rhoe\n",
    "    for var in rho:\n",
    "        if(var<rhon):\n",
    "            func.append(Fn0*(var/rhon-1)**0+Fn1*(var/rhon-1)**1+Fn2*(var/rhon-1)**2+Fn3*(var/rhon-1)**3)\n",
    "        elif (var>=rhon and var<rho0):\n",
    "            func.append(F0*(var/rhoe-1)**0+F1*(var/rhoe-1)**1+F2*(var/rhoe-1)**2+F3*(var/rhoe-1)**3)\n",
    "        else:\n",
    "            func.append(Fe*(1-num.log((var/rhoe)**eta))*(var/rhoe)**eta)\n",
    "    func=num.asarray(func)\n",
    "    return func"
   ]
  },
  {
   "cell_type": "code",
   "execution_count": 7,
   "metadata": {},
   "outputs": [],
   "source": [
    "Zhou=pan.read_csv(\"Zhou.info.dat\",sep=\"\\t\",names=[\"atom\",\"type\",\"lat\",\"re\",\"fe\",\"rhoe\",\"alpha\",\"beta\",\"A\",\"B\"\\\n",
    "                                                     ,\"kappa\",\"lam\",\"Fn0\",\"Fn1\",\"Fn2\",\"Fn3\",\"F0\",\"F1\",\"F2\",\"F3\",\"eta\",\"Fe\"])"
   ]
  },
  {
   "cell_type": "code",
   "execution_count": 8,
   "metadata": {},
   "outputs": [
    {
     "data": {
      "text/html": [
       "<div style=\"max-width:1500px;overflow:auto;\">\n",
       "<table border=\"1\" class=\"dataframe\">\n",
       "  <thead>\n",
       "    <tr style=\"text-align: right;\">\n",
       "      <th></th>\n",
       "      <th>atom</th>\n",
       "      <th>type</th>\n",
       "      <th>lat</th>\n",
       "      <th>re</th>\n",
       "      <th>fe</th>\n",
       "      <th>rhoe</th>\n",
       "      <th>alpha</th>\n",
       "      <th>beta</th>\n",
       "      <th>A</th>\n",
       "      <th>B</th>\n",
       "      <th>...</th>\n",
       "      <th>Fn0</th>\n",
       "      <th>Fn1</th>\n",
       "      <th>Fn2</th>\n",
       "      <th>Fn3</th>\n",
       "      <th>F0</th>\n",
       "      <th>F1</th>\n",
       "      <th>F2</th>\n",
       "      <th>F3</th>\n",
       "      <th>eta</th>\n",
       "      <th>Fe</th>\n",
       "    </tr>\n",
       "  </thead>\n",
       "  <tbody>\n",
       "    <tr>\n",
       "      <th>0</th>\n",
       "      <td>Cu</td>\n",
       "      <td>Zhou</td>\n",
       "      <td>FCC</td>\n",
       "      <td>2.556162</td>\n",
       "      <td>1.554485</td>\n",
       "      <td>22.150141</td>\n",
       "      <td>7.669911</td>\n",
       "      <td>4.090619</td>\n",
       "      <td>0.327584</td>\n",
       "      <td>0.468735</td>\n",
       "      <td>...</td>\n",
       "      <td>-2.176490</td>\n",
       "      <td>-0.140035</td>\n",
       "      <td>0.285621</td>\n",
       "      <td>-1.750834</td>\n",
       "      <td>-2.19</td>\n",
       "      <td>0</td>\n",
       "      <td>0.702991</td>\n",
       "      <td>0.683705</td>\n",
       "      <td>0.921150</td>\n",
       "      <td>-2.191675</td>\n",
       "    </tr>\n",
       "    <tr>\n",
       "      <th>1</th>\n",
       "      <td>Ag</td>\n",
       "      <td>Zhou</td>\n",
       "      <td>FCC</td>\n",
       "      <td>2.891814</td>\n",
       "      <td>1.106232</td>\n",
       "      <td>15.539255</td>\n",
       "      <td>7.944536</td>\n",
       "      <td>4.237086</td>\n",
       "      <td>0.266074</td>\n",
       "      <td>0.386272</td>\n",
       "      <td>...</td>\n",
       "      <td>-1.729619</td>\n",
       "      <td>-0.221025</td>\n",
       "      <td>0.541558</td>\n",
       "      <td>-0.967036</td>\n",
       "      <td>-1.75</td>\n",
       "      <td>0</td>\n",
       "      <td>0.983967</td>\n",
       "      <td>0.520904</td>\n",
       "      <td>1.149461</td>\n",
       "      <td>-1.751274</td>\n",
       "    </tr>\n",
       "    <tr>\n",
       "      <th>2</th>\n",
       "      <td>Au</td>\n",
       "      <td>Zhou</td>\n",
       "      <td>FCC</td>\n",
       "      <td>2.885034</td>\n",
       "      <td>1.529021</td>\n",
       "      <td>21.319637</td>\n",
       "      <td>8.086176</td>\n",
       "      <td>4.312627</td>\n",
       "      <td>0.230728</td>\n",
       "      <td>0.336695</td>\n",
       "      <td>...</td>\n",
       "      <td>-2.930281</td>\n",
       "      <td>-0.554034</td>\n",
       "      <td>1.489437</td>\n",
       "      <td>-0.886809</td>\n",
       "      <td>-2.98</td>\n",
       "      <td>0</td>\n",
       "      <td>2.283863</td>\n",
       "      <td>0.494127</td>\n",
       "      <td>1.286960</td>\n",
       "      <td>-2.981365</td>\n",
       "    </tr>\n",
       "    <tr>\n",
       "      <th>3</th>\n",
       "      <td>Ni</td>\n",
       "      <td>Zhou</td>\n",
       "      <td>FCC</td>\n",
       "      <td>2.488746</td>\n",
       "      <td>2.007018</td>\n",
       "      <td>27.984706</td>\n",
       "      <td>8.029633</td>\n",
       "      <td>4.282471</td>\n",
       "      <td>0.439664</td>\n",
       "      <td>0.632771</td>\n",
       "      <td>...</td>\n",
       "      <td>-2.693996</td>\n",
       "      <td>-0.066073</td>\n",
       "      <td>0.170482</td>\n",
       "      <td>-2.457442</td>\n",
       "      <td>-2.70</td>\n",
       "      <td>0</td>\n",
       "      <td>0.282257</td>\n",
       "      <td>0.102879</td>\n",
       "      <td>0.509860</td>\n",
       "      <td>-2.700493</td>\n",
       "    </tr>\n",
       "    <tr>\n",
       "      <th>4</th>\n",
       "      <td>Pd</td>\n",
       "      <td>Zhou</td>\n",
       "      <td>FCC</td>\n",
       "      <td>2.750897</td>\n",
       "      <td>1.595417</td>\n",
       "      <td>22.770550</td>\n",
       "      <td>7.605017</td>\n",
       "      <td>4.056009</td>\n",
       "      <td>0.385412</td>\n",
       "      <td>0.545121</td>\n",
       "      <td>...</td>\n",
       "      <td>-2.320473</td>\n",
       "      <td>-0.421263</td>\n",
       "      <td>0.966525</td>\n",
       "      <td>-0.932685</td>\n",
       "      <td>-2.36</td>\n",
       "      <td>0</td>\n",
       "      <td>1.966273</td>\n",
       "      <td>1.396717</td>\n",
       "      <td>1.399758</td>\n",
       "      <td>-2.362609</td>\n",
       "    </tr>\n",
       "    <tr>\n",
       "      <th>5</th>\n",
       "      <td>Pt</td>\n",
       "      <td>Zhou</td>\n",
       "      <td>FCC</td>\n",
       "      <td>2.771916</td>\n",
       "      <td>2.336509</td>\n",
       "      <td>34.108882</td>\n",
       "      <td>7.079952</td>\n",
       "      <td>3.775974</td>\n",
       "      <td>0.449644</td>\n",
       "      <td>0.593713</td>\n",
       "      <td>...</td>\n",
       "      <td>-4.099542</td>\n",
       "      <td>-0.754764</td>\n",
       "      <td>1.766503</td>\n",
       "      <td>-1.578274</td>\n",
       "      <td>-4.17</td>\n",
       "      <td>0</td>\n",
       "      <td>3.474733</td>\n",
       "      <td>2.288323</td>\n",
       "      <td>1.393490</td>\n",
       "      <td>-4.174332</td>\n",
       "    </tr>\n",
       "    <tr>\n",
       "      <th>6</th>\n",
       "      <td>Al</td>\n",
       "      <td>Zhou</td>\n",
       "      <td>FCC</td>\n",
       "      <td>2.886166</td>\n",
       "      <td>1.392302</td>\n",
       "      <td>20.226537</td>\n",
       "      <td>6.942419</td>\n",
       "      <td>3.702623</td>\n",
       "      <td>0.251519</td>\n",
       "      <td>0.313394</td>\n",
       "      <td>...</td>\n",
       "      <td>-2.806783</td>\n",
       "      <td>-0.276173</td>\n",
       "      <td>0.893409</td>\n",
       "      <td>-1.637201</td>\n",
       "      <td>-2.83</td>\n",
       "      <td>0</td>\n",
       "      <td>0.929508</td>\n",
       "      <td>-0.682320</td>\n",
       "      <td>0.779208</td>\n",
       "      <td>-2.829437</td>\n",
       "    </tr>\n",
       "    <tr>\n",
       "      <th>7</th>\n",
       "      <td>Pb</td>\n",
       "      <td>Zhou</td>\n",
       "      <td>FCC</td>\n",
       "      <td>3.499723</td>\n",
       "      <td>0.647872</td>\n",
       "      <td>8.906840</td>\n",
       "      <td>8.468412</td>\n",
       "      <td>4.516486</td>\n",
       "      <td>0.134878</td>\n",
       "      <td>0.203093</td>\n",
       "      <td>...</td>\n",
       "      <td>-1.419644</td>\n",
       "      <td>-0.228622</td>\n",
       "      <td>0.630069</td>\n",
       "      <td>-0.560952</td>\n",
       "      <td>-1.44</td>\n",
       "      <td>0</td>\n",
       "      <td>0.921049</td>\n",
       "      <td>0.108847</td>\n",
       "      <td>1.172361</td>\n",
       "      <td>-1.440494</td>\n",
       "    </tr>\n",
       "    <tr>\n",
       "      <th>8</th>\n",
       "      <td>Fe</td>\n",
       "      <td>Zhou</td>\n",
       "      <td>BCC</td>\n",
       "      <td>2.481987</td>\n",
       "      <td>1.885957</td>\n",
       "      <td>20.041463</td>\n",
       "      <td>9.818270</td>\n",
       "      <td>5.236411</td>\n",
       "      <td>0.392811</td>\n",
       "      <td>0.646243</td>\n",
       "      <td>...</td>\n",
       "      <td>-2.534992</td>\n",
       "      <td>-0.059605</td>\n",
       "      <td>0.193065</td>\n",
       "      <td>-2.282322</td>\n",
       "      <td>-2.54</td>\n",
       "      <td>0</td>\n",
       "      <td>0.200269</td>\n",
       "      <td>-0.148770</td>\n",
       "      <td>0.391750</td>\n",
       "      <td>-2.539945</td>\n",
       "    </tr>\n",
       "    <tr>\n",
       "      <th>9</th>\n",
       "      <td>Mo</td>\n",
       "      <td>Zhou</td>\n",
       "      <td>BCC</td>\n",
       "      <td>2.728100</td>\n",
       "      <td>2.723710</td>\n",
       "      <td>29.354065</td>\n",
       "      <td>8.393531</td>\n",
       "      <td>4.476550</td>\n",
       "      <td>0.708787</td>\n",
       "      <td>1.120373</td>\n",
       "      <td>...</td>\n",
       "      <td>-3.692913</td>\n",
       "      <td>-0.178812</td>\n",
       "      <td>0.380450</td>\n",
       "      <td>-3.133650</td>\n",
       "      <td>-3.71</td>\n",
       "      <td>0</td>\n",
       "      <td>0.875874</td>\n",
       "      <td>0.776222</td>\n",
       "      <td>0.790879</td>\n",
       "      <td>-3.712093</td>\n",
       "    </tr>\n",
       "    <tr>\n",
       "      <th>10</th>\n",
       "      <td>Ta</td>\n",
       "      <td>Zhou</td>\n",
       "      <td>BCC</td>\n",
       "      <td>2.860082</td>\n",
       "      <td>3.086341</td>\n",
       "      <td>33.787168</td>\n",
       "      <td>8.489528</td>\n",
       "      <td>4.527748</td>\n",
       "      <td>0.611679</td>\n",
       "      <td>1.032101</td>\n",
       "      <td>...</td>\n",
       "      <td>-5.103845</td>\n",
       "      <td>-0.405524</td>\n",
       "      <td>1.112997</td>\n",
       "      <td>-3.585325</td>\n",
       "      <td>-5.14</td>\n",
       "      <td>0</td>\n",
       "      <td>1.640098</td>\n",
       "      <td>0.221375</td>\n",
       "      <td>0.848843</td>\n",
       "      <td>-5.141526</td>\n",
       "    </tr>\n",
       "    <tr>\n",
       "      <th>11</th>\n",
       "      <td>W</td>\n",
       "      <td>Zhou</td>\n",
       "      <td>BCC</td>\n",
       "      <td>2.740840</td>\n",
       "      <td>3.487340</td>\n",
       "      <td>37.234847</td>\n",
       "      <td>8.900114</td>\n",
       "      <td>4.746728</td>\n",
       "      <td>0.882435</td>\n",
       "      <td>1.394592</td>\n",
       "      <td>...</td>\n",
       "      <td>-4.946281</td>\n",
       "      <td>-0.148818</td>\n",
       "      <td>0.365057</td>\n",
       "      <td>-4.432406</td>\n",
       "      <td>-4.96</td>\n",
       "      <td>0</td>\n",
       "      <td>0.661935</td>\n",
       "      <td>0.348147</td>\n",
       "      <td>-0.582714</td>\n",
       "      <td>-4.961306</td>\n",
       "    </tr>\n",
       "    <tr>\n",
       "      <th>12</th>\n",
       "      <td>Mg</td>\n",
       "      <td>Zhou</td>\n",
       "      <td>HCP</td>\n",
       "      <td>3.196291</td>\n",
       "      <td>0.544323</td>\n",
       "      <td>7.132600</td>\n",
       "      <td>10.228708</td>\n",
       "      <td>5.455311</td>\n",
       "      <td>0.137518</td>\n",
       "      <td>0.225930</td>\n",
       "      <td>...</td>\n",
       "      <td>-0.896473</td>\n",
       "      <td>-0.044291</td>\n",
       "      <td>0.162232</td>\n",
       "      <td>-0.689950</td>\n",
       "      <td>-0.90</td>\n",
       "      <td>0</td>\n",
       "      <td>0.122838</td>\n",
       "      <td>-0.226010</td>\n",
       "      <td>0.431425</td>\n",
       "      <td>-0.899702</td>\n",
       "    </tr>\n",
       "    <tr>\n",
       "      <th>13</th>\n",
       "      <td>Co</td>\n",
       "      <td>Zhou</td>\n",
       "      <td>FCC</td>\n",
       "      <td>2.505979</td>\n",
       "      <td>1.975299</td>\n",
       "      <td>27.206789</td>\n",
       "      <td>8.679625</td>\n",
       "      <td>4.629134</td>\n",
       "      <td>0.421378</td>\n",
       "      <td>0.640107</td>\n",
       "      <td>...</td>\n",
       "      <td>-2.541799</td>\n",
       "      <td>-0.219415</td>\n",
       "      <td>0.733381</td>\n",
       "      <td>-1.589003</td>\n",
       "      <td>-2.56</td>\n",
       "      <td>0</td>\n",
       "      <td>0.705845</td>\n",
       "      <td>-0.687140</td>\n",
       "      <td>0.694608</td>\n",
       "      <td>-2.559307</td>\n",
       "    </tr>\n",
       "    <tr>\n",
       "      <th>14</th>\n",
       "      <td>Ti</td>\n",
       "      <td>Zhou</td>\n",
       "      <td>HCP</td>\n",
       "      <td>2.933872</td>\n",
       "      <td>1.863200</td>\n",
       "      <td>25.565138</td>\n",
       "      <td>8.775431</td>\n",
       "      <td>4.680230</td>\n",
       "      <td>0.373601</td>\n",
       "      <td>0.570968</td>\n",
       "      <td>...</td>\n",
       "      <td>-3.203773</td>\n",
       "      <td>-0.198262</td>\n",
       "      <td>0.683779</td>\n",
       "      <td>-2.321732</td>\n",
       "      <td>-3.22</td>\n",
       "      <td>0</td>\n",
       "      <td>0.608587</td>\n",
       "      <td>-0.750710</td>\n",
       "      <td>0.558572</td>\n",
       "      <td>-3.219176</td>\n",
       "    </tr>\n",
       "    <tr>\n",
       "      <th>15</th>\n",
       "      <td>Zr</td>\n",
       "      <td>Zhou</td>\n",
       "      <td>HCP</td>\n",
       "      <td>3.199978</td>\n",
       "      <td>2.230909</td>\n",
       "      <td>30.879991</td>\n",
       "      <td>8.559190</td>\n",
       "      <td>4.564902</td>\n",
       "      <td>0.424667</td>\n",
       "      <td>0.640054</td>\n",
       "      <td>...</td>\n",
       "      <td>-4.485793</td>\n",
       "      <td>-0.293129</td>\n",
       "      <td>0.990148</td>\n",
       "      <td>-3.202516</td>\n",
       "      <td>-4.51</td>\n",
       "      <td>0</td>\n",
       "      <td>0.928602</td>\n",
       "      <td>-0.981870</td>\n",
       "      <td>0.597133</td>\n",
       "      <td>-4.509025</td>\n",
       "    </tr>\n",
       "  </tbody>\n",
       "</table>\n",
       "<p>16 rows × 22 columns</p>\n",
       "</div>"
      ],
      "text/plain": [
       "   atom   type   lat        re        fe       rhoe      alpha      beta  \\\n",
       "0   Cu   Zhou   FCC   2.556162  1.554485  22.150141   7.669911  4.090619   \n",
       "1   Ag   Zhou   FCC   2.891814  1.106232  15.539255   7.944536  4.237086   \n",
       "2   Au   Zhou   FCC   2.885034  1.529021  21.319637   8.086176  4.312627   \n",
       "3   Ni   Zhou   FCC   2.488746  2.007018  27.984706   8.029633  4.282471   \n",
       "4   Pd   Zhou   FCC   2.750897  1.595417  22.770550   7.605017  4.056009   \n",
       "5   Pt   Zhou   FCC   2.771916  2.336509  34.108882   7.079952  3.775974   \n",
       "6   Al   Zhou   FCC   2.886166  1.392302  20.226537   6.942419  3.702623   \n",
       "7   Pb   Zhou   FCC   3.499723  0.647872   8.906840   8.468412  4.516486   \n",
       "8   Fe   Zhou   BCC   2.481987  1.885957  20.041463   9.818270  5.236411   \n",
       "9   Mo   Zhou   BCC   2.728100  2.723710  29.354065   8.393531  4.476550   \n",
       "10  Ta   Zhou   BCC   2.860082  3.086341  33.787168   8.489528  4.527748   \n",
       "11  W    Zhou   BCC   2.740840  3.487340  37.234847   8.900114  4.746728   \n",
       "12  Mg   Zhou   HCP   3.196291  0.544323   7.132600  10.228708  5.455311   \n",
       "13  Co   Zhou   FCC   2.505979  1.975299  27.206789   8.679625  4.629134   \n",
       "14  Ti   Zhou   HCP   2.933872  1.863200  25.565138   8.775431  4.680230   \n",
       "15  Zr   Zhou   HCP   3.199978  2.230909  30.879991   8.559190  4.564902   \n",
       "\n",
       "           A         B    ...          Fn0       Fn1       Fn2       Fn3  \\\n",
       "0   0.327584  0.468735    ...    -2.176490 -0.140035  0.285621 -1.750834   \n",
       "1   0.266074  0.386272    ...    -1.729619 -0.221025  0.541558 -0.967036   \n",
       "2   0.230728  0.336695    ...    -2.930281 -0.554034  1.489437 -0.886809   \n",
       "3   0.439664  0.632771    ...    -2.693996 -0.066073  0.170482 -2.457442   \n",
       "4   0.385412  0.545121    ...    -2.320473 -0.421263  0.966525 -0.932685   \n",
       "5   0.449644  0.593713    ...    -4.099542 -0.754764  1.766503 -1.578274   \n",
       "6   0.251519  0.313394    ...    -2.806783 -0.276173  0.893409 -1.637201   \n",
       "7   0.134878  0.203093    ...    -1.419644 -0.228622  0.630069 -0.560952   \n",
       "8   0.392811  0.646243    ...    -2.534992 -0.059605  0.193065 -2.282322   \n",
       "9   0.708787  1.120373    ...    -3.692913 -0.178812  0.380450 -3.133650   \n",
       "10  0.611679  1.032101    ...    -5.103845 -0.405524  1.112997 -3.585325   \n",
       "11  0.882435  1.394592    ...    -4.946281 -0.148818  0.365057 -4.432406   \n",
       "12  0.137518  0.225930    ...    -0.896473 -0.044291  0.162232 -0.689950   \n",
       "13  0.421378  0.640107    ...    -2.541799 -0.219415  0.733381 -1.589003   \n",
       "14  0.373601  0.570968    ...    -3.203773 -0.198262  0.683779 -2.321732   \n",
       "15  0.424667  0.640054    ...    -4.485793 -0.293129  0.990148 -3.202516   \n",
       "\n",
       "      F0  F1        F2        F3       eta        Fe  \n",
       "0  -2.19   0  0.702991  0.683705  0.921150 -2.191675  \n",
       "1  -1.75   0  0.983967  0.520904  1.149461 -1.751274  \n",
       "2  -2.98   0  2.283863  0.494127  1.286960 -2.981365  \n",
       "3  -2.70   0  0.282257  0.102879  0.509860 -2.700493  \n",
       "4  -2.36   0  1.966273  1.396717  1.399758 -2.362609  \n",
       "5  -4.17   0  3.474733  2.288323  1.393490 -4.174332  \n",
       "6  -2.83   0  0.929508 -0.682320  0.779208 -2.829437  \n",
       "7  -1.44   0  0.921049  0.108847  1.172361 -1.440494  \n",
       "8  -2.54   0  0.200269 -0.148770  0.391750 -2.539945  \n",
       "9  -3.71   0  0.875874  0.776222  0.790879 -3.712093  \n",
       "10 -5.14   0  1.640098  0.221375  0.848843 -5.141526  \n",
       "11 -4.96   0  0.661935  0.348147 -0.582714 -4.961306  \n",
       "12 -0.90   0  0.122838 -0.226010  0.431425 -0.899702  \n",
       "13 -2.56   0  0.705845 -0.687140  0.694608 -2.559307  \n",
       "14 -3.22   0  0.608587 -0.750710  0.558572 -3.219176  \n",
       "15 -4.51   0  0.928602 -0.981870  0.597133 -4.509025  \n",
       "\n",
       "[16 rows x 22 columns]"
      ]
     },
     "execution_count": 8,
     "metadata": {},
     "output_type": "execute_result"
    }
   ],
   "source": [
    "Zhou"
   ]
  },
  {
   "cell_type": "code",
   "execution_count": 9,
   "metadata": {},
   "outputs": [],
   "source": [
    "def TotalEnergy(a,T,n,frame):\n",
    "    energy=[]\n",
    "    for latConst in a:\n",
    "        lattice=Lattice(latConst,T)\n",
    "        Embedd=EmbeddedEnergy(F_,fEle,lattice,n,frame)\n",
    "        pairPotential=PairPotential(phiT_,lattice,n,frame)\n",
    "        energy.append(Embedd+pairPotential)\n",
    "    return num.array(energy)\n",
    "\n",
    "\n",
    "\n",
    "def TotalEnergyDaw(a,T):\n",
    "    energy=[]\n",
    "    for latConst in a:\n",
    "        lattice=Lattice(latConst,T)\n",
    "        Embedd=EmbeddedEnergyDaw(FFunc,RFunc,lattice)\n",
    "        pairPotential=PairPotentialDaw(ZFunc,lattice)\n",
    "        energy.append(Embedd+pairPotential)\n",
    "    return num.array(energy)"
   ]
  },
  {
   "cell_type": "code",
   "execution_count": 8,
   "metadata": {},
   "outputs": [],
   "source": [
    "x=num.linspace(0,10,100)\n",
    "ene=TotalEnergy(x,1,5,Zhou)"
   ]
  },
  {
   "cell_type": "code",
   "execution_count": 9,
   "metadata": {},
   "outputs": [],
   "source": [
    "y=num.linspace(2,4,100)\n",
    "eneDaw=TotalEnergyDaw(y,1)"
   ]
  },
  {
   "cell_type": "code",
   "execution_count": null,
   "metadata": {},
   "outputs": [],
   "source": [
    "eneDaw"
   ]
  },
  {
   "cell_type": "code",
   "execution_count": 9,
   "metadata": {},
   "outputs": [
    {
     "data": {
      "text/plain": [
       "[<matplotlib.lines.Line2D at 0x7f6a8c7f1350>]"
      ]
     },
     "execution_count": 9,
     "metadata": {},
     "output_type": "execute_result"
    },
    {
     "data": {
      "image/png": "[encoded data removed]",
      "text/plain": [
       "<matplotlib.figure.Figure at 0x7f6a9358bdd0>"
      ]
     },
     "metadata": {},
     "output_type": "display_data"
    }
   ],
   "source": [
    "fig1=lab.figure()\n",
    "lab.plot(x,ene,label=\"Zhou\")\n",
    "#lab.xlim([4.5,6])\n",
    "#lab.ylim([-90,-60])"
   ]
  },
  {
   "cell_type": "code",
   "execution_count": 168,
   "metadata": {},
   "outputs": [
    {
     "data": {
      "text/plain": [
       "[<matplotlib.lines.Line2D at 0x7fe0cc788910>]"
      ]
     },
     "execution_count": 168,
     "metadata": {},
     "output_type": "execute_result"
    },
    {
     "data": {
      "image/png": "[encoded data removed]",
      "text/plain": [
       "<matplotlib.figure.Figure at 0x7fe0cd277750>"
      ]
     },
     "metadata": {},
     "output_type": "display_data"
    }
   ],
   "source": [
    "fig2=lab.figure()\n",
    "lab.plot(y,eneDaw,label=\"Daw\")\n",
    "#lab.xlim([2.18,2.25])\n",
    "#lab.ylim([-10000,10000])"
   ]
  },
  {
   "cell_type": "code",
   "execution_count": 95,
   "metadata": {},
   "outputs": [],
   "source": [
    "base=[[1,2,3]]"
   ]
  },
  {
   "cell_type": "code",
   "execution_count": 96,
   "metadata": {},
   "outputs": [
    {
     "data": {
      "text/plain": [
       "array([[1, 2, 3],\n",
       "       [1, 2, 3],\n",
       "       [1, 2, 3],\n",
       "       [1, 2, 3],\n",
       "       [1, 2, 3],\n",
       "       [1, 2, 3],\n",
       "       [1, 2, 3],\n",
       "       [1, 2, 3],\n",
       "       [1, 2, 3],\n",
       "       [1, 2, 3]])"
      ]
     },
     "execution_count": 96,
     "metadata": {},
     "output_type": "execute_result"
    }
   ],
   "source": [
    "num.repeat(base,10,axis=0)"
   ]
  },
  {
   "cell_type": "code",
   "execution_count": 18,
   "metadata": {},
   "outputs": [
    {
     "data": {
      "text/plain": [
       "(108, 3)"
      ]
     },
     "execution_count": 18,
     "metadata": {},
     "output_type": "execute_result"
    }
   ],
   "source": [
    "lattice=Lattice(1,1)\n",
    "lattice.shape\n",
    "\n"
   ]
  },
  {
   "cell_type": "code",
   "execution_count": 152,
   "metadata": {},
   "outputs": [
    {
     "name": "stdout",
     "output_type": "stream",
     "text": [
      "[ 0.          0.70710678  0.70710678  0.70710678]\n",
      "===\n",
      "[ 0.70710678  0.          0.70710678  0.70710678]\n",
      "===\n",
      "[ 0.70710678  0.70710678  0.          0.70710678]\n",
      "===\n",
      "[ 0.70710678  0.70710678  0.70710678  0.        ]\n",
      "===\n"
     ]
    }
   ],
   "source": [
    "count=0\n",
    "for base in lattice:\n",
    "        rep=lattice.shape[0]\n",
    "        baseArray=num.repeat([base],rep,axis=0)\n",
    "        diff=lattice-baseArray\n",
    "        dist=num.sqrt(num.sum(num.multiply(diff,diff),axis=1))\n",
    "        print dist\n",
    "        print \"===\"\n",
    "        "
   ]
  },
  {
   "cell_type": "code",
   "execution_count": 157,
   "metadata": {},
   "outputs": [
    {
     "name": "stdout",
     "output_type": "stream",
     "text": [
      "0.0\n",
      "++++\n",
      "0.707106781187\n",
      "++++\n",
      "0.707106781187\n",
      "++++\n",
      "0.707106781187\n",
      "++++\n",
      "0.707106781187\n",
      "++++\n",
      "0.0\n",
      "++++\n",
      "0.707106781187\n",
      "++++\n",
      "0.707106781187\n",
      "++++\n",
      "0.707106781187\n",
      "++++\n",
      "0.707106781187\n",
      "++++\n",
      "0.0\n",
      "++++\n",
      "0.707106781187\n",
      "++++\n",
      "0.707106781187\n",
      "++++\n",
      "0.707106781187\n",
      "++++\n",
      "0.707106781187\n",
      "++++\n",
      "0.0\n",
      "++++\n"
     ]
    }
   ],
   "source": [
    "dim=lattice.shape[0]\n",
    "AtomPairs=list(product(range(dim),range(dim)))\n",
    "for pair in AtomPairs:\n",
    "    diff=lattice[pair[0]]-lattice[pair[1]]\n",
    "    dist=num.sqrt(num.sum(num.multiply(diff,diff)))\n",
    "    print dist\n",
    "    print \"++++\"\n",
    "   "
   ]
  },
  {
   "cell_type": "code",
   "execution_count": 6,
   "metadata": {},
   "outputs": [
    {
     "ename": "TypeError",
     "evalue": "Lattice() missing 2 required positional arguments: 'c' and 'dim'",
     "output_type": "error",
     "traceback": [
      "\u001b[0;31m---------------------------------------------------------------\u001b[0m",
      "\u001b[0;31mTypeError\u001b[0m                     Traceback (most recent call last)",
      "\u001b[0;32m<ipython-input-6-93d9497399dc>\u001b[0m in \u001b[0;36m<module>\u001b[0;34m()\u001b[0m\n\u001b[0;32m----> 1\u001b[0;31m \u001b[0mlat\u001b[0m\u001b[0;34m=\u001b[0m\u001b[0mLattice\u001b[0m\u001b[0;34m(\u001b[0m\u001b[0;36m3.52\u001b[0m\u001b[0;34m,\u001b[0m\u001b[0;36m3\u001b[0m\u001b[0;34m)\u001b[0m\u001b[0;34m\u001b[0m\u001b[0m\n\u001b[0m",
      "\u001b[0;31mTypeError\u001b[0m: Lattice() missing 2 required positional arguments: 'c' and 'dim'"
     ]
    }
   ],
   "source": [
    "lat=Lattice(3.52,3)"
   ]
  },
  {
   "cell_type": "code",
   "execution_count": 5,
   "metadata": {},
   "outputs": [
    {
     "ename": "NameError",
     "evalue": "name 'lat' is not defined",
     "output_type": "error",
     "traceback": [
      "\u001b[0;31m---------------------------------------------------------------\u001b[0m",
      "\u001b[0;31mNameError\u001b[0m                     Traceback (most recent call last)",
      "\u001b[0;32m<ipython-input-5-addfe0258682>\u001b[0m in \u001b[0;36m<module>\u001b[0;34m()\u001b[0m\n\u001b[1;32m     70\u001b[0m     \u001b[0;34m<\u001b[0m\u001b[0mStuntDoubles\u001b[0m\u001b[0;34m>\u001b[0m\u001b[0;34m\u001b[0m\u001b[0m\n\u001b[1;32m     71\u001b[0m     \"\"\")\n\u001b[0;32m---> 72\u001b[0;31m \u001b[0;32mfor\u001b[0m \u001b[0mitem\u001b[0m \u001b[0;32min\u001b[0m \u001b[0mrange\u001b[0m\u001b[0;34m(\u001b[0m\u001b[0mlat\u001b[0m\u001b[0;34m.\u001b[0m\u001b[0mshape\u001b[0m\u001b[0;34m[\u001b[0m\u001b[0;36m0\u001b[0m\u001b[0;34m]\u001b[0m\u001b[0;34m)\u001b[0m\u001b[0;34m:\u001b[0m\u001b[0;34m\u001b[0m\u001b[0m\n\u001b[0m\u001b[1;32m     73\u001b[0m     \u001b[0mlines\u001b[0m\u001b[0;34m.\u001b[0m\u001b[0mappend\u001b[0m\u001b[0;34m(\u001b[0m\u001b[0mstr\u001b[0m\u001b[0;34m(\u001b[0m\u001b[0mitem\u001b[0m\u001b[0;34m)\u001b[0m\u001b[0;34m)\u001b[0m\u001b[0;34m\u001b[0m\u001b[0m\n\u001b[1;32m     74\u001b[0m     \u001b[0mlines\u001b[0m\u001b[0;34m.\u001b[0m\u001b[0mappend\u001b[0m\u001b[0;34m(\u001b[0m\u001b[0;34m\"\\t\"\u001b[0m\u001b[0;34m)\u001b[0m\u001b[0;34m\u001b[0m\u001b[0m\n",
      "\u001b[0;31mNameError\u001b[0m: name 'lat' is not defined"
     ]
    }
   ],
   "source": [
    "lines=[]\n",
    "lines.append(\"\"\"<OpenMD version=2>\n",
    "  <MetaData>\n",
    "    molecule{\n",
    "      name = \"Ni\";\n",
    "      atom[0]{\n",
    "\t      type = \"Ni_FQ\";\n",
    "\t      position(0.0, 0.0, 0.0);\n",
    "      }\n",
    "    }\n",
    "\t\n",
    "\n",
    " component{\n",
    "      type = \"Ni\";\n",
    "  nMol =        1372;\n",
    "    }\n",
    "\n",
    "\n",
    "minimizer {\n",
    "  useMinimizer = False;\n",
    "  method = CG;\n",
    "  maxIterations = 5000;\n",
    "}\n",
    "\n",
    "\n",
    "\n",
    "\n",
    "  flucQ {\n",
    "    propagator = \"Langevin\";\n",
    "    targetTemp = 1;\n",
    "    dragCoefficient = 1;\n",
    "  }\n",
    "\n",
    "forceFieldFileName = \"metalsFQ.frc\";\n",
    "forceField=\"EAM\";\n",
    "//forceField = \"FlucQ\";\n",
    "outputFluctuatingCharges = true;\n",
    "outputElectricField = true;\n",
    "ensemble = NVE;\n",
    "dt = 0.1;\n",
    "runTime = 0.1;\n",
    "sampleTime = 100;\n",
    "statusTime = 1;\n",
    "\n",
    "uniformField=(0,0,0);\n",
    "\n",
    "cutoffMethod = \"shifted_force\";\n",
    "cutoffRadius = 13.5;\n",
    "electrostaticScreeningMethod = \"DAMPED\";\n",
    "statFileFormat = \"TIME|TOTAL_ENERGY|POTENTIAL_ENERGY|KINETIC_ENERGY|TEMPERATURE|PRESSURE|VOLUME|CONSERVED_QUANTITY|SYSTEM_DIPOLE\";\n",
    "dampingAlpha = 0.14;\n",
    "\n",
    "targetTemp = 100;\n",
    "tauThermostat = 1000;\n",
    "tauBarostat = 1e6;\n",
    "\n",
    "tempSet = \"false\";\n",
    "useInitialTime = \"false\";\n",
    "useInitialExtendedSystemState = \"false\";\n",
    "\n",
    "## Last run using OpenMD version: 2.4, revision: fd0f4c5f3cdcbc202c6bcfaa808dcc9f85e3c147\n",
    "  </MetaData>\n",
    "  <Snapshot>\n",
    "    <FrameData>\n",
    "        Time: 0\n",
    "        Hmat: {{ 24.64, 0, 0 }, { 0, 24.64, -0 }, { 0, 0, 24.64}}\n",
    "  Thermostat: 0 , 0\n",
    "    Barostat: {{ 0, 0, 0 }, { 0, 0, 0 }, { 0, 0, 0 }}\n",
    "    </FrameData>\n",
    "    <StuntDoubles>\n",
    "    \"\"\")\n",
    "for item in range(lat.shape[0]):\n",
    "    lines.append(str(item))\n",
    "    lines.append(\"\\t\")\n",
    "    lines.append(\"pv\")\n",
    "    lines.append(\"\\t\")\n",
    "    lines.append(str(lat[item,0]))\n",
    "    lines.append(\"\\t\")\n",
    "    lines.append(str(lat[item,1]))\n",
    "    lines.append(\"\\t\")\n",
    "    lines.append(str(lat[item,2]))\n",
    "    lines.append(\"\\t\")\n",
    "    lines.append(\"0\")\n",
    "    lines.append(\"\\t\")\n",
    "    lines.append(\"0\")\n",
    "    lines.append(\"\\t\")\n",
    "    lines.append(\"0\")\n",
    "    lines.append(\"\\n\")\n",
    "    \n",
    "lines.append(\"\"\" </StuntDoubles>\n",
    "  </Snapshot>\n",
    "</OpenMD>\"\"\")    \n",
    "fileOut=open(\"../VacancyFormation/SimulationFileNi.omd\",'w')\n",
    "fileOut.writelines(lines)\n",
    "fileOut.close()"
   ]
  },
  {
   "cell_type": "code",
   "execution_count": 18,
   "metadata": {},
   "outputs": [
    {
     "name": "stdout",
     "output_type": "stream",
     "text": [
      "(1372, 3)\n",
      "343\n",
      "7.0\n",
      "Box size is:  24.64\n",
      "14959.673344\n"
     ]
    }
   ],
   "source": [
    "latticeSpacing=3.52\n",
    "print lat.shape\n",
    "print lat.shape[0]/4\n",
    "print num.ceil(num.power(lat.shape[0]/4,1/3.))\n",
    "size=num.ceil(num.power(lat.shape[0]/4,1/3.))*latticeSpacing\n",
    "print \"Box size is: \", size\n",
    "vol=pow(size,3)\n",
    "print vol"
   ]
  },
  {
   "cell_type": "code",
   "execution_count": 107,
   "metadata": {},
   "outputs": [
    {
     "data": {
      "text/plain": [
       "343"
      ]
     },
     "execution_count": 107,
     "metadata": {},
     "output_type": "execute_result"
    }
   ],
   "source": [
    "3.92/"
   ]
  },
  {
   "cell_type": "code",
   "execution_count": 119,
   "metadata": {},
   "outputs": [
    {
     "data": {
      "text/plain": [
       "0.08000000221783889"
      ]
     },
     "execution_count": 119,
     "metadata": {},
     "output_type": "execute_result"
    }
   ],
   "source": [
    "(20661.046784-pow(26.68783737,3))/20661.046784"
   ]
  },
  {
   "cell_type": "code",
   "execution_count": 87,
   "metadata": {},
   "outputs": [
    {
     "name": "stdout",
     "output_type": "stream",
     "text": [
      "[ 0.  0.  0.]\n",
      "[ 0.   0.5  0.5]\n",
      "[ 0.5  0.5  0. ]\n",
      "[ 0.5  0.   0.5]\n"
     ]
    }
   ],
   "source": [
    "p=Lattice(1,1,1,0)\n",
    "for var in p:\n",
    "    print(var)"
   ]
  },
  {
   "cell_type": "code",
   "execution_count": 7,
   "metadata": {},
   "outputs": [],
   "source": [
    "def L12(lattice,dim,file1,file2,A,B):\n",
    "    omd=open(file1,\"w\")\n",
    "    xyz=open(file2,\"w\")\n",
    "    a,b,c=lattice\n",
    "    var=Lattice(a,b,c,dim)\n",
    "    countA=var.shape[0]/4\n",
    "    print(\"%s==%d\"%(A,countA))\n",
    "    countB=3*countA\n",
    "    print(\"%s==%d\"%(B,countB))\n",
    "    \n",
    "    \n",
    "    count=0\n",
    "    count2=countA\n",
    "    xyz.write(\"%d\\n\\n\"%(countA+countB))\n",
    "    for j in range(int(countA)):\n",
    "        apos=4*j\n",
    "        omd.write(\"%d\\tpv\\t%f\\t%f\\t%f\\t%f\\t%f\\t%f\\n\"%(count,var[apos][0],var[apos][1],var[apos][2],0,0,0))\n",
    "        xyz.write(\"%s\\t%f\\t%f\\t%f\\n\"%(B,var[apos][0],var[apos][1],var[apos][2]))\n",
    "        count=count+1\n",
    "        omd.write(\"%d\\tpv\\t%f\\t%f\\t%f\\t%f\\t%f\\t%f\\n\"%(count ,var[apos+2][0],var[apos+2][1],var[apos+2][2],0,0,0))\n",
    "        count=count+1\n",
    "        xyz.write(\"%s\\t%f\\t%f\\t%f\\n\"%(A,var[apos+2][0],var[apos+2][1],var[apos+2][2]))\n",
    "        \n",
    "    for j in range(int(countA)):\n",
    "        apos=4*j\n",
    "        omd.write(\"%d\\tpv\\t%f\\t%f\\t%f\\t%f\\t%f\\t%f\\n\"%(count ,var[apos+1][0],var[apos+1][1],var[apos+1][2],0,0,0))\n",
    "        count=count+1\n",
    "        omd.write(\"%d\\tpv\\t%f\\t%f\\t%f\\t%f\\t%f\\t%f\\n\"%(count ,var[apos+2][0],var[apos+2][1],var[apos+2][2],0,0,0))\n",
    "        count=count+1\n",
    "        omd.write(\"%d\\tpv\\t%f\\t%f\\t%f\\t%f\\t%f\\t%f\\n\"%(count ,var[apos+3][0],var[apos+3][1],var[apos+3][2],0,0,0))\n",
    "        count=count+1\n",
    "        xyz.write(\"%s\\t%f\\t%f\\t%f\\n\"%(A,var[apos+1][0],var[apos+1][1],var[apos+1][2]))\n",
    "        xyz.write(\"%s\\t%f\\t%f\\t%f\\n\"%(A,var[apos+2][0],var[apos+2][1],var[apos+2][2]))\n",
    "        xyz.write(\"%s\\t%f\\t%f\\t%f\\n\"%(A,var[apos+3][0],var[apos+3][1],var[apos+3][2]))\n",
    "        \n",
    "    print(count)   \n",
    "\n",
    "    \n",
    "def L10(lattice,dim,file1,file2,A,B):\n",
    "    omd=open(file1,\"w\")\n",
    "    xyz=open(file2,\"w\")\n",
    "    a,b,c=lattice\n",
    "    var=Lattice(a,b,c,dim)\n",
    "    countA=var.shape[0]/4\n",
    "    print(\"%s==%d\"%(A,2*countA))\n",
    "    countB=countA\n",
    "    print(\"%s==%d\"%(B,2*countB))\n",
    "    \n",
    "    \n",
    "    count=0\n",
    "    count2=countA\n",
    "    xyz.write(\"%d\\n\\n\"%(2*countA+2*countB))\n",
    "    for j in range(int(countA)):\n",
    "        apos=4*j\n",
    "        \n",
    "        omd.write(\"%d\\tpv\\t%f\\t%f\\t%f\\t%f\\t%f\\t%f\\n\"%(count,var[apos][0],var[apos][1],var[apos][2],0,0,0))\n",
    "        xyz.write(\"%s\\t%f\\t%f\\t%f\\n\"%(B,var[apos][0],var[apos][1],var[apos][2]))\n",
    "        count=count+1\n",
    "        \n",
    "        \n",
    "        omd.write(\"%d\\tpv\\t%f\\t%f\\t%f\\t%f\\t%f\\t%f\\n\"%(count ,var[apos+2][0],var[apos+2][1],var[apos+2][2],0,0,0))\n",
    "        xyz.write(\"%s\\t%f\\t%f\\t%f\\n\"%(B,var[apos+2][0],var[apos+2][1],var[apos+2][2]))\n",
    "        count=count+1\n",
    "        \n",
    "    for j in range(int(countA)):\n",
    "        apos=4*j\n",
    "        omd.write(\"%d\\tpv\\t%f\\t%f\\t%f\\t%f\\t%f\\t%f\\n\"%(count ,var[apos+1][0],var[apos+1][1],var[apos+1][2],0,0,0))\n",
    "        count=count+1\n",
    "        \n",
    "        omd.write(\"%d\\tpv\\t%f\\t%f\\t%f\\t%f\\t%f\\t%f\\n\"%(count ,var[apos+3][0],var[apos+3][1],var[apos+3][2],0,0,0))\n",
    "        count=count+1\n",
    "        xyz.write(\"%s\\t%f\\t%f\\t%f\\n\"%(A,var[apos+1][0],var[apos+1][1],var[apos+1][2]))\n",
    "        xyz.write(\"%s\\t%f\\t%f\\t%f\\n\"%(A,var[apos+3][0],var[apos+3][1],var[apos+3][2]))\n",
    "        \n",
    "    print(count)   \n"
   ]
  },
  {
   "cell_type": "code",
   "execution_count": 19,
   "metadata": {},
   "outputs": [
    {
     "name": "stdout",
     "output_type": "stream",
     "text": [
      "Pt==2662\n",
      "Fe==2662\n",
      "5324\n"
     ]
    }
   ],
   "source": [
    "\n",
    "\n",
    "L10((3.92,3.92,3.92),5,\"../L10/PtFeL10/FePt5.omd\",\"../L10/PtFeL10/FePt5.xyz\",\"Pt\",\"Fe\")"
   ]
  },
  {
   "cell_type": "code",
   "execution_count": 16,
   "metadata": {},
   "outputs": [
    {
     "data": {
      "text/plain": [
       "array([ 2.5561203 ,  2.88874333,  2.88372288,  2.4918443 ,  2.01949697])"
      ]
     },
     "execution_count": 16,
     "metadata": {},
     "output_type": "execute_result"
    }
   ],
   "source": [
    "num.array([3.6149,4.0853,4.0782,3.524,2.856])/num.sqrt(2)"
   ]
  },
  {
   "cell_type": "code",
   "execution_count": 3,
   "metadata": {},
   "outputs": [],
   "source": [
    "V=28.5474**3"
   ]
  },
  {
   "cell_type": "code",
   "execution_count": 8,
   "metadata": {},
   "outputs": [],
   "source": [
    "s=(408.53e-2/4.0782)**3"
   ]
  },
  {
   "cell_type": "code",
   "execution_count": 9,
   "metadata": {},
   "outputs": [
    {
     "data": {
      "text/plain": [
       "23386.540469553616"
      ]
     },
     "execution_count": 9,
     "metadata": {},
     "output_type": "execute_result"
    }
   ],
   "source": [
    "V*s"
   ]
  },
  {
   "cell_type": "code",
   "execution_count": 81,
   "metadata": {},
   "outputs": [
    {
     "data": {
      "text/plain": [
       "4.0495"
      ]
     },
     "execution_count": 81,
     "metadata": {},
     "output_type": "execute_result"
    }
   ],
   "source": [
    "28.3465/7"
   ]
  },
  {
   "cell_type": "code",
   "execution_count": 149,
   "metadata": {},
   "outputs": [
    {
     "name": "stdout",
     "output_type": "stream",
     "text": [
      "-0.012116004664723007\n"
     ]
    }
   ],
   "source": [
    "final=-98385.6*0.043364\n",
    "majority=-2.83\n",
    "minority=-3.90\n",
    "formation =(final - 1029* majority - 343 * minority)/1372.0\n",
    "print(formation)"
   ]
  },
  {
   "cell_type": "code",
   "execution_count": 10,
   "metadata": {},
   "outputs": [
    {
     "name": "stdout",
     "output_type": "stream",
     "text": [
      "E: -4.354163 Maj: Cu and Min: Pt --> Energy: -2.652\n"
     ]
    },
    {
     "data": {
      "text/html": [
       "<div>\n",
       "<table border=\"1\" class=\"dataframe\">\n",
       "  <thead>\n",
       "    <tr style=\"text-align: right;\">\n",
       "      <th></th>\n",
       "      <th>Cu</th>\n",
       "      <th>Pt</th>\n",
       "    </tr>\n",
       "  </thead>\n",
       "  <tbody>\n",
       "    <tr>\n",
       "      <th>Cu</th>\n",
       "      <td>999.000000</td>\n",
       "      <td>999</td>\n",
       "    </tr>\n",
       "    <tr>\n",
       "      <th>Pt</th>\n",
       "      <td>-2.651663</td>\n",
       "      <td>999</td>\n",
       "    </tr>\n",
       "  </tbody>\n",
       "</table>\n",
       "</div>"
      ],
      "text/plain": [
       "            Cu   Pt\n",
       "Cu  999.000000  999\n",
       "Pt   -2.651663  999"
      ]
     },
     "execution_count": 10,
     "metadata": {},
     "output_type": "execute_result"
    }
   ],
   "source": [
    "cohesive={\"Cu\":-3.51 ,\"Au\":-3.90,\"Ag\":-2.83,\"Ni\":-4.41,\"Pt\":3.72}\n",
    "ele=[\"Cu\",\"Pt\"]\n",
    "A3B={}\n",
    "comb=[[A,B] for A in ele for B in ele]\n",
    "for v1 in ele:\n",
    "    energy=[]\n",
    "    for v2 in ele:\n",
    "        try:\n",
    "            fileStat=open(\"../L21/\"+v1+v2+\".optimized\")\n",
    "            eneKj=float(fileStat.readline())\n",
    "            ene=eneKj*0.043364\n",
    "            formation =(ene - 1029* cohesive[v1] - 343 * cohesive[v2])/1372.0\n",
    "            print(\"E: %f Maj: %s and Min: %s --> Energy: %.3f\"%(ene/1372,v1,v2,formation))\n",
    "            energy.append(formation)\n",
    "        except:\n",
    "        \n",
    "            energy.append(999)\n",
    "    A3B[v1]=energy\n",
    "                                                                 \n",
    "                                                        \n",
    "\n",
    "df=pan.DataFrame.from_dict(A3B)\n",
    "df.index=ele\n",
    "df"
   ]
  },
  {
   "cell_type": "code",
   "execution_count": 8,
   "metadata": {},
   "outputs": [
    {
     "data": {
      "text/plain": [
       "-0.42432000000000003"
      ]
     },
     "execution_count": 8,
     "metadata": {},
     "output_type": "execute_result"
    }
   ],
   "source": [
    "-2.652*0.16"
   ]
  },
  {
   "cell_type": "markdown",
   "metadata": {},
   "source": [
    "E: -3.730726 Maj: Cu and Min: Au --> Energy: -0.123\n",
    "E: -3.306157 Maj: Cu and Min: Ag --> Energy: 0.034\n",
    "E: -3.747573 Maj: Cu and Min: Ni --> Energy: -0.013\n",
    "E: -3.927539 Maj: Au and Min: Cu --> Energy: -0.125\n",
    "E: -3.663942 Maj: Au and Min: Ag --> Energy: -0.031\n",
    "E: -4.076153 Maj: Au and Min: Ni --> Energy: -0.049\n",
    "E: -2.993026 Maj: Ag and Min: Cu --> Energy: 0.007\n",
    "E: -3.109616 Maj: Ag and Min: Au --> Energy: -0.012\n",
    "E: -3.125081 Maj: Ag and Min: Ni --> Energy: 0.100\n",
    "E: -4.202642 Maj: Ni and Min: Cu --> Energy: -0.018\n",
    "E: -4.330521 Maj: Ni and Min: Au --> Energy: -0.048\n",
    "E: -3.850957 Maj: Ni and Min: Ag --> Energy: 0.164"
   ]
  },
  {
   "cell_type": "code",
   "execution_count": 151,
   "metadata": {},
   "outputs": [
    {
     "name": "stdout",
     "output_type": "stream",
     "text": [
      "0.006973735276967618\n"
     ]
    }
   ],
   "source": [
    "final=-94696.8\n",
    "majority=\"Ag\"\n",
    "minority=\"Cu\"\n",
    "\n",
    "\n",
    "formation =(final*0.043364 - 1029* cohesive[majority] - 343 * cohesive[minority])/1372.0\n",
    "print(formation)"
   ]
  },
  {
   "cell_type": "code",
   "execution_count": 189,
   "metadata": {},
   "outputs": [
    {
     "ename": "TypeError",
     "evalue": "from_dict() got an unexpected keyword argument 'columns'",
     "output_type": "error",
     "traceback": [
      "\u001b[0;31m---------------------------------------------------------------------------\u001b[0m",
      "\u001b[0;31mTypeError\u001b[0m                                 Traceback (most recent call last)",
      "\u001b[0;32m<ipython-input-189-1b70941aab93>\u001b[0m in \u001b[0;36m<module>\u001b[0;34m()\u001b[0m\n\u001b[1;32m      1\u001b[0m \u001b[0mdata\u001b[0m \u001b[0;34m=\u001b[0m \u001b[0;34m{\u001b[0m\u001b[0;34m'col_1'\u001b[0m\u001b[0;34m:\u001b[0m \u001b[0;34m[\u001b[0m\u001b[0;36m3\u001b[0m\u001b[0;34m,\u001b[0m \u001b[0;36m2\u001b[0m\u001b[0;34m,\u001b[0m \u001b[0;36m1\u001b[0m\u001b[0;34m,\u001b[0m \u001b[0;36m0\u001b[0m\u001b[0;34m]\u001b[0m\u001b[0;34m,\u001b[0m \u001b[0;34m'col_2'\u001b[0m\u001b[0;34m:\u001b[0m \u001b[0;34m[\u001b[0m\u001b[0;34m'a'\u001b[0m\u001b[0;34m,\u001b[0m \u001b[0;34m'b'\u001b[0m\u001b[0;34m,\u001b[0m \u001b[0;34m'c'\u001b[0m\u001b[0;34m,\u001b[0m \u001b[0;34m'd'\u001b[0m\u001b[0;34m]\u001b[0m\u001b[0;34m}\u001b[0m\u001b[0;34m\u001b[0m\u001b[0m\n\u001b[0;32m----> 2\u001b[0;31m \u001b[0mpan\u001b[0m\u001b[0;34m.\u001b[0m\u001b[0mDataFrame\u001b[0m\u001b[0;34m.\u001b[0m\u001b[0mfrom_dict\u001b[0m\u001b[0;34m(\u001b[0m\u001b[0mdata\u001b[0m\u001b[0;34m,\u001b[0m\u001b[0morient\u001b[0m\u001b[0;34m=\u001b[0m\u001b[0;34m\"index\"\u001b[0m\u001b[0;34m,\u001b[0m\u001b[0mcolumns\u001b[0m\u001b[0;34m=\u001b[0m\u001b[0;34m[\u001b[0m\u001b[0;34m'a'\u001b[0m\u001b[0;34m,\u001b[0m\u001b[0;34m'b'\u001b[0m\u001b[0;34m,\u001b[0m\u001b[0;34m'c'\u001b[0m\u001b[0;34m,\u001b[0m\u001b[0;34m'd'\u001b[0m\u001b[0;34m]\u001b[0m\u001b[0;34m)\u001b[0m\u001b[0;34m\u001b[0m\u001b[0m\n\u001b[0m",
      "\u001b[0;31mTypeError\u001b[0m: from_dict() got an unexpected keyword argument 'columns'"
     ]
    }
   ],
   "source": [
    "data = {'col_1': [3, 2, 1, 0], 'col_2': ['a', 'b', 'c', 'd']}\n",
    "pan.DataFrame.from_dict(data,orient=\"index\",columns=['a','b','c','d'])"
   ]
  },
  {
   "cell_type": "code",
   "execution_count": 222,
   "metadata": {},
   "outputs": [
    {
     "data": {
      "text/plain": [
       "-2.9717470252565596"
      ]
     },
     "execution_count": 222,
     "metadata": {},
     "output_type": "execute_result"
    }
   ],
   "source": [
    "-94023.543/1372*0.043364"
   ]
  },
  {
   "cell_type": "code",
   "execution_count": 228,
   "metadata": {},
   "outputs": [
    {
     "data": {
      "text/plain": [
       "3.7501857142857142"
      ]
     },
     "execution_count": 228,
     "metadata": {},
     "output_type": "execute_result"
    }
   ],
   "source": [
    "26.2513/7"
   ]
  },
  {
   "cell_type": "code",
   "execution_count": 229,
   "metadata": {},
   "outputs": [
    {
     "data": {
      "text/plain": [
       "3.747457142857143"
      ]
     },
     "execution_count": 229,
     "metadata": {},
     "output_type": "execute_result"
    }
   ],
   "source": [
    "26.2322/7"
   ]
  },
  {
   "cell_type": "code",
   "execution_count": 48,
   "metadata": {},
   "outputs": [
    {
     "name": "stdout",
     "output_type": "stream",
     "text": [
      "0\n"
     ]
    }
   ],
   "source": [
    "for i in range(1):\n",
    "    print(i)"
   ]
  },
  {
   "cell_type": "code",
   "execution_count": null,
   "metadata": {},
   "outputs": [],
   "source": []
  }
 ],
 "metadata": {
  "anaconda-cloud": {},
  "kernelspec": {
   "display_name": "Python [default]",
   "language": "python",
   "name": "python3"
  },
  "language_info": {
   "codemirror_mode": {
    "name": "ipython",
    "version": 3
   },
   "file_extension": ".py",
   "mimetype": "text/x-python",
   "name": "python",
   "nbconvert_exporter": "python",
   "pygments_lexer": "ipython3",
   "version": "3.5.2"
  }
 },
 "nbformat": 4,
 "nbformat_minor": 1
}
