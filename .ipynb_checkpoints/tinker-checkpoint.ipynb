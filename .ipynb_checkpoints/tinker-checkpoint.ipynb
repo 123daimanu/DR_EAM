{
 "cells": [
  {
   "cell_type": "code",
   "execution_count": null,
   "metadata": {},
   "outputs": [],
   "source": [
    "import tkinter as tk\n",
    "\n",
    "# if you are still working under a Python 2 version, \n",
    "# comment out the previous line and uncomment the following line\n",
    "# import Tkinter as tk\n",
    "\n",
    "root = tk.Tk()\n",
    "\n",
    "w = tk.Label(root, text=\"Hello Tkinter!\")\n",
    "w.pack()\n",
    "\n",
    "root.mainloop()"
   ]
  },
  {
   "cell_type": "code",
   "execution_count": null,
   "metadata": {},
   "outputs": [],
   "source": []
  }
 ],
 "metadata": {
  "kernelspec": {
   "display_name": "Python 2",
   "language": "python",
   "name": "python2"
  }
 },
 "nbformat": 4,
 "nbformat_minor": 2
}
