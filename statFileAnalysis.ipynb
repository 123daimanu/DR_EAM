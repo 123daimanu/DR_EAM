{
 "cells": [
  {
   "cell_type": "code",
   "execution_count": 1,
   "metadata": {
    "collapsed": false
   },
   "outputs": [],
   "source": [
    "#Allow inline plotting of figures\n",
    "%matplotlib inline\n",
    "\n",
    "#import required libraries\n",
    "import matplotlib.pyplot as plt\n",
    "import numpy as num\n",
    "import pandas as pan\n",
    "import pylab as lab"
   ]
  },
  {
   "cell_type": "code",
   "execution_count": null,
   "metadata": {
    "collapsed": true
   },
   "outputs": [],
   "source": [
    "data1=pan.DataFrame(pan.read_csv(\"../Susceptiblity_K_determine/12Layers111Zhou2004Pt/PtSlab111Zhou2004Layers12K_1000E_0.5.stat\",sep=\"\\t\",header=1))\n",
    "#data1.columns=[\"E\",\"U\",\"K\",\"T\",\"P\",\"V\",\"Conserved\",\"PX\",\"Py\",\"Pz\"]\n",
    "#data1.head()\n",
    "data1.tail()"
   ]
  },
  {
   "cell_type": "code",
   "execution_count": 22,
   "metadata": {
    "collapsed": false
   },
   "outputs": [
    {
     "ename": "NameError",
     "evalue": "name 'Last' is not defined",
     "output_type": "error",
     "traceback": [
      "\u001b[0;31m---------------------------------------------------------------------------\u001b[0m",
      "\u001b[0;31mNameError\u001b[0m                                 Traceback (most recent call last)",
      "\u001b[0;32m<ipython-input-22-90ab9d6518ab>\u001b[0m in \u001b[0;36m<module>\u001b[0;34m()\u001b[0m\n\u001b[0;32m----> 1\u001b[0;31m \u001b[0mdata1\u001b[0m\u001b[0;34m[\u001b[0m\u001b[0mLast\u001b[0m\u001b[0;34m]\u001b[0m\u001b[0;34m\u001b[0m\u001b[0m\n\u001b[0m",
      "\u001b[0;31mNameError\u001b[0m: name 'Last' is not defined"
     ]
    }
   ],
   "source": [
    "data1[Last]"
   ]
  },
  {
   "cell_type": "code",
   "execution_count": 7,
   "metadata": {
    "collapsed": false
   },
   "outputs": [
    {
     "data": {
      "text/html": [
       "<div>\n",
       "<table border=\"1\" class=\"dataframe\">\n",
       "  <thead>\n",
       "    <tr style=\"text-align: right;\">\n",
       "      <th></th>\n",
       "      <th></th>\n",
       "      <th>E</th>\n",
       "      <th>U</th>\n",
       "      <th>K</th>\n",
       "      <th>T</th>\n",
       "      <th>P</th>\n",
       "      <th>V</th>\n",
       "      <th>Conserved</th>\n",
       "      <th>PX</th>\n",
       "      <th>Py</th>\n",
       "      <th>Pz</th>\n",
       "      <th>Te</th>\n",
       "    </tr>\n",
       "  </thead>\n",
       "  <tbody>\n",
       "    <tr>\n",
       "      <th rowspan=\"5\" valign=\"top\">NaN</th>\n",
       "      <th>2995.1</th>\n",
       "      <td>-182556.07</td>\n",
       "      <td>-182556.07</td>\n",
       "      <td>7.106378e-08</td>\n",
       "      <td>1.738900e-08</td>\n",
       "      <td>172.75656</td>\n",
       "      <td>20661.047</td>\n",
       "      <td>-182556.07</td>\n",
       "      <td>3.742159e-31</td>\n",
       "      <td>8.582824e-30</td>\n",
       "      <td>-3.790446e-30</td>\n",
       "      <td>0.911556</td>\n",
       "    </tr>\n",
       "    <tr>\n",
       "      <th>2996.1</th>\n",
       "      <td>-182556.11</td>\n",
       "      <td>-182556.11</td>\n",
       "      <td>7.053074e-08</td>\n",
       "      <td>1.725857e-08</td>\n",
       "      <td>172.75635</td>\n",
       "      <td>20661.047</td>\n",
       "      <td>-182556.11</td>\n",
       "      <td>-1.634478e-31</td>\n",
       "      <td>1.479289e-29</td>\n",
       "      <td>5.098385e-30</td>\n",
       "      <td>0.940877</td>\n",
       "    </tr>\n",
       "    <tr>\n",
       "      <th>2997.1</th>\n",
       "      <td>-182556.04</td>\n",
       "      <td>-182556.04</td>\n",
       "      <td>6.411161e-08</td>\n",
       "      <td>1.568783e-08</td>\n",
       "      <td>172.75650</td>\n",
       "      <td>20661.047</td>\n",
       "      <td>-182556.04</td>\n",
       "      <td>-3.579595e-30</td>\n",
       "      <td>-7.219024e-30</td>\n",
       "      <td>4.987847e-30</td>\n",
       "      <td>0.884952</td>\n",
       "    </tr>\n",
       "    <tr>\n",
       "      <th>2998.1</th>\n",
       "      <td>-182556.12</td>\n",
       "      <td>-182556.12</td>\n",
       "      <td>6.524813e-08</td>\n",
       "      <td>1.596594e-08</td>\n",
       "      <td>172.75643</td>\n",
       "      <td>20661.047</td>\n",
       "      <td>-182556.12</td>\n",
       "      <td>3.753164e-31</td>\n",
       "      <td>-1.539743e-29</td>\n",
       "      <td>-1.508151e-30</td>\n",
       "      <td>0.942787</td>\n",
       "    </tr>\n",
       "    <tr>\n",
       "      <th>2999.1</th>\n",
       "      <td>-182556.06</td>\n",
       "      <td>-182556.06</td>\n",
       "      <td>6.960838e-08</td>\n",
       "      <td>1.703287e-08</td>\n",
       "      <td>172.75638</td>\n",
       "      <td>20661.047</td>\n",
       "      <td>-182556.06</td>\n",
       "      <td>3.814810e-30</td>\n",
       "      <td>-6.640462e-31</td>\n",
       "      <td>-6.054239e-30</td>\n",
       "      <td>0.898061</td>\n",
       "    </tr>\n",
       "  </tbody>\n",
       "</table>\n",
       "</div>"
      ],
      "text/plain": [
       "                    E          U             K             T          P  \\\n",
       "NaN 2995.1 -182556.07 -182556.07  7.106378e-08  1.738900e-08  172.75656   \n",
       "    2996.1 -182556.11 -182556.11  7.053074e-08  1.725857e-08  172.75635   \n",
       "    2997.1 -182556.04 -182556.04  6.411161e-08  1.568783e-08  172.75650   \n",
       "    2998.1 -182556.12 -182556.12  6.524813e-08  1.596594e-08  172.75643   \n",
       "    2999.1 -182556.06 -182556.06  6.960838e-08  1.703287e-08  172.75638   \n",
       "\n",
       "                    V  Conserved            PX            Py            Pz  \\\n",
       "NaN 2995.1  20661.047 -182556.07  3.742159e-31  8.582824e-30 -3.790446e-30   \n",
       "    2996.1  20661.047 -182556.11 -1.634478e-31  1.479289e-29  5.098385e-30   \n",
       "    2997.1  20661.047 -182556.04 -3.579595e-30 -7.219024e-30  4.987847e-30   \n",
       "    2998.1  20661.047 -182556.12  3.753164e-31 -1.539743e-29 -1.508151e-30   \n",
       "    2999.1  20661.047 -182556.06  3.814810e-30 -6.640462e-31 -6.054239e-30   \n",
       "\n",
       "                  Te  \n",
       "NaN 2995.1  0.911556  \n",
       "    2996.1  0.940877  \n",
       "    2997.1  0.884952  \n",
       "    2998.1  0.942787  \n",
       "    2999.1  0.898061  "
      ]
     },
     "execution_count": 7,
     "metadata": {},
     "output_type": "execute_result"
    }
   ],
   "source": [
    "data2=pan.DataFrame(pan.read_csv(\"/home/hbhattar/afs/Hemanta/metals/SurfaceEnergy/SimulationFileZhouFQRelaxed.stat\",sep=\"\\t\",header=1))\n",
    "#data2.drop(data.columns[[0]],axis=1,inplace=True)\n",
    "data2.columns=[\"E\",\"U\",\"K\",\"T\",\"P\",\"V\",\"Conserved\",\"PX\",\"Py\",\"Pz\",\"Te\"]\n",
    "data2.tail()"
   ]
  },
  {
   "cell_type": "code",
   "execution_count": 6,
   "metadata": {
    "collapsed": false
   },
   "outputs": [
    {
     "data": {
      "text/plain": [
       "(10000, 11)"
      ]
     },
     "execution_count": 6,
     "metadata": {},
     "output_type": "execute_result"
    }
   ],
   "source": [
    "stat1=data1.as_matrix(columns=None)\n",
    "#stat2=data2.as_matrix(columns=None)\n",
    "stat1.shape"
   ]
  },
  {
   "cell_type": "code",
   "execution_count": 19,
   "metadata": {
    "collapsed": false
   },
   "outputs": [
    {
     "data": {
      "image/png": "[encoded data removed]",
      "text/plain": [
       "<matplotlib.figure.Figure at 0x7fc106508b00>"
      ]
     },
     "metadata": {},
     "output_type": "display_data"
    }
   ],
   "source": [
    "lab.plot(stat1[:,0],label=\"ini\")\n",
    "\n",
    "#lab.plot(stat1[:,3],label=\"final\")\n",
    "lab.legend()\n",
    "#lab.ylim([-185000,-180000])\n",
    "lab.show()"
   ]
  },
  {
   "cell_type": "code",
   "execution_count": 17,
   "metadata": {
    "collapsed": false
   },
   "outputs": [
    {
     "data": {
      "text/plain": [
       "(-179761.775501, 0.67127909918236095, 0.0021227708990823337)"
      ]
     },
     "execution_count": 17,
     "metadata": {},
     "output_type": "execute_result"
    }
   ],
   "source": [
    "num.mean(stat1[:,0]),num.std(stat1[:,0]),num.std(stat1[:,0])/num.sqrt(100000)\n"
   ]
  },
  {
   "cell_type": "code",
   "execution_count": 155,
   "metadata": {
    "collapsed": false
   },
   "outputs": [
    {
     "data": {
      "image/png": "[encoded data removed]",
      "text/plain": [
       "<matplotlib.figure.Figure at 0x7fcab7112690>"
      ]
     },
     "metadata": {},
     "output_type": "display_data"
    },
    {
     "name": "stdout",
     "output_type": "stream",
     "text": [
      "1.63643928399 1.64512248696\n"
     ]
    }
   ],
   "source": [
    "lab.plot(vac_ev)\n",
    "lab.show()\n",
    "print num.mean(vac_ev)-num.std(vac_ev),num.mean(vac_ev)+num.std(vac_ev)"
   ]
  },
  {
   "cell_type": "code",
   "execution_count": 156,
   "metadata": {
    "collapsed": false
   },
   "outputs": [
    {
     "data": {
      "text/plain": [
       "(1.6407808854761687, 0.0043416014844394777)"
      ]
     },
     "execution_count": 156,
     "metadata": {},
     "output_type": "execute_result"
    }
   ],
   "source": [
    "num.mean(vac_ev),num.std(vac_ev)"
   ]
  },
  {
   "cell_type": "code",
   "execution_count": 284,
   "metadata": {
    "collapsed": false
   },
   "outputs": [
    {
     "name": "stdout",
     "output_type": "stream",
     "text": [
      "-178056.45\n"
     ]
    }
   ],
   "source": [
    "energy1= -178056.45\n",
    "print energy1"
   ]
  },
  {
   "cell_type": "code",
   "execution_count": 285,
   "metadata": {
    "collapsed": false
   },
   "outputs": [
    {
     "name": "stdout",
     "output_type": "stream",
     "text": [
      "-182557.08\n"
     ]
    }
   ],
   "source": [
    "energy2=-182557.08\n",
    "print energy2"
   ]
  },
  {
   "cell_type": "code",
   "execution_count": 286,
   "metadata": {
    "collapsed": false
   },
   "outputs": [],
   "source": [
    "surf=(energy1-energy2)*6.95e-21*.5*1e7 #erg/mole"
   ]
  },
  {
   "cell_type": "code",
   "execution_count": 287,
   "metadata": {
    "collapsed": false
   },
   "outputs": [
    {
     "data": {
      "text/plain": [
       "1.5639689249999916e-10"
      ]
     },
     "execution_count": 287,
     "metadata": {},
     "output_type": "execute_result"
    }
   ],
   "source": [
    "surf"
   ]
  },
  {
   "cell_type": "code",
   "execution_count": 288,
   "metadata": {
    "collapsed": false
   },
   "outputs": [],
   "source": [
    "mol=1372/(6.022e23)\n",
    "surf=surf\n",
    "area=27.44*27.44*1e-16"
   ]
  },
  {
   "cell_type": "code",
   "execution_count": 289,
   "metadata": {
    "collapsed": false
   },
   "outputs": [
    {
     "data": {
      "text/plain": [
       "2077.1119561683367"
      ]
     },
     "execution_count": 289,
     "metadata": {},
     "output_type": "execute_result"
    }
   ],
   "source": [
    "surf/area\n"
   ]
  },
  {
   "cell_type": "code",
   "execution_count": 51,
   "metadata": {
    "collapsed": false
   },
   "outputs": [
    {
     "data": {
      "text/plain": [
       "0.2951388888888889"
      ]
     },
     "execution_count": 51,
     "metadata": {},
     "output_type": "execute_result"
    }
   ],
   "source": [
    "1.70/5.76"
   ]
  },
  {
   "cell_type": "code",
   "execution_count": 100,
   "metadata": {
    "collapsed": false
   },
   "outputs": [
    {
     "data": {
      "text/plain": [
       "-5.769940513119534"
      ]
     },
     "execution_count": 100,
     "metadata": {},
     "output_type": "execute_result"
    }
   ],
   "source": [
    "-182556*0.043364/1372"
   ]
  },
  {
   "cell_type": "code",
   "execution_count": 69,
   "metadata": {
    "collapsed": false
   },
   "outputs": [
    {
     "data": {
      "text/plain": [
       "1.3828353225719654"
      ]
     },
     "execution_count": 69,
     "metadata": {},
     "output_type": "execute_result"
    }
   ],
   "source": [
    "-182442.98/131934.9\n",
    "\n"
   ]
  },
  {
   "cell_type": "code",
   "execution_count": 159,
   "metadata": {
    "collapsed": false
   },
   "outputs": [
    {
     "name": "stdout",
     "output_type": "stream",
     "text": [
      "1.96\n",
      "1.96\n"
     ]
    }
   ],
   "source": [
    "a1=13.72\n",
    "a2=11.76\n",
    "a3=9.8\n",
    "d12=a1-a2\n",
    "print d12\n",
    "d23=a2-a3\n",
    "print d23"
   ]
  },
  {
   "cell_type": "code",
   "execution_count": 273,
   "metadata": {
    "collapsed": false
   },
   "outputs": [
    {
     "name": "stdout",
     "output_type": "stream",
     "text": [
      "1.83\n",
      "1.977\n"
     ]
    }
   ],
   "source": [
    "r1=13.63\n",
    "r2=11.80\n",
    "r3=9.823\n",
    "r12=r1-r2\n",
    "r23=r2-r3\n",
    "print r12\n",
    "print r23"
   ]
  },
  {
   "cell_type": "code",
   "execution_count": 275,
   "metadata": {
    "collapsed": false
   },
   "outputs": [
    {
     "data": {
      "text/plain": [
       "-0.017000000000001236"
      ]
     },
     "execution_count": 275,
     "metadata": {},
     "output_type": "execute_result"
    }
   ],
   "source": [
    "d23-r23"
   ]
  },
  {
   "cell_type": "code",
   "execution_count": 10,
   "metadata": {
    "collapsed": false
   },
   "outputs": [],
   "source": [
    "p=data2.Pz[-10:]"
   ]
  },
  {
   "cell_type": "code",
   "execution_count": 13,
   "metadata": {
    "collapsed": false
   },
   "outputs": [
    {
     "data": {
      "text/plain": [
       "-6.318232219999999e-31"
      ]
     },
     "execution_count": 13,
     "metadata": {},
     "output_type": "execute_result"
    }
   ],
   "source": [
    "num.sum(p)/num.size(p)"
   ]
  },
  {
   "cell_type": "code",
   "execution_count": 16,
   "metadata": {
    "collapsed": false
   },
   "outputs": [
    {
     "data": {
      "text/plain": [
       "-6.3182322199999993e-31"
      ]
     },
     "execution_count": 16,
     "metadata": {},
     "output_type": "execute_result"
    }
   ],
   "source": [
    "sum(p)/10"
   ]
  },
  {
   "cell_type": "code",
   "execution_count": null,
   "metadata": {
    "collapsed": true
   },
   "outputs": [],
   "source": []
  }
 ],
 "metadata": {
  "kernelspec": {
   "display_name": "Python [default]",
   "language": "python",
   "name": "python3"
  },
  "language_info": {
   "codemirror_mode": {
    "name": "ipython",
    "version": 3
   },
   "file_extension": ".py",
   "mimetype": "text/x-python",
   "name": "python",
   "nbconvert_exporter": "python",
   "pygments_lexer": "ipython3",
   "version": "3.5.2"
  }
 },
 "nbformat": 4,
 "nbformat_minor": 0
}
