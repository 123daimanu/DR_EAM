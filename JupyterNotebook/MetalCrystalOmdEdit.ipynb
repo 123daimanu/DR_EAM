{
 "cells": [
  {
   "cell_type": "code",
   "execution_count": 39,
   "metadata": {
    "collapsed": false
   },
   "outputs": [],
   "source": [
    "import sys\n",
    "filePath=\"../MetalsCrystals/PtSlab111Z_4.omd\"\n",
    "fileOmd=open(filePath)  #omd file to edit\n",
    "lines=fileOmd.readlines()\n",
    "addLine=\"\"\"minimizer {\n",
    "  useMinimizer = False;\n",
    "  method = CG;\n",
    "  maxIterations = 5000;\n",
    "}\n",
    "\n",
    "\n",
    "  flucQ {\n",
    "    propagator = \"Langevin\";\n",
    "    targetTemp = 1;\n",
    "    dragCoefficient = 1;\n",
    "  }\n",
    "\n",
    "forceFieldFileName = \"metalsFQ.frc\";\n",
    "forceField = \"EAM\";\n",
    "forceField = \"FlucQ\";\n",
    "outputFluctuatingCharges = true;\n",
    "outputElectricField = true;\n",
    "ensemble = NVE;\n",
    "dt = 0.1;\n",
    "runTime = 1e4;\n",
    "sampleTime = 100;\n",
    "statusTime = 1;\n",
    "\n",
    "uniformField = (0,0,1e-3);\n",
    "\n",
    "cutoffMethod = \"shifted_force\";\n",
    "cutoffRadius = 13.5;\n",
    "electrostaticScreeningMethod = \"DAMPED\";\n",
    "statFileFormat = \"TIME|TOTAL_ENERGY|POTENTIAL_ENERGY|KINETIC_ENERGY|TEMPERATURE|PRESSURE|VOLUME|CONSERVED_QUANTITY|SYSTEM_DIPOLE\";\n",
    "dampingAlpha = 0.14;\n",
    "\n",
    "targetTemp = 100;\n",
    "tauThermostat = 1000;\n",
    "tauBarostat = 1e6;\n",
    "\n",
    "tempSet = \"false\";\n",
    "useInitialTime = \"false\";\n",
    "useInitialExtendedSystemState = \"false\";\n",
    "\"\"\"\n",
    "\n",
    "status=\"write\"\n",
    "lineNewFile=[]\n",
    "for line in lines:\n",
    "    words=line.split()\n",
    "       \n",
    "    if \"ensemble\" in words:\n",
    "        status=\"DontWrite\"\n",
    "        lineNewFile.append(addLine)\n",
    "        \n",
    "    if status==\"write\":\n",
    "       lineNewFile.append(line) \n",
    "    \n",
    "    if \"printPressureTensor\" in words:\n",
    "        status=\"write\"\n",
    "pathout=\"../MetalsCrystals/PtSlab111Z_4.omd\"    \n",
    "fileOut=open(pathout,\"w\")\n",
    "fileOut.writelines(lineNewFile)\n",
    "fileOut.close()   "
   ]
  },
  {
   "cell_type": "markdown",
   "metadata": {},
   "source": []
  }
 ],
 "metadata": {
  "anaconda-cloud": {},
  "kernelspec": {
   "display_name": "Python [default]",
   "language": "python",
   "name": "python3"
  },
  "language_info": {
   "codemirror_mode": {
    "name": "ipython",
    "version": 3
   },
   "file_extension": ".py",
   "mimetype": "text/x-python",
   "name": "python",
   "nbconvert_exporter": "python",
   "pygments_lexer": "ipython3",
   "version": "3.5.2"
  }
 },
 "nbformat": 4,
 "nbformat_minor": 0
}
