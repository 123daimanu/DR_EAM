{
 "cells": [
  {
   "cell_type": "code",
   "execution_count": 28,
   "metadata": {},
   "outputs": [
    {
     "name": "stdout",
     "output_type": "stream",
     "text": [
      "2.0\n",
      "2.2\n",
      "2.4\n",
      "2.6\n",
      "2.8\n",
      "3.0\n",
      "3.2\n",
      "3.4\n",
      "3.6\n",
      "3.8\n"
     ]
    }
   ],
   "source": [
    "for r in num.arange(2,4,.2):\n",
    "    print(r)"
   ]
  },
  {
   "cell_type": "code",
   "execution_count": 32,
   "metadata": {},
   "outputs": [
    {
     "data": {
      "text/plain": [
       "2"
      ]
     },
     "execution_count": 32,
     "metadata": {},
     "output_type": "execute_result"
    }
   ],
   "source": [
    "x.add(3)\n",
    "len(x)"
   ]
  },
  {
   "cell_type": "code",
   "execution_count": 20,
   "metadata": {},
   "outputs": [],
   "source": [
    "import numpy as num"
   ]
  },
  {
   "cell_type": "code",
   "execution_count": 12,
   "metadata": {},
   "outputs": [],
   "source": [
    "def logistic(x0,r,steps):\n",
    "    count=0\n",
    "    out=set({})\n",
    "    while(count<steps):\n",
    "        y=r*x0*(1-x0)\n",
    "        x0=y\n",
    "        out.add(x0)\n",
    "        count+=1\n",
    "    return x0, out"
   ]
  },
  {
   "cell_type": "code",
   "execution_count": 19,
   "metadata": {},
   "outputs": [
    {
     "data": {
      "text/plain": [
       "0.6"
      ]
     },
     "execution_count": 19,
     "metadata": {},
     "output_type": "execute_result"
    }
   ],
   "source": [
    "logistic(logistic(0.5,2.5,1000)[0],2.5,1000)"
   ]
  },
  {
   "cell_type": "code",
   "execution_count": 33,
   "metadata": {},
   "outputs": [],
   "source": [
    "c2=[]\n",
    "for x0 in num.arange(0,1,.1):\n",
    "    c=[]\n",
    "    for r in num.arange(2,4,.2):\n",
    "        c.append(len(logistic(logistic(x0,r,10000)[0],r,10000)[1]))\n",
    "    c2.append(c)"
   ]
  },
  {
   "cell_type": "code",
   "execution_count": 34,
   "metadata": {},
   "outputs": [
    {
     "data": {
      "text/plain": [
       "[[1, 1, 1, 1, 1, 1, 1, 1, 1, 1],\n",
       " [1, 2, 2, 1, 1, 10000, 2, 4, 10000, 10000],\n",
       " [1, 2, 2, 1, 1, 10000, 2, 4, 10000, 10000],\n",
       " [1, 2, 2, 1, 1, 10000, 2, 4, 10000, 10000],\n",
       " [1, 2, 2, 1, 1, 10000, 2, 4, 10000, 10000],\n",
       " [1, 2, 2, 1, 1, 10000, 2, 4, 10000, 10000],\n",
       " [1, 2, 2, 1, 1, 10000, 2, 4, 10000, 10000],\n",
       " [1, 2, 2, 1, 1, 10000, 2, 4, 10000, 10000],\n",
       " [1, 2, 2, 1, 1, 10000, 2, 4, 10000, 10000],\n",
       " [1, 2, 2, 1, 1, 10000, 2, 4, 10000, 10000]]"
      ]
     },
     "execution_count": 34,
     "metadata": {},
     "output_type": "execute_result"
    }
   ],
   "source": [
    "c2"
   ]
  },
  {
   "cell_type": "code",
   "execution_count": 38,
   "metadata": {},
   "outputs": [],
   "source": [
    "c=[1]"
   ]
  },
  {
   "cell_type": "code",
   "execution_count": 39,
   "metadata": {},
   "outputs": [
    {
     "data": {
      "text/plain": [
       "True"
      ]
     },
     "execution_count": 39,
     "metadata": {},
     "output_type": "execute_result"
    }
   ],
   "source": [
    "any(c)"
   ]
  },
  {
   "cell_type": "code",
   "execution_count": null,
   "metadata": {},
   "outputs": [],
   "source": []
  }
 ],
 "metadata": {
  "anaconda-cloud": {},
  "kernelspec": {
   "display_name": "Python [default]",
   "language": "python",
   "name": "python3"
  },
  "language_info": {
   "codemirror_mode": {
    "name": "ipython",
    "version": 3
   },
   "file_extension": ".py",
   "mimetype": "text/x-python",
   "name": "python",
   "nbconvert_exporter": "python",
   "pygments_lexer": "ipython3",
   "version": "3.5.2"
  }
 },
 "nbformat": 4,
 "nbformat_minor": 2
}
