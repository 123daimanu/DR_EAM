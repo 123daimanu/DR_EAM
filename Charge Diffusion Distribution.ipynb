{
 "cells": [
  {
   "cell_type": "code",
   "execution_count": 2,
   "metadata": {
    "collapsed": false
   },
   "outputs": [],
   "source": [
    "import numpy as num\n",
    "import matplotlib.pyplot as plt\n",
    "\n",
    "# Determine the index of the atoms having same z-value \n",
    "#list the index of atoms in same plane\n",
    "fileOmd=open(\"Pt_test_diffusion_newc.xyz\")\n",
    "linesOmd=fileOmd.readlines()\n",
    "\n",
    "posz=[]\n",
    "count=0;\n",
    "for line in linesOmd:\n",
    "    linesSplit=str.split(line)\n",
    "    length=len(linesSplit)\n",
    "    posz.append(float(linesSplit[3]))\n",
    "    count=count+1\n",
    "    if (count==784):\n",
    "        break;\n",
    "       \n",
    "        \n",
    "\n",
    "\n",
    "lengthPosz=len(posz)\n",
    "sortPos=num.argsort(posz) # sorts the list with arguments as output i.e position indices as output\n"
   ]
  },
  {
   "cell_type": "code",
   "execution_count": 7,
   "metadata": {
    "collapsed": false
   },
   "outputs": [
    {
     "name": "stdout",
     "output_type": "stream",
     "text": [
      "[0, 98, 196, 294, 392, 490, 588, 686, 784]\n"
     ]
    },
    {
     "name": "stderr",
     "output_type": "stream",
     "text": [
      "-c:55: RuntimeWarning: invalid value encountered in divide\n"
     ]
    }
   ],
   "source": [
    "arrSortPos=num.array(sortPos)\n",
    "\n",
    "# Make the different plane using the index of the atoms\n",
    "indexPoszSort=[]\n",
    "indexPoszSort.append(0)\n",
    "init=posz[sortPos[0]]\n",
    "for i in range(0,lengthPosz):\n",
    "    if(posz[sortPos[i]]!=init):\n",
    "        indexPoszSort.append(i)\n",
    "    init=posz[sortPos[i]]\n",
    "\n",
    "\n",
    "# X Y and C arrays for different atoms.\n",
    "\n",
    "filexyz=open(\"Pt_test_sf_charge_diffusion_newc.xyz\")\n",
    "linesXYZ=filexyz.readlines()\n",
    "atomNumber=lengthPosz;\n",
    "layerCrystal=len(indexPoszSort)+1\n",
    "numFrames=100\n",
    "x=num.zeros((101,atomNumber))\n",
    "y=num.zeros((101,atomNumber))\n",
    "c=num.zeros((101,atomNumber))\n",
    "\n",
    "count=0\n",
    "index=0\n",
    "\n",
    "for line in linesXYZ:\n",
    "    lineApp=str.split(line);\n",
    "    \n",
    "    if(index==784):\n",
    "        count=count+1\n",
    "        index=0\n",
    "        continue\n",
    "    else:\n",
    "        x[count][index]=float(lineApp[1])\n",
    "        y[count][index]=float(lineApp[2])\n",
    "        c[count][index]=float(lineApp[4])\n",
    "        index=index+1\n",
    "        \n",
    "        \n",
    "indexPoszSort.append(atomNumber)\n",
    "\n",
    "#scatter plot of top layer\n",
    "frame=100\n",
    "Layer=layerCrystal-1\n",
    "print indexPoszSort\n",
    "for frameNo in range(frame+1):\n",
    "    fig=plt.figure()\n",
    "    for zLayer in range(1,Layer+1):\n",
    "        layer=range(indexPoszSort[zLayer-1],indexPoszSort[zLayer])\n",
    "        position=arrSortPos[layer]\n",
    "        charge=c[frameNo,position]\n",
    "        xx= x[frameNo,position]\n",
    "        yy= y[frameNo,position]\n",
    "        scaled_c = (charge - charge.min()) / charge.ptp()\n",
    "        colors = plt.cm.coolwarm(scaled_c)\n",
    "        sign=[];\n",
    "        for var in charge:\n",
    "            if (var<0):\n",
    "                sign.append(\"blue\");\n",
    "            elif(var>0):\n",
    "                sign.append(\"red\");\n",
    "            else:\n",
    "                sign.append(\"black\")\n",
    "        ax1 = fig.add_subplot(2,4,zLayer)\n",
    "        plt.scatter(xx, yy, c=charge, s=50, cmap='jet',edgecolor=sign,linewidth=1,vmin=-0.05,vmax=0.05)\n",
    "        if (zLayer==4):\n",
    "            plt. colorbar()\n",
    "        plt.grid()\n",
    "        \n",
    "    fileName=str(frameNo)+\".jpeg\"\n",
    "    plt.title(str(frameNo))\n",
    "    plt.savefig(fileName)\n",
    "       "
   ]
  },
  {
   "cell_type": "code",
   "execution_count": 12,
   "metadata": {
    "collapsed": false
   },
   "outputs": [],
   "source": []
  },
  {
   "cell_type": "code",
   "execution_count": 39,
   "metadata": {
    "collapsed": false
   },
   "outputs": [],
   "source": []
  },
  {
   "cell_type": "markdown",
   "metadata": {},
   "source": []
  }
 ],
 "metadata": {
  "kernelspec": {
   "display_name": "Python [default]",
   "language": "python",
   "name": "python3"
  },
  "language_info": {
   "codemirror_mode": {
    "name": "ipython",
    "version": 3
   },
   "file_extension": ".py",
   "mimetype": "text/x-python",
   "name": "python",
   "nbconvert_exporter": "python",
   "pygments_lexer": "ipython3",
   "version": "3.5.2"
  }
 },
 "nbformat": 4,
 "nbformat_minor": 0
}
