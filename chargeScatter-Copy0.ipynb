{
 "cells": [
  {
   "cell_type": "code",
   "execution_count": 1,
   "metadata": {
    "collapsed": false
   },
   "outputs": [
    {
     "ename": "SyntaxError",
     "evalue": "Missing parentheses in call to 'print' (<ipython-input-1-20d31d08cd84>, line 22)",
     "output_type": "error",
     "traceback": [
      "\u001b[0;36m  File \u001b[0;32m\"<ipython-input-1-20d31d08cd84>\"\u001b[0;36m, line \u001b[0;32m22\u001b[0m\n\u001b[0;31m    print lengthPosz\u001b[0m\n\u001b[0m                   ^\u001b[0m\n\u001b[0;31mSyntaxError\u001b[0m\u001b[0;31m:\u001b[0m Missing parentheses in call to 'print'\n"
     ]
    }
   ],
   "source": [
    "import numpy as num\n",
    "import matplotlib.pyplot as plt\n",
    "\n",
    "\n",
    "fileOmd=open(\"Pt_test_1_layer_newc.xyz\")\n",
    "linesOmd=fileOmd.readlines()\n",
    "\n",
    "posz=[]\n",
    "for line in linesOmd:\n",
    "    linesSplit=str.split(line)\n",
    "    length=len(linesSplit)\n",
    "    \n",
    "    if(linesSplit[0]!=\"Na+\"):\n",
    "        posz.append(float(linesSplit[3]))\n",
    "    \n",
    "    else:\n",
    "        break;\n",
    "       \n",
    "        \n",
    "\n",
    "lengthPosz=len(posz)\n",
    "print lengthPosz\n",
    "sortPos=num.argsort(posz)\n",
    "\n",
    "\n",
    "arrSortPos=num.array(sortPos)\n",
    "\n",
    "\n",
    "\n",
    "\n",
    "indexPoszSort=[]\n",
    "indexPoszSort.append(0)\n",
    "init=posz[sortPos[0]]\n",
    "for i in range(0,lengthPosz):\n",
    "    if(posz[sortPos[i]]!=init):\n",
    "        indexPoszSort.append(i)\n",
    "    init=posz[sortPos[i]]\n",
    "\n",
    "print indexPoszSort\n",
    "\n",
    "filexyz=open(\"Pt_test_1_layer_newc.xyz\")\n",
    "linesXYZ=filexyz.readlines()\n",
    "atomNumber=lengthPosz;\n",
    "layerCrystal=len(indexPoszSort)+1\n",
    "numFrames=100\n",
    "x=num.zeros((101,atomNumber))\n",
    "y=num.zeros((101,atomNumber))\n",
    "c=num.zeros((101,atomNumber))\n",
    "\n",
    "count=0\n",
    "index=0\n",
    "\n",
    "for line in linesXYZ:\n",
    "    lineApp=str.split(line);\n",
    "    \n",
    "    if(lineApp[0]==\"Na+\"):\n",
    "        count=count+1\n",
    "        index=0\n",
    "        continue\n",
    "    else:\n",
    "        x[count][index]=float(lineApp[1])\n",
    "        y[count][index]=float(lineApp[2])\n",
    "        c[count][index]=float(lineApp[4])\n",
    "        index=index+1\n",
    "        \n",
    "indexPoszSort.append(atomNumber)\n",
    "#scatter plot of top layer\n",
    "frameNo=100\n",
    "zLayer=1\n",
    "\n",
    "layer=range(indexPoszSort[zLayer-1],indexPoszSort[zLayer])\n",
    "\n",
    "\n",
    "position=arrSortPos[layer]\n",
    "\n",
    "charge=c[frameNo,position]\n",
    "sign=[];\n",
    "for var in charge:\n",
    "    if (var<0):\n",
    "        sign.append(\"blue\");\n",
    "    elif(var>0):\n",
    "        sign.append(\"red\");\n",
    "    else:\n",
    "        sign.append(\"white\")\n",
    "chargeCol=charge-min(charge)\n",
    "xx= x[frameNo,position]\n",
    "yy= y[frameNo,position]\n",
    "#print xx\n",
    "#print yy\n",
    "plt.show()\n",
    "#print num.shape(xx)\n",
    "plt.figure(1)\n",
    "#scaled_c = (charge - charge.min()) / charge.ptp()\n",
    "#colors = plt.cm.coolwarm(scaled_c)\n",
    "\n",
    "\n",
    "plt.scatter(xx, yy, c=charge, s=50, cmap='jet',edgecolor=sign,linewidth=1,vmin=-0.05,vmax=0.05)\n",
    "plt.colorbar()\n",
    "plt.grid()\n",
    "\n",
    "plt.savefig(\"1.jpeg\")\n",
    "plt.show()\n",
    "\n",
    "#plt.scatter(xx, yy, c=chargeCol, s=500, cmap='jet')\n",
    "#plt.show()"
   ]
  },
  {
   "cell_type": "code",
   "execution_count": 24,
   "metadata": {
    "collapsed": false
   },
   "outputs": [
    {
     "name": "stdout",
     "output_type": "stream",
     "text": [
      "[46.70410562, 34.55505213, 40.62957888, 40.62957888, 38.60473663, 38.60473663, 44.67926337, 44.67926337, 42.65442112, 42.65442112, 46.70410562, 34.55505213, 36.57989438, 36.57989438, 34.55505213, 34.55505213, 40.62957888, 40.62957888, 38.60473663, 38.60473663, 44.67926337, 44.67926337, 38.60473663, 42.65442112, 42.65442112, 46.70410562, 46.70410562, 36.57989438, 36.57989438, 34.55505213, 34.55505213, 40.62957888, 40.62957888, 42.65442112, 38.60473663, 44.67926337, 44.67926337, 42.65442112, 42.65442112, 46.70410562, 46.70410562, 36.57989438, 36.57989438, 36.57989438, 40.62957888, 40.62957888, 38.60473663, 38.60473663, 44.67926337, 44.67926337, 42.65442112, 42.65442112, 46.70410562, 46.70410562, 34.55505213, 36.57989438, 34.55505213, 34.55505213, 40.62957888, 40.62957888, 38.60473663, 38.60473663, 44.67926337, 44.67926337, 42.65442112, 38.60473663, 42.65442112, 46.70410562, 46.70410562, 36.57989438, 36.57989438, 34.55505213, 34.55505213, 40.62957888, 40.62957888, 38.60473663, 44.67926337, 44.67926337, 44.67926337, 42.65442112, 42.65442112, 46.70410562, 46.70410562, 36.57989438, 36.57989438, 34.55505213, 42.65442112, 36.57989438, 34.55505213, 34.55505213, 40.62957888, 40.62957888, 38.60473663, 38.60473663, 44.67926337, 44.67926337, 42.65442112, 36.57989438]\n"
     ]
    }
   ],
   "source": [
    "print(posz[0:98])"
   ]
  },
  {
   "cell_type": "code",
   "execution_count": 90,
   "metadata": {
    "collapsed": false
   },
   "outputs": [],
   "source": [
    "plt.scatter(xx,yy)\n",
    "plt.show()"
   ]
  },
  {
   "cell_type": "markdown",
   "metadata": {},
   "source": []
  }
 ],
 "metadata": {
  "anaconda-cloud": {},
  "kernelspec": {
   "display_name": "Python [default]",
   "language": "python",
   "name": "python3"
  },
  "language_info": {
   "codemirror_mode": {
    "name": "ipython",
    "version": 3
   },
   "file_extension": ".py",
   "mimetype": "text/x-python",
   "name": "python",
   "nbconvert_exporter": "python",
   "pygments_lexer": "ipython3",
   "version": "3.5.2"
  }
 },
 "nbformat": 4,
 "nbformat_minor": 0
}
