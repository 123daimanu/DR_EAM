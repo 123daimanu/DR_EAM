{
 "cells": [
  {
   "cell_type": "code",
   "execution_count": 106,
   "metadata": {
    "collapsed": true
   },
   "outputs": [],
   "source": [
    "import pandas as pan\n",
    "import pylab as lab\n",
    "import numpy as num"
   ]
  },
  {
   "cell_type": "code",
   "execution_count": 35,
   "metadata": {
    "collapsed": true
   },
   "outputs": [],
   "source": [
    "def Stat2Frame(statFile):\n",
    "    try:\n",
    "        data=pan.DataFrame(pan.read_csv(statFile,sep=\"\\t\",header=1))\n",
    "        return data\n",
    "    except:\n",
    "        print(\"Error in ::\",statFile)\n",
    "        "
   ]
  },
  {
   "cell_type": "code",
   "execution_count": 36,
   "metadata": {
    "collapsed": true
   },
   "outputs": [],
   "source": [
    "file=\"../Susceptiblity_K_determine_Fluctuations/12Layers/test/12LayersK_1000_highT.stat\""
   ]
  },
  {
   "cell_type": "code",
   "execution_count": 74,
   "metadata": {
    "collapsed": false
   },
   "outputs": [],
   "source": [
    "dataFrame=Stat2Frame(file)"
   ]
  },
  {
   "cell_type": "code",
   "execution_count": 60,
   "metadata": {
    "collapsed": false
   },
   "outputs": [],
   "source": []
  },
  {
   "cell_type": "code",
   "execution_count": 78,
   "metadata": {
    "collapsed": false
   },
   "outputs": [],
   "source": [
    "head=list(dataFrame.columns)[2:]\n",
    "head.pop()\n",
    "head.append(\"Px\")\n",
    "head.append(\"Py\")\n",
    "head.append(\"Pz\")\n"
   ]
  },
  {
   "cell_type": "code",
   "execution_count": 79,
   "metadata": {
    "collapsed": false
   },
   "outputs": [
    {
     "data": {
      "text/plain": [
       "10"
      ]
     },
     "execution_count": 79,
     "metadata": {},
     "output_type": "execute_result"
    }
   ],
   "source": [
    "len(head)"
   ]
  },
  {
   "cell_type": "code",
   "execution_count": 80,
   "metadata": {
    "collapsed": false
   },
   "outputs": [
    {
     "data": {
      "text/plain": [
       "(10000, 10)"
      ]
     },
     "execution_count": 80,
     "metadata": {},
     "output_type": "execute_result"
    }
   ],
   "source": [
    "dataFrame.shape"
   ]
  },
  {
   "cell_type": "code",
   "execution_count": 81,
   "metadata": {
    "collapsed": false
   },
   "outputs": [
    {
     "data": {
      "text/plain": [
       "['Total Energy(kcal/mol)',\n",
       " 'Potential Energy(kcal/mol)',\n",
       " 'Kinetic Energy(kcal/mol)',\n",
       " 'Temperature(K)',\n",
       " 'Pressure(atm)',\n",
       " 'Volume(A^3)',\n",
       " 'Conserved Quantity(kcal/mol)',\n",
       " 'Px',\n",
       " 'Py',\n",
       " 'Pz']"
      ]
     },
     "execution_count": 81,
     "metadata": {},
     "output_type": "execute_result"
    }
   ],
   "source": [
    "head"
   ]
  },
  {
   "cell_type": "code",
   "execution_count": 82,
   "metadata": {
    "collapsed": false
   },
   "outputs": [
    {
     "data": {
      "text/html": [
       "<div>\n",
       "<table border=\"1\" class=\"dataframe\">\n",
       "  <thead>\n",
       "    <tr style=\"text-align: right;\">\n",
       "      <th></th>\n",
       "      <th></th>\n",
       "      <th>#</th>\n",
       "      <th>Time(fs)</th>\n",
       "      <th>Total Energy(kcal/mol)</th>\n",
       "      <th>Potential Energy(kcal/mol)</th>\n",
       "      <th>Kinetic Energy(kcal/mol)</th>\n",
       "      <th>Temperature(K)</th>\n",
       "      <th>Pressure(atm)</th>\n",
       "      <th>Volume(A^3)</th>\n",
       "      <th>Conserved Quantity(kcal/mol)</th>\n",
       "      <th>System Dipole(C m)</th>\n",
       "    </tr>\n",
       "  </thead>\n",
       "  <tbody>\n",
       "    <tr>\n",
       "      <th rowspan=\"5\" valign=\"top\">NaN</th>\n",
       "      <th>0.0</th>\n",
       "      <td>-114786.07</td>\n",
       "      <td>-114786.36</td>\n",
       "      <td>0.292550</td>\n",
       "      <td>0.113724</td>\n",
       "      <td>179.92338</td>\n",
       "      <td>13011.038</td>\n",
       "      <td>-114786.07</td>\n",
       "      <td>-3.461826e-29</td>\n",
       "      <td>6.831459e-30</td>\n",
       "      <td>-9.168540e-29</td>\n",
       "    </tr>\n",
       "    <tr>\n",
       "      <th>100.1</th>\n",
       "      <td>-114785.17</td>\n",
       "      <td>-114785.46</td>\n",
       "      <td>0.285322</td>\n",
       "      <td>0.110915</td>\n",
       "      <td>180.07638</td>\n",
       "      <td>13011.038</td>\n",
       "      <td>-114785.17</td>\n",
       "      <td>-2.455258e-29</td>\n",
       "      <td>-5.657377e-30</td>\n",
       "      <td>-7.806618e-29</td>\n",
       "    </tr>\n",
       "    <tr>\n",
       "      <th>200.1</th>\n",
       "      <td>-114786.76</td>\n",
       "      <td>-114787.05</td>\n",
       "      <td>0.289099</td>\n",
       "      <td>0.112383</td>\n",
       "      <td>173.94974</td>\n",
       "      <td>13011.038</td>\n",
       "      <td>-114786.76</td>\n",
       "      <td>-2.221442e-29</td>\n",
       "      <td>-3.314596e-29</td>\n",
       "      <td>4.044269e-29</td>\n",
       "    </tr>\n",
       "    <tr>\n",
       "      <th>300.1</th>\n",
       "      <td>-114775.42</td>\n",
       "      <td>-114775.70</td>\n",
       "      <td>0.283823</td>\n",
       "      <td>0.110332</td>\n",
       "      <td>181.82814</td>\n",
       "      <td>13011.038</td>\n",
       "      <td>-114775.42</td>\n",
       "      <td>-9.669370e-30</td>\n",
       "      <td>7.391562e-30</td>\n",
       "      <td>9.209665e-29</td>\n",
       "    </tr>\n",
       "    <tr>\n",
       "      <th>400.0</th>\n",
       "      <td>-114785.70</td>\n",
       "      <td>-114785.99</td>\n",
       "      <td>0.287390</td>\n",
       "      <td>0.111718</td>\n",
       "      <td>177.24709</td>\n",
       "      <td>13011.038</td>\n",
       "      <td>-114785.70</td>\n",
       "      <td>4.437402e-29</td>\n",
       "      <td>-1.657619e-29</td>\n",
       "      <td>1.476939e-29</td>\n",
       "    </tr>\n",
       "  </tbody>\n",
       "</table>\n",
       "</div>"
      ],
      "text/plain": [
       "                   #   Time(fs)  Total Energy(kcal/mol)  \\\n",
       "NaN 0.0   -114786.07 -114786.36                0.292550   \n",
       "    100.1 -114785.17 -114785.46                0.285322   \n",
       "    200.1 -114786.76 -114787.05                0.289099   \n",
       "    300.1 -114775.42 -114775.70                0.283823   \n",
       "    400.0 -114785.70 -114785.99                0.287390   \n",
       "\n",
       "           Potential Energy(kcal/mol)  Kinetic Energy(kcal/mol)  \\\n",
       "NaN 0.0                      0.113724                 179.92338   \n",
       "    100.1                    0.110915                 180.07638   \n",
       "    200.1                    0.112383                 173.94974   \n",
       "    300.1                    0.110332                 181.82814   \n",
       "    400.0                    0.111718                 177.24709   \n",
       "\n",
       "           Temperature(K)  Pressure(atm)   Volume(A^3)  \\\n",
       "NaN 0.0         13011.038     -114786.07 -3.461826e-29   \n",
       "    100.1       13011.038     -114785.17 -2.455258e-29   \n",
       "    200.1       13011.038     -114786.76 -2.221442e-29   \n",
       "    300.1       13011.038     -114775.42 -9.669370e-30   \n",
       "    400.0       13011.038     -114785.70  4.437402e-29   \n",
       "\n",
       "           Conserved Quantity(kcal/mol)  System Dipole(C m)  \n",
       "NaN 0.0                    6.831459e-30       -9.168540e-29  \n",
       "    100.1                 -5.657377e-30       -7.806618e-29  \n",
       "    200.1                 -3.314596e-29        4.044269e-29  \n",
       "    300.1                  7.391562e-30        9.209665e-29  \n",
       "    400.0                 -1.657619e-29        1.476939e-29  "
      ]
     },
     "execution_count": 82,
     "metadata": {},
     "output_type": "execute_result"
    }
   ],
   "source": [
    "dataFrame.head()"
   ]
  },
  {
   "cell_type": "code",
   "execution_count": 83,
   "metadata": {
    "collapsed": true
   },
   "outputs": [],
   "source": [
    "dataFrame.columns=head"
   ]
  },
  {
   "cell_type": "code",
   "execution_count": 121,
   "metadata": {
    "collapsed": false
   },
   "outputs": [
    {
     "name": "stderr",
     "output_type": "stream",
     "text": [
      "/home/hbhattar/anaconda3/lib/python3.5/site-packages/ipykernel/__main__.py:1: FutureWarning: pd.rolling_var is deprecated for Series and will be removed in a future version, replace with \n",
      "\tSeries.rolling(center=False,window=5).var()\n",
      "  if __name__ == '__main__':\n"
     ]
    }
   ],
   "source": [
    "var=pan.rolling_var(dataFrame[\"Px\"],window=5)[8:]"
   ]
  },
  {
   "cell_type": "code",
   "execution_count": 118,
   "metadata": {
    "collapsed": false
   },
   "outputs": [],
   "source": [
    "var=num.array(var)"
   ]
  },
  {
   "cell_type": "code",
   "execution_count": 124,
   "metadata": {
    "collapsed": false
   },
   "outputs": [
    {
     "data": {
      "text/plain": [
       "NaN  800.0       7.090266e-57\n",
       "     900.0       6.496846e-57\n",
       "     1000.0      4.696021e-57\n",
       "     1100.0      6.273234e-57\n",
       "     1200.0      5.539339e-57\n",
       "     1300.1      4.326947e-57\n",
       "     1400.1      4.160571e-57\n",
       "     1500.1      1.112082e-57\n",
       "     1600.1      5.613170e-57\n",
       "     1700.1      5.604921e-57\n",
       "     1800.1      4.961422e-57\n",
       "     1900.1      4.801410e-57\n",
       "     2000.1      1.655982e-57\n",
       "     2100.1      8.219767e-58\n",
       "     2200.1      1.124717e-57\n",
       "     2300.1      2.925270e-57\n",
       "     2400.1      4.253117e-57\n",
       "     2500.1      4.251345e-57\n",
       "     2600.1      3.096982e-57\n",
       "     2700.1      1.162146e-57\n",
       "     2800.1      1.999369e-57\n",
       "     2900.1      1.029981e-57\n",
       "     3000.1      8.852510e-58\n",
       "     3100.1      8.852768e-58\n",
       "     3200.1      5.270985e-58\n",
       "     3300.1      1.088463e-57\n",
       "     3400.1      1.144261e-57\n",
       "     3500.1      1.596578e-57\n",
       "     3600.1      3.342244e-57\n",
       "     3700.1      3.339004e-57\n",
       "                     ...     \n",
       "     997000.1    4.502245e-57\n",
       "     997100.1    6.958634e-57\n",
       "     997200.1    6.560654e-57\n",
       "     997300.1    5.358013e-57\n",
       "     997400.1    3.778953e-57\n",
       "     997500.1    3.251415e-57\n",
       "     997600.1    1.369592e-57\n",
       "     997700.1    1.471380e-57\n",
       "     997800.1    3.610990e-57\n",
       "     997900.1    5.680130e-57\n",
       "     998000.1    6.076365e-57\n",
       "     998100.1    8.522324e-57\n",
       "     998200.1    1.072509e-56\n",
       "     998300.1    1.082740e-56\n",
       "     998400.1    1.110194e-56\n",
       "     998500.1    1.168075e-56\n",
       "     998600.1    8.771610e-57\n",
       "     998700.1    7.062780e-57\n",
       "     998800.1    1.186797e-57\n",
       "     998900.1    2.750550e-57\n",
       "     999000.1    3.292988e-57\n",
       "     999100.1    3.925188e-57\n",
       "     999200.1    3.288491e-57\n",
       "     999300.1    4.573880e-57\n",
       "     999400.1    3.729567e-57\n",
       "     999500.1    1.280653e-57\n",
       "     999600.1    1.455613e-57\n",
       "     999700.1    1.072260e-57\n",
       "     999800.1    1.058908e-57\n",
       "     999900.1    3.320695e-58\n",
       "Name: Px, dtype: float64"
      ]
     },
     "execution_count": 124,
     "metadata": {},
     "output_type": "execute_result"
    }
   ],
   "source": [
    "var"
   ]
  },
  {
   "cell_type": "code",
   "execution_count": null,
   "metadata": {
    "collapsed": true
   },
   "outputs": [],
   "source": []
  }
 ],
 "metadata": {
  "kernelspec": {
   "display_name": "Python [default]",
   "language": "python",
   "name": "python3"
  },
  "language_info": {
   "codemirror_mode": {
    "name": "ipython",
    "version": 3
   },
   "file_extension": ".py",
   "mimetype": "text/x-python",
   "name": "python",
   "nbconvert_exporter": "python",
   "pygments_lexer": "ipython3",
   "version": "3.5.2"
  }
 },
 "nbformat": 4,
 "nbformat_minor": 1
}
