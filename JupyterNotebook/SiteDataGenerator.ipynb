{
 "cells": [
  {
   "cell_type": "code",
   "execution_count": 1,
   "metadata": {},
   "outputs": [],
   "source": [
    "import numpy as np\n"
   ]
  },
  {
   "cell_type": "code",
   "execution_count": 80,
   "metadata": {},
   "outputs": [],
   "source": [
    "file_name = \"ZrO2\"\n",
    "oxygen_first = False\n",
    "\n",
    "nMol_metal = 686\n",
    "nMol_oxygen = 1372\n",
    "\n",
    "\n"
   ]
  },
  {
   "cell_type": "code",
   "execution_count": 81,
   "metadata": {},
   "outputs": [],
   "source": [
    "def site_data(nMol_first, charge_first, nMol_second, charge_second, file_name):\n",
    "    fileOut = open(\"/home/hbhattar/groupspace/hbhattar/OxideLibraryNew/\"+file_name+\".sitedata\",\"w\")\n",
    "    fileOut.write(\"<SiteData>\\n\")\n",
    "    for count in range(nMol_first+nMol_second):\n",
    "        if(count < nMol_first):\n",
    "            fileOut.write(\"%d\\t0\\tcw\\t%f\\t0\\n\"%(count,charge_first))\n",
    "        else:\n",
    "            fileOut.write(\"%d\\t0\\tcw\\t%f\\t0\\n\"%(count,charge_second))\n",
    "    fileOut.write(\"</SiteData>\\n\")\n",
    "    fileOut.close()\n",
    "\n",
    "charge_oxygen = -0.8\n",
    "charge_metal = - nMol_oxygen * charge_oxygen/nMol_metal\n",
    "\n",
    "    \n",
    "if (oxygen_first):\n",
    "    site_data(nMol_oxygen, charge_oxygen, nMol_metal, charge_metal, file_name)\n",
    "else:\n",
    "    site_data(nMol_metal, charge_metal, nMol_oxygen, charge_oxygen, file_name)\n",
    "        "
   ]
  },
  {
   "cell_type": "code",
   "execution_count": null,
   "metadata": {},
   "outputs": [],
   "source": []
  }
 ],
 "metadata": {
  "anaconda-cloud": {},
  "kernelspec": {
   "display_name": "Python [default]",
   "language": "python",
   "name": "python3"
  },
  "language_info": {
   "codemirror_mode": {
    "name": "ipython",
    "version": 3
   },
   "file_extension": ".py",
   "mimetype": "text/x-python",
   "name": "python",
   "nbconvert_exporter": "python",
   "pygments_lexer": "ipython3",
   "version": "3.5.2"
  }
 },
 "nbformat": 4,
 "nbformat_minor": 2
}
