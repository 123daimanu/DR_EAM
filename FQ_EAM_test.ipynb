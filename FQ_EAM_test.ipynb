{
 "cells": [
  {
   "cell_type": "code",
   "execution_count": 62,
   "metadata": {
    "collapsed": true
   },
   "outputs": [],
   "source": [
    "import numpy as num\n",
    "import pylab as lab\n",
    "import scipy as sci\n",
    "import pandas as pan\n",
    "%matplotlib inline"
   ]
  },
  {
   "cell_type": "code",
   "execution_count": 2,
   "metadata": {
    "collapsed": true
   },
   "outputs": [],
   "source": [
    "re,fe,rhoe,alpha,beta,A,B,kappa,lam,Fn0,Fn1,Fn2,Fn3,F0,F1,F2,F3,eta,Fe,N=\\\n",
    "2.771916, 2.336509, 34.108882, 7.079952, 3.775974, 0.449644, 0.593713,\\\n",
    "0.413484, 0.826967, -4.099542, -0.754764, 1.766503, -1.578274, -4.17, 0,\\\n",
    "3.474733,  2.288323,  1.39349,  -4.174332,10"
   ]
  },
  {
   "cell_type": "code",
   "execution_count": 3,
   "metadata": {
    "collapsed": false
   },
   "outputs": [],
   "source": [
    "re,fe,rhoe,alpha,beta,A,B,kappa,lam,Fn0,Fn1,Fn2,Fn3,F0,F1,F2,F3,eta,Fe,N=\\\n",
    "2.771916, 2.336509, 34.108882, 7.079952, 3.775974, 0.449644,\\\n",
    "0.593713, 0.413484, 0.826967, -4.099542, -0.754764, 1.766503,\\\n",
    "-1.578274, -4.17, 0, 3.474733,  2.288323,  1.39349,  -4.174332,10"
   ]
  },
  {
   "cell_type": "code",
   "execution_count": 4,
   "metadata": {
    "collapsed": false
   },
   "outputs": [],
   "source": [
    "def f(r,q,N):\n",
    "    return fe*num.exp(-beta*(r/re-1))/(1+(r/re-lam)**20)*(1-q/float(N))\n",
    "\n",
    "\n",
    "\n",
    "def F(rho):\n",
    "    func=[]\n",
    "    rhon=0.85*rhoe\n",
    "    rho0=1.15*rhoe\n",
    "    for var in rho:\n",
    "        if(rho<rhon):\n",
    "            func.append( Fn0*(rho/rhon-1)**0+Fn1*(rho/rhon-1)**1+Fn2*(rho/rhon-1)**2+Fn3*(rho/rhon-1)**3)\n",
    "        elif (rho>=rhon and rho<rho0):\n",
    "            func.append(F0*(rho/rhoe-1)**0+F1*(rho/rhoe-1)**1+F2*(rho/rhoe-1)**2+F3*(rho/rhoe-1)**3)\n",
    "        else:\n",
    "            func.append(Fe*(1-num.log((rho/rhoe)**eta))*(rho/rhoe)**eta)\n",
    "    \n",
    "    func=num.asarray(func)\n",
    "    return func\n",
    "        \n",
    "def phiN(r):\n",
    "    return A*num.exp(-alpha*(r/re-1))/(1+(r/re-kappa)**20)\n",
    "#def phiE(r,q):\n",
    "#    return (1-q/N)*B*num.exp(-beta*(r/re-1))/(1+(r/re-kappa)**20)\n",
    "\n",
    "def phiE(r):\n",
    "    return B*num.exp(-beta*(r/re-1))/(1+(r/re-kappa)**20)\n",
    "def phiT(r):\n",
    "    return phiN(r)-phiE(r)\n",
    "\n"
   ]
  },
  {
   "cell_type": "code",
   "execution_count": null,
   "metadata": {
    "collapsed": false
   },
   "outputs": [],
   "source": []
  },
  {
   "cell_type": "code",
   "execution_count": 5,
   "metadata": {
    "collapsed": false
   },
   "outputs": [
    {
     "data": {
      "text/plain": [
       "(28.9925497, 39.2252143)"
      ]
     },
     "execution_count": 5,
     "metadata": {},
     "output_type": "execute_result"
    }
   ],
   "source": [
    "x=num.linspace(0,10,1000)\n",
    "rhon=0.85*rhoe\n",
    "rho0=1.15*rhoe\n",
    "rhon,rho0"
   ]
  },
  {
   "cell_type": "code",
   "execution_count": null,
   "metadata": {
    "collapsed": false
   },
   "outputs": [],
   "source": []
  },
  {
   "cell_type": "code",
   "execution_count": null,
   "metadata": {
    "collapsed": false
   },
   "outputs": [],
   "source": []
  },
  {
   "cell_type": "code",
   "execution_count": 6,
   "metadata": {
    "collapsed": false
   },
   "outputs": [
    {
     "ename": "SyntaxError",
     "evalue": "invalid syntax (<ipython-input-6-ee6350a5e91f>, line 2)",
     "output_type": "error",
     "traceback": [
      "\u001b[0;36m  File \u001b[0;32m\"<ipython-input-6-ee6350a5e91f>\"\u001b[0;36m, line \u001b[0;32m2\u001b[0m\n\u001b[0;31m    print F0*(rho/rhoe-1)**0+F1*(rho/rhoe-1)**1+F2*(rho/rhoe-1)**2+F3*(rho/rhoe-1)**3\u001b[0m\n\u001b[0m           ^\u001b[0m\n\u001b[0;31mSyntaxError\u001b[0m\u001b[0;31m:\u001b[0m invalid syntax\n"
     ]
    }
   ],
   "source": [
    "rho=rhon\n",
    "print F0*(rho/rhoe-1)**0+F1*(rho/rhoe-1)**1+F2*(rho/rhoe-1)**2+F3*(rho/rhoe-1)**3\n",
    "print Fe*(1-num.log((rho/rhoe)**eta))*(rho/rhoe)**eta"
   ]
  },
  {
   "cell_type": "code",
   "execution_count": 7,
   "metadata": {
    "collapsed": false
   },
   "outputs": [
    {
     "data": {
      "text/plain": [
       "-4.0821538212178545"
      ]
     },
     "execution_count": 7,
     "metadata": {},
     "output_type": "execute_result"
    }
   ],
   "source": [
    "Fe*(1-num.log((rhon/rhoe)**eta))*(rhon/rhoe)**eta"
   ]
  },
  {
   "cell_type": "code",
   "execution_count": 8,
   "metadata": {
    "collapsed": false
   },
   "outputs": [
    {
     "data": {
      "image/png": "[encoded data removed]",
      "text/plain": [
       "<matplotlib.figure.Figure at 0x7fad81092860>"
      ]
     },
     "metadata": {},
     "output_type": "display_data"
    }
   ],
   "source": [
    "fig=lab.figure()\n",
    "#lab.plot(x,phi(x),label=\"phi\")\n",
    "#lab.plot(x,phiN(x),label=\"phiN\")\n",
    "\n",
    "lab.plot(x,f(x,0,N),label=\"phiE\")\n",
    "#lab.xlim([0,5])\n",
    "#lab.ylim([0,30])\n",
    "lab.legend()\n",
    "lab.show()\n",
    "\n"
   ]
  },
  {
   "cell_type": "code",
   "execution_count": 9,
   "metadata": {
    "collapsed": false
   },
   "outputs": [
    {
     "data": {
      "image/png": "[encoded data removed]",
      "text/plain": [
       "<matplotlib.figure.Figure at 0x7fad80e36080>"
      ]
     },
     "metadata": {},
     "output_type": "display_data"
    }
   ],
   "source": [
    "r=num.linspace(0.001,5,1000)\n",
    "rhoe=num.multiply(10*0.1305*r,num.exp(-1.2663*r))\n",
    "\n",
    "lab.plot(r,rhoe)\n",
    "lab.show()"
   ]
  },
  {
   "cell_type": "code",
   "execution_count": 10,
   "metadata": {
    "collapsed": false
   },
   "outputs": [
    {
     "data": {
      "image/png": "[encoded data removed]",
      "text/plain": [
       "<matplotlib.figure.Figure at 0x7fad7e41af28>"
      ]
     },
     "metadata": {},
     "output_type": "display_data"
    }
   ],
   "source": [
    "rhon=lambda r:10*num.exp(-1.2663*r)\n",
    "rhoe=lambda r:num.multiply(10*0.1305*r,num.exp(-1.2663*r))\n",
    "lab.plot(r,rhon(r),r,rhoe(r))\n",
    "lab.show()"
   ]
  },
  {
   "cell_type": "code",
   "execution_count": 11,
   "metadata": {
    "collapsed": false
   },
   "outputs": [
    {
     "data": {
      "image/png": "[encoded data removed]",
      "text/plain": [
       "<matplotlib.figure.Figure at 0x7fad7e34aa90>"
      ]
     },
     "metadata": {},
     "output_type": "display_data"
    }
   ],
   "source": [
    "Z=lambda r:rhon(r)+rhoe(r)\n",
    "lab.plot(r,Z(0)*Z(r)/r)\n",
    "lab.ylim([0,1000])\n",
    "lab.show()"
   ]
  },
  {
   "cell_type": "code",
   "execution_count": 12,
   "metadata": {
    "collapsed": false
   },
   "outputs": [
    {
     "data": {
      "text/plain": [
       "(0.16774193548387098, 2.336509, 2.4375)"
      ]
     },
     "execution_count": 12,
     "metadata": {},
     "output_type": "execute_result"
    }
   ],
   "source": [
    "78/465.,fe,78/32."
   ]
  },
  {
   "cell_type": "code",
   "execution_count": 13,
   "metadata": {
    "collapsed": false
   },
   "outputs": [
    {
     "data": {
      "text/plain": [
       "0.25410259493971565"
      ]
     },
     "execution_count": 13,
     "metadata": {},
     "output_type": "execute_result"
    }
   ],
   "source": [
    "B/fe"
   ]
  },
  {
   "cell_type": "code",
   "execution_count": 14,
   "metadata": {
    "collapsed": false
   },
   "outputs": [
    {
     "data": {
      "text/plain": [
       "2.6812403100775195"
      ]
     },
     "execution_count": 14,
     "metadata": {},
     "output_type": "execute_result"
    }
   ],
   "source": [
    "A/0.1677"
   ]
  },
  {
   "cell_type": "code",
   "execution_count": 15,
   "metadata": {
    "collapsed": false
   },
   "outputs": [
    {
     "ename": "SyntaxError",
     "evalue": "invalid syntax (<ipython-input-15-e5071671a8ba>, line 7)",
     "output_type": "error",
     "traceback": [
      "\u001b[0;36m  File \u001b[0;32m\"<ipython-input-15-e5071671a8ba>\"\u001b[0;36m, line \u001b[0;32m7\u001b[0m\n\u001b[0;31m    print integrate.quad(f_e,0,100)\u001b[0m\n\u001b[0m                  ^\u001b[0m\n\u001b[0;31mSyntaxError\u001b[0m\u001b[0;31m:\u001b[0m invalid syntax\n"
     ]
    }
   ],
   "source": [
    "x=num.linspace(0,10,1000)\n",
    "phiE(0),f(0,0,10)\n",
    "fe,re,beta,lam=1.554485,2.556162,4.090619,0.86214\n",
    "f_e=lambda r: fe*num.exp(-beta*(r/re-1))/(1+(r/re-lam)**20)\n",
    "f_N=lambda r: 0.16*num.exp(-alpha*(r/re-1))/(1+(r/re-kappa)**20)\n",
    "from scipy import integrate\n",
    "print integrate.quad(f_e,0,100)\n",
    "print f_e(0)\n",
    "lab.plot(x,f_e(x),label=\"ele\")\n",
    "lab.legend(loc=1)\n",
    "lab.show()"
   ]
  },
  {
   "cell_type": "code",
   "execution_count": 16,
   "metadata": {
    "collapsed": false
   },
   "outputs": [
    {
     "ename": "OSError",
     "evalue": "File b'Pt.u3.Z.dat' does not exist",
     "output_type": "error",
     "traceback": [
      "\u001b[0;31m---------------------------------------------------------------------------\u001b[0m",
      "\u001b[0;31mOSError\u001b[0m                                   Traceback (most recent call last)",
      "\u001b[0;32m<ipython-input-16-4c7e75afa9f9>\u001b[0m in \u001b[0;36m<module>\u001b[0;34m()\u001b[0m\n\u001b[0;32m----> 1\u001b[0;31m \u001b[0mZ\u001b[0m\u001b[0;34m=\u001b[0m\u001b[0mpan\u001b[0m\u001b[0;34m.\u001b[0m\u001b[0mread_csv\u001b[0m\u001b[0;34m(\u001b[0m\u001b[0;34m\"Pt.u3.Z.dat\"\u001b[0m\u001b[0;34m,\u001b[0m\u001b[0msep\u001b[0m\u001b[0;34m=\u001b[0m\u001b[0;34m\"\\t\"\u001b[0m\u001b[0;34m,\u001b[0m\u001b[0mnames\u001b[0m\u001b[0;34m=\u001b[0m\u001b[0;34m[\u001b[0m\u001b[0;34m\"r\"\u001b[0m\u001b[0;34m,\u001b[0m\u001b[0;34m\"Z\"\u001b[0m\u001b[0;34m]\u001b[0m\u001b[0;34m)\u001b[0m\u001b[0;34m\u001b[0m\u001b[0m\n\u001b[0m\u001b[1;32m      2\u001b[0m \u001b[0mZFrame\u001b[0m\u001b[0;34m=\u001b[0m\u001b[0mpan\u001b[0m\u001b[0;34m.\u001b[0m\u001b[0mDataFrame\u001b[0m\u001b[0;34m(\u001b[0m\u001b[0mZ\u001b[0m\u001b[0;34m)\u001b[0m\u001b[0;34m\u001b[0m\u001b[0m\n\u001b[1;32m      3\u001b[0m \u001b[0mphi\u001b[0m\u001b[0;34m=\u001b[0m\u001b[0;34m(\u001b[0m\u001b[0mZFrame\u001b[0m\u001b[0;34m.\u001b[0m\u001b[0mZ\u001b[0m\u001b[0;34m)\u001b[0m\u001b[0;34m**\u001b[0m\u001b[0;36m2\u001b[0m\u001b[0;34m/\u001b[0m\u001b[0mZFrame\u001b[0m\u001b[0;34m.\u001b[0m\u001b[0mr\u001b[0m\u001b[0;34m\u001b[0m\u001b[0m\n\u001b[1;32m      4\u001b[0m \u001b[0mlab\u001b[0m\u001b[0;34m.\u001b[0m\u001b[0mplot\u001b[0m\u001b[0;34m(\u001b[0m\u001b[0mZFrame\u001b[0m\u001b[0;34m.\u001b[0m\u001b[0mr\u001b[0m\u001b[0;34m,\u001b[0m\u001b[0mphi\u001b[0m\u001b[0;34m,\u001b[0m\u001b[0mlabel\u001b[0m\u001b[0;34m=\u001b[0m\u001b[0;34m\"Daw\"\u001b[0m\u001b[0;34m)\u001b[0m\u001b[0;34m\u001b[0m\u001b[0m\n\u001b[1;32m      5\u001b[0m \u001b[0mlab\u001b[0m\u001b[0;34m.\u001b[0m\u001b[0mplot\u001b[0m\u001b[0;34m(\u001b[0m\u001b[0mZFrame\u001b[0m\u001b[0;34m.\u001b[0m\u001b[0mr\u001b[0m\u001b[0;34m,\u001b[0m\u001b[0mphiT\u001b[0m\u001b[0;34m(\u001b[0m\u001b[0mZFrame\u001b[0m\u001b[0;34m.\u001b[0m\u001b[0mr\u001b[0m\u001b[0;34m)\u001b[0m\u001b[0;34m,\u001b[0m\u001b[0mlabel\u001b[0m\u001b[0;34m=\u001b[0m\u001b[0;34m\"Zhou\"\u001b[0m\u001b[0;34m)\u001b[0m\u001b[0;34m\u001b[0m\u001b[0m\n",
      "\u001b[0;32m/home/hbhattar/anaconda3/lib/python3.5/site-packages/pandas/io/parsers.py\u001b[0m in \u001b[0;36mparser_f\u001b[0;34m(filepath_or_buffer, sep, delimiter, header, names, index_col, usecols, squeeze, prefix, mangle_dupe_cols, dtype, engine, converters, true_values, false_values, skipinitialspace, skiprows, skipfooter, nrows, na_values, keep_default_na, na_filter, verbose, skip_blank_lines, parse_dates, infer_datetime_format, keep_date_col, date_parser, dayfirst, iterator, chunksize, compression, thousands, decimal, lineterminator, quotechar, quoting, escapechar, comment, encoding, dialect, tupleize_cols, error_bad_lines, warn_bad_lines, skip_footer, doublequote, delim_whitespace, as_recarray, compact_ints, use_unsigned, low_memory, buffer_lines, memory_map, float_precision)\u001b[0m\n\u001b[1;32m    560\u001b[0m                     skip_blank_lines=skip_blank_lines)\n\u001b[1;32m    561\u001b[0m \u001b[0;34m\u001b[0m\u001b[0m\n\u001b[0;32m--> 562\u001b[0;31m         \u001b[0;32mreturn\u001b[0m \u001b[0m_read\u001b[0m\u001b[0;34m(\u001b[0m\u001b[0mfilepath_or_buffer\u001b[0m\u001b[0;34m,\u001b[0m \u001b[0mkwds\u001b[0m\u001b[0;34m)\u001b[0m\u001b[0;34m\u001b[0m\u001b[0m\n\u001b[0m\u001b[1;32m    563\u001b[0m \u001b[0;34m\u001b[0m\u001b[0m\n\u001b[1;32m    564\u001b[0m     \u001b[0mparser_f\u001b[0m\u001b[0;34m.\u001b[0m\u001b[0m__name__\u001b[0m \u001b[0;34m=\u001b[0m \u001b[0mname\u001b[0m\u001b[0;34m\u001b[0m\u001b[0m\n",
      "\u001b[0;32m/home/hbhattar/anaconda3/lib/python3.5/site-packages/pandas/io/parsers.py\u001b[0m in \u001b[0;36m_read\u001b[0;34m(filepath_or_buffer, kwds)\u001b[0m\n\u001b[1;32m    313\u001b[0m \u001b[0;34m\u001b[0m\u001b[0m\n\u001b[1;32m    314\u001b[0m     \u001b[0;31m# Create the parser.\u001b[0m\u001b[0;34m\u001b[0m\u001b[0;34m\u001b[0m\u001b[0m\n\u001b[0;32m--> 315\u001b[0;31m     \u001b[0mparser\u001b[0m \u001b[0;34m=\u001b[0m \u001b[0mTextFileReader\u001b[0m\u001b[0;34m(\u001b[0m\u001b[0mfilepath_or_buffer\u001b[0m\u001b[0;34m,\u001b[0m \u001b[0;34m**\u001b[0m\u001b[0mkwds\u001b[0m\u001b[0;34m)\u001b[0m\u001b[0;34m\u001b[0m\u001b[0m\n\u001b[0m\u001b[1;32m    316\u001b[0m \u001b[0;34m\u001b[0m\u001b[0m\n\u001b[1;32m    317\u001b[0m     \u001b[0;32mif\u001b[0m \u001b[0;34m(\u001b[0m\u001b[0mnrows\u001b[0m \u001b[0;32mis\u001b[0m \u001b[0;32mnot\u001b[0m \u001b[0;32mNone\u001b[0m\u001b[0;34m)\u001b[0m \u001b[0;32mand\u001b[0m \u001b[0;34m(\u001b[0m\u001b[0mchunksize\u001b[0m \u001b[0;32mis\u001b[0m \u001b[0;32mnot\u001b[0m \u001b[0;32mNone\u001b[0m\u001b[0;34m)\u001b[0m\u001b[0;34m:\u001b[0m\u001b[0;34m\u001b[0m\u001b[0m\n",
      "\u001b[0;32m/home/hbhattar/anaconda3/lib/python3.5/site-packages/pandas/io/parsers.py\u001b[0m in \u001b[0;36m__init__\u001b[0;34m(self, f, engine, **kwds)\u001b[0m\n\u001b[1;32m    643\u001b[0m             \u001b[0mself\u001b[0m\u001b[0;34m.\u001b[0m\u001b[0moptions\u001b[0m\u001b[0;34m[\u001b[0m\u001b[0;34m'has_index_names'\u001b[0m\u001b[0;34m]\u001b[0m \u001b[0;34m=\u001b[0m \u001b[0mkwds\u001b[0m\u001b[0;34m[\u001b[0m\u001b[0;34m'has_index_names'\u001b[0m\u001b[0;34m]\u001b[0m\u001b[0;34m\u001b[0m\u001b[0m\n\u001b[1;32m    644\u001b[0m \u001b[0;34m\u001b[0m\u001b[0m\n\u001b[0;32m--> 645\u001b[0;31m         \u001b[0mself\u001b[0m\u001b[0;34m.\u001b[0m\u001b[0m_make_engine\u001b[0m\u001b[0;34m(\u001b[0m\u001b[0mself\u001b[0m\u001b[0;34m.\u001b[0m\u001b[0mengine\u001b[0m\u001b[0;34m)\u001b[0m\u001b[0;34m\u001b[0m\u001b[0m\n\u001b[0m\u001b[1;32m    646\u001b[0m \u001b[0;34m\u001b[0m\u001b[0m\n\u001b[1;32m    647\u001b[0m     \u001b[0;32mdef\u001b[0m \u001b[0mclose\u001b[0m\u001b[0;34m(\u001b[0m\u001b[0mself\u001b[0m\u001b[0;34m)\u001b[0m\u001b[0;34m:\u001b[0m\u001b[0;34m\u001b[0m\u001b[0m\n",
      "\u001b[0;32m/home/hbhattar/anaconda3/lib/python3.5/site-packages/pandas/io/parsers.py\u001b[0m in \u001b[0;36m_make_engine\u001b[0;34m(self, engine)\u001b[0m\n\u001b[1;32m    797\u001b[0m     \u001b[0;32mdef\u001b[0m \u001b[0m_make_engine\u001b[0m\u001b[0;34m(\u001b[0m\u001b[0mself\u001b[0m\u001b[0;34m,\u001b[0m \u001b[0mengine\u001b[0m\u001b[0;34m=\u001b[0m\u001b[0;34m'c'\u001b[0m\u001b[0;34m)\u001b[0m\u001b[0;34m:\u001b[0m\u001b[0;34m\u001b[0m\u001b[0m\n\u001b[1;32m    798\u001b[0m         \u001b[0;32mif\u001b[0m \u001b[0mengine\u001b[0m \u001b[0;34m==\u001b[0m \u001b[0;34m'c'\u001b[0m\u001b[0;34m:\u001b[0m\u001b[0;34m\u001b[0m\u001b[0m\n\u001b[0;32m--> 799\u001b[0;31m             \u001b[0mself\u001b[0m\u001b[0;34m.\u001b[0m\u001b[0m_engine\u001b[0m \u001b[0;34m=\u001b[0m \u001b[0mCParserWrapper\u001b[0m\u001b[0;34m(\u001b[0m\u001b[0mself\u001b[0m\u001b[0;34m.\u001b[0m\u001b[0mf\u001b[0m\u001b[0;34m,\u001b[0m \u001b[0;34m**\u001b[0m\u001b[0mself\u001b[0m\u001b[0;34m.\u001b[0m\u001b[0moptions\u001b[0m\u001b[0;34m)\u001b[0m\u001b[0;34m\u001b[0m\u001b[0m\n\u001b[0m\u001b[1;32m    800\u001b[0m         \u001b[0;32melse\u001b[0m\u001b[0;34m:\u001b[0m\u001b[0;34m\u001b[0m\u001b[0m\n\u001b[1;32m    801\u001b[0m             \u001b[0;32mif\u001b[0m \u001b[0mengine\u001b[0m \u001b[0;34m==\u001b[0m \u001b[0;34m'python'\u001b[0m\u001b[0;34m:\u001b[0m\u001b[0;34m\u001b[0m\u001b[0m\n",
      "\u001b[0;32m/home/hbhattar/anaconda3/lib/python3.5/site-packages/pandas/io/parsers.py\u001b[0m in \u001b[0;36m__init__\u001b[0;34m(self, src, **kwds)\u001b[0m\n\u001b[1;32m   1211\u001b[0m         \u001b[0mkwds\u001b[0m\u001b[0;34m[\u001b[0m\u001b[0;34m'allow_leading_cols'\u001b[0m\u001b[0;34m]\u001b[0m \u001b[0;34m=\u001b[0m \u001b[0mself\u001b[0m\u001b[0;34m.\u001b[0m\u001b[0mindex_col\u001b[0m \u001b[0;32mis\u001b[0m \u001b[0;32mnot\u001b[0m \u001b[0;32mFalse\u001b[0m\u001b[0;34m\u001b[0m\u001b[0m\n\u001b[1;32m   1212\u001b[0m \u001b[0;34m\u001b[0m\u001b[0m\n\u001b[0;32m-> 1213\u001b[0;31m         \u001b[0mself\u001b[0m\u001b[0;34m.\u001b[0m\u001b[0m_reader\u001b[0m \u001b[0;34m=\u001b[0m \u001b[0m_parser\u001b[0m\u001b[0;34m.\u001b[0m\u001b[0mTextReader\u001b[0m\u001b[0;34m(\u001b[0m\u001b[0msrc\u001b[0m\u001b[0;34m,\u001b[0m \u001b[0;34m**\u001b[0m\u001b[0mkwds\u001b[0m\u001b[0;34m)\u001b[0m\u001b[0;34m\u001b[0m\u001b[0m\n\u001b[0m\u001b[1;32m   1214\u001b[0m \u001b[0;34m\u001b[0m\u001b[0m\n\u001b[1;32m   1215\u001b[0m         \u001b[0;31m# XXX\u001b[0m\u001b[0;34m\u001b[0m\u001b[0;34m\u001b[0m\u001b[0m\n",
      "\u001b[0;32mpandas/parser.pyx\u001b[0m in \u001b[0;36mpandas.parser.TextReader.__cinit__ (pandas/parser.c:3427)\u001b[0;34m()\u001b[0m\n",
      "\u001b[0;32mpandas/parser.pyx\u001b[0m in \u001b[0;36mpandas.parser.TextReader._setup_parser_source (pandas/parser.c:6861)\u001b[0;34m()\u001b[0m\n",
      "\u001b[0;31mOSError\u001b[0m: File b'Pt.u3.Z.dat' does not exist"
     ]
    }
   ],
   "source": [
    "Z=pan.read_csv(\"Pt.u3.Z.dat\",sep=\"\\t\",names=[\"r\",\"Z\"])\n",
    "ZFrame=pan.DataFrame(Z)\n",
    "phi=(ZFrame.Z)**2/ZFrame.r\n",
    "lab.plot(ZFrame.r,phi,label=\"Daw\")\n",
    "lab.plot(ZFrame.r,phiT(ZFrame.r),label=\"Zhou\")\n",
    "lab.legend(loc=1)\n",
    "lab.ylim([0,600])\n",
    "lab.xlim([0,5])\n",
    "lab.show()\n"
   ]
  },
  {
   "cell_type": "code",
   "execution_count": 17,
   "metadata": {
    "collapsed": false
   },
   "outputs": [],
   "source": [
    "\n",
    "x=num.linspace(0,10,100)\n",
    "\n",
    "def fPt(r,q):\n",
    "    re,fe,rhoe,alpha,beta,A,B,kappa,lam,Fn0,Fn1,Fn2,Fn3,F0,F1,F2,F3,eta,Fe,N=\\\n",
    "2.771916, 2.336509, 34.108882, 7.079952, 3.775974, 0.449644, 0.593713,\\\n",
    "0.413484, 0.826967, -4.099542, -0.754764, 1.766503, -1.578274, -4.17, 0,\\\n",
    "3.474733,  2.288323,  1.39349,  -4.174332,10\n",
    "    return fe*num.exp(-beta*(r/re-1))/(1+(r/re-lam)**20)*(1-q/float(N))\n",
    "\n",
    "\n",
    "\n",
    "def fCu(r,q):\n",
    "    re,fe,rhoe,alpha,beta,A,B,kappa,lam,Fn0,Fn1,Fn2,Fn3,F0,F1,F2,F3,eta,Fe,N=\\\n",
    "2.556162, 1.554485, 22.150141, 7.669911, 4.090619, 0.327584, 0.468735,\\\n",
    "0.431307, 0.86214,  -2.176490, -0.140035, 0.285621, -1.750834, -2.19, 0, 0.702991,\\\n",
    "0.683705,  0.92115,  -2.191675,11\n",
    "    return fe*num.exp(-beta*(r/re-1))/(1+(r/re-lam)**20)*(1-q/float(N))\n",
    "\n",
    "def fCo(r,q):\n",
    "    re,fe,rhoe,alpha,beta,A,B,kappa,lam,Fn0,Fn1,Fn2,Fn3,F0,F1,F2,F3,eta,Fe,N=\\\n",
    "    2.505979, 1.975299, 27.206789, 8.679625, 4.629134, 0.421378, 0.640107, 0.5,\\\n",
    "    1.0,      -2.541799, -0.219415, 0.733381, -1.589003, -2.56, 0, 0.705845, -0.687140,  0.694608, -2.559307,9\n",
    "    return fe*num.exp(-beta*(r/re-1))/(1+(r/re-lam)**20)*(1-q/float(N))\n",
    "\n",
    "f_Cu=fCu(x,0)\n",
    "f_Pt=fPt(x,0)\n",
    "f_Co=fCo(x,0)"
   ]
  },
  {
   "cell_type": "code",
   "execution_count": 18,
   "metadata": {
    "collapsed": false
   },
   "outputs": [
    {
     "data": {
      "image/png": "[encoded data removed]",
      "text/plain": [
       "<matplotlib.figure.Figure at 0x7fad7e18c470>"
      ]
     },
     "metadata": {},
     "output_type": "display_data"
    },
    {
     "name": "stdout",
     "output_type": "stream",
     "text": [
      "[  8.97603230e+01   7.92516996e+01   6.94457178e+01   6.06526876e+01\n",
      "   5.29005909e+01   4.61143738e+01   4.01905620e+01   3.50252013e+01\n",
      "   3.05229719e+01   2.65992734e+01   2.31799135e+01   2.02001041e+01\n",
      "   1.76033509e+01   1.53404138e+01   1.33683806e+01   1.16498552e+01\n",
      "   1.01522488e+01   8.84716197e+00   7.70984602e+00   6.71873373e+00\n",
      "   5.85503042e+00   5.10235747e+00   4.44644175e+00   3.87484499e+00\n",
      "   3.37672784e+00   2.94264441e+00   2.56436305e+00   2.23471033e+00\n",
      "   1.94743496e+00   1.69708927e+00   1.47892590e+00   1.28880775e+00\n",
      "   1.12312958e+00   9.78749583e-01   8.52929840e-01   7.43284362e-01\n",
      "   6.47733777e-01   5.64465677e-01   4.91899670e-01   4.28655959e-01\n",
      "   3.73525848e-01   3.25441644e-01   2.83441882e-01   2.46625415e-01\n",
      "   2.14085405e-01   1.84815651e-01   1.57603122e-01   1.31007231e-01\n",
      "   1.03729138e-01   7.57473218e-02   4.95138882e-02   2.87566703e-02\n",
      "   1.51707339e-02   7.53800016e-03   3.64174501e-03   1.74672961e-03\n",
      "   8.41489865e-04   4.09551730e-04   2.01905792e-04   1.00923638e-04\n",
      "   5.11568633e-05   2.62886819e-05   1.36896820e-05   7.22021287e-06\n",
      "   3.85480162e-06   2.08216701e-06   1.13727429e-06   6.27822188e-07\n",
      "   3.50128408e-07   1.97172604e-07   1.12076610e-07   6.42782427e-08\n",
      "   3.71821992e-08   2.16859803e-08   1.27483942e-08   7.55147790e-09\n",
      "   4.50592078e-09   2.70764857e-09   1.63812353e-09   9.97564661e-10\n",
      "   6.11329758e-10   3.76925301e-10   2.33770848e-10   1.45812671e-10\n",
      "   9.14510706e-11   5.76625227e-11   3.65456925e-11   2.32780353e-11\n",
      "   1.48989999e-11   9.58086541e-12   6.18911004e-12   4.01577370e-12\n",
      "   2.61680933e-12   1.71231398e-12   1.12499895e-12   7.42043345e-13\n",
      "   4.91323954e-13   3.26529997e-13   2.17796800e-13   1.45784602e-13]\n"
     ]
    }
   ],
   "source": [
    "fig=lab.figure()\n",
    "lab.plot(x,f_Pt,label=\"Pt_f\")\n",
    "#lab.plot(x,f_Cu,label=\"Cu_f\")\n",
    "#lab.plot(x,f_Co,label=\"Co_f\")\n",
    "#lab.legend(loc=1)\n",
    "lab.xlim([0,6])\n",
    "lab.show()\n",
    "print(fPt(x,1))"
   ]
  },
  {
   "cell_type": "code",
   "execution_count": 63,
   "metadata": {
    "collapsed": false
   },
   "outputs": [],
   "source": [
    "Zhou=pan.read_csv(\"Zhou.info.dat\",sep=\" \",names=[\"atom\",\"type\",\"lat\",\"re\",\"fe\",\"rhoe\",\"rhos\",\"alpha\",\"beta\",\"A\",\"B\"\\\n",
    "                                                     ,\"kappa\",\"lam\",\"Fn0\",\"Fn1\",\"Fn2\",\"Fn3\",\"F0\",\"F1\",\"F2\",\"F3\",\"eta\",\"Fe\",\"rhol\",\"rhoh\"])"
   ]
  },
  {
   "cell_type": "code",
   "execution_count": 64,
   "metadata": {
    "collapsed": false
   },
   "outputs": [
    {
     "data": {
      "text/html": [
       "<div>\n",
       "<table border=\"1\" class=\"dataframe\">\n",
       "  <thead>\n",
       "    <tr style=\"text-align: right;\">\n",
       "      <th></th>\n",
       "      <th>atom</th>\n",
       "      <th>type</th>\n",
       "      <th>lat</th>\n",
       "      <th>re</th>\n",
       "      <th>fe</th>\n",
       "      <th>rhoe</th>\n",
       "      <th>rhos</th>\n",
       "      <th>alpha</th>\n",
       "      <th>beta</th>\n",
       "      <th>A</th>\n",
       "      <th>...</th>\n",
       "      <th>Fn2</th>\n",
       "      <th>Fn3</th>\n",
       "      <th>F0</th>\n",
       "      <th>F1</th>\n",
       "      <th>F2</th>\n",
       "      <th>F3</th>\n",
       "      <th>eta</th>\n",
       "      <th>Fe</th>\n",
       "      <th>rhol</th>\n",
       "      <th>rhoh</th>\n",
       "    </tr>\n",
       "  </thead>\n",
       "  <tbody>\n",
       "    <tr>\n",
       "      <th>0</th>\n",
       "      <td>Cu</td>\n",
       "      <td>Zhou2004</td>\n",
       "      <td>FCC</td>\n",
       "      <td>2.556162</td>\n",
       "      <td>1.554485</td>\n",
       "      <td>21.175871</td>\n",
       "      <td>21.175395</td>\n",
       "      <td>8.127620</td>\n",
       "      <td>4.334731</td>\n",
       "      <td>0.396620</td>\n",
       "      <td>...</td>\n",
       "      <td>1.088878</td>\n",
       "      <td>-0.817603</td>\n",
       "      <td>-2.190000</td>\n",
       "      <td>0.00</td>\n",
       "      <td>0.561830</td>\n",
       "      <td>-2.100595</td>\n",
       "      <td>0.310490</td>\n",
       "      <td>-2.186568</td>\n",
       "      <td>0.850000</td>\n",
       "      <td>1.15</td>\n",
       "    </tr>\n",
       "    <tr>\n",
       "      <th>1</th>\n",
       "      <td>Ag</td>\n",
       "      <td>Zhou2004</td>\n",
       "      <td>FCC</td>\n",
       "      <td>2.891814</td>\n",
       "      <td>1.106232</td>\n",
       "      <td>14.604100</td>\n",
       "      <td>14.604144</td>\n",
       "      <td>9.132010</td>\n",
       "      <td>4.870405</td>\n",
       "      <td>0.277758</td>\n",
       "      <td>...</td>\n",
       "      <td>0.912050</td>\n",
       "      <td>-0.561432</td>\n",
       "      <td>-1.750000</td>\n",
       "      <td>0.00</td>\n",
       "      <td>0.744561</td>\n",
       "      <td>-1.150650</td>\n",
       "      <td>0.783924</td>\n",
       "      <td>-1.748423</td>\n",
       "      <td>0.850000</td>\n",
       "      <td>1.15</td>\n",
       "    </tr>\n",
       "    <tr>\n",
       "      <th>2</th>\n",
       "      <td>Au</td>\n",
       "      <td>Zhou2004</td>\n",
       "      <td>FCC</td>\n",
       "      <td>2.885034</td>\n",
       "      <td>1.529021</td>\n",
       "      <td>19.991632</td>\n",
       "      <td>19.991509</td>\n",
       "      <td>9.516052</td>\n",
       "      <td>5.075228</td>\n",
       "      <td>0.229762</td>\n",
       "      <td>...</td>\n",
       "      <td>1.601954</td>\n",
       "      <td>-0.835530</td>\n",
       "      <td>-2.980000</td>\n",
       "      <td>0.00</td>\n",
       "      <td>1.706587</td>\n",
       "      <td>-1.134778</td>\n",
       "      <td>1.021095</td>\n",
       "      <td>-2.978815</td>\n",
       "      <td>0.850000</td>\n",
       "      <td>1.15</td>\n",
       "    </tr>\n",
       "    <tr>\n",
       "      <th>3</th>\n",
       "      <td>Ni</td>\n",
       "      <td>Zhou2004</td>\n",
       "      <td>FCC</td>\n",
       "      <td>2.488746</td>\n",
       "      <td>2.007018</td>\n",
       "      <td>27.562015</td>\n",
       "      <td>27.562031</td>\n",
       "      <td>8.383453</td>\n",
       "      <td>4.471175</td>\n",
       "      <td>0.429046</td>\n",
       "      <td>...</td>\n",
       "      <td>0.241442</td>\n",
       "      <td>-2.375626</td>\n",
       "      <td>-2.700000</td>\n",
       "      <td>NaN</td>\n",
       "      <td>0.000000</td>\n",
       "      <td>0.265390</td>\n",
       "      <td>-0.152856</td>\n",
       "      <td>0.445470</td>\n",
       "      <td>-2.700000</td>\n",
       "      <td>0.85</td>\n",
       "    </tr>\n",
       "    <tr>\n",
       "      <th>4</th>\n",
       "      <td>Pd</td>\n",
       "      <td>Zhou2004</td>\n",
       "      <td>FCC</td>\n",
       "      <td>2.750897</td>\n",
       "      <td>1.595417</td>\n",
       "      <td>21.335246</td>\n",
       "      <td>21.940073</td>\n",
       "      <td>8.697397</td>\n",
       "      <td>4.638612</td>\n",
       "      <td>0.406763</td>\n",
       "      <td>...</td>\n",
       "      <td>1.615343</td>\n",
       "      <td>-0.231681</td>\n",
       "      <td>-2.360000</td>\n",
       "      <td>0.00</td>\n",
       "      <td>1.481742</td>\n",
       "      <td>-1.675615</td>\n",
       "      <td>1.130000</td>\n",
       "      <td>-2.352753</td>\n",
       "      <td>0.850000</td>\n",
       "      <td>1.15</td>\n",
       "    </tr>\n",
       "    <tr>\n",
       "      <th>5</th>\n",
       "      <td>Pt</td>\n",
       "      <td>Zhou2004</td>\n",
       "      <td>FCC</td>\n",
       "      <td>2.771916</td>\n",
       "      <td>2.336509</td>\n",
       "      <td>33.367564</td>\n",
       "      <td>35.205357</td>\n",
       "      <td>7.105782</td>\n",
       "      <td>3.789750</td>\n",
       "      <td>0.556398</td>\n",
       "      <td>...</td>\n",
       "      <td>0.528491</td>\n",
       "      <td>NaN</td>\n",
       "      <td>1.222875</td>\n",
       "      <td>-4.17</td>\n",
       "      <td>0.000000</td>\n",
       "      <td>3.010561</td>\n",
       "      <td>-2.420128</td>\n",
       "      <td>1.450000</td>\n",
       "      <td>-4.145597</td>\n",
       "      <td>0.25</td>\n",
       "    </tr>\n",
       "    <tr>\n",
       "      <th>6</th>\n",
       "      <td>Al</td>\n",
       "      <td>Zhou2004</td>\n",
       "      <td>FCC</td>\n",
       "      <td>2.863924</td>\n",
       "      <td>1.403115</td>\n",
       "      <td>20.418205</td>\n",
       "      <td>23.195740</td>\n",
       "      <td>6.613165</td>\n",
       "      <td>3.527021</td>\n",
       "      <td>0.314873</td>\n",
       "      <td>...</td>\n",
       "      <td>1.258562</td>\n",
       "      <td>-1.247604</td>\n",
       "      <td>-2.830000</td>\n",
       "      <td>0.00</td>\n",
       "      <td>0.622245</td>\n",
       "      <td>-2.488244</td>\n",
       "      <td>0.785902</td>\n",
       "      <td>-2.824528</td>\n",
       "      <td>0.850000</td>\n",
       "      <td>1.15</td>\n",
       "    </tr>\n",
       "    <tr>\n",
       "      <th>7</th>\n",
       "      <td>Pb</td>\n",
       "      <td>Zhou2004</td>\n",
       "      <td>FCC</td>\n",
       "      <td>3.499723</td>\n",
       "      <td>0.647872</td>\n",
       "      <td>8.450154</td>\n",
       "      <td>8.450063</td>\n",
       "      <td>9.121799</td>\n",
       "      <td>5.212457</td>\n",
       "      <td>0.161219</td>\n",
       "      <td>...</td>\n",
       "      <td>0.682886</td>\n",
       "      <td>-0.529378</td>\n",
       "      <td>-1.440000</td>\n",
       "      <td>0.00</td>\n",
       "      <td>0.702726</td>\n",
       "      <td>-0.538766</td>\n",
       "      <td>0.935380</td>\n",
       "      <td>-1.439436</td>\n",
       "      <td>0.850000</td>\n",
       "      <td>1.15</td>\n",
       "    </tr>\n",
       "    <tr>\n",
       "      <th>8</th>\n",
       "      <td>Fe</td>\n",
       "      <td>Zhou2004</td>\n",
       "      <td>BCC</td>\n",
       "      <td>2.481987</td>\n",
       "      <td>1.885957</td>\n",
       "      <td>20.041463</td>\n",
       "      <td>20.041463</td>\n",
       "      <td>9.818270</td>\n",
       "      <td>5.236411</td>\n",
       "      <td>0.392811</td>\n",
       "      <td>...</td>\n",
       "      <td>0.193065</td>\n",
       "      <td>-2.282322</td>\n",
       "      <td>-2.540000</td>\n",
       "      <td>0.00</td>\n",
       "      <td>0.200269</td>\n",
       "      <td>-0.148770</td>\n",
       "      <td>NaN</td>\n",
       "      <td>0.391750</td>\n",
       "      <td>-2.539945</td>\n",
       "      <td>0.85</td>\n",
       "    </tr>\n",
       "    <tr>\n",
       "      <th>9</th>\n",
       "      <td>Mo</td>\n",
       "      <td>Zhou2004</td>\n",
       "      <td>BCC</td>\n",
       "      <td>2.728100</td>\n",
       "      <td>2.723710</td>\n",
       "      <td>29.354065</td>\n",
       "      <td>29.354065</td>\n",
       "      <td>8.393531</td>\n",
       "      <td>4.476550</td>\n",
       "      <td>0.708787</td>\n",
       "      <td>...</td>\n",
       "      <td>0.380450</td>\n",
       "      <td>-3.133650</td>\n",
       "      <td>-3.710000</td>\n",
       "      <td>0.00</td>\n",
       "      <td>0.875874</td>\n",
       "      <td>0.776222</td>\n",
       "      <td>0.790879</td>\n",
       "      <td>-3.712093</td>\n",
       "      <td>0.850000</td>\n",
       "      <td>1.15</td>\n",
       "    </tr>\n",
       "    <tr>\n",
       "      <th>10</th>\n",
       "      <td>Ta</td>\n",
       "      <td>Zhou2004</td>\n",
       "      <td>BCC</td>\n",
       "      <td>2.860082</td>\n",
       "      <td>3.086341</td>\n",
       "      <td>33.787168</td>\n",
       "      <td>33.787168</td>\n",
       "      <td>8.489528</td>\n",
       "      <td>4.527748</td>\n",
       "      <td>0.611679</td>\n",
       "      <td>...</td>\n",
       "      <td>1.112997</td>\n",
       "      <td>-3.585325</td>\n",
       "      <td>-5.140000</td>\n",
       "      <td>0.00</td>\n",
       "      <td>1.640098</td>\n",
       "      <td>0.221375</td>\n",
       "      <td>0.848843</td>\n",
       "      <td>-5.141526</td>\n",
       "      <td>0.850000</td>\n",
       "      <td>1.15</td>\n",
       "    </tr>\n",
       "    <tr>\n",
       "      <th>11</th>\n",
       "      <td>W</td>\n",
       "      <td>Zhou2004</td>\n",
       "      <td>BCC</td>\n",
       "      <td>2.740840</td>\n",
       "      <td>3.487340</td>\n",
       "      <td>37.234847</td>\n",
       "      <td>37.234847</td>\n",
       "      <td>8.900114</td>\n",
       "      <td>4.746728</td>\n",
       "      <td>0.882435</td>\n",
       "      <td>...</td>\n",
       "      <td>0.365057</td>\n",
       "      <td>-4.432406</td>\n",
       "      <td>-4.960000</td>\n",
       "      <td>0.00</td>\n",
       "      <td>0.661935</td>\n",
       "      <td>0.348147</td>\n",
       "      <td>0.582714</td>\n",
       "      <td>-4.961306</td>\n",
       "      <td>0.850000</td>\n",
       "      <td>1.15</td>\n",
       "    </tr>\n",
       "    <tr>\n",
       "      <th>12</th>\n",
       "      <td>Mg</td>\n",
       "      <td>Zhou2004</td>\n",
       "      <td>HCP</td>\n",
       "      <td>3.196291</td>\n",
       "      <td>0.544323</td>\n",
       "      <td>7.132600</td>\n",
       "      <td>7.132600</td>\n",
       "      <td>10.228708</td>\n",
       "      <td>5.455311</td>\n",
       "      <td>0.137518</td>\n",
       "      <td>...</td>\n",
       "      <td>0.162232</td>\n",
       "      <td>-0.689950</td>\n",
       "      <td>-0.900000</td>\n",
       "      <td>NaN</td>\n",
       "      <td>0.000000</td>\n",
       "      <td>0.122838</td>\n",
       "      <td>-0.226010</td>\n",
       "      <td>0.431425</td>\n",
       "      <td>-0.899702</td>\n",
       "      <td>0.85</td>\n",
       "    </tr>\n",
       "    <tr>\n",
       "      <th>13</th>\n",
       "      <td>Co</td>\n",
       "      <td>Zhou2004</td>\n",
       "      <td>FCC</td>\n",
       "      <td>2.505979</td>\n",
       "      <td>1.975299</td>\n",
       "      <td>27.206789</td>\n",
       "      <td>27.206789</td>\n",
       "      <td>8.679625</td>\n",
       "      <td>4.629134</td>\n",
       "      <td>0.421378</td>\n",
       "      <td>...</td>\n",
       "      <td>0.733381</td>\n",
       "      <td>-1.589003</td>\n",
       "      <td>-2.560000</td>\n",
       "      <td>0.00</td>\n",
       "      <td>0.705845</td>\n",
       "      <td>-0.687140</td>\n",
       "      <td>0.694608</td>\n",
       "      <td>-2.559307</td>\n",
       "      <td>0.850000</td>\n",
       "      <td>1.15</td>\n",
       "    </tr>\n",
       "    <tr>\n",
       "      <th>14</th>\n",
       "      <td>Ti</td>\n",
       "      <td>Zhou2004</td>\n",
       "      <td>HCP</td>\n",
       "      <td>2.933872</td>\n",
       "      <td>1.863200</td>\n",
       "      <td>25.565138</td>\n",
       "      <td>25.565138</td>\n",
       "      <td>8.775431</td>\n",
       "      <td>4.680230</td>\n",
       "      <td>0.373601</td>\n",
       "      <td>...</td>\n",
       "      <td>0.683779</td>\n",
       "      <td>-2.321732</td>\n",
       "      <td>-3.220000</td>\n",
       "      <td>0.00</td>\n",
       "      <td>0.608587</td>\n",
       "      <td>-0.750710</td>\n",
       "      <td>0.558572</td>\n",
       "      <td>-3.219176</td>\n",
       "      <td>0.850000</td>\n",
       "      <td>1.15</td>\n",
       "    </tr>\n",
       "    <tr>\n",
       "      <th>15</th>\n",
       "      <td>Zr</td>\n",
       "      <td>Zhou2004</td>\n",
       "      <td>HCP</td>\n",
       "      <td>3.199978</td>\n",
       "      <td>2.230909</td>\n",
       "      <td>30.879991</td>\n",
       "      <td>30.879991</td>\n",
       "      <td>8.559190</td>\n",
       "      <td>4.564902</td>\n",
       "      <td>0.424667</td>\n",
       "      <td>...</td>\n",
       "      <td>0.990148</td>\n",
       "      <td>-3.202516</td>\n",
       "      <td>-4.510000</td>\n",
       "      <td>0.00</td>\n",
       "      <td>0.928602</td>\n",
       "      <td>-0.981870</td>\n",
       "      <td>0.597133</td>\n",
       "      <td>-4.509025</td>\n",
       "      <td>0.850000</td>\n",
       "      <td>1.15</td>\n",
       "    </tr>\n",
       "  </tbody>\n",
       "</table>\n",
       "<p>16 rows × 25 columns</p>\n",
       "</div>"
      ],
      "text/plain": [
       "   atom      type  lat        re        fe       rhoe       rhos      alpha  \\\n",
       "0    Cu  Zhou2004  FCC  2.556162  1.554485  21.175871  21.175395   8.127620   \n",
       "1    Ag  Zhou2004  FCC  2.891814  1.106232  14.604100  14.604144   9.132010   \n",
       "2    Au  Zhou2004  FCC  2.885034  1.529021  19.991632  19.991509   9.516052   \n",
       "3    Ni  Zhou2004  FCC  2.488746  2.007018  27.562015  27.562031   8.383453   \n",
       "4    Pd  Zhou2004  FCC  2.750897  1.595417  21.335246  21.940073   8.697397   \n",
       "5    Pt  Zhou2004  FCC  2.771916  2.336509  33.367564  35.205357   7.105782   \n",
       "6    Al  Zhou2004  FCC  2.863924  1.403115  20.418205  23.195740   6.613165   \n",
       "7    Pb  Zhou2004  FCC  3.499723  0.647872   8.450154   8.450063   9.121799   \n",
       "8    Fe  Zhou2004  BCC  2.481987  1.885957  20.041463  20.041463   9.818270   \n",
       "9    Mo  Zhou2004  BCC  2.728100  2.723710  29.354065  29.354065   8.393531   \n",
       "10   Ta  Zhou2004  BCC  2.860082  3.086341  33.787168  33.787168   8.489528   \n",
       "11    W  Zhou2004  BCC  2.740840  3.487340  37.234847  37.234847   8.900114   \n",
       "12   Mg  Zhou2004  HCP  3.196291  0.544323   7.132600   7.132600  10.228708   \n",
       "13   Co  Zhou2004  FCC  2.505979  1.975299  27.206789  27.206789   8.679625   \n",
       "14   Ti  Zhou2004  HCP  2.933872  1.863200  25.565138  25.565138   8.775431   \n",
       "15   Zr  Zhou2004  HCP  3.199978  2.230909  30.879991  30.879991   8.559190   \n",
       "\n",
       "        beta         A  ...        Fn2       Fn3        F0    F1        F2  \\\n",
       "0   4.334731  0.396620  ...   1.088878 -0.817603 -2.190000  0.00  0.561830   \n",
       "1   4.870405  0.277758  ...   0.912050 -0.561432 -1.750000  0.00  0.744561   \n",
       "2   5.075228  0.229762  ...   1.601954 -0.835530 -2.980000  0.00  1.706587   \n",
       "3   4.471175  0.429046  ...   0.241442 -2.375626 -2.700000   NaN  0.000000   \n",
       "4   4.638612  0.406763  ...   1.615343 -0.231681 -2.360000  0.00  1.481742   \n",
       "5   3.789750  0.556398  ...   0.528491       NaN  1.222875 -4.17  0.000000   \n",
       "6   3.527021  0.314873  ...   1.258562 -1.247604 -2.830000  0.00  0.622245   \n",
       "7   5.212457  0.161219  ...   0.682886 -0.529378 -1.440000  0.00  0.702726   \n",
       "8   5.236411  0.392811  ...   0.193065 -2.282322 -2.540000  0.00  0.200269   \n",
       "9   4.476550  0.708787  ...   0.380450 -3.133650 -3.710000  0.00  0.875874   \n",
       "10  4.527748  0.611679  ...   1.112997 -3.585325 -5.140000  0.00  1.640098   \n",
       "11  4.746728  0.882435  ...   0.365057 -4.432406 -4.960000  0.00  0.661935   \n",
       "12  5.455311  0.137518  ...   0.162232 -0.689950 -0.900000   NaN  0.000000   \n",
       "13  4.629134  0.421378  ...   0.733381 -1.589003 -2.560000  0.00  0.705845   \n",
       "14  4.680230  0.373601  ...   0.683779 -2.321732 -3.220000  0.00  0.608587   \n",
       "15  4.564902  0.424667  ...   0.990148 -3.202516 -4.510000  0.00  0.928602   \n",
       "\n",
       "          F3       eta        Fe      rhol  rhoh  \n",
       "0  -2.100595  0.310490 -2.186568  0.850000  1.15  \n",
       "1  -1.150650  0.783924 -1.748423  0.850000  1.15  \n",
       "2  -1.134778  1.021095 -2.978815  0.850000  1.15  \n",
       "3   0.265390 -0.152856  0.445470 -2.700000  0.85  \n",
       "4  -1.675615  1.130000 -2.352753  0.850000  1.15  \n",
       "5   3.010561 -2.420128  1.450000 -4.145597  0.25  \n",
       "6  -2.488244  0.785902 -2.824528  0.850000  1.15  \n",
       "7  -0.538766  0.935380 -1.439436  0.850000  1.15  \n",
       "8  -0.148770       NaN  0.391750 -2.539945  0.85  \n",
       "9   0.776222  0.790879 -3.712093  0.850000  1.15  \n",
       "10  0.221375  0.848843 -5.141526  0.850000  1.15  \n",
       "11  0.348147  0.582714 -4.961306  0.850000  1.15  \n",
       "12  0.122838 -0.226010  0.431425 -0.899702  0.85  \n",
       "13 -0.687140  0.694608 -2.559307  0.850000  1.15  \n",
       "14 -0.750710  0.558572 -3.219176  0.850000  1.15  \n",
       "15 -0.981870  0.597133 -4.509025  0.850000  1.15  \n",
       "\n",
       "[16 rows x 25 columns]"
      ]
     },
     "execution_count": 64,
     "metadata": {},
     "output_type": "execute_result"
    }
   ],
   "source": [
    "Zhou"
   ]
  },
  {
   "cell_type": "code",
   "execution_count": 61,
   "metadata": {
    "collapsed": false
   },
   "outputs": [
    {
     "data": {
      "text/plain": [
       "0      611.300593\n",
       "1      758.738167\n",
       "2     1129.491481\n",
       "3      760.806961\n",
       "4      864.761842\n",
       "5     1016.677803\n",
       "6      642.331493\n",
       "7      904.573669\n",
       "8      948.884552\n",
       "9     1362.361073\n",
       "10    1809.457770\n",
       "11    1943.926952\n",
       "12     643.855489\n",
       "13     806.701900\n",
       "14    1243.424147\n",
       "15    1855.154424\n",
       "dtype: float64"
      ]
     },
     "execution_count": 61,
     "metadata": {},
     "output_type": "execute_result"
    }
   ],
   "source": [
    "N_c=8*num.pi*Zhou.fe*(Zhou.re)**3*num.exp(Zhou.beta)/(Zhou.beta)**3\n",
    "N_c"
   ]
  },
  {
   "cell_type": "code",
   "execution_count": 124,
   "metadata": {
    "collapsed": false
   },
   "outputs": [],
   "source": [
    "def fEle(r,n,frame):\n",
    "    data=list(frame.iloc[n])\n",
    "    atom,name,lat,re,fe,rhoe,alpha,beta,A,B,kappa,lam,Fn0,Fn1,Fn2,Fn3,F0,F1,F2,F3,eta,Fe=data\n",
    "    \n",
    "    return fe*num.exp(-beta*(r/re-1))/(1+(r/re-lam)**20)\n",
    "\n",
    "def phiN_(r,n,frame):\n",
    "    data=list(frame.iloc[n])\n",
    "    atom,name,lat,re,fe,rhoe,alpha,beta,A,B,kappa,lam,Fn0,Fn1,Fn2,Fn3,F0,F1,F2,F3,eta,Fe=data\n",
    "    return A*num.exp(-alpha*(r/re-1))/(1+(r/re-kappa)**20)\n",
    "#def phiE(r,q):\n",
    "#    return (1-q/N)*B*num.exp(-beta*(r/re-1))/(1+(r/re-kappa)**20)\n",
    "\n",
    "def phiE_(r,n,frame):\n",
    "    data=list(frame.iloc[n])\n",
    "    atom,name,lat,re,fe,rhoe,alpha,beta,A,B,kappa,lam,Fn0,Fn1,Fn2,Fn3,F0,F1,F2,F3,eta,Fe=data\n",
    "    return B*num.exp(-beta*(r/re-1))/(1+(r/re-kappa)**20)\n",
    "\n",
    "def phiT_(r,n,frame):\n",
    "    return phiN_(r,n,frame)+phiE_(r,n,frame)\n",
    "\n",
    "\n",
    "\n",
    "def F_(rho,n,frame):\n",
    "    func=[]\n",
    "    data=list(frame.iloc[n])\n",
    "    atom,name,lat,re,fe,rhoe,alpha,beta,A,B,kappa,lam,Fn0,Fn1,Fn2,Fn3,F0,F1,F2,F3,eta,Fe=data\n",
    "    rhon=0.85*rhoe\n",
    "    rho0=1.15*rhoe\n",
    "    for var in rho:\n",
    "        if(var<rhon):\n",
    "            func.append(Fn0*(var/rhon-1)**0+Fn1*(var/rhon-1)**1+Fn2*(var/rhon-1)**2+Fn3*(var/rhon-1)**3)\n",
    "        elif (var>=rhon and var<rho0):\n",
    "            func.append(F0*(var/rhoe-1)**0+F1*(var/rhoe-1)**1+F2*(var/rhoe-1)**2+F3*(var/rhoe-1)**3)\n",
    "        else:\n",
    "            func.append(Fe*(1-num.log((var/rhoe)**eta))*(var/rhoe)**eta)\n",
    "    func=num.asarray(func)\n",
    "    return func"
   ]
  },
  {
   "cell_type": "code",
   "execution_count": 192,
   "metadata": {
    "collapsed": false
   },
   "outputs": [
    {
     "ename": "OSError",
     "evalue": "File b'Cu_u3.F.dat' does not exist",
     "output_type": "error",
     "traceback": [
      "\u001b[0;31m---------------------------------------------------------------------------\u001b[0m",
      "\u001b[0;31mOSError\u001b[0m                                   Traceback (most recent call last)",
      "\u001b[0;32m<ipython-input-192-08405a6d3722>\u001b[0m in \u001b[0;36m<module>\u001b[0;34m()\u001b[0m\n\u001b[1;32m      1\u001b[0m \u001b[0mx\u001b[0m\u001b[0;34m=\u001b[0m\u001b[0mnum\u001b[0m\u001b[0;34m.\u001b[0m\u001b[0mlinspace\u001b[0m\u001b[0;34m(\u001b[0m\u001b[0;36m0\u001b[0m\u001b[0;34m,\u001b[0m\u001b[0;36m100\u001b[0m\u001b[0;34m,\u001b[0m\u001b[0;36m1000\u001b[0m\u001b[0;34m)\u001b[0m\u001b[0;34m\u001b[0m\u001b[0m\n\u001b[0;32m----> 2\u001b[0;31m \u001b[0mF\u001b[0m\u001b[0;34m=\u001b[0m\u001b[0mpan\u001b[0m\u001b[0;34m.\u001b[0m\u001b[0mread_csv\u001b[0m\u001b[0;34m(\u001b[0m\u001b[0;34m\"Cu_u3.F.dat\"\u001b[0m\u001b[0;34m,\u001b[0m\u001b[0msep\u001b[0m\u001b[0;34m=\u001b[0m\u001b[0;34m\"\\t\"\u001b[0m\u001b[0;34m,\u001b[0m\u001b[0mnames\u001b[0m\u001b[0;34m=\u001b[0m\u001b[0;34m[\u001b[0m\u001b[0;34m\"rho\"\u001b[0m\u001b[0;34m,\u001b[0m\u001b[0;34m\"F\"\u001b[0m\u001b[0;34m]\u001b[0m\u001b[0;34m)\u001b[0m\u001b[0;34m\u001b[0m\u001b[0m\n\u001b[0m\u001b[1;32m      3\u001b[0m \u001b[0mFFrame\u001b[0m\u001b[0;34m=\u001b[0m\u001b[0mpan\u001b[0m\u001b[0;34m.\u001b[0m\u001b[0mDataFrame\u001b[0m\u001b[0;34m(\u001b[0m\u001b[0mF\u001b[0m\u001b[0;34m)\u001b[0m\u001b[0;34m\u001b[0m\u001b[0m\n\u001b[1;32m      4\u001b[0m \u001b[0mFFunc\u001b[0m\u001b[0;34m=\u001b[0m\u001b[0minterp1d\u001b[0m\u001b[0;34m(\u001b[0m\u001b[0mFFrame\u001b[0m\u001b[0;34m.\u001b[0m\u001b[0mrho\u001b[0m\u001b[0;34m,\u001b[0m\u001b[0mFFrame\u001b[0m\u001b[0;34m.\u001b[0m\u001b[0mF\u001b[0m\u001b[0;34m)\u001b[0m\u001b[0;34m\u001b[0m\u001b[0m\n\u001b[1;32m      5\u001b[0m \u001b[0;31m#lab.plot(FFrame.rho,FFunc(FFrame.rho))\u001b[0m\u001b[0;34m\u001b[0m\u001b[0;34m\u001b[0m\u001b[0m\n",
      "\u001b[0;32m/home/hbhattar/anaconda3/lib/python3.5/site-packages/pandas/io/parsers.py\u001b[0m in \u001b[0;36mparser_f\u001b[0;34m(filepath_or_buffer, sep, delimiter, header, names, index_col, usecols, squeeze, prefix, mangle_dupe_cols, dtype, engine, converters, true_values, false_values, skipinitialspace, skiprows, skipfooter, nrows, na_values, keep_default_na, na_filter, verbose, skip_blank_lines, parse_dates, infer_datetime_format, keep_date_col, date_parser, dayfirst, iterator, chunksize, compression, thousands, decimal, lineterminator, quotechar, quoting, escapechar, comment, encoding, dialect, tupleize_cols, error_bad_lines, warn_bad_lines, skip_footer, doublequote, delim_whitespace, as_recarray, compact_ints, use_unsigned, low_memory, buffer_lines, memory_map, float_precision)\u001b[0m\n\u001b[1;32m    560\u001b[0m                     skip_blank_lines=skip_blank_lines)\n\u001b[1;32m    561\u001b[0m \u001b[0;34m\u001b[0m\u001b[0m\n\u001b[0;32m--> 562\u001b[0;31m         \u001b[0;32mreturn\u001b[0m \u001b[0m_read\u001b[0m\u001b[0;34m(\u001b[0m\u001b[0mfilepath_or_buffer\u001b[0m\u001b[0;34m,\u001b[0m \u001b[0mkwds\u001b[0m\u001b[0;34m)\u001b[0m\u001b[0;34m\u001b[0m\u001b[0m\n\u001b[0m\u001b[1;32m    563\u001b[0m \u001b[0;34m\u001b[0m\u001b[0m\n\u001b[1;32m    564\u001b[0m     \u001b[0mparser_f\u001b[0m\u001b[0;34m.\u001b[0m\u001b[0m__name__\u001b[0m \u001b[0;34m=\u001b[0m \u001b[0mname\u001b[0m\u001b[0;34m\u001b[0m\u001b[0m\n",
      "\u001b[0;32m/home/hbhattar/anaconda3/lib/python3.5/site-packages/pandas/io/parsers.py\u001b[0m in \u001b[0;36m_read\u001b[0;34m(filepath_or_buffer, kwds)\u001b[0m\n\u001b[1;32m    313\u001b[0m \u001b[0;34m\u001b[0m\u001b[0m\n\u001b[1;32m    314\u001b[0m     \u001b[0;31m# Create the parser.\u001b[0m\u001b[0;34m\u001b[0m\u001b[0;34m\u001b[0m\u001b[0m\n\u001b[0;32m--> 315\u001b[0;31m     \u001b[0mparser\u001b[0m \u001b[0;34m=\u001b[0m \u001b[0mTextFileReader\u001b[0m\u001b[0;34m(\u001b[0m\u001b[0mfilepath_or_buffer\u001b[0m\u001b[0;34m,\u001b[0m \u001b[0;34m**\u001b[0m\u001b[0mkwds\u001b[0m\u001b[0;34m)\u001b[0m\u001b[0;34m\u001b[0m\u001b[0m\n\u001b[0m\u001b[1;32m    316\u001b[0m \u001b[0;34m\u001b[0m\u001b[0m\n\u001b[1;32m    317\u001b[0m     \u001b[0;32mif\u001b[0m \u001b[0;34m(\u001b[0m\u001b[0mnrows\u001b[0m \u001b[0;32mis\u001b[0m \u001b[0;32mnot\u001b[0m \u001b[0;32mNone\u001b[0m\u001b[0;34m)\u001b[0m \u001b[0;32mand\u001b[0m \u001b[0;34m(\u001b[0m\u001b[0mchunksize\u001b[0m \u001b[0;32mis\u001b[0m \u001b[0;32mnot\u001b[0m \u001b[0;32mNone\u001b[0m\u001b[0;34m)\u001b[0m\u001b[0;34m:\u001b[0m\u001b[0;34m\u001b[0m\u001b[0m\n",
      "\u001b[0;32m/home/hbhattar/anaconda3/lib/python3.5/site-packages/pandas/io/parsers.py\u001b[0m in \u001b[0;36m__init__\u001b[0;34m(self, f, engine, **kwds)\u001b[0m\n\u001b[1;32m    643\u001b[0m             \u001b[0mself\u001b[0m\u001b[0;34m.\u001b[0m\u001b[0moptions\u001b[0m\u001b[0;34m[\u001b[0m\u001b[0;34m'has_index_names'\u001b[0m\u001b[0;34m]\u001b[0m \u001b[0;34m=\u001b[0m \u001b[0mkwds\u001b[0m\u001b[0;34m[\u001b[0m\u001b[0;34m'has_index_names'\u001b[0m\u001b[0;34m]\u001b[0m\u001b[0;34m\u001b[0m\u001b[0m\n\u001b[1;32m    644\u001b[0m \u001b[0;34m\u001b[0m\u001b[0m\n\u001b[0;32m--> 645\u001b[0;31m         \u001b[0mself\u001b[0m\u001b[0;34m.\u001b[0m\u001b[0m_make_engine\u001b[0m\u001b[0;34m(\u001b[0m\u001b[0mself\u001b[0m\u001b[0;34m.\u001b[0m\u001b[0mengine\u001b[0m\u001b[0;34m)\u001b[0m\u001b[0;34m\u001b[0m\u001b[0m\n\u001b[0m\u001b[1;32m    646\u001b[0m \u001b[0;34m\u001b[0m\u001b[0m\n\u001b[1;32m    647\u001b[0m     \u001b[0;32mdef\u001b[0m \u001b[0mclose\u001b[0m\u001b[0;34m(\u001b[0m\u001b[0mself\u001b[0m\u001b[0;34m)\u001b[0m\u001b[0;34m:\u001b[0m\u001b[0;34m\u001b[0m\u001b[0m\n",
      "\u001b[0;32m/home/hbhattar/anaconda3/lib/python3.5/site-packages/pandas/io/parsers.py\u001b[0m in \u001b[0;36m_make_engine\u001b[0;34m(self, engine)\u001b[0m\n\u001b[1;32m    797\u001b[0m     \u001b[0;32mdef\u001b[0m \u001b[0m_make_engine\u001b[0m\u001b[0;34m(\u001b[0m\u001b[0mself\u001b[0m\u001b[0;34m,\u001b[0m \u001b[0mengine\u001b[0m\u001b[0;34m=\u001b[0m\u001b[0;34m'c'\u001b[0m\u001b[0;34m)\u001b[0m\u001b[0;34m:\u001b[0m\u001b[0;34m\u001b[0m\u001b[0m\n\u001b[1;32m    798\u001b[0m         \u001b[0;32mif\u001b[0m \u001b[0mengine\u001b[0m \u001b[0;34m==\u001b[0m \u001b[0;34m'c'\u001b[0m\u001b[0;34m:\u001b[0m\u001b[0;34m\u001b[0m\u001b[0m\n\u001b[0;32m--> 799\u001b[0;31m             \u001b[0mself\u001b[0m\u001b[0;34m.\u001b[0m\u001b[0m_engine\u001b[0m \u001b[0;34m=\u001b[0m \u001b[0mCParserWrapper\u001b[0m\u001b[0;34m(\u001b[0m\u001b[0mself\u001b[0m\u001b[0;34m.\u001b[0m\u001b[0mf\u001b[0m\u001b[0;34m,\u001b[0m \u001b[0;34m**\u001b[0m\u001b[0mself\u001b[0m\u001b[0;34m.\u001b[0m\u001b[0moptions\u001b[0m\u001b[0;34m)\u001b[0m\u001b[0;34m\u001b[0m\u001b[0m\n\u001b[0m\u001b[1;32m    800\u001b[0m         \u001b[0;32melse\u001b[0m\u001b[0;34m:\u001b[0m\u001b[0;34m\u001b[0m\u001b[0m\n\u001b[1;32m    801\u001b[0m             \u001b[0;32mif\u001b[0m \u001b[0mengine\u001b[0m \u001b[0;34m==\u001b[0m \u001b[0;34m'python'\u001b[0m\u001b[0;34m:\u001b[0m\u001b[0;34m\u001b[0m\u001b[0m\n",
      "\u001b[0;32m/home/hbhattar/anaconda3/lib/python3.5/site-packages/pandas/io/parsers.py\u001b[0m in \u001b[0;36m__init__\u001b[0;34m(self, src, **kwds)\u001b[0m\n\u001b[1;32m   1211\u001b[0m         \u001b[0mkwds\u001b[0m\u001b[0;34m[\u001b[0m\u001b[0;34m'allow_leading_cols'\u001b[0m\u001b[0;34m]\u001b[0m \u001b[0;34m=\u001b[0m \u001b[0mself\u001b[0m\u001b[0;34m.\u001b[0m\u001b[0mindex_col\u001b[0m \u001b[0;32mis\u001b[0m \u001b[0;32mnot\u001b[0m \u001b[0;32mFalse\u001b[0m\u001b[0;34m\u001b[0m\u001b[0m\n\u001b[1;32m   1212\u001b[0m \u001b[0;34m\u001b[0m\u001b[0m\n\u001b[0;32m-> 1213\u001b[0;31m         \u001b[0mself\u001b[0m\u001b[0;34m.\u001b[0m\u001b[0m_reader\u001b[0m \u001b[0;34m=\u001b[0m \u001b[0m_parser\u001b[0m\u001b[0;34m.\u001b[0m\u001b[0mTextReader\u001b[0m\u001b[0;34m(\u001b[0m\u001b[0msrc\u001b[0m\u001b[0;34m,\u001b[0m \u001b[0;34m**\u001b[0m\u001b[0mkwds\u001b[0m\u001b[0;34m)\u001b[0m\u001b[0;34m\u001b[0m\u001b[0m\n\u001b[0m\u001b[1;32m   1214\u001b[0m \u001b[0;34m\u001b[0m\u001b[0m\n\u001b[1;32m   1215\u001b[0m         \u001b[0;31m# XXX\u001b[0m\u001b[0;34m\u001b[0m\u001b[0;34m\u001b[0m\u001b[0m\n",
      "\u001b[0;32mpandas/parser.pyx\u001b[0m in \u001b[0;36mpandas.parser.TextReader.__cinit__ (pandas/parser.c:3427)\u001b[0;34m()\u001b[0m\n",
      "\u001b[0;32mpandas/parser.pyx\u001b[0m in \u001b[0;36mpandas.parser.TextReader._setup_parser_source (pandas/parser.c:6861)\u001b[0;34m()\u001b[0m\n",
      "\u001b[0;31mOSError\u001b[0m: File b'Cu_u3.F.dat' does not exist"
     ]
    }
   ],
   "source": [
    "x=num.linspace(0,100,1000)\n",
    "F=pan.read_csv(\"Cu_u3.F.dat\",sep=\"\\t\",names=[\"rho\",\"F\"])\n",
    "FFrame=pan.DataFrame(F)\n",
    "FFunc=interp1d(FFrame.rho,FFrame.F)\n",
    "#lab.plot(FFrame.rho,FFunc(FFrame.rho))\n",
    "var=0\n",
    "#lab.plot(x,F_(x,var,Zhou),label=Zhou.atom[var])\n",
    "lab.plot(x,F_(x,var,Zhou),FFrame.rho,FFunc(FFrame.rho))\n",
    "\n",
    "#lab.legend(loc=1)\n",
    "lab.xlim([0,0.2])\n",
    "#lab.ylim([-5,0])\n",
    "lab.savefig(\"fele.pdf\")\n",
    "lab.show()"
   ]
  },
  {
   "cell_type": "code",
   "execution_count": 193,
   "metadata": {
    "collapsed": false
   },
   "outputs": [
    {
     "ename": "NameError",
     "evalue": "name 'Zhou' is not defined",
     "output_type": "error",
     "traceback": [
      "\u001b[0;31m---------------------------------------------------------------------------\u001b[0m",
      "\u001b[0;31mNameError\u001b[0m                                 Traceback (most recent call last)",
      "\u001b[0;32m<ipython-input-193-35eee9a2ae11>\u001b[0m in \u001b[0;36m<module>\u001b[0;34m()\u001b[0m\n\u001b[1;32m      1\u001b[0m \u001b[0;32mfor\u001b[0m \u001b[0mvar\u001b[0m \u001b[0;32min\u001b[0m \u001b[0;34m[\u001b[0m\u001b[0;36m0\u001b[0m\u001b[0;34m]\u001b[0m\u001b[0;34m:\u001b[0m\u001b[0;34m\u001b[0m\u001b[0m\n\u001b[0;32m----> 2\u001b[0;31m     \u001b[0mlab\u001b[0m\u001b[0;34m.\u001b[0m\u001b[0mplot\u001b[0m\u001b[0;34m(\u001b[0m\u001b[0mx\u001b[0m\u001b[0;34m,\u001b[0m\u001b[0mphiT_\u001b[0m\u001b[0;34m(\u001b[0m\u001b[0mx\u001b[0m\u001b[0;34m,\u001b[0m\u001b[0mvar\u001b[0m\u001b[0;34m,\u001b[0m\u001b[0mZhou\u001b[0m\u001b[0;34m)\u001b[0m\u001b[0;34m,\u001b[0m\u001b[0mlabel\u001b[0m\u001b[0;34m=\u001b[0m\u001b[0mZhou\u001b[0m\u001b[0;34m.\u001b[0m\u001b[0matom\u001b[0m\u001b[0;34m[\u001b[0m\u001b[0mvar\u001b[0m\u001b[0;34m]\u001b[0m\u001b[0;34m)\u001b[0m\u001b[0;34m\u001b[0m\u001b[0m\n\u001b[0m\u001b[1;32m      3\u001b[0m \u001b[0;34m\u001b[0m\u001b[0m\n\u001b[1;32m      4\u001b[0m \u001b[0mlab\u001b[0m\u001b[0;34m.\u001b[0m\u001b[0mlegend\u001b[0m\u001b[0;34m(\u001b[0m\u001b[0mloc\u001b[0m\u001b[0;34m=\u001b[0m\u001b[0;36m1\u001b[0m\u001b[0;34m)\u001b[0m\u001b[0;34m\u001b[0m\u001b[0m\n\u001b[1;32m      5\u001b[0m \u001b[0mlab\u001b[0m\u001b[0;34m.\u001b[0m\u001b[0mxlim\u001b[0m\u001b[0;34m(\u001b[0m\u001b[0;34m[\u001b[0m\u001b[0;36m0\u001b[0m\u001b[0;34m,\u001b[0m\u001b[0;36m5\u001b[0m\u001b[0;34m]\u001b[0m\u001b[0;34m)\u001b[0m\u001b[0;34m\u001b[0m\u001b[0m\n",
      "\u001b[0;31mNameError\u001b[0m: name 'Zhou' is not defined"
     ]
    }
   ],
   "source": [
    "for var in [0]:\n",
    "    lab.plot(x,phiT_(x,var,Zhou),label=Zhou.atom[var])\n",
    "\n",
    "lab.legend(loc=1)\n",
    "lab.xlim([0,5])    \n",
    "lab.show()"
   ]
  },
  {
   "cell_type": "code",
   "execution_count": 194,
   "metadata": {
    "collapsed": false
   },
   "outputs": [
    {
     "ename": "NameError",
     "evalue": "name 'Zhou' is not defined",
     "output_type": "error",
     "traceback": [
      "\u001b[0;31m---------------------------------------------------------------------------\u001b[0m",
      "\u001b[0;31mNameError\u001b[0m                                 Traceback (most recent call last)",
      "\u001b[0;32m<ipython-input-194-dcea929d3ebf>\u001b[0m in \u001b[0;36m<module>\u001b[0;34m()\u001b[0m\n\u001b[1;32m      1\u001b[0m \u001b[0;32mfor\u001b[0m \u001b[0matoms\u001b[0m \u001b[0;32min\u001b[0m \u001b[0;34m[\u001b[0m\u001b[0;36m5\u001b[0m\u001b[0;34m]\u001b[0m\u001b[0;34m:\u001b[0m\u001b[0;34m\u001b[0m\u001b[0m\n\u001b[0;32m----> 2\u001b[0;31m     \u001b[0mlab\u001b[0m\u001b[0;34m.\u001b[0m\u001b[0mplot\u001b[0m\u001b[0;34m(\u001b[0m\u001b[0mx\u001b[0m\u001b[0;34m,\u001b[0m\u001b[0mfEle\u001b[0m\u001b[0;34m(\u001b[0m\u001b[0mx\u001b[0m\u001b[0;34m,\u001b[0m\u001b[0matoms\u001b[0m\u001b[0;34m,\u001b[0m\u001b[0mZhou\u001b[0m\u001b[0;34m)\u001b[0m\u001b[0;34m,\u001b[0m\u001b[0mlabel\u001b[0m\u001b[0;34m=\u001b[0m\u001b[0mZhou\u001b[0m\u001b[0;34m.\u001b[0m\u001b[0matom\u001b[0m\u001b[0;34m[\u001b[0m\u001b[0matoms\u001b[0m\u001b[0;34m]\u001b[0m\u001b[0;34m)\u001b[0m\u001b[0;34m\u001b[0m\u001b[0m\n\u001b[0m\u001b[1;32m      3\u001b[0m \u001b[0;34m\u001b[0m\u001b[0m\n\u001b[1;32m      4\u001b[0m \u001b[0mlab\u001b[0m\u001b[0;34m.\u001b[0m\u001b[0mlegend\u001b[0m\u001b[0;34m(\u001b[0m\u001b[0mloc\u001b[0m\u001b[0;34m=\u001b[0m\u001b[0;36m1\u001b[0m\u001b[0;34m)\u001b[0m\u001b[0;34m\u001b[0m\u001b[0m\n\u001b[1;32m      5\u001b[0m \u001b[0mlab\u001b[0m\u001b[0;34m.\u001b[0m\u001b[0mxlim\u001b[0m\u001b[0;34m(\u001b[0m\u001b[0;34m[\u001b[0m\u001b[0;36m0\u001b[0m\u001b[0;34m,\u001b[0m\u001b[0;36m5\u001b[0m\u001b[0;34m]\u001b[0m\u001b[0;34m)\u001b[0m\u001b[0;34m\u001b[0m\u001b[0m\n",
      "\u001b[0;31mNameError\u001b[0m: name 'Zhou' is not defined"
     ]
    }
   ],
   "source": [
    "for atoms in [5]:\n",
    "    lab.plot(x,fEle(x,atoms,Zhou),label=Zhou.atom[atoms])\n",
    "\n",
    "lab.legend(loc=1)\n",
    "lab.xlim([0,5])\n",
    "#lab.ylim([-1,0])\n",
    "lab.show()"
   ]
  },
  {
   "cell_type": "code",
   "execution_count": 195,
   "metadata": {
    "collapsed": false
   },
   "outputs": [],
   "source": [
    "def Energy(x,n,frame):\n",
    "    density=12*fEle(x,n,frame)\n",
    "    potential=12*phiT_(x,n,frame)\n",
    "    embedded=F_(density,n,frame)\n",
    "    return potential+embedded"
   ]
  },
  {
   "cell_type": "code",
   "execution_count": 196,
   "metadata": {
    "collapsed": false
   },
   "outputs": [
    {
     "ename": "NameError",
     "evalue": "name 'Zhou' is not defined",
     "output_type": "error",
     "traceback": [
      "\u001b[0;31m---------------------------------------------------------------------------\u001b[0m",
      "\u001b[0;31mNameError\u001b[0m                                 Traceback (most recent call last)",
      "\u001b[0;32m<ipython-input-196-6875071138e6>\u001b[0m in \u001b[0;36m<module>\u001b[0;34m()\u001b[0m\n\u001b[1;32m      1\u001b[0m \u001b[0;32mfor\u001b[0m \u001b[0matoms\u001b[0m \u001b[0;32min\u001b[0m \u001b[0mrange\u001b[0m\u001b[0;34m(\u001b[0m\u001b[0;36m5\u001b[0m\u001b[0;34m,\u001b[0m\u001b[0;36m6\u001b[0m\u001b[0;34m)\u001b[0m\u001b[0;34m:\u001b[0m\u001b[0;34m\u001b[0m\u001b[0m\n\u001b[0;32m----> 2\u001b[0;31m     \u001b[0mlab\u001b[0m\u001b[0;34m.\u001b[0m\u001b[0mplot\u001b[0m\u001b[0;34m(\u001b[0m\u001b[0mx\u001b[0m\u001b[0;34m,\u001b[0m\u001b[0mEnergy\u001b[0m\u001b[0;34m(\u001b[0m\u001b[0mx\u001b[0m\u001b[0;34m,\u001b[0m\u001b[0matoms\u001b[0m\u001b[0;34m,\u001b[0m\u001b[0mZhou\u001b[0m\u001b[0;34m)\u001b[0m\u001b[0;34m,\u001b[0m\u001b[0mlabel\u001b[0m\u001b[0;34m=\u001b[0m\u001b[0mZhou\u001b[0m\u001b[0;34m.\u001b[0m\u001b[0matom\u001b[0m\u001b[0;34m[\u001b[0m\u001b[0matoms\u001b[0m\u001b[0;34m]\u001b[0m\u001b[0;34m)\u001b[0m\u001b[0;34m\u001b[0m\u001b[0m\n\u001b[0m\u001b[1;32m      3\u001b[0m \u001b[0;34m\u001b[0m\u001b[0m\n\u001b[1;32m      4\u001b[0m \u001b[0mlab\u001b[0m\u001b[0;34m.\u001b[0m\u001b[0mlegend\u001b[0m\u001b[0;34m(\u001b[0m\u001b[0mloc\u001b[0m\u001b[0;34m=\u001b[0m\u001b[0;36m1\u001b[0m\u001b[0;34m)\u001b[0m\u001b[0;34m\u001b[0m\u001b[0m\n\u001b[1;32m      5\u001b[0m \u001b[0mlab\u001b[0m\u001b[0;34m.\u001b[0m\u001b[0mylim\u001b[0m\u001b[0;34m(\u001b[0m\u001b[0;34m[\u001b[0m\u001b[0;34m-\u001b[0m\u001b[0;36m1\u001b[0m\u001b[0;34m,\u001b[0m\u001b[0;36m2\u001b[0m\u001b[0;34m]\u001b[0m\u001b[0;34m)\u001b[0m\u001b[0;34m\u001b[0m\u001b[0m\n",
      "\u001b[0;31mNameError\u001b[0m: name 'Zhou' is not defined"
     ]
    }
   ],
   "source": [
    "for atoms in range(5,6):\n",
    "    lab.plot(x,Energy(x,atoms,Zhou),label=Zhou.atom[atoms])\n",
    "\n",
    "lab.legend(loc=1)\n",
    "lab.ylim([-1,2])\n",
    "lab.xlim([3,6]) \n",
    "lab.show()"
   ]
  },
  {
   "cell_type": "code",
   "execution_count": 197,
   "metadata": {
    "collapsed": false
   },
   "outputs": [
    {
     "ename": "OSError",
     "evalue": "File b'Pt.u3.Z.dat' does not exist",
     "output_type": "error",
     "traceback": [
      "\u001b[0;31m---------------------------------------------------------------------------\u001b[0m",
      "\u001b[0;31mOSError\u001b[0m                                   Traceback (most recent call last)",
      "\u001b[0;32m<ipython-input-197-feee1a45636d>\u001b[0m in \u001b[0;36m<module>\u001b[0;34m()\u001b[0m\n\u001b[1;32m      1\u001b[0m \u001b[0;32mfrom\u001b[0m \u001b[0mscipy\u001b[0m\u001b[0;34m.\u001b[0m\u001b[0minterpolate\u001b[0m \u001b[0;32mimport\u001b[0m \u001b[0minterp1d\u001b[0m\u001b[0;34m\u001b[0m\u001b[0m\n\u001b[0;32m----> 2\u001b[0;31m \u001b[0mZ\u001b[0m\u001b[0;34m=\u001b[0m\u001b[0mpan\u001b[0m\u001b[0;34m.\u001b[0m\u001b[0mread_csv\u001b[0m\u001b[0;34m(\u001b[0m\u001b[0;34m\"Pt.u3.Z.dat\"\u001b[0m\u001b[0;34m,\u001b[0m\u001b[0msep\u001b[0m\u001b[0;34m=\u001b[0m\u001b[0;34m\"\\t\"\u001b[0m\u001b[0;34m,\u001b[0m\u001b[0mnames\u001b[0m\u001b[0;34m=\u001b[0m\u001b[0;34m[\u001b[0m\u001b[0;34m\"r\"\u001b[0m\u001b[0;34m,\u001b[0m\u001b[0;34m\"Z\"\u001b[0m\u001b[0;34m]\u001b[0m\u001b[0;34m)\u001b[0m\u001b[0;34m\u001b[0m\u001b[0m\n\u001b[0m\u001b[1;32m      3\u001b[0m \u001b[0mZFrame\u001b[0m\u001b[0;34m=\u001b[0m\u001b[0mpan\u001b[0m\u001b[0;34m.\u001b[0m\u001b[0mDataFrame\u001b[0m\u001b[0;34m(\u001b[0m\u001b[0mZ\u001b[0m\u001b[0;34m)\u001b[0m\u001b[0;34m\u001b[0m\u001b[0m\n\u001b[1;32m      4\u001b[0m \u001b[0mZFunc\u001b[0m \u001b[0;34m=\u001b[0m \u001b[0minterp1d\u001b[0m\u001b[0;34m(\u001b[0m\u001b[0mZFrame\u001b[0m\u001b[0;34m.\u001b[0m\u001b[0mr\u001b[0m\u001b[0;34m,\u001b[0m \u001b[0mZFrame\u001b[0m\u001b[0;34m.\u001b[0m\u001b[0mZ\u001b[0m\u001b[0;34m,\u001b[0m \u001b[0mkind\u001b[0m\u001b[0;34m=\u001b[0m\u001b[0;34m'cubic'\u001b[0m\u001b[0;34m)\u001b[0m\u001b[0;34m\u001b[0m\u001b[0m\n\u001b[1;32m      5\u001b[0m \u001b[0mlab\u001b[0m\u001b[0;34m.\u001b[0m\u001b[0mplot\u001b[0m\u001b[0;34m(\u001b[0m\u001b[0mZFrame\u001b[0m\u001b[0;34m.\u001b[0m\u001b[0mr\u001b[0m\u001b[0;34m,\u001b[0m\u001b[0mZFunc\u001b[0m\u001b[0;34m(\u001b[0m\u001b[0mZFrame\u001b[0m\u001b[0;34m.\u001b[0m\u001b[0mr\u001b[0m\u001b[0;34m)\u001b[0m\u001b[0;34m)\u001b[0m\u001b[0;34m\u001b[0m\u001b[0m\n",
      "\u001b[0;32m/home/hbhattar/anaconda3/lib/python3.5/site-packages/pandas/io/parsers.py\u001b[0m in \u001b[0;36mparser_f\u001b[0;34m(filepath_or_buffer, sep, delimiter, header, names, index_col, usecols, squeeze, prefix, mangle_dupe_cols, dtype, engine, converters, true_values, false_values, skipinitialspace, skiprows, skipfooter, nrows, na_values, keep_default_na, na_filter, verbose, skip_blank_lines, parse_dates, infer_datetime_format, keep_date_col, date_parser, dayfirst, iterator, chunksize, compression, thousands, decimal, lineterminator, quotechar, quoting, escapechar, comment, encoding, dialect, tupleize_cols, error_bad_lines, warn_bad_lines, skip_footer, doublequote, delim_whitespace, as_recarray, compact_ints, use_unsigned, low_memory, buffer_lines, memory_map, float_precision)\u001b[0m\n\u001b[1;32m    560\u001b[0m                     skip_blank_lines=skip_blank_lines)\n\u001b[1;32m    561\u001b[0m \u001b[0;34m\u001b[0m\u001b[0m\n\u001b[0;32m--> 562\u001b[0;31m         \u001b[0;32mreturn\u001b[0m \u001b[0m_read\u001b[0m\u001b[0;34m(\u001b[0m\u001b[0mfilepath_or_buffer\u001b[0m\u001b[0;34m,\u001b[0m \u001b[0mkwds\u001b[0m\u001b[0;34m)\u001b[0m\u001b[0;34m\u001b[0m\u001b[0m\n\u001b[0m\u001b[1;32m    563\u001b[0m \u001b[0;34m\u001b[0m\u001b[0m\n\u001b[1;32m    564\u001b[0m     \u001b[0mparser_f\u001b[0m\u001b[0;34m.\u001b[0m\u001b[0m__name__\u001b[0m \u001b[0;34m=\u001b[0m \u001b[0mname\u001b[0m\u001b[0;34m\u001b[0m\u001b[0m\n",
      "\u001b[0;32m/home/hbhattar/anaconda3/lib/python3.5/site-packages/pandas/io/parsers.py\u001b[0m in \u001b[0;36m_read\u001b[0;34m(filepath_or_buffer, kwds)\u001b[0m\n\u001b[1;32m    313\u001b[0m \u001b[0;34m\u001b[0m\u001b[0m\n\u001b[1;32m    314\u001b[0m     \u001b[0;31m# Create the parser.\u001b[0m\u001b[0;34m\u001b[0m\u001b[0;34m\u001b[0m\u001b[0m\n\u001b[0;32m--> 315\u001b[0;31m     \u001b[0mparser\u001b[0m \u001b[0;34m=\u001b[0m \u001b[0mTextFileReader\u001b[0m\u001b[0;34m(\u001b[0m\u001b[0mfilepath_or_buffer\u001b[0m\u001b[0;34m,\u001b[0m \u001b[0;34m**\u001b[0m\u001b[0mkwds\u001b[0m\u001b[0;34m)\u001b[0m\u001b[0;34m\u001b[0m\u001b[0m\n\u001b[0m\u001b[1;32m    316\u001b[0m \u001b[0;34m\u001b[0m\u001b[0m\n\u001b[1;32m    317\u001b[0m     \u001b[0;32mif\u001b[0m \u001b[0;34m(\u001b[0m\u001b[0mnrows\u001b[0m \u001b[0;32mis\u001b[0m \u001b[0;32mnot\u001b[0m \u001b[0;32mNone\u001b[0m\u001b[0;34m)\u001b[0m \u001b[0;32mand\u001b[0m \u001b[0;34m(\u001b[0m\u001b[0mchunksize\u001b[0m \u001b[0;32mis\u001b[0m \u001b[0;32mnot\u001b[0m \u001b[0;32mNone\u001b[0m\u001b[0;34m)\u001b[0m\u001b[0;34m:\u001b[0m\u001b[0;34m\u001b[0m\u001b[0m\n",
      "\u001b[0;32m/home/hbhattar/anaconda3/lib/python3.5/site-packages/pandas/io/parsers.py\u001b[0m in \u001b[0;36m__init__\u001b[0;34m(self, f, engine, **kwds)\u001b[0m\n\u001b[1;32m    643\u001b[0m             \u001b[0mself\u001b[0m\u001b[0;34m.\u001b[0m\u001b[0moptions\u001b[0m\u001b[0;34m[\u001b[0m\u001b[0;34m'has_index_names'\u001b[0m\u001b[0;34m]\u001b[0m \u001b[0;34m=\u001b[0m \u001b[0mkwds\u001b[0m\u001b[0;34m[\u001b[0m\u001b[0;34m'has_index_names'\u001b[0m\u001b[0;34m]\u001b[0m\u001b[0;34m\u001b[0m\u001b[0m\n\u001b[1;32m    644\u001b[0m \u001b[0;34m\u001b[0m\u001b[0m\n\u001b[0;32m--> 645\u001b[0;31m         \u001b[0mself\u001b[0m\u001b[0;34m.\u001b[0m\u001b[0m_make_engine\u001b[0m\u001b[0;34m(\u001b[0m\u001b[0mself\u001b[0m\u001b[0;34m.\u001b[0m\u001b[0mengine\u001b[0m\u001b[0;34m)\u001b[0m\u001b[0;34m\u001b[0m\u001b[0m\n\u001b[0m\u001b[1;32m    646\u001b[0m \u001b[0;34m\u001b[0m\u001b[0m\n\u001b[1;32m    647\u001b[0m     \u001b[0;32mdef\u001b[0m \u001b[0mclose\u001b[0m\u001b[0;34m(\u001b[0m\u001b[0mself\u001b[0m\u001b[0;34m)\u001b[0m\u001b[0;34m:\u001b[0m\u001b[0;34m\u001b[0m\u001b[0m\n",
      "\u001b[0;32m/home/hbhattar/anaconda3/lib/python3.5/site-packages/pandas/io/parsers.py\u001b[0m in \u001b[0;36m_make_engine\u001b[0;34m(self, engine)\u001b[0m\n\u001b[1;32m    797\u001b[0m     \u001b[0;32mdef\u001b[0m \u001b[0m_make_engine\u001b[0m\u001b[0;34m(\u001b[0m\u001b[0mself\u001b[0m\u001b[0;34m,\u001b[0m \u001b[0mengine\u001b[0m\u001b[0;34m=\u001b[0m\u001b[0;34m'c'\u001b[0m\u001b[0;34m)\u001b[0m\u001b[0;34m:\u001b[0m\u001b[0;34m\u001b[0m\u001b[0m\n\u001b[1;32m    798\u001b[0m         \u001b[0;32mif\u001b[0m \u001b[0mengine\u001b[0m \u001b[0;34m==\u001b[0m \u001b[0;34m'c'\u001b[0m\u001b[0;34m:\u001b[0m\u001b[0;34m\u001b[0m\u001b[0m\n\u001b[0;32m--> 799\u001b[0;31m             \u001b[0mself\u001b[0m\u001b[0;34m.\u001b[0m\u001b[0m_engine\u001b[0m \u001b[0;34m=\u001b[0m \u001b[0mCParserWrapper\u001b[0m\u001b[0;34m(\u001b[0m\u001b[0mself\u001b[0m\u001b[0;34m.\u001b[0m\u001b[0mf\u001b[0m\u001b[0;34m,\u001b[0m \u001b[0;34m**\u001b[0m\u001b[0mself\u001b[0m\u001b[0;34m.\u001b[0m\u001b[0moptions\u001b[0m\u001b[0;34m)\u001b[0m\u001b[0;34m\u001b[0m\u001b[0m\n\u001b[0m\u001b[1;32m    800\u001b[0m         \u001b[0;32melse\u001b[0m\u001b[0;34m:\u001b[0m\u001b[0;34m\u001b[0m\u001b[0m\n\u001b[1;32m    801\u001b[0m             \u001b[0;32mif\u001b[0m \u001b[0mengine\u001b[0m \u001b[0;34m==\u001b[0m \u001b[0;34m'python'\u001b[0m\u001b[0;34m:\u001b[0m\u001b[0;34m\u001b[0m\u001b[0m\n",
      "\u001b[0;32m/home/hbhattar/anaconda3/lib/python3.5/site-packages/pandas/io/parsers.py\u001b[0m in \u001b[0;36m__init__\u001b[0;34m(self, src, **kwds)\u001b[0m\n\u001b[1;32m   1211\u001b[0m         \u001b[0mkwds\u001b[0m\u001b[0;34m[\u001b[0m\u001b[0;34m'allow_leading_cols'\u001b[0m\u001b[0;34m]\u001b[0m \u001b[0;34m=\u001b[0m \u001b[0mself\u001b[0m\u001b[0;34m.\u001b[0m\u001b[0mindex_col\u001b[0m \u001b[0;32mis\u001b[0m \u001b[0;32mnot\u001b[0m \u001b[0;32mFalse\u001b[0m\u001b[0;34m\u001b[0m\u001b[0m\n\u001b[1;32m   1212\u001b[0m \u001b[0;34m\u001b[0m\u001b[0m\n\u001b[0;32m-> 1213\u001b[0;31m         \u001b[0mself\u001b[0m\u001b[0;34m.\u001b[0m\u001b[0m_reader\u001b[0m \u001b[0;34m=\u001b[0m \u001b[0m_parser\u001b[0m\u001b[0;34m.\u001b[0m\u001b[0mTextReader\u001b[0m\u001b[0;34m(\u001b[0m\u001b[0msrc\u001b[0m\u001b[0;34m,\u001b[0m \u001b[0;34m**\u001b[0m\u001b[0mkwds\u001b[0m\u001b[0;34m)\u001b[0m\u001b[0;34m\u001b[0m\u001b[0m\n\u001b[0m\u001b[1;32m   1214\u001b[0m \u001b[0;34m\u001b[0m\u001b[0m\n\u001b[1;32m   1215\u001b[0m         \u001b[0;31m# XXX\u001b[0m\u001b[0;34m\u001b[0m\u001b[0;34m\u001b[0m\u001b[0m\n",
      "\u001b[0;32mpandas/parser.pyx\u001b[0m in \u001b[0;36mpandas.parser.TextReader.__cinit__ (pandas/parser.c:3427)\u001b[0;34m()\u001b[0m\n",
      "\u001b[0;32mpandas/parser.pyx\u001b[0m in \u001b[0;36mpandas.parser.TextReader._setup_parser_source (pandas/parser.c:6861)\u001b[0;34m()\u001b[0m\n",
      "\u001b[0;31mOSError\u001b[0m: File b'Pt.u3.Z.dat' does not exist"
     ]
    }
   ],
   "source": [
    "from scipy.interpolate import interp1d\n",
    "Z=pan.read_csv(\"Pt.u3.Z.dat\",sep=\"\\t\",names=[\"r\",\"Z\"])\n",
    "ZFrame=pan.DataFrame(Z)\n",
    "ZFunc = interp1d(ZFrame.r, ZFrame.Z, kind='cubic')\n",
    "lab.plot(ZFrame.r,ZFunc(ZFrame.r))"
   ]
  },
  {
   "cell_type": "code",
   "execution_count": 198,
   "metadata": {
    "collapsed": false
   },
   "outputs": [
    {
     "ename": "OSError",
     "evalue": "File b'Cu_u3.F.dat' does not exist",
     "output_type": "error",
     "traceback": [
      "\u001b[0;31m---------------------------------------------------------------------------\u001b[0m",
      "\u001b[0;31mOSError\u001b[0m                                   Traceback (most recent call last)",
      "\u001b[0;32m<ipython-input-198-6a3c0fb5bcb1>\u001b[0m in \u001b[0;36m<module>\u001b[0;34m()\u001b[0m\n\u001b[0;32m----> 1\u001b[0;31m \u001b[0mF\u001b[0m\u001b[0;34m=\u001b[0m\u001b[0mpan\u001b[0m\u001b[0;34m.\u001b[0m\u001b[0mread_csv\u001b[0m\u001b[0;34m(\u001b[0m\u001b[0;34m\"Cu_u3.F.dat\"\u001b[0m\u001b[0;34m,\u001b[0m\u001b[0msep\u001b[0m\u001b[0;34m=\u001b[0m\u001b[0;34m\"\\t\"\u001b[0m\u001b[0;34m,\u001b[0m\u001b[0mnames\u001b[0m\u001b[0;34m=\u001b[0m\u001b[0;34m[\u001b[0m\u001b[0;34m\"rho\"\u001b[0m\u001b[0;34m,\u001b[0m\u001b[0;34m\"F\"\u001b[0m\u001b[0;34m]\u001b[0m\u001b[0;34m)\u001b[0m\u001b[0;34m\u001b[0m\u001b[0m\n\u001b[0m\u001b[1;32m      2\u001b[0m \u001b[0mFFrame\u001b[0m\u001b[0;34m=\u001b[0m\u001b[0mpan\u001b[0m\u001b[0;34m.\u001b[0m\u001b[0mDataFrame\u001b[0m\u001b[0;34m(\u001b[0m\u001b[0mF\u001b[0m\u001b[0;34m)\u001b[0m\u001b[0;34m\u001b[0m\u001b[0m\n\u001b[1;32m      3\u001b[0m \u001b[0mFFunc\u001b[0m\u001b[0;34m=\u001b[0m\u001b[0minterp1d\u001b[0m\u001b[0;34m(\u001b[0m\u001b[0mFFrame\u001b[0m\u001b[0;34m.\u001b[0m\u001b[0mrho\u001b[0m\u001b[0;34m,\u001b[0m\u001b[0mFFrame\u001b[0m\u001b[0;34m.\u001b[0m\u001b[0mF\u001b[0m\u001b[0;34m)\u001b[0m\u001b[0;34m\u001b[0m\u001b[0m\n\u001b[1;32m      4\u001b[0m \u001b[0mlab\u001b[0m\u001b[0;34m.\u001b[0m\u001b[0mplot\u001b[0m\u001b[0;34m(\u001b[0m\u001b[0mFFrame\u001b[0m\u001b[0;34m.\u001b[0m\u001b[0mrho\u001b[0m\u001b[0;34m,\u001b[0m\u001b[0mFFunc\u001b[0m\u001b[0;34m(\u001b[0m\u001b[0mFFrame\u001b[0m\u001b[0;34m.\u001b[0m\u001b[0mrho\u001b[0m\u001b[0;34m)\u001b[0m\u001b[0;34m)\u001b[0m\u001b[0;34m\u001b[0m\u001b[0m\n",
      "\u001b[0;32m/home/hbhattar/anaconda3/lib/python3.5/site-packages/pandas/io/parsers.py\u001b[0m in \u001b[0;36mparser_f\u001b[0;34m(filepath_or_buffer, sep, delimiter, header, names, index_col, usecols, squeeze, prefix, mangle_dupe_cols, dtype, engine, converters, true_values, false_values, skipinitialspace, skiprows, skipfooter, nrows, na_values, keep_default_na, na_filter, verbose, skip_blank_lines, parse_dates, infer_datetime_format, keep_date_col, date_parser, dayfirst, iterator, chunksize, compression, thousands, decimal, lineterminator, quotechar, quoting, escapechar, comment, encoding, dialect, tupleize_cols, error_bad_lines, warn_bad_lines, skip_footer, doublequote, delim_whitespace, as_recarray, compact_ints, use_unsigned, low_memory, buffer_lines, memory_map, float_precision)\u001b[0m\n\u001b[1;32m    560\u001b[0m                     skip_blank_lines=skip_blank_lines)\n\u001b[1;32m    561\u001b[0m \u001b[0;34m\u001b[0m\u001b[0m\n\u001b[0;32m--> 562\u001b[0;31m         \u001b[0;32mreturn\u001b[0m \u001b[0m_read\u001b[0m\u001b[0;34m(\u001b[0m\u001b[0mfilepath_or_buffer\u001b[0m\u001b[0;34m,\u001b[0m \u001b[0mkwds\u001b[0m\u001b[0;34m)\u001b[0m\u001b[0;34m\u001b[0m\u001b[0m\n\u001b[0m\u001b[1;32m    563\u001b[0m \u001b[0;34m\u001b[0m\u001b[0m\n\u001b[1;32m    564\u001b[0m     \u001b[0mparser_f\u001b[0m\u001b[0;34m.\u001b[0m\u001b[0m__name__\u001b[0m \u001b[0;34m=\u001b[0m \u001b[0mname\u001b[0m\u001b[0;34m\u001b[0m\u001b[0m\n",
      "\u001b[0;32m/home/hbhattar/anaconda3/lib/python3.5/site-packages/pandas/io/parsers.py\u001b[0m in \u001b[0;36m_read\u001b[0;34m(filepath_or_buffer, kwds)\u001b[0m\n\u001b[1;32m    313\u001b[0m \u001b[0;34m\u001b[0m\u001b[0m\n\u001b[1;32m    314\u001b[0m     \u001b[0;31m# Create the parser.\u001b[0m\u001b[0;34m\u001b[0m\u001b[0;34m\u001b[0m\u001b[0m\n\u001b[0;32m--> 315\u001b[0;31m     \u001b[0mparser\u001b[0m \u001b[0;34m=\u001b[0m \u001b[0mTextFileReader\u001b[0m\u001b[0;34m(\u001b[0m\u001b[0mfilepath_or_buffer\u001b[0m\u001b[0;34m,\u001b[0m \u001b[0;34m**\u001b[0m\u001b[0mkwds\u001b[0m\u001b[0;34m)\u001b[0m\u001b[0;34m\u001b[0m\u001b[0m\n\u001b[0m\u001b[1;32m    316\u001b[0m \u001b[0;34m\u001b[0m\u001b[0m\n\u001b[1;32m    317\u001b[0m     \u001b[0;32mif\u001b[0m \u001b[0;34m(\u001b[0m\u001b[0mnrows\u001b[0m \u001b[0;32mis\u001b[0m \u001b[0;32mnot\u001b[0m \u001b[0;32mNone\u001b[0m\u001b[0;34m)\u001b[0m \u001b[0;32mand\u001b[0m \u001b[0;34m(\u001b[0m\u001b[0mchunksize\u001b[0m \u001b[0;32mis\u001b[0m \u001b[0;32mnot\u001b[0m \u001b[0;32mNone\u001b[0m\u001b[0;34m)\u001b[0m\u001b[0;34m:\u001b[0m\u001b[0;34m\u001b[0m\u001b[0m\n",
      "\u001b[0;32m/home/hbhattar/anaconda3/lib/python3.5/site-packages/pandas/io/parsers.py\u001b[0m in \u001b[0;36m__init__\u001b[0;34m(self, f, engine, **kwds)\u001b[0m\n\u001b[1;32m    643\u001b[0m             \u001b[0mself\u001b[0m\u001b[0;34m.\u001b[0m\u001b[0moptions\u001b[0m\u001b[0;34m[\u001b[0m\u001b[0;34m'has_index_names'\u001b[0m\u001b[0;34m]\u001b[0m \u001b[0;34m=\u001b[0m \u001b[0mkwds\u001b[0m\u001b[0;34m[\u001b[0m\u001b[0;34m'has_index_names'\u001b[0m\u001b[0;34m]\u001b[0m\u001b[0;34m\u001b[0m\u001b[0m\n\u001b[1;32m    644\u001b[0m \u001b[0;34m\u001b[0m\u001b[0m\n\u001b[0;32m--> 645\u001b[0;31m         \u001b[0mself\u001b[0m\u001b[0;34m.\u001b[0m\u001b[0m_make_engine\u001b[0m\u001b[0;34m(\u001b[0m\u001b[0mself\u001b[0m\u001b[0;34m.\u001b[0m\u001b[0mengine\u001b[0m\u001b[0;34m)\u001b[0m\u001b[0;34m\u001b[0m\u001b[0m\n\u001b[0m\u001b[1;32m    646\u001b[0m \u001b[0;34m\u001b[0m\u001b[0m\n\u001b[1;32m    647\u001b[0m     \u001b[0;32mdef\u001b[0m \u001b[0mclose\u001b[0m\u001b[0;34m(\u001b[0m\u001b[0mself\u001b[0m\u001b[0;34m)\u001b[0m\u001b[0;34m:\u001b[0m\u001b[0;34m\u001b[0m\u001b[0m\n",
      "\u001b[0;32m/home/hbhattar/anaconda3/lib/python3.5/site-packages/pandas/io/parsers.py\u001b[0m in \u001b[0;36m_make_engine\u001b[0;34m(self, engine)\u001b[0m\n\u001b[1;32m    797\u001b[0m     \u001b[0;32mdef\u001b[0m \u001b[0m_make_engine\u001b[0m\u001b[0;34m(\u001b[0m\u001b[0mself\u001b[0m\u001b[0;34m,\u001b[0m \u001b[0mengine\u001b[0m\u001b[0;34m=\u001b[0m\u001b[0;34m'c'\u001b[0m\u001b[0;34m)\u001b[0m\u001b[0;34m:\u001b[0m\u001b[0;34m\u001b[0m\u001b[0m\n\u001b[1;32m    798\u001b[0m         \u001b[0;32mif\u001b[0m \u001b[0mengine\u001b[0m \u001b[0;34m==\u001b[0m \u001b[0;34m'c'\u001b[0m\u001b[0;34m:\u001b[0m\u001b[0;34m\u001b[0m\u001b[0m\n\u001b[0;32m--> 799\u001b[0;31m             \u001b[0mself\u001b[0m\u001b[0;34m.\u001b[0m\u001b[0m_engine\u001b[0m \u001b[0;34m=\u001b[0m \u001b[0mCParserWrapper\u001b[0m\u001b[0;34m(\u001b[0m\u001b[0mself\u001b[0m\u001b[0;34m.\u001b[0m\u001b[0mf\u001b[0m\u001b[0;34m,\u001b[0m \u001b[0;34m**\u001b[0m\u001b[0mself\u001b[0m\u001b[0;34m.\u001b[0m\u001b[0moptions\u001b[0m\u001b[0;34m)\u001b[0m\u001b[0;34m\u001b[0m\u001b[0m\n\u001b[0m\u001b[1;32m    800\u001b[0m         \u001b[0;32melse\u001b[0m\u001b[0;34m:\u001b[0m\u001b[0;34m\u001b[0m\u001b[0m\n\u001b[1;32m    801\u001b[0m             \u001b[0;32mif\u001b[0m \u001b[0mengine\u001b[0m \u001b[0;34m==\u001b[0m \u001b[0;34m'python'\u001b[0m\u001b[0;34m:\u001b[0m\u001b[0;34m\u001b[0m\u001b[0m\n",
      "\u001b[0;32m/home/hbhattar/anaconda3/lib/python3.5/site-packages/pandas/io/parsers.py\u001b[0m in \u001b[0;36m__init__\u001b[0;34m(self, src, **kwds)\u001b[0m\n\u001b[1;32m   1211\u001b[0m         \u001b[0mkwds\u001b[0m\u001b[0;34m[\u001b[0m\u001b[0;34m'allow_leading_cols'\u001b[0m\u001b[0;34m]\u001b[0m \u001b[0;34m=\u001b[0m \u001b[0mself\u001b[0m\u001b[0;34m.\u001b[0m\u001b[0mindex_col\u001b[0m \u001b[0;32mis\u001b[0m \u001b[0;32mnot\u001b[0m \u001b[0;32mFalse\u001b[0m\u001b[0;34m\u001b[0m\u001b[0m\n\u001b[1;32m   1212\u001b[0m \u001b[0;34m\u001b[0m\u001b[0m\n\u001b[0;32m-> 1213\u001b[0;31m         \u001b[0mself\u001b[0m\u001b[0;34m.\u001b[0m\u001b[0m_reader\u001b[0m \u001b[0;34m=\u001b[0m \u001b[0m_parser\u001b[0m\u001b[0;34m.\u001b[0m\u001b[0mTextReader\u001b[0m\u001b[0;34m(\u001b[0m\u001b[0msrc\u001b[0m\u001b[0;34m,\u001b[0m \u001b[0;34m**\u001b[0m\u001b[0mkwds\u001b[0m\u001b[0;34m)\u001b[0m\u001b[0;34m\u001b[0m\u001b[0m\n\u001b[0m\u001b[1;32m   1214\u001b[0m \u001b[0;34m\u001b[0m\u001b[0m\n\u001b[1;32m   1215\u001b[0m         \u001b[0;31m# XXX\u001b[0m\u001b[0;34m\u001b[0m\u001b[0;34m\u001b[0m\u001b[0m\n",
      "\u001b[0;32mpandas/parser.pyx\u001b[0m in \u001b[0;36mpandas.parser.TextReader.__cinit__ (pandas/parser.c:3427)\u001b[0;34m()\u001b[0m\n",
      "\u001b[0;32mpandas/parser.pyx\u001b[0m in \u001b[0;36mpandas.parser.TextReader._setup_parser_source (pandas/parser.c:6861)\u001b[0;34m()\u001b[0m\n",
      "\u001b[0;31mOSError\u001b[0m: File b'Cu_u3.F.dat' does not exist"
     ]
    }
   ],
   "source": [
    "F=pan.read_csv(\"Cu_u3.F.dat\",sep=\"\\t\",names=[\"rho\",\"F\"])\n",
    "FFrame=pan.DataFrame(F)\n",
    "FFunc=interp1d(FFrame.rho,FFrame.F)\n",
    "lab.plot(FFrame.rho,FFunc(FFrame.rho))"
   ]
  },
  {
   "cell_type": "code",
   "execution_count": 199,
   "metadata": {
    "collapsed": false
   },
   "outputs": [
    {
     "ename": "AttributeError",
     "evalue": "module 'scipy' has no attribute 'interp1d'",
     "output_type": "error",
     "traceback": [
      "\u001b[0;31m---------------------------------------------------------------------------\u001b[0m",
      "\u001b[0;31mAttributeError\u001b[0m                            Traceback (most recent call last)",
      "\u001b[0;32m<ipython-input-199-257a950a9ff3>\u001b[0m in \u001b[0;36m<module>\u001b[0;34m()\u001b[0m\n\u001b[1;32m      1\u001b[0m \u001b[0mrho\u001b[0m\u001b[0;34m=\u001b[0m\u001b[0mpan\u001b[0m\u001b[0;34m.\u001b[0m\u001b[0mread_csv\u001b[0m\u001b[0;34m(\u001b[0m\u001b[0;34m\"Pt_u3.rho.dat\"\u001b[0m\u001b[0;34m,\u001b[0m\u001b[0msep\u001b[0m\u001b[0;34m=\u001b[0m\u001b[0;34m\"\\t\"\u001b[0m\u001b[0;34m,\u001b[0m\u001b[0mnames\u001b[0m\u001b[0;34m=\u001b[0m\u001b[0;34m[\u001b[0m\u001b[0;34m\"r\"\u001b[0m\u001b[0;34m,\u001b[0m\u001b[0;34m\"rho\"\u001b[0m\u001b[0;34m]\u001b[0m\u001b[0;34m)\u001b[0m\u001b[0;34m\u001b[0m\u001b[0m\n\u001b[1;32m      2\u001b[0m \u001b[0mRhoF\u001b[0m\u001b[0;34m=\u001b[0m\u001b[0mpan\u001b[0m\u001b[0;34m.\u001b[0m\u001b[0mDataFrame\u001b[0m\u001b[0;34m(\u001b[0m\u001b[0mrho\u001b[0m\u001b[0;34m)\u001b[0m\u001b[0;34m\u001b[0m\u001b[0m\n\u001b[0;32m----> 3\u001b[0;31m \u001b[0mRFunc\u001b[0m\u001b[0;34m=\u001b[0m\u001b[0msci\u001b[0m\u001b[0;34m.\u001b[0m\u001b[0minterp1d\u001b[0m\u001b[0;34m(\u001b[0m\u001b[0mRhoF\u001b[0m\u001b[0;34m.\u001b[0m\u001b[0mr\u001b[0m\u001b[0;34m,\u001b[0m\u001b[0mRhoF\u001b[0m\u001b[0;34m.\u001b[0m\u001b[0mrho\u001b[0m\u001b[0;34m)\u001b[0m\u001b[0;34m\u001b[0m\u001b[0m\n\u001b[0m\u001b[1;32m      4\u001b[0m \u001b[0mlab\u001b[0m\u001b[0;34m.\u001b[0m\u001b[0mplot\u001b[0m\u001b[0;34m(\u001b[0m\u001b[0mRhoF\u001b[0m\u001b[0;34m.\u001b[0m\u001b[0mr\u001b[0m\u001b[0;34m,\u001b[0m\u001b[0mRFunc\u001b[0m\u001b[0;34m(\u001b[0m\u001b[0mRhoF\u001b[0m\u001b[0;34m.\u001b[0m\u001b[0mr\u001b[0m\u001b[0;34m)\u001b[0m\u001b[0;34m)\u001b[0m\u001b[0;34m\u001b[0m\u001b[0m\n\u001b[1;32m      5\u001b[0m \u001b[0mlab\u001b[0m\u001b[0;34m.\u001b[0m\u001b[0mylim\u001b[0m\u001b[0;34m(\u001b[0m\u001b[0;34m[\u001b[0m\u001b[0;36m0\u001b[0m\u001b[0;34m,\u001b[0m\u001b[0;36m0.20\u001b[0m\u001b[0;34m]\u001b[0m\u001b[0;34m)\u001b[0m\u001b[0;34m\u001b[0m\u001b[0m\n",
      "\u001b[0;31mAttributeError\u001b[0m: module 'scipy' has no attribute 'interp1d'"
     ]
    }
   ],
   "source": [
    "rho=pan.read_csv(\"Pt_u3.rho.dat\",sep=\"\\t\",names=[\"r\",\"rho\"])\n",
    "RhoF=pan.DataFrame(rho)\n",
    "RFunc=sci.interp1d(RhoF.r,RhoF.rho)\n",
    "lab.plot(RhoF.r,RFunc(RhoF.r))\n",
    "lab.ylim([0,0.20])"
   ]
  },
  {
   "cell_type": "code",
   "execution_count": 200,
   "metadata": {
    "collapsed": false
   },
   "outputs": [],
   "source": [
    "def EnergyDaw(r):\n",
    "    density=12*RFunc(r)\n",
    "    Potential=ZFunc(r)*ZFunc(r)/r\n",
    "    Embedded=FFunc(density)\n",
    "    return Potential+Embedded\n",
    "\n"
   ]
  },
  {
   "cell_type": "code",
   "execution_count": 201,
   "metadata": {
    "collapsed": false
   },
   "outputs": [
    {
     "ename": "NameError",
     "evalue": "name 'RFunc' is not defined",
     "output_type": "error",
     "traceback": [
      "\u001b[0;31m---------------------------------------------------------------------------\u001b[0m",
      "\u001b[0;31mNameError\u001b[0m                                 Traceback (most recent call last)",
      "\u001b[0;32m<ipython-input-201-29b743de389e>\u001b[0m in \u001b[0;36m<module>\u001b[0;34m()\u001b[0m\n\u001b[1;32m      1\u001b[0m \u001b[0mr\u001b[0m\u001b[0;34m=\u001b[0m\u001b[0mnum\u001b[0m\u001b[0;34m.\u001b[0m\u001b[0mlinspace\u001b[0m\u001b[0;34m(\u001b[0m\u001b[0;36m2\u001b[0m\u001b[0;34m,\u001b[0m\u001b[0;36m2.2\u001b[0m\u001b[0;34m,\u001b[0m\u001b[0;36m100\u001b[0m\u001b[0;34m)\u001b[0m\u001b[0;34m\u001b[0m\u001b[0m\n\u001b[1;32m      2\u001b[0m \u001b[0;34m\u001b[0m\u001b[0m\n\u001b[0;32m----> 3\u001b[0;31m \u001b[0mlab\u001b[0m\u001b[0;34m.\u001b[0m\u001b[0mplot\u001b[0m\u001b[0;34m(\u001b[0m\u001b[0mr\u001b[0m\u001b[0;34m,\u001b[0m\u001b[0mEnergyDaw\u001b[0m\u001b[0;34m(\u001b[0m\u001b[0mr\u001b[0m\u001b[0;34m)\u001b[0m\u001b[0;34m)\u001b[0m\u001b[0;34m\u001b[0m\u001b[0m\n\u001b[0m",
      "\u001b[0;32m<ipython-input-200-f33a3c828de0>\u001b[0m in \u001b[0;36mEnergyDaw\u001b[0;34m(r)\u001b[0m\n\u001b[1;32m      1\u001b[0m \u001b[0;32mdef\u001b[0m \u001b[0mEnergyDaw\u001b[0m\u001b[0;34m(\u001b[0m\u001b[0mr\u001b[0m\u001b[0;34m)\u001b[0m\u001b[0;34m:\u001b[0m\u001b[0;34m\u001b[0m\u001b[0m\n\u001b[0;32m----> 2\u001b[0;31m     \u001b[0mdensity\u001b[0m\u001b[0;34m=\u001b[0m\u001b[0;36m12\u001b[0m\u001b[0;34m*\u001b[0m\u001b[0mRFunc\u001b[0m\u001b[0;34m(\u001b[0m\u001b[0mr\u001b[0m\u001b[0;34m)\u001b[0m\u001b[0;34m\u001b[0m\u001b[0m\n\u001b[0m\u001b[1;32m      3\u001b[0m     \u001b[0mPotential\u001b[0m\u001b[0;34m=\u001b[0m\u001b[0mZFunc\u001b[0m\u001b[0;34m(\u001b[0m\u001b[0mr\u001b[0m\u001b[0;34m)\u001b[0m\u001b[0;34m*\u001b[0m\u001b[0mZFunc\u001b[0m\u001b[0;34m(\u001b[0m\u001b[0mr\u001b[0m\u001b[0;34m)\u001b[0m\u001b[0;34m/\u001b[0m\u001b[0mr\u001b[0m\u001b[0;34m\u001b[0m\u001b[0m\n\u001b[1;32m      4\u001b[0m     \u001b[0mEmbedded\u001b[0m\u001b[0;34m=\u001b[0m\u001b[0mFFunc\u001b[0m\u001b[0;34m(\u001b[0m\u001b[0mdensity\u001b[0m\u001b[0;34m)\u001b[0m\u001b[0;34m\u001b[0m\u001b[0m\n\u001b[1;32m      5\u001b[0m     \u001b[0;32mreturn\u001b[0m \u001b[0mPotential\u001b[0m\u001b[0;34m+\u001b[0m\u001b[0mEmbedded\u001b[0m\u001b[0;34m\u001b[0m\u001b[0m\n",
      "\u001b[0;31mNameError\u001b[0m: name 'RFunc' is not defined"
     ]
    }
   ],
   "source": [
    "\n",
    "lab.plot(r,EnergyDaw(r))"
   ]
  },
  {
   "cell_type": "code",
   "execution_count": 94,
   "metadata": {
    "collapsed": false
   },
   "outputs": [],
   "source": [
    "def F2004(rhoVar,rhoe,rhos,Fn0,Fn1,Fn2,Fn3,F0,F1,F2,F3,Fe,eta):\n",
    "    rhon=0.25*rhoe\n",
    "    rho0=1.15*rhoe\n",
    "    func=[]\n",
    "    for rho in rhoVar:\n",
    "        if(rho<rhon):\n",
    "            func.append(Fn0*(rho/rhon-1)**0+Fn1*(rho/rhon-1)**1+Fn2*(rho/rhon-1)**2+Fn3*(rho/rhon-1)**3)\n",
    "        elif (rho>=rhon and rho<rho0):\n",
    "            func.append(F0*(rho/rhoe-1)**0+F1*(rho/rhoe-1)**1+F2*(rho/rhoe-1)**2+F3*(rho/rhoe-1)**3)\n",
    "        else:\n",
    "            func.append(Fe*(1-num.log((rho/rhos)**eta))*(rho/rhos)**eta)\n",
    "    func=num.asarray(func)\n",
    "    return func\n",
    "    \n",
    "    \n",
    "\n",
    "#embedded function for oxygen\n",
    "def FO(rhoVar,rhoe,rho_min,rho_max,\\\n",
    "       F00,F01,F02,F03,F04,\\\n",
    "       F10,F11,F12,F13,F14,\\\n",
    "      F20,F21,F22,F23,F24,\\\n",
    "      F30,F31,F32,F33,F34):\n",
    "    func=[]\n",
    "    for rho in rhoVar:\n",
    "        if (rho>=rho_min[0] and rho<rho_max[0]):\n",
    "            func.append(F00*((rho/rhoe[0])-1)**0+F20*((rho/rhoe[0])-1)**2+F10*((rho/rhoe[0])-1)**1+\\\n",
    "                    F30*((rho/rhoe[0])-1)**3)\n",
    "        if (rho>=rho_min[1] and rho<rho_max[1]):\n",
    "            func.append(F01*((rho/rhoe[1])-1)**0+F21*((rho/rhoe[1])-1)**2+F11*((rho/rhoe[1])-1)**1+\\\n",
    "                    F31*((rho/rhoe[1])-1)**3)\n",
    "        if (rho>=rho_min[2] and rho<rho_max[2]):\n",
    "            func.append(F02*((rho/rhoe[2])-1)**0+F22*((rho/rhoe[2])-1)**2+F12*((rho/rhoe[2])-1)**1+\\\n",
    "                    F32*((rho/rhoe[2])-1)**3)\n",
    "        if (rho>=rho_min[3] and rho<rho_max[3]):\n",
    "            func.append(F03*((rho/rhoe[3])-1)**0+F23*((rho/rhoe[3])-1)**2+F13*((rho/rhoe[3])-1)**1+\\\n",
    "                    F33*((rho/rhoe[3])-1)**3)\n",
    "        if (rho>=rho_min[4] and rho<rho_max[4]):\n",
    "            func.append(F04*((rho/rhoe[4])-1)**0+F24*((rho/rhoe[4])-1)**2+F14*((rho/rhoe[4])-1)**1+\\\n",
    "                    F34*((rho/rhoe[4])-1)**3)\n",
    "    func=num.asarray(func)\n",
    "    return func\n",
    "    \n",
    "\n",
    "\n",
    "def f(r,q,N,fe,beta,re,lam):\n",
    "    return fe*num.exp(-beta*(r/re-1))/(1+(r/re-lam)**20)*(1-q/float(N))\n",
    "\n",
    "def phiN(r,A,alpha,re,kappa):\n",
    "    return A*num.exp(-alpha*(r/re-1))/(1+(r/re-kappa)**20)\n",
    "#def phiE(r,q):\n",
    "#    return (1-q/N)*B*num.exp(-beta*(r/re-1))/(1+(r/re-kappa)**20)\n",
    "\n",
    "def phiE(r,B,beta,re,kappa):\n",
    "    return B*num.exp(-beta*(r/re-1))/(1+(r/re-kappa)**20)\n",
    "def phiT(r,A,alpha,re,B,beta,kappa):\n",
    "    return phiN(r,A,alpha,re,kappa)-phiE(r,B,beta,re,kappa)"
   ]
  },
  {
   "cell_type": "code",
   "execution_count": 75,
   "metadata": {
    "collapsed": false
   },
   "outputs": [],
   "source": [
    "re_O,A_O,alpha_O,B_O,beta_O,lam_O,fe_O,kappa_O=3.64857,0.34900,5.44072,0.57438,3.59746,0.39310,1.39479,0.08007\n",
    "\n",
    "\n",
    "re_Al,A_Al,alpha_Al,B_Al,beta_Al,lam_Al,fe_Al,kappa_Al=2.86392,0.31487,6.61317,0.36555,3.52702,0.75969,1.20378,0.37985\n",
    "\n",
    "A_AlO,alpha_AlO,re_AlO,B_AlO,beta_AlO,kappa_AlO=0.09738,8.49741,2.98520,0.38121,4.52114,0.18967\n",
    "\n",
    "\n",
    "re_Al04,A_Al04,alpha_Al04,B_Al04,beta_Al04,lam_Al04,fe_Al04,kappa_Al04=2.863924,0.134873,6.613165,0.365551,3.527021,0.759692,\\\n",
    "                    1.403115,0.379846\n",
    "    \n",
    "    \n",
    "r=num.linspace(2,3,1000)"
   ]
  },
  {
   "cell_type": "code",
   "execution_count": 76,
   "metadata": {
    "collapsed": false
   },
   "outputs": [
    {
     "data": {
      "text/plain": [
       "[<matplotlib.lines.Line2D at 0x7fad7dd9f160>]"
      ]
     },
     "execution_count": 76,
     "metadata": {},
     "output_type": "execute_result"
    },
    {
     "data": {
      "image/png": "[encoded data removed]",
      "text/plain": [
       "<matplotlib.figure.Figure at 0x7fad7dde28d0>"
      ]
     },
     "metadata": {},
     "output_type": "display_data"
    }
   ],
   "source": [
    "phiO_Al=phiT(r,A_AlO,alpha_AlO,re_AlO,B_AlO,beta_AlO,kappa_AlO)\n",
    "lab.plot(r,phiO_Al)"
   ]
  },
  {
   "cell_type": "code",
   "execution_count": 77,
   "metadata": {
    "collapsed": false
   },
   "outputs": [],
   "source": [
    "f_Al=f(r,0,3,fe_Al,beta_Al,re_Al,lam_Al)\n",
    "f_Al04=f(r,0,3,fe_Al04,beta_Al04,re_Al04,lam_Al04)"
   ]
  },
  {
   "cell_type": "code",
   "execution_count": 78,
   "metadata": {
    "collapsed": true
   },
   "outputs": [],
   "source": [
    "f_O=f(r,0,6,fe_O,beta_O,re_O,lam_O)"
   ]
  },
  {
   "cell_type": "code",
   "execution_count": 79,
   "metadata": {
    "collapsed": false
   },
   "outputs": [],
   "source": [
    "phiAl_Al=phiT(r,A_Al,alpha_Al,re_Al,B_Al,beta_Al,kappa_Al)\n",
    "phiAl_Al04=phiT(r,A_Al04,alpha_Al04,re_Al04,B_Al04,beta_Al04,kappa_Al04)"
   ]
  },
  {
   "cell_type": "code",
   "execution_count": 80,
   "metadata": {
    "collapsed": false
   },
   "outputs": [],
   "source": [
    "phiO_O=phiT(r,A_O,alpha_O,re_O,B_O,beta_O,kappa_O)"
   ]
  },
  {
   "cell_type": "code",
   "execution_count": 81,
   "metadata": {
    "collapsed": false
   },
   "outputs": [],
   "source": [
    "phiAl_OJonson=(1/2)*((f_Al/f_O)*phiO_O+(f_O/f_Al)*phiAl_Al)\n",
    "\n",
    "phiAl_OJonson04=(1/2)*((f_Al04/f_O)*phiO_O+(f_O/f_Al04)*phiAl_Al04)"
   ]
  },
  {
   "cell_type": "code",
   "execution_count": 82,
   "metadata": {
    "collapsed": false
   },
   "outputs": [
    {
     "data": {
      "image/png": "[encoded data removed]",
      "text/plain": [
       "<matplotlib.figure.Figure at 0x7fad7de04400>"
      ]
     },
     "metadata": {},
     "output_type": "display_data"
    }
   ],
   "source": [
    "lab.plot(r,phiAl_OJonson,label=\"Joh05\")\n",
    "lab.plot(r,phiO_Al,label=\"Fit_Zhou_05\")\n",
    "lab.plot(r,phiAl_OJonson04,label=\"Joh04\")\n",
    "lab.title(\"Al-O pair Potential\")\n",
    "lab.xlabel(\"r\")\n",
    "lab.ylabel(\"Phi Al-O\")\n",
    "lab.legend()\n",
    "lab.savefig(\"AlO.eps\")\n",
    "lab.show()"
   ]
  },
  {
   "cell_type": "code",
   "execution_count": 83,
   "metadata": {
    "collapsed": false
   },
   "outputs": [],
   "source": [
    "#Oxygen Parameters\n",
    "\n",
    "\n",
    "rhominO=[0,54.62910,65.24078,66.56797,70.57748]\n",
    "rhomaxO=[54.62910,65.24078,66.56797,70.57748,10**10]\n",
    "rhoe_O=[54.62910,64.26953,66.21202,66.92391,74.23105]\n",
    "F0=[-1.56489,-1.58967,-1.54116,-1.51798,-1.19082]\n",
    "F1=[-1.39123,1.30636,2.02821,2.30979,4.12936]\n",
    "F2=[1.77199,9.81033,6.56240,7.69582,10.32338]\n",
    "F3=[1.59833,0,0,0,0]\n",
    "re_O,A_O,alpha_O,B_O,beta_O,lam_O,fe_O,kappa_O=3.64857,0.34900,5.44072,0.57438,3.59746,0.39310,1.39479,0.08007\n",
    "gamma_O,nu_O=2.11725,0.37457\n",
    "N_O=6\n"
   ]
  },
  {
   "cell_type": "code",
   "execution_count": 84,
   "metadata": {
    "collapsed": false
   },
   "outputs": [],
   "source": [
    "#Platinium parameters 2004\n",
    "re_Pt,fe_Pt,rhoe_Pt,rhos_Pt,alpha_Pt,beta_Pt,A_Pt,B_Pt,kappa_Pt,lambda_Pt,\\\n",
    "Fn0_Pt,Fn1_Pt,Fn2_Pt,Fn3_Pt,F0_Pt,F1_Pt,F2_Pt,F3_Pt,eta_Pt,Fe_Pt,rhol_Pt,rhoh_Pt=2.771916,2.336509,33.367564,35.205357,7.105782,3.78975,0.556398,0.696037,0.385255,0.77051,\\\n",
    "-1.455568,-2.149952,0.528491,1.222875,-4.17, 0,  3.010561, -2.420128, 1.45,-4.145597,0.25,1.15\n",
    "N_Pt=10"
   ]
  },
  {
   "cell_type": "code",
   "execution_count": 85,
   "metadata": {
    "collapsed": false,
    "scrolled": true
   },
   "outputs": [
    {
     "name": "stdout",
     "output_type": "stream",
     "text": [
      "Density at Pt due to O 4.23571803805\n",
      "Embedded energy of Pt [-0.4150827]\n",
      "Density at O due to Pt 6.04152944819\n",
      "Embedded energy of O [-0.05031821]\n",
      "PairPotenial 1.94617029675\n",
      "Self energy of O with V0 -45.786\n",
      "Self energy of O without V0 95.22\n",
      "self enrgy of Pt wih V0 175.074901755\n",
      "Self energy of Pt without V0 175.464901755\n",
      "Total Energy 130.769671142\n"
     ]
    }
   ],
   "source": [
    "#density at Pt due to O\n",
    "r=2\n",
    "q_Pt=1\n",
    "q_O=-q_Pt\n",
    "rho_Pt=f(r,q_O,N_O,fe_O,gamma_O,re_O,nu_O)\n",
    "print(\"Density at Pt due to O\",rho_Pt)\n",
    "#Embedded energy of Pt\n",
    "F_Pt=F2004([rho_Pt],rhoe_Pt,rhos_Pt,Fn0_Pt,Fn1_Pt,Fn2_Pt,Fn3_Pt,F0_Pt,F1_Pt,F2_Pt,F3_Pt,Fe_Pt,eta_Pt)\n",
    "print(\"Embedded energy of Pt\",F_Pt)\n",
    "\n",
    "#density at O due to Pt\n",
    "rho_O=f(r,q_Pt,N_Pt,fe_Pt,beta_Pt,re_Pt,lambda_Pt)\n",
    "print(\"Density at O due to Pt\",rho_O)\n",
    "\n",
    "#Embedded energy of O\n",
    "F_O=FO([rho_O],rhoe_O,rhominO,rhomaxO,\\\n",
    "       F0[0],F0[1],F0[2],F0[3],F0[4],\\\n",
    "       F1[0],F1[1],F1[2],F1[3],F1[4],\\\n",
    "      F2[0],F2[1],F2[2],F2[3],F2[4],\\\n",
    "      F3[0],F3[1],F3[2],F3[3],F3[4])\n",
    "print(\"Embedded energy of O\",F_O)\n",
    "\n",
    "# johnson potential\n",
    "f_Pt=f(r,q_Pt,N_Pt,fe_Al,beta_Al,re_Al,lam_Al)\n",
    "f_O=f(r,q_O,N_O,fe_O,gamma_O,re_O,nu_O)\n",
    "phiPt=phiT(r,A_Pt,alpha_Pt,re_Pt,B_Pt,beta_Pt,kappa_Pt)\n",
    "phiO=phiT(r,A_O,alpha_O,re_O,B_O,beta_O,kappa_O)\n",
    "phiPt_O=(1/2)*((rho_Pt/f_O)*phiO+(f_O/f_Pt)*phiPt)\n",
    "print(\"PairPotenial\",phiPt_O)\n",
    "\n",
    "\n",
    "#self energy of O\n",
    "O_self=(.5*529*(q_O-(-0.40))**2+(-141.006))\n",
    "print(\"Self energy of O with V0\",O_self)\n",
    "\n",
    "O_selfWithoutV0=(.5*529*(q_O-(-0.40))**2)\n",
    "print(\"Self energy of O without V0\",O_selfWithoutV0)\n",
    "\n",
    "\n",
    "#self energy of Pt\n",
    "Pt_self=(.5*351*(q_Pt-0.0001)**2+(-0.39))\n",
    "print(\"self enrgy of Pt wih V0\",Pt_self)\n",
    "\n",
    "Pt_selfWithoutV0=(.5*351*(q_Pt-0.0001)**2)\n",
    "print(\"Self energy of Pt without V0\",Pt_selfWithoutV0)\n",
    "#total energy\n",
    "Etot=F_O[0]+F_Pt[0]+phiPt_O+Pt_self+O_self\n",
    "print(\"Total Energy\",Etot)"
   ]
  },
  {
   "cell_type": "code",
   "execution_count": 73,
   "metadata": {
    "collapsed": false
   },
   "outputs": [
    {
     "name": "stdout",
     "output_type": "stream",
     "text": [
      "Density at Pt due to O 3.63061546119\n",
      "Embedded energy of Pt [-0.29305561]\n",
      "Density at O due to Pt 6.71281049799\n",
      "Embedded energy of O [-0.05991022]\n"
     ]
    },
    {
     "ename": "NameError",
     "evalue": "name 'fe_Al' is not defined",
     "output_type": "error",
     "traceback": [
      "\u001b[0;31m---------------------------------------------------------------------------\u001b[0m",
      "\u001b[0;31mNameError\u001b[0m                                 Traceback (most recent call last)",
      "\u001b[0;32m<ipython-input-73-6723b0781bea>\u001b[0m in \u001b[0;36m<module>\u001b[0;34m()\u001b[0m\n\u001b[1;32m     19\u001b[0m \u001b[0;34m\u001b[0m\u001b[0m\n\u001b[1;32m     20\u001b[0m \u001b[0;31m# johnson potential\u001b[0m\u001b[0;34m\u001b[0m\u001b[0;34m\u001b[0m\u001b[0m\n\u001b[0;32m---> 21\u001b[0;31m \u001b[0mf_PtU\u001b[0m\u001b[0;34m=\u001b[0m\u001b[0mf\u001b[0m\u001b[0;34m(\u001b[0m\u001b[0mr\u001b[0m\u001b[0;34m,\u001b[0m\u001b[0mq_Pt\u001b[0m\u001b[0;34m,\u001b[0m\u001b[0mN_Pt\u001b[0m\u001b[0;34m,\u001b[0m\u001b[0mfe_Al\u001b[0m\u001b[0;34m,\u001b[0m\u001b[0mbeta_Al\u001b[0m\u001b[0;34m,\u001b[0m\u001b[0mre_Al\u001b[0m\u001b[0;34m,\u001b[0m\u001b[0mlam_Al\u001b[0m\u001b[0;34m)\u001b[0m\u001b[0;34m\u001b[0m\u001b[0m\n\u001b[0m\u001b[1;32m     22\u001b[0m \u001b[0mf_OU\u001b[0m\u001b[0;34m=\u001b[0m\u001b[0mf\u001b[0m\u001b[0;34m(\u001b[0m\u001b[0mr\u001b[0m\u001b[0;34m,\u001b[0m\u001b[0mq_O\u001b[0m\u001b[0;34m,\u001b[0m\u001b[0mN_O\u001b[0m\u001b[0;34m,\u001b[0m\u001b[0mfe_O\u001b[0m\u001b[0;34m,\u001b[0m\u001b[0mgamma_O\u001b[0m\u001b[0;34m,\u001b[0m\u001b[0mre_O\u001b[0m\u001b[0;34m,\u001b[0m\u001b[0mnu_O\u001b[0m\u001b[0;34m)\u001b[0m\u001b[0;34m\u001b[0m\u001b[0m\n\u001b[1;32m     23\u001b[0m \u001b[0mphiPtU\u001b[0m\u001b[0;34m=\u001b[0m\u001b[0mphiT\u001b[0m\u001b[0;34m(\u001b[0m\u001b[0mr\u001b[0m\u001b[0;34m,\u001b[0m\u001b[0mA_Pt\u001b[0m\u001b[0;34m,\u001b[0m\u001b[0malpha_Pt\u001b[0m\u001b[0;34m,\u001b[0m\u001b[0mre_Pt\u001b[0m\u001b[0;34m,\u001b[0m\u001b[0mB_Pt\u001b[0m\u001b[0;34m,\u001b[0m\u001b[0mbeta_Pt\u001b[0m\u001b[0;34m,\u001b[0m\u001b[0mkappa_Pt\u001b[0m\u001b[0;34m)\u001b[0m\u001b[0;34m\u001b[0m\u001b[0m\n",
      "\u001b[0;31mNameError\u001b[0m: name 'fe_Al' is not defined"
     ]
    }
   ],
   "source": [
    "# uncharged\n",
    "#density at Pt due to O\n",
    "r=2\n",
    "q_Pt=0\n",
    "q_O=-q_Pt\n",
    "rho_PtU=f(r,q_O,N_O,fe_O,gamma_O,re_O,nu_O)\n",
    "print(\"Density at Pt due to O\",rho_PtU)\n",
    "#Embedded energy of Pt\n",
    "F_PtU=F2004([rho_PtU],rhoe_Pt,rhos_Pt,Fn0_Pt,Fn1_Pt,Fn2_Pt,Fn3_Pt,F0_Pt,F1_Pt,F2_Pt,F3_Pt,Fe_Pt,eta_Pt)\n",
    "print(\"Embedded energy of Pt\",F_PtU)\n",
    "\n",
    "#density at O due to Pt\n",
    "rho_OU=f(r,q_Pt,N_Pt,fe_Pt,beta_Pt,re_Pt,lambda_Pt)\n",
    "print(\"Density at O due to Pt\",rho_OU)\n",
    "\n",
    "#Embedded energy of O\n",
    "F_OU=FO([rho_OU],rhoe_O,rhominO,rhomaxO,\\\n",
    "       F0[0],F0[1],F0[2],F0[3],F0[4],\\\n",
    "       F1[0],F1[1],F1[2],F1[3],F1[4],\\\n",
    "      F2[0],F2[1],F2[2],F2[3],F2[4],\\\n",
    "      F3[0],F3[1],F3[2],F3[3],F3[4])\n",
    "print(\"Embedded energy of O\",F_OU)\n",
    "\n",
    "# johnson potential\n",
    "f_PtU=f(r,q_Pt,N_Pt,fe_Al,beta_Al,re_Al,lam_Al)\n",
    "f_OU=f(r,q_O,N_O,fe_O,gamma_O,re_O,nu_O)\n",
    "phiPtU=phiT(r,A_Pt,alpha_Pt,re_Pt,B_Pt,beta_Pt,kappa_Pt)\n",
    "phiOU=phiT(r,A_O,alpha_O,re_O,B_O,beta_O,kappa_O)\n",
    "phiPt_OU=(1/2)*((rho_Pt/f_O)*phiOU+(f_O/f_Pt)*phiPtU)\n",
    "print(\"PairPotenial\",phiPt_OU)\n",
    "\n",
    "\n",
    "#self energy of O\n",
    "O_selfU=(.5*529*(q_O-(-0.40))**2+(-141.006))\n",
    "print(\"Self energy of O with V0\",O_selfU)\n",
    "\n",
    "O_selfWithoutV0U=(.5*529*(q_O-(-0.40))**2)\n",
    "print(\"Self energy of O without V0\",O_selfWithoutV0U)\n",
    "\n",
    "\n",
    "#self energy of Pt\n",
    "Pt_selfU=(.5*351*(q_Pt-0.0001)**2+(-0.39))\n",
    "print(\"self enrgy of Pt wih V0\",Pt_selfU)\n",
    "\n",
    "Pt_selfWithoutV0U=(.5*351*(q_Pt-0.0001)**2)\n",
    "print(\"Self energy of Pt without V0\",Pt_selfWithoutV0U)\n",
    "#total energy\n",
    "EtotU=F_OU[0]+F_PtU[0]+phiPt_OU+Pt_selfU+O_selfU\n",
    "print(\"Total Energy\",EtotU)"
   ]
  },
  {
   "cell_type": "code",
   "execution_count": 71,
   "metadata": {
    "collapsed": false
   },
   "outputs": [
    {
     "data": {
      "image/png": "[encoded data removed]",
      "text/plain": [
       "<matplotlib.figure.Figure at 0x7fad7dedf240>"
      ]
     },
     "metadata": {},
     "output_type": "display_data"
    },
    {
     "data": {
      "text/plain": [
       "[<matplotlib.lines.Line2D at 0x7fad7de1d358>]"
      ]
     },
     "execution_count": 71,
     "metadata": {},
     "output_type": "execute_result"
    },
    {
     "data": {
      "image/png": "[encoded data removed]",
      "text/plain": [
       "<matplotlib.figure.Figure at 0x7fad7df057f0>"
      ]
     },
     "metadata": {},
     "output_type": "display_data"
    }
   ],
   "source": [
    "rhogiv=num.linspace(20,35,1000)\n",
    "F_Otest=FO(rhogiv,rhoe_O,rhominO,rhomaxO,\\\n",
    "       F0[0],F0[1],F0[2],F0[3],F0[4],\\\n",
    "       F1[0],F1[1],F1[2],F1[3],F1[4],\\\n",
    "      F2[0],F2[1],F2[2],F2[3],F2[4],\\\n",
    "      F3[0],F3[1],F3[2],F3[3],F3[4])\n",
    "lab.plot(rhogiv,F_Otest)\n",
    "lab.show()\n",
    "F_Pttest=F2004(rhogiv,rhoe_Pt,rhos_Pt,Fn0_Pt,Fn1_Pt,Fn2_Pt,Fn3_Pt,F0_Pt,F1_Pt,F2_Pt,F3_Pt,Fe_Pt,eta_Pt)\n",
    "lab.plot(rhogiv,F_Pttest)"
   ]
  },
  {
   "cell_type": "code",
   "execution_count": 16,
   "metadata": {
    "collapsed": false
   },
   "outputs": [
    {
     "ename": "SyntaxError",
     "evalue": "invalid syntax (<ipython-input-16-e0ad2e549c37>, line 1)",
     "output_type": "error",
     "traceback": [
      "\u001b[0;36m  File \u001b[0;32m\"<ipython-input-16-e0ad2e549c37>\"\u001b[0;36m, line \u001b[0;32m1\u001b[0m\n\u001b[0;31m    Density at Pt due to O 3.63061546119\u001b[0m\n\u001b[0m             ^\u001b[0m\n\u001b[0;31mSyntaxError\u001b[0m\u001b[0;31m:\u001b[0m invalid syntax\n"
     ]
    }
   ],
   "source": [
    "Density at Pt due to O 3.63061546119\n",
    "Embedded energy of Pt [-0.29305561]\n",
    "Density at O due to Pt 6.71281049799\n",
    "Embedded energy of O [-0.05991022]\n",
    "PairPotenial 1.63388578776\n",
    "Self energy of O with V0 -98.68599999999999\n",
    "Self energy of O without V0 42.32000000000001\n",
    "self enrgy of Pt wih V0 -0.389998245\n",
    "Self energy of Pt without V0 1.7550000000000001e-06\n",
    "Total Energy -97.795078296\n",
    "In [194]:\n",
    "\n"
   ]
  },
  {
   "cell_type": "code",
   "execution_count": 17,
   "metadata": {
    "collapsed": false
   },
   "outputs": [
    {
     "ename": "SyntaxError",
     "evalue": "invalid syntax (<ipython-input-17-c00d5fedad5a>, line 1)",
     "output_type": "error",
     "traceback": [
      "\u001b[0;36m  File \u001b[0;32m\"<ipython-input-17-c00d5fedad5a>\"\u001b[0;36m, line \u001b[0;32m1\u001b[0m\n\u001b[0;31m    Density at Pt due to O 4.23571803805\u001b[0m\n\u001b[0m             ^\u001b[0m\n\u001b[0;31mSyntaxError\u001b[0m\u001b[0;31m:\u001b[0m invalid syntax\n"
     ]
    }
   ],
   "source": [
    "Density at Pt due to O 4.23571803805\n",
    "Embedded energy of Pt [-0.4150827]\n",
    "Density at O due to Pt 6.04152944819\n",
    "Embedded energy of O [-0.05031821]\n",
    "PairPotenial 1.94617029675\n",
    "Self energy of O with V0 -45.786\n",
    "Self energy of O without V0 95.22\n",
    "self enrgy of Pt wih V0 175.074901755\n",
    "Self energy of Pt without V0 175.464901755\n",
    "Total Energy 130.769671142"
   ]
  },
  {
   "cell_type": "code",
   "execution_count": 18,
   "metadata": {
    "collapsed": false
   },
   "outputs": [
    {
     "data": {
      "text/plain": [
       "228.56474943799998"
      ]
     },
     "execution_count": 18,
     "metadata": {},
     "output_type": "execute_result"
    }
   ],
   "source": [
    "#diff \n",
    "130.769671142-(-97.795078296)"
   ]
  },
  {
   "cell_type": "code",
   "execution_count": 19,
   "metadata": {
    "collapsed": false
   },
   "outputs": [],
   "source": [
    "Vee=694 #KJ/mol\n",
    "Veechanged=166.03178776#kcal/mol\n"
   ]
  },
  {
   "cell_type": "code",
   "execution_count": 72,
   "metadata": {
    "collapsed": false
   },
   "outputs": [
    {
     "ename": "NameError",
     "evalue": "name 'fe_Al' is not defined",
     "output_type": "error",
     "traceback": [
      "\u001b[0;31m---------------------------------------------------------------------------\u001b[0m",
      "\u001b[0;31mNameError\u001b[0m                                 Traceback (most recent call last)",
      "\u001b[0;32m<ipython-input-72-bc6308c92518>\u001b[0m in \u001b[0;36m<module>\u001b[0;34m()\u001b[0m\n\u001b[1;32m     18\u001b[0m \u001b[0;34m\u001b[0m\u001b[0m\n\u001b[1;32m     19\u001b[0m \u001b[0;31m# johnson potential\u001b[0m\u001b[0;34m\u001b[0m\u001b[0;34m\u001b[0m\u001b[0m\n\u001b[0;32m---> 20\u001b[0;31m \u001b[0mf_Pt\u001b[0m\u001b[0;34m=\u001b[0m\u001b[0mf\u001b[0m\u001b[0;34m(\u001b[0m\u001b[0mr\u001b[0m\u001b[0;34m,\u001b[0m\u001b[0mq_Pt\u001b[0m\u001b[0;34m,\u001b[0m\u001b[0mN_Pt\u001b[0m\u001b[0;34m,\u001b[0m\u001b[0mfe_Al\u001b[0m\u001b[0;34m,\u001b[0m\u001b[0mbeta_Al\u001b[0m\u001b[0;34m,\u001b[0m\u001b[0mre_Al\u001b[0m\u001b[0;34m,\u001b[0m\u001b[0mlam_Al\u001b[0m\u001b[0;34m)\u001b[0m\u001b[0;34m\u001b[0m\u001b[0m\n\u001b[0m\u001b[1;32m     21\u001b[0m \u001b[0mf_O\u001b[0m\u001b[0;34m=\u001b[0m\u001b[0mf\u001b[0m\u001b[0;34m(\u001b[0m\u001b[0mr\u001b[0m\u001b[0;34m,\u001b[0m\u001b[0mq_O\u001b[0m\u001b[0;34m,\u001b[0m\u001b[0mN_O\u001b[0m\u001b[0;34m,\u001b[0m\u001b[0mfe_O\u001b[0m\u001b[0;34m,\u001b[0m\u001b[0mgamma_O\u001b[0m\u001b[0;34m,\u001b[0m\u001b[0mre_O\u001b[0m\u001b[0;34m,\u001b[0m\u001b[0mnu_O\u001b[0m\u001b[0;34m)\u001b[0m\u001b[0;34m\u001b[0m\u001b[0m\n\u001b[1;32m     22\u001b[0m \u001b[0mphiPt\u001b[0m\u001b[0;34m=\u001b[0m\u001b[0mphiT\u001b[0m\u001b[0;34m(\u001b[0m\u001b[0mr\u001b[0m\u001b[0;34m,\u001b[0m\u001b[0mA_Pt\u001b[0m\u001b[0;34m,\u001b[0m\u001b[0malpha_Pt\u001b[0m\u001b[0;34m,\u001b[0m\u001b[0mre_Pt\u001b[0m\u001b[0;34m,\u001b[0m\u001b[0mB_Pt\u001b[0m\u001b[0;34m,\u001b[0m\u001b[0mbeta_Pt\u001b[0m\u001b[0;34m,\u001b[0m\u001b[0mkappa_Pt\u001b[0m\u001b[0;34m)\u001b[0m\u001b[0;34m\u001b[0m\u001b[0m\n",
      "\u001b[0;31mNameError\u001b[0m: name 'fe_Al' is not defined"
     ]
    }
   ],
   "source": [
    "#plot of Energies vrs q\n",
    "q=num.linspace(0,.2,1000)\n",
    "r=2\n",
    "q_Pt=q\n",
    "q_O=-q\n",
    "rho_Pt=f(r,q_O,N_O,fe_O,gamma_O,re_O,nu_O)\n",
    "\n",
    "#Embedded energy of Pt\n",
    "F_Pt=F2004(rho_Pt,rhoe_Pt,rhos_Pt,Fn0_Pt,Fn1_Pt,Fn2_Pt,Fn3_Pt,F0_Pt,F1_Pt,F2_Pt,F3_Pt,Fe_Pt,eta_Pt)\n",
    "\n",
    "\n",
    "#density at O due to Pt\n",
    "rho_O=f(r,q_Pt,N_Pt,fe_Pt,beta_Pt,re_Pt,lambda_Pt)\n",
    "\n",
    "#Embedded energy of O\n",
    "F_O=FO(rho_O,rhoe_O,rhominO,rhomaxO,\\\n",
    "       F0[0],F0[1],F0[2],F0[3],F0[4],\\\n",
    "       F1[0],F1[1],F1[2],F1[3],F1[4],\\\n",
    "      F2[0],F2[1],F2[2],F2[3],F2[4],\\\n",
    "      F3[0],F3[1],F3[2],F3[3],F3[4])\n",
    "\n",
    "\n",
    "# johnson potential\n",
    "f_Pt=f(r,q_Pt,N_Pt,fe_Al,beta_Al,re_Al,lam_Al)\n",
    "f_O=f(r,q_O,N_O,fe_O,gamma_O,re_O,nu_O)\n",
    "phiPt=phiT(r,A_Pt,alpha_Pt,re_Pt,B_Pt,beta_Pt,kappa_Pt)\n",
    "phiO=phiT(r,A_O,alpha_O,re_O,B_O,beta_O,kappa_O)\n",
    "phiPt_O=(1/2)*((rho_Pt/f_O)*phiO+(f_O/f_Pt)*phiPt)\n",
    "\n",
    "\n",
    "\n",
    "#self energy of O\n",
    "O_self=(.5*529*(q_O-(-0.40))**2+(-141.006))\n",
    "\n",
    "O_selfWithoutV0=(.5*529*(q_O-(-0.40))**2)\n",
    "\n",
    "\n",
    "\n",
    "#self energy of Pt\n",
    "Pt_self=(.5*351*(q_Pt-0.0001)**2+(-0.39))\n",
    "\n",
    "Pt_selfWithoutV0=(.5*351*(q_Pt-0.0001)**2)\n",
    "\n",
    "#total energy\n",
    "Etot=F_O+F_Pt+phiPt_O+Pt_self+O_self\n"
   ]
  },
  {
   "cell_type": "code",
   "execution_count": 29,
   "metadata": {
    "collapsed": false
   },
   "outputs": [
    {
     "data": {
      "text/plain": [
       "<matplotlib.text.Text at 0x7f0e7a90fb38>"
      ]
     },
     "execution_count": 29,
     "metadata": {},
     "output_type": "execute_result"
    },
    {
     "data": {
      "image/png": "[encoded data removed]",
      "text/plain": [
       "<matplotlib.figure.Figure at 0x7f0e7b306be0>"
      ]
     },
     "metadata": {},
     "output_type": "display_data"
    }
   ],
   "source": [
    "colors=['b','b-.', 'g-.','g','r-.','r','c-.','c','m-.','m','y-.','y'\\\n",
    "        , 'k-.']\n",
    "lab.plot(q,Etot,colors[0],label=\"E_tot\")\n",
    "lab.plot(q,F_Pt,colors[1],label=\"F_pt\")\n",
    "lab.plot(q,F_O,colors[2],label=\"F_O\")\n",
    "lab.plot(q,phiPt_O,colors[3],label=\"Phi\")\n",
    "#lab.plot(q,Pt_self,colors[4],label=\"Pt_Self\")\n",
    "#lab.plot(q,O_self,colors[5],label=\"O_self\")\n",
    "lab.plot(q,Pt_selfWithoutV0,colors[6],label=\"Pt-Vo\")\n",
    "lab.plot(q,O_selfWithoutV0,colors[7],label=\"O_Vo\")\n",
    "lgd=lab.legend(bbox_to_anchor=(1.5,1),loc=\"upper right\")\n",
    "lab.xlabel(\"q\")\n",
    "lab.ylabel(\"energy\")"
   ]
  },
  {
   "cell_type": "code",
   "execution_count": 30,
   "metadata": {
    "collapsed": false
   },
   "outputs": [
    {
     "data": {
      "text/plain": [
       "<matplotlib.text.Text at 0x7f0e7a89a828>"
      ]
     },
     "execution_count": 30,
     "metadata": {},
     "output_type": "execute_result"
    },
    {
     "data": {
      "image/png": "[encoded data removed]",
      "text/plain": [
       "<matplotlib.figure.Figure at 0x7f0e7b336390>"
      ]
     },
     "metadata": {},
     "output_type": "display_data"
    }
   ],
   "source": [
    "colors=['b','b-.', 'g-.','g','r-.','r','c-.','c','m-.','m','y-.','y'\\\n",
    "        , 'k-.']\n",
    "def der(data,step):\n",
    "    return (num.diff(data)/step)\n",
    "q=num.linspace(0,2,1000)\n",
    "q=q[:-1]\n",
    "step=q[1]-q[0]\n",
    "#lab.plot(q,der(Etot,step),colors[0],label=\"E_tot\")\n",
    "lab.plot(q,der(F_Pt,step),colors[1],label=\"F_pt\")\n",
    "lab.plot(q,der(F_O,step),colors[2],label=\"F_O\")\n",
    "lab.plot(q,der(phiPt_O,step),colors[3],label=\"Phi\")\n",
    "#lab.plot(q,der(Pt_self,step),colors[4],label=\"Pt_Self\")\n",
    "#lab.plot(q,der(O_self,step),colors[5],label=\"O_self\")\n",
    "lab.plot(q,der(Pt_selfWithoutV0,step),colors[6],label=\"Pt-Vo\")\n",
    "lab.plot(q,der(O_selfWithoutV0,step),colors[7],label=\"O_Vo\")\n",
    "lgd=lab.legend(bbox_to_anchor=(1.5,1),loc=\"upper right\")\n",
    "lab.xlabel(\"q\")\n",
    "lab.ylabel(\"force\")"
   ]
  },
  {
   "cell_type": "code",
   "execution_count": 118,
   "metadata": {
    "collapsed": false
   },
   "outputs": [],
   "source": [
    "rr=num.linspace(1.5,3,100)\n",
    "phiPt1=phiT(rr,A_Pt,alpha_Pt,re_Pt,B_Pt,beta_Pt,kappa_Pt)"
   ]
  },
  {
   "cell_type": "code",
   "execution_count": 119,
   "metadata": {
    "collapsed": false
   },
   "outputs": [
    {
     "data": {
      "text/plain": [
       "[<matplotlib.lines.Line2D at 0x7fad7d641710>]"
      ]
     },
     "execution_count": 119,
     "metadata": {},
     "output_type": "execute_result"
    },
    {
     "data": {
      "image/png": "[encoded data removed]",
      "text/plain": [
       "<matplotlib.figure.Figure at 0x7fad7d6edef0>"
      ]
     },
     "metadata": {},
     "output_type": "display_data"
    }
   ],
   "source": [
    "lab.plot(rr,phiPt1)"
   ]
  },
  {
   "cell_type": "code",
   "execution_count": 106,
   "metadata": {
    "collapsed": false
   },
   "outputs": [
    {
     "data": {
      "text/plain": [
       "array([  6.47449966e+02,   1.48851910e+02,   3.25569676e+01,\n",
       "         6.30534270e+00,   8.01231859e-01,  -1.42372332e-01,\n",
       "        -1.87805963e-01,  -4.93260000e-02,  -1.19587834e-03,\n",
       "        -2.86763220e-05])"
      ]
     },
     "execution_count": 106,
     "metadata": {},
     "output_type": "execute_result"
    }
   ],
   "source": [
    "phiT(rr,A_Pt,alpha_Pt,re_Pt,B_Pt,beta_Pt,kappa_Pt)"
   ]
  },
  {
   "cell_type": "code",
   "execution_count": null,
   "metadata": {
    "collapsed": true
   },
   "outputs": [],
   "source": []
  }
 ],
 "metadata": {
  "anaconda-cloud": {},
  "kernelspec": {
   "display_name": "Python [default]",
   "language": "python",
   "name": "python3"
  },
  "language_info": {
   "codemirror_mode": {
    "name": "ipython",
    "version": 3
   },
   "file_extension": ".py",
   "mimetype": "text/x-python",
   "name": "python",
   "nbconvert_exporter": "python",
   "pygments_lexer": "ipython3",
   "version": "3.5.2"
  }
 },
 "nbformat": 4,
 "nbformat_minor": 0
}
