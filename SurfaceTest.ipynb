{
 "cells": [
  {
   "cell_type": "code",
   "execution_count": 2,
   "metadata": {},
   "outputs": [],
   "source": [
    "import numpy as num\n",
    "import matplotlib.pyplot as plt\n",
    "from matplotlib import use\n",
    "import pylab as lab\n",
    "from scipy import constants\n",
    "from matplotlib import rcParams\n",
    "import os\n",
    "\n",
    "from scipy.optimize import curve_fit\n",
    "\n",
    "os.chdir(\"/home/hbhattar/afs/Hemanta/metals/pythonScripts/function\")\n",
    "\n",
    "import FDEAM as feam\n",
    "\n",
    "os.chdir(\"/home/hbhattar/afs/Hemanta/metals/pythonScripts/\")"
   ]
  },
  {
   "cell_type": "code",
   "execution_count": 7,
   "metadata": {},
   "outputs": [],
   "source": [
    "frames=10\n",
    "rawData=feam.DumpExtractor(\"../TestSurf/4Atom.dump\",10,4,0)\n",
    "[vxd,vyd,vzd]=rawData[\"velocity\"]\n",
    "[xd,yd,zd]=rawData[\"position\"]\n",
    "[cd,wd]=rawData[\"chargeQV\"]\n",
    "[exd,eyd,ezd]=rawData[\"electricField\"]\n",
    "       "
   ]
  },
  {
   "cell_type": "code",
   "execution_count": 13,
   "metadata": {},
   "outputs": [
    {
     "data": {
      "text/plain": [
       "array([[ 0.,  0.,  0.,  0.],\n",
       "       [ 0.,  0.,  0.,  0.],\n",
       "       [ 0.,  0.,  0.,  0.],\n",
       "       [ 0.,  0.,  0.,  0.],\n",
       "       [ 0.,  0.,  0.,  0.],\n",
       "       [ 0.,  0.,  0.,  0.],\n",
       "       [ 0.,  0.,  0.,  0.],\n",
       "       [ 0.,  0.,  0.,  0.],\n",
       "       [ 0.,  0.,  0.,  0.],\n",
       "       [ 0.,  0.,  0.,  0.]])"
      ]
     },
     "execution_count": 13,
     "metadata": {},
     "output_type": "execute_result"
    }
   ],
   "source": [
    "ezd"
   ]
  },
  {
   "cell_type": "code",
   "execution_count": 11,
   "metadata": {},
   "outputs": [],
   "source": [
    "frames=10\n",
    "rawData=feam.DumpExtractor(\"../TestSurf/4AtomDSFD.dump\",10,4,0)\n",
    "[vxs,vys,vzs]=rawData[\"velocity\"]\n",
    "[xs,ys,zs]=rawData[\"position\"]\n",
    "[cs,ws]=rawData[\"chargeQV\"]\n",
    "[exs,eys,ezs]=rawData[\"electricField\"]"
   ]
  },
  {
   "cell_type": "code",
   "execution_count": 14,
   "metadata": {},
   "outputs": [
    {
     "data": {
      "text/plain": [
       "array([[ 0.,  0.,  0.,  0.],\n",
       "       [ 0.,  0.,  0.,  0.],\n",
       "       [ 0.,  0.,  0.,  0.],\n",
       "       [ 0.,  0.,  0.,  0.],\n",
       "       [ 0.,  0.,  0.,  0.],\n",
       "       [ 0.,  0.,  0.,  0.],\n",
       "       [ 0.,  0.,  0.,  0.],\n",
       "       [ 0.,  0.,  0.,  0.],\n",
       "       [ 0.,  0.,  0.,  0.],\n",
       "       [ 0.,  0.,  0.,  0.]])"
      ]
     },
     "execution_count": 14,
     "metadata": {},
     "output_type": "execute_result"
    }
   ],
   "source": [
    "ezd"
   ]
  },
  {
   "cell_type": "code",
   "execution_count": 20,
   "metadata": {},
   "outputs": [],
   "source": [
    "file=open(\"../ZhouCrystalCalculations/Ag.omd\")"
   ]
  },
  {
   "cell_type": "code",
   "execution_count": 21,
   "metadata": {},
   "outputs": [],
   "source": [
    "lines=file.readlines()"
   ]
  },
  {
   "cell_type": "code",
   "execution_count": 38,
   "metadata": {},
   "outputs": [
    {
     "name": "stdout",
     "output_type": "stream",
     "text": [
      "['Hmat:', '{{', '40.027602,', '0.000000,', '0.000000', '},', '{', '0.000000,', '23.109947,', '0.000000', '},', '{', '0.000000,', '0.000000,', '28.303789', '}}']\n",
      "40.027602, 23.109947, 28.303789\n"
     ]
    }
   ],
   "source": [
    "import re\n",
    "for line in lines:\n",
    "    word=line.split()\n",
    "    if \"Hmat:\" in word:\n",
    "        print(word)\n",
    "        print(word[2],word[8],word[14])\n",
    "        match_number = re.compile('-?\\ *[0-9]+\\.?[0-9]*(?:[Ee]\\ *[-+]?\\ *[0-9]+)?')\n",
    "        Lx=[float(x) for x in re.findall(match_number,word[2])]\n",
    "        Ly=[float(y) for y in re.findall(match_number,word[8])]\n",
    "        Lz=[float(z) for z in re.findall(match_number,word[14])]"
   ]
  },
  {
   "cell_type": "code",
   "execution_count": 78,
   "metadata": {},
   "outputs": [],
   "source": [
    "e1=num.random.rand(9).reshape(3,3)"
   ]
  },
  {
   "cell_type": "code",
   "execution_count": 79,
   "metadata": {},
   "outputs": [],
   "source": [
    "def f(e):\n",
    "    return e+.5*num.matmul(e,e)"
   ]
  },
  {
   "cell_type": "code",
   "execution_count": 80,
   "metadata": {},
   "outputs": [],
   "source": [
    "eta=f(e1)"
   ]
  },
  {
   "cell_type": "code",
   "execution_count": 84,
   "metadata": {},
   "outputs": [],
   "source": [
    "e=num.zeros(9).reshape(3,3)\n",
    "for var in range(100000):\n",
    "    e=eta-.5*num.matmul(e,e)"
   ]
  },
  {
   "cell_type": "code",
   "execution_count": 85,
   "metadata": {},
   "outputs": [
    {
     "data": {
      "text/plain": [
       "array([[-0.25685529, -0.52342052, -0.45994591],\n",
       "       [-0.13858938, -0.28241788, -0.24816938],\n",
       "       [-0.19741031, -0.40228335, -0.3534989 ]])"
      ]
     },
     "execution_count": 85,
     "metadata": {},
     "output_type": "execute_result"
    }
   ],
   "source": [
    "e-e1"
   ]
  },
  {
   "cell_type": "code",
   "execution_count": null,
   "metadata": {},
   "outputs": [],
   "source": []
  }
 ],
 "metadata": {
  "kernelspec": {
   "display_name": "Python [default]",
   "language": "python",
   "name": "python3"
  },
  "language_info": {
   "codemirror_mode": {
    "name": "ipython",
    "version": 3
   },
   "file_extension": ".py",
   "mimetype": "text/x-python",
   "name": "python",
   "nbconvert_exporter": "python",
   "pygments_lexer": "ipython3",
   "version": "3.5.2"
  }
 },
 "nbformat": 4,
 "nbformat_minor": 2
}
