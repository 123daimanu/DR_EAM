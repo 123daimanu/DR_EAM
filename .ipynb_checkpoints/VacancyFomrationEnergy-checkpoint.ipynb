{
 "metadata": {
  "name": "",
  "signature": "sha256:c60b4eb11e86017d4fd571197fb698208904ffc8c0a0f2d19758bcce9b60c63c"
 },
 "nbformat": 3,
 "nbformat_minor": 0,
 "worksheets": []
}