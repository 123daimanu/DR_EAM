{
 "metadata": {
  "name": "",
  "signature": "sha256:d0ac9856ff305a664ae7903d9c2225e9cc946aa4172ff8222f5271dd9de6ffe6"
 },
 "nbformat": 3,
 "nbformat_minor": 0,
 "worksheets": [
  {
   "cells": [
    {
     "cell_type": "code",
     "collapsed": false,
     "input": [
      "import numpy as num\n",
      "import matplotlib.pyplot as plt\n",
      "\n",
      "# Determine the index of the atoms having same z-value \n",
      "#list the index of atoms in same plane\n",
      "fileOmd=open(\"Pt_test_7_layers_newc.xyz\")\n",
      "linesOmd=fileOmd.readlines()\n",
      "process=\"Wait\"\n",
      "posz=[]\n",
      "   \n",
      "for line in linesOmd:\n",
      "    linesSplit=str.split(line)\n",
      "    length=len(linesSplit)\n",
      "    \n",
      "    if(linesSplit[0]!=\"Na+\"):\n",
      "        posz.append(float(linesSplit[3]))\n",
      "    \n",
      "    else:\n",
      "        break;\n",
      "       \n",
      "   \n",
      "lengthPosz=len(posz)\n",
      "sortPos=num.argsort(posz) # sorts the list with arguments as output i.e position as output\n",
      "\n",
      "\n",
      "\n",
      "arrSortPos=num.array(sortPos)\n",
      "\n",
      "# Make the different plane using the index of the atoms\n",
      "indexPoszSort=[]\n",
      "indexPoszSort.append(0)\n",
      "init=posz[sortPos[0]]\n",
      "for i in range(0,lengthPosz):\n",
      "    if(posz[sortPos[i]]!=init):\n",
      "        indexPoszSort.append(i)\n",
      "    init=posz[sortPos[i]]\n",
      "\n",
      "\n",
      "# X Y and C arrays for different atoms.\n",
      "\n",
      "filexyz=open(\"Pt_test_7_layers_newc.xyz\")\n",
      "linesXYZ=filexyz.readlines()\n",
      "atomNumber=lengthPosz;\n",
      "\n",
      "layerCrystal=len(indexPoszSort)\n",
      "\n",
      "\n",
      "numFrames=101 # number of farame in .omd file\n",
      "x=num.zeros((numFrames,atomNumber))\n",
      "y=num.zeros((numFrames,atomNumber))\n",
      "c=num.zeros((numFrames,atomNumber))\n",
      "\n",
      "count=0\n",
      "index=0\n",
      "\n",
      "for line in linesXYZ:\n",
      "    lineApp=str.split(line);\n",
      "    \n",
      "    if(lineApp[0]==\"Na+\"):\n",
      "        count=count+1\n",
      "        index=0\n",
      "        continue\n",
      "    else:\n",
      "        x[count][index]=float(lineApp[1])\n",
      "        y[count][index]=float(lineApp[2])\n",
      "        c[count][index]=float(lineApp[4])\n",
      "        index=index+1\n",
      "        \n",
      "indexPoszSort.append(atomNumber)\n",
      "\n",
      "#scatter plot of top layer\n",
      "frame=99\n",
      "Layer=layerCrystal\n",
      "print indexPoszSort\n",
      "\n",
      "#edited change for check\n",
      "xx=x[0:98][10]\n",
      "yy=y[0:98][10]\n",
      "charge=c[0:98][10]\n",
      "scaled_c = (charge - charge.min()) / charge.ptp()\n",
      "colors = plt.cm.coolwarm(scaled_c)\n",
      "plt.scatter(xx,yy)\n",
      "plt.show()\n",
      "\n",
      "\n",
      "#edited change for check\n",
      "#scatter plot of top layer\n",
      "\n",
      "for frameNo in range(frame+1):\n",
      "    fig=plt.figure()\n",
      "    for zLayer in range(1,Layer+1):\n",
      "        layer=range(indexPoszSort[zLayer-1],indexPoszSort[zLayer])\n",
      "        position=arrSortPos[layer]\n",
      "        charge=c[frameNo,position]\n",
      "        xx= x[frameNo,position]\n",
      "        yy= y[frameNo,position]\n",
      "        scaled_c = (charge - charge.min()) / charge.ptp()\n",
      "        colors = plt.cm.coolwarm(scaled_c)\n",
      "        sign=[];\n",
      "        for var in charge:\n",
      "            if (var<0):\n",
      "                sign.append(\"blue\");\n",
      "            elif(var>0):\n",
      "                sign.append(\"red\");\n",
      "            else:\n",
      "                sign.append(\"green\")\n",
      "        ax1 = fig.add_subplot(2,4,zLayer)\n",
      "        plt.scatter(xx, yy, c=colors, s=50, cmap='jet_r',edgecolor=sign,linewidth=1)\n",
      "        plt.grid()\n",
      "        \n",
      "    fileName=str(frameNo)+\".jpeg\"\n",
      "    plt.title(str(frameNo))\n",
      "    plt.savefig(fileName)\n",
      "       \n"
     ],
     "language": "python",
     "metadata": {},
     "outputs": [
      {
       "output_type": "stream",
       "stream": "stdout",
       "text": [
        "[0, 98, 196, 294, 392, 490, 588, 686]\n"
       ]
      }
     ],
     "prompt_number": 22
    },
    {
     "cell_type": "code",
     "collapsed": false,
     "input": [],
     "language": "python",
     "metadata": {},
     "outputs": []
    },
    {
     "cell_type": "code",
     "collapsed": false,
     "input": [],
     "language": "python",
     "metadata": {},
     "outputs": [
      {
       "output_type": "stream",
       "stream": "stdout",
       "text": [
        "[0, 98, 196, 294, 392, 490, 588, 686]\n"
       ]
      },
      {
       "ename": "IndexError",
       "evalue": "index 212 is out of bounds for axis 0 with size 101",
       "output_type": "pyerr",
       "traceback": [
        "\u001b[0;31m---------------------------------------------------------------------------\u001b[0m\n\u001b[0;31mIndexError\u001b[0m                                Traceback (most recent call last)",
        "\u001b[0;32m<ipython-input-16-987276d00623>\u001b[0m in \u001b[0;36m<module>\u001b[0;34m()\u001b[0m\n\u001b[1;32m      7\u001b[0m         \u001b[0mlayer\u001b[0m\u001b[0;34m=\u001b[0m\u001b[0mrange\u001b[0m\u001b[0;34m(\u001b[0m\u001b[0mindexPoszSort\u001b[0m\u001b[0;34m[\u001b[0m\u001b[0mzLayer\u001b[0m\u001b[0;34m-\u001b[0m\u001b[0;36m1\u001b[0m\u001b[0;34m]\u001b[0m\u001b[0;34m,\u001b[0m\u001b[0mindexPoszSort\u001b[0m\u001b[0;34m[\u001b[0m\u001b[0mzLayer\u001b[0m\u001b[0;34m]\u001b[0m\u001b[0;34m)\u001b[0m\u001b[0;34m\u001b[0m\u001b[0m\n\u001b[1;32m      8\u001b[0m         \u001b[0mposition\u001b[0m\u001b[0;34m=\u001b[0m\u001b[0marrSortPos\u001b[0m\u001b[0;34m[\u001b[0m\u001b[0mlayer\u001b[0m\u001b[0;34m]\u001b[0m\u001b[0;34m\u001b[0m\u001b[0m\n\u001b[0;32m----> 9\u001b[0;31m         \u001b[0mcharge\u001b[0m\u001b[0;34m=\u001b[0m\u001b[0mc\u001b[0m\u001b[0;34m[\u001b[0m\u001b[0mposition\u001b[0m\u001b[0;34m,\u001b[0m\u001b[0mframeNo\u001b[0m\u001b[0;34m]\u001b[0m\u001b[0;34m\u001b[0m\u001b[0m\n\u001b[0m\u001b[1;32m     10\u001b[0m         \u001b[0mxx\u001b[0m\u001b[0;34m=\u001b[0m \u001b[0mx\u001b[0m\u001b[0;34m[\u001b[0m\u001b[0mposition\u001b[0m\u001b[0;34m,\u001b[0m\u001b[0mframeNo\u001b[0m\u001b[0;34m]\u001b[0m\u001b[0;34m\u001b[0m\u001b[0m\n\u001b[1;32m     11\u001b[0m         \u001b[0myy\u001b[0m\u001b[0;34m=\u001b[0m \u001b[0my\u001b[0m\u001b[0;34m[\u001b[0m\u001b[0mposition\u001b[0m\u001b[0;34m,\u001b[0m\u001b[0mframeNo\u001b[0m\u001b[0;34m]\u001b[0m\u001b[0;34m\u001b[0m\u001b[0m\n",
        "\u001b[0;31mIndexError\u001b[0m: index 212 is out of bounds for axis 0 with size 101"
       ]
      }
     ],
     "prompt_number": 16
    },
    {
     "cell_type": "markdown",
     "metadata": {},
     "source": []
    }
   ],
   "metadata": {}
  }
 ]
}