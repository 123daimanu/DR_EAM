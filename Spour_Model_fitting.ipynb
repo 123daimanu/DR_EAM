{
 "cells": [
  {
   "cell_type": "markdown",
   "metadata": {},
   "source": [
    "## This program helps to fit a Mie potential to Sphor model for water metal interaction\n",
    "\n",
    "###  Sphor Model for Water-Au interaction\n",
    "\\begin{equation}\n",
    "U_\\mathrm{M-Water} = U_\\mathrm{M-O} + U_\\mathrm{M-H1} + U_\\mathrm{M-H2}\n",
    "\\end{equation}\n",
    "#### Metal - Oxygen interaction:\n",
    "\\begin{equation}\n",
    "U_\\mathrm{M-O}(r) = D_0\\left[\\exp(-2\\beta_O(r-r_\\mathrm{e1}))-2\\exp(-\\beta_O(r-r_\\mathrm{e1}))\\right]\n",
    "\\end{equation}\n",
    "#### Metal - Hydrogen interaction:\n",
    "\\begin{equation}\n",
    "U_\\mathrm{M-H} = \\gamma D_0 \\exp(-2\\beta_H(r-r_\\mathrm{e2}))\n",
    "\\end{equation}\n",
    "\n",
    "### The parameters for the Sphor model are:\n",
    "\\begin{eqnarray}\n",
    "D_0 & = & 6.68\\times 10^{-2}\\,\\mathrm{eV}\\\\\n",
    "\\beta_O & = & 13.0\\,\\mathrm{nm^{-1}}\\\\\n",
    "\\beta_H & = & 13.0\\,\\mathrm{nm^{-1}}\\\\\n",
    "r_\\mathrm{e1} & = & 0.37\\,\\mathrm{nm}\\\\\n",
    "r_\\mathrm{e2} & = & -0.1\\,\\mathrm{nm}\\\\\n",
    "\\gamma & = & 0.2\n",
    "\\end{eqnarray}"
   ]
  },
  {
   "cell_type": "code",
   "execution_count": 1,
   "metadata": {},
   "outputs": [],
   "source": [
    "import numpy as np\n",
    "from matplotlib import pyplot as plt"
   ]
  },
  {
   "cell_type": "code",
   "execution_count": 45,
   "metadata": {},
   "outputs": [],
   "source": [
    "D0 = 6.68e-2\n",
    "bo = 13.0 * 0.1 # IN Ang^{-1}\n",
    "bh = 13.0 * 0.1\n",
    "re1 = 0.37 * 10 # In Ang\n",
    "re2 = -0.1 * 10\n",
    "gamma = 0.2"
   ]
  },
  {
   "cell_type": "code",
   "execution_count": 46,
   "metadata": {},
   "outputs": [
    {
     "data": {
      "text/plain": [
       "(100000,)"
      ]
     },
     "execution_count": 46,
     "metadata": {},
     "output_type": "execute_result"
    }
   ],
   "source": [
    "r = np.linspace(1,7,100000)\n",
    "r.shape"
   ]
  },
  {
   "cell_type": "code",
   "execution_count": 47,
   "metadata": {},
   "outputs": [],
   "source": [
    "def sphorO(r):\n",
    "    return D0 * (np.exp(-2 * bo * (r - re1)) - 2 * np.exp(-bo * (r - re1)))\n",
    "def sphorH(r):\n",
    "    return D0 * gamma * np.exp(-2 * bh * (r - re2))"
   ]
  },
  {
   "cell_type": "code",
   "execution_count": 48,
   "metadata": {},
   "outputs": [
    {
     "data": {
      "image/png": "[encoded data removed]",
      "text/plain": [
       "<Figure size 432x288 with 1 Axes>"
      ]
     },
     "metadata": {
      "needs_background": "light"
     },
     "output_type": "display_data"
    }
   ],
   "source": [
    "pecO = sphorO(r)\n",
    "pecH = sphorH(r)\n",
    "plt.plot(r, pecH)\n",
    "plt.show()"
   ]
  },
  {
   "cell_type": "markdown",
   "metadata": {},
   "source": [
    "## Mie Potential\n",
    "\\begin{equation}\n",
    "U_\\mathrm{Mie}(r) = \\left(\\frac{n}{n-m}\\right)\\left(\\frac{n}{m}\\right)^\\frac{m}{n-m} \\epsilon \\left[ \\left(\\frac{\\sigma}{r}\\right)^n - \\left(\\frac{\\sigma}{r}\\right)^m\\right]\n",
    "\\end{equation}"
   ]
  },
  {
   "cell_type": "code",
   "execution_count": 38,
   "metadata": {},
   "outputs": [],
   "source": [
    "n = 9\n",
    "m = 6"
   ]
  },
  {
   "cell_type": "code",
   "execution_count": 49,
   "metadata": {},
   "outputs": [],
   "source": [
    "def Mie(r, e, s):\n",
    "    return (n/(n-m))* (n/m)**(m/(n-m))* e* ((s/r)**n - (s/r)**m)\n",
    "\n",
    "def Repulsive(r,sig, p):\n",
    "    return sig * (1/r)**p"
   ]
  },
  {
   "cell_type": "code",
   "execution_count": 40,
   "metadata": {},
   "outputs": [],
   "source": [
    "from scipy.optimize import curve_fit"
   ]
  },
  {
   "cell_type": "code",
   "execution_count": 50,
   "metadata": {},
   "outputs": [],
   "source": [
    "pec_fitO = Mie(r,0.0681344, 3.18284)\n",
    "pec_fitH = Repulsive(r,0.0000921016,4)"
   ]
  },
  {
   "cell_type": "code",
   "execution_count": 25,
   "metadata": {},
   "outputs": [
    {
     "ename": "NameError",
     "evalue": "name 'para' is not defined",
     "output_type": "error",
     "traceback": [
      "\u001b[0;31m---------------------------------------------------------------------------\u001b[0m",
      "\u001b[0;31mNameError\u001b[0m                                 Traceback (most recent call last)",
      "\u001b[0;32m<ipython-input-25-b54a7aadb951>\u001b[0m in \u001b[0;36m<module>\u001b[0;34m\u001b[0m\n\u001b[0;32m----> 1\u001b[0;31m \u001b[0mpara\u001b[0m\u001b[0;34m\u001b[0m\u001b[0;34m\u001b[0m\u001b[0m\n\u001b[0m",
      "\u001b[0;31mNameError\u001b[0m: name 'para' is not defined"
     ]
    }
   ],
   "source": [
    "para"
   ]
  },
  {
   "cell_type": "code",
   "execution_count": 26,
   "metadata": {},
   "outputs": [
    {
     "ename": "NameError",
     "evalue": "name 'para' is not defined",
     "output_type": "error",
     "traceback": [
      "\u001b[0;31m---------------------------------------------------------------------------\u001b[0m",
      "\u001b[0;31mNameError\u001b[0m                                 Traceback (most recent call last)",
      "\u001b[0;32m<ipython-input-26-2be640a17ff6>\u001b[0m in \u001b[0;36m<module>\u001b[0;34m\u001b[0m\n\u001b[0;32m----> 1\u001b[0;31m \u001b[0mfitted_pec\u001b[0m \u001b[0;34m=\u001b[0m \u001b[0mMie\u001b[0m\u001b[0;34m(\u001b[0m\u001b[0mr\u001b[0m \u001b[0;34m,\u001b[0m \u001b[0mpara\u001b[0m\u001b[0;34m[\u001b[0m\u001b[0;36m0\u001b[0m\u001b[0;34m]\u001b[0m\u001b[0;34m,\u001b[0m \u001b[0mpara\u001b[0m\u001b[0;34m[\u001b[0m\u001b[0;36m1\u001b[0m\u001b[0;34m]\u001b[0m\u001b[0;34m)\u001b[0m\u001b[0;34m\u001b[0m\u001b[0;34m\u001b[0m\u001b[0m\n\u001b[0m",
      "\u001b[0;31mNameError\u001b[0m: name 'para' is not defined"
     ]
    }
   ],
   "source": [
    "fitted_pec = Mie(r , para[0], para[1])"
   ]
  },
  {
   "cell_type": "code",
   "execution_count": 27,
   "metadata": {},
   "outputs": [
    {
     "ename": "NameError",
     "evalue": "name 'pec' is not defined",
     "output_type": "error",
     "traceback": [
      "\u001b[0;31m---------------------------------------------------------------------------\u001b[0m",
      "\u001b[0;31mNameError\u001b[0m                                 Traceback (most recent call last)",
      "\u001b[0;32m<ipython-input-27-ef1f347443b1>\u001b[0m in \u001b[0;36m<module>\u001b[0;34m\u001b[0m\n\u001b[0;32m----> 1\u001b[0;31m \u001b[0mplt\u001b[0m\u001b[0;34m.\u001b[0m\u001b[0mplot\u001b[0m\u001b[0;34m(\u001b[0m\u001b[0mr\u001b[0m\u001b[0;34m,\u001b[0m \u001b[0mpec\u001b[0m\u001b[0;34m)\u001b[0m\u001b[0;34m\u001b[0m\u001b[0;34m\u001b[0m\u001b[0m\n\u001b[0m\u001b[1;32m      2\u001b[0m \u001b[0mplt\u001b[0m\u001b[0;34m.\u001b[0m\u001b[0mplot\u001b[0m\u001b[0;34m(\u001b[0m\u001b[0mr\u001b[0m\u001b[0;34m,\u001b[0m \u001b[0mfitted_pec\u001b[0m\u001b[0;34m)\u001b[0m\u001b[0;34m\u001b[0m\u001b[0;34m\u001b[0m\u001b[0m\n\u001b[1;32m      3\u001b[0m \u001b[0mplt\u001b[0m\u001b[0;34m.\u001b[0m\u001b[0mshow\u001b[0m\u001b[0;34m(\u001b[0m\u001b[0;34m)\u001b[0m\u001b[0;34m\u001b[0m\u001b[0;34m\u001b[0m\u001b[0m\n",
      "\u001b[0;31mNameError\u001b[0m: name 'pec' is not defined"
     ]
    }
   ],
   "source": [
    "plt.plot(r, pec)\n",
    "plt.plot(r, fitted_pec)\n",
    "plt.show()"
   ]
  },
  {
   "cell_type": "code",
   "execution_count": 52,
   "metadata": {},
   "outputs": [],
   "source": [
    "file = open(\"../PtWaterAdsorption/Sphur_tune.dat\",'w')\n",
    "file.write(\"#r\\tsO\\tsH\\tfO\\tfH\\n\")\n",
    "for var in range(len(r)):\n",
    "    file.write(\"%e\\t%e\\t%e\\t%e\\t%e\\n\"%(r[var],pecO[var],pecH[var],pec_fitO[var],pec_fitH[var]))\n",
    "file.close()"
   ]
  },
  {
   "cell_type": "code",
   "execution_count": 43,
   "metadata": {},
   "outputs": [
    {
     "data": {
      "text/plain": [
       "5.37914353639919"
      ]
     },
     "execution_count": 43,
     "metadata": {},
     "output_type": "execute_result"
    }
   ],
   "source": [
    "n=10\n",
    "\n",
    "m=6\n",
    "(n/(n-m))* (n/m)**(m/(n-m))"
   ]
  },
  {
   "cell_type": "code",
   "execution_count": null,
   "metadata": {},
   "outputs": [],
   "source": []
  },
  {
   "cell_type": "code",
   "execution_count": null,
   "metadata": {},
   "outputs": [],
   "source": []
  },
  {
   "cell_type": "code",
   "execution_count": null,
   "metadata": {},
   "outputs": [],
   "source": []
  }
 ],
 "metadata": {
  "anaconda-cloud": {},
  "kernelspec": {
   "display_name": "Python 3",
   "language": "python",
   "name": "python3"
  },
  "language_info": {
   "codemirror_mode": {
    "name": "ipython",
    "version": 3
   },
   "file_extension": ".py",
   "mimetype": "text/x-python",
   "name": "python",
   "nbconvert_exporter": "python",
   "pygments_lexer": "ipython3",
   "version": "3.6.8"
  }
 },
 "nbformat": 4,
 "nbformat_minor": 2
}
