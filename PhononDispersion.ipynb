{
 "cells": [
  {
   "cell_type": "code",
   "execution_count": 88,
   "metadata": {},
   "outputs": [],
   "source": [
    "#Phonon dispersion curve\n",
    "import numpy as num\n",
    "import pylab as lab\n"
   ]
  },
  {
   "cell_type": "markdown",
   "metadata": {},
   "source": []
  },
  {
   "cell_type": "code",
   "execution_count": 97,
   "metadata": {},
   "outputs": [],
   "source": [
    "def D_comp(a,b,veck,vecR):\n",
    "    kdotR=num.dot(veck,num.transpose(vecR))\n",
    "    RR=num.outer(vecR,vecR)\n",
    "    sinkR=num.sin(kdotR/2)\n",
    "    I=num.eye(3)\n",
    "    return sinkR*sinkR*(a*I+b*RR)\n",
    "    "
   ]
  },
  {
   "cell_type": "code",
   "execution_count": 98,
   "metadata": {},
   "outputs": [],
   "source": [
    "def AB(f,d):\n",
    "    delta=0.0001\n",
    "    deriv1=(-f(d+2*delta)+8*f(d+delta)-8*f(d-delta)+f(d-2*delta))/(12*delta)\n",
    "    deriv2=(f(d+delta)-2*f(d)+f(d-delta))/(delta*delta)\n",
    "    A=deriv1/d\n",
    "    B=deriv2-A\n",
    "    return [2*A,2*B]\n",
    "\n"
   ]
  },
  {
   "cell_type": "code",
   "execution_count": 262,
   "metadata": {},
   "outputs": [],
   "source": [
    "def PhEnergy(f,d,Rnear,veck):\n",
    "    energy=[]\n",
    "    for k in veck:\n",
    "        D=num.zeros(9).reshape(3,3)\n",
    "        for R in Rnear:\n",
    "            D+=D_comp(AB(f,d)[0],AB(f,d)[1],k,R)\n",
    "        values=[]\n",
    "        eigen=num.linalg.eig(D)\n",
    "        for count in [0,1,2]:\n",
    "            if (num.dot(eigen[1][:,count],num.transpose(k))==0):\n",
    "                values.append([eigen[0][count],0])\n",
    "            else:\n",
    "                values.append([eigen[0][count],1])\n",
    "        energy.append(values)\n",
    "    \n",
    "    return energy\n",
    "            \n"
   ]
  },
  {
   "cell_type": "code",
   "execution_count": 263,
   "metadata": {},
   "outputs": [],
   "source": [
    "data=num.loadtxt('EAM.dat')\n"
   ]
  },
  {
   "cell_type": "code",
   "execution_count": 264,
   "metadata": {},
   "outputs": [],
   "source": [
    "from scipy.interpolate import interp1d\n",
    "f=interp1d(data[0],data[1])\n",
    "a=3.92\n",
    "d=2.77"
   ]
  },
  {
   "cell_type": "code",
   "execution_count": 265,
   "metadata": {},
   "outputs": [],
   "source": [
    "near=[[[x,y,0],[0,x,y],[x,0,y]] for x in [-1,1] for y in[-1,1]]"
   ]
  },
  {
   "cell_type": "code",
   "execution_count": 266,
   "metadata": {},
   "outputs": [],
   "source": [
    "near=num.array(near).reshape(12,3)*a/2"
   ]
  },
  {
   "cell_type": "code",
   "execution_count": 267,
   "metadata": {},
   "outputs": [],
   "source": [
    "T=num.array([0,0,0])\n",
    "X=num.array([0,1,0])\n",
    "L=num.array([2,2,2])\n",
    "TX=num.dot(T-X,T-X)\n",
    "XL=num.sqrt(num.dot(X-L,X-L))\n",
    "LT=num.sqrt(num.dot(L-T,L-T))"
   ]
  },
  {
   "cell_type": "code",
   "execution_count": 302,
   "metadata": {},
   "outputs": [],
   "source": [
    "kTX=2*(num.pi/a)*num.array([[0,x,0] for x in num.linspace(0,1,100,endpoint=True)])\n",
    "kTL=2*(num.pi/a)*num.array([[x,x,x] for x in num.linspace(0,.5,100,endpoint=True)])"
   ]
  },
  {
   "cell_type": "code",
   "execution_count": 303,
   "metadata": {},
   "outputs": [],
   "source": [
    "TXener=num.array(PhEnergy(f,d,near,kTX))\n",
    "TLener=num.array(PhEnergy(f,d,near,kTL))\n"
   ]
  },
  {
   "cell_type": "code",
   "execution_count": 304,
   "metadata": {},
   "outputs": [],
   "source": [
    "energy=[]\n",
    "energy.append(TLener)\n",
    "energy.append(TXener)\n",
    "n=num.array(energy).size\n"
   ]
  },
  {
   "cell_type": "code",
   "execution_count": 305,
   "metadata": {},
   "outputs": [
    {
     "data": {
      "image/png": "[encoded data removed]",
      "text/plain": [
       "<matplotlib.figure.Figure at 0x7ffa756973c8>"
      ]
     },
     "metadata": {},
     "output_type": "display_data"
    }
   ],
   "source": [
    "lab.plot(TLener[:,0][:,0])\n",
    "lab.plot(TLener[:,1][:,0])\n",
    "lab.plot(TLener[:,2][:,0])\n",
    "lab.show()"
   ]
  },
  {
   "cell_type": "code",
   "execution_count": 306,
   "metadata": {},
   "outputs": [
    {
     "data": {
      "text/plain": [
       "array([[[[  0.00000000e+00,   0.00000000e+00],\n",
       "         [  0.00000000e+00,   0.00000000e+00],\n",
       "         [  0.00000000e+00,   0.00000000e+00]],\n",
       "\n",
       "        [[ -5.12625004e-04,   1.00000000e+00],\n",
       "         [ -7.53246893e-03,   1.00000000e+00],\n",
       "         [ -5.12625004e-04,   1.00000000e+00]],\n",
       "\n",
       "        [[ -2.04998385e-03,   1.00000000e+00],\n",
       "         [ -3.01222912e-02,   1.00000000e+00],\n",
       "         [ -2.04998385e-03,   0.00000000e+00]],\n",
       "\n",
       "        ..., \n",
       "        [[ -2.03436773e+00,   1.00000000e+00],\n",
       "         [ -2.98928292e+01,   1.00000000e+00],\n",
       "         [ -2.03436773e+00,   0.00000000e+00]],\n",
       "\n",
       "        [[ -2.03590509e+00,   0.00000000e+00],\n",
       "         [ -2.99154191e+01,   1.00000000e+00],\n",
       "         [ -2.03590509e+00,   0.00000000e+00]],\n",
       "\n",
       "        [[ -2.03641771e+00,   1.00000000e+00],\n",
       "         [ -2.99229515e+01,   1.00000000e+00],\n",
       "         [ -2.03641771e+00,   1.00000000e+00]]],\n",
       "\n",
       "\n",
       "       [[[  0.00000000e+00,   0.00000000e+00],\n",
       "         [  0.00000000e+00,   0.00000000e+00],\n",
       "         [  0.00000000e+00,   0.00000000e+00]],\n",
       "\n",
       "        [[ -2.24346532e-03,   0.00000000e+00],\n",
       "         [ -6.92336128e-03,   1.00000000e+00],\n",
       "         [ -2.24346532e-03,   0.00000000e+00]],\n",
       "\n",
       "        [[ -8.97160231e-03,   0.00000000e+00],\n",
       "         [ -2.76864739e-02,   1.00000000e+00],\n",
       "         [ -8.97160231e-03,   0.00000000e+00]],\n",
       "\n",
       "        ..., \n",
       "        [[ -8.90325953e+00,   0.00000000e+00],\n",
       "         [ -2.74755672e+01,   1.00000000e+00],\n",
       "         [ -8.90325953e+00,   0.00000000e+00]],\n",
       "\n",
       "        [[ -8.90998767e+00,   0.00000000e+00],\n",
       "         [ -2.74963303e+01,   1.00000000e+00],\n",
       "         [ -8.90998767e+00,   0.00000000e+00]],\n",
       "\n",
       "        [[ -8.91223113e+00,   0.00000000e+00],\n",
       "         [ -2.75032537e+01,   1.00000000e+00],\n",
       "         [ -8.91223113e+00,   0.00000000e+00]]]])"
      ]
     },
     "execution_count": 306,
     "metadata": {},
     "output_type": "execute_result"
    }
   ],
   "source": [
    "num.array(energy)"
   ]
  },
  {
   "cell_type": "code",
   "execution_count": null,
   "metadata": {},
   "outputs": [],
   "source": []
  },
  {
   "cell_type": "code",
   "execution_count": null,
   "metadata": {},
   "outputs": [],
   "source": []
  }
 ],
 "metadata": {
  "kernelspec": {
   "display_name": "Python [default]",
   "language": "python",
   "name": "python3"
  },
  "language_info": {
   "codemirror_mode": {
    "name": "ipython",
    "version": 3
   },
   "file_extension": ".py",
   "mimetype": "text/x-python",
   "name": "python",
   "nbconvert_exporter": "python",
   "pygments_lexer": "ipython3",
   "version": "3.5.2"
  }
 },
 "nbformat": 4,
 "nbformat_minor": 2
}
