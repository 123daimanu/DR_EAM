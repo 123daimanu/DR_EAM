{
 "metadata": {
  "name": "",
  "signature": "sha256:304d51f6b87e8ea6685bca465844f2c9a07d559c8db59863b49841d72f32cf8c"
 },
 "nbformat": 3,
 "nbformat_minor": 0,
 "worksheets": [
  {
   "cells": [
    {
     "cell_type": "code",
     "collapsed": false,
     "input": [],
     "language": "python",
     "metadata": {},
     "outputs": []
    }
   ],
   "metadata": {}
  }
 ]
}