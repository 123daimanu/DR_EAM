{
 "cells": [
  {
   "cell_type": "code",
   "execution_count": 1,
   "metadata": {},
   "outputs": [],
   "source": [
    "import numpy as num\n",
    "import pylab as lab\n",
    "import scipy as sci\n",
    "import pandas as pan\n",
    "from matplotlib import pyplot as plt\n",
    "%matplotlib inline"
   ]
  },
  {
   "cell_type": "code",
   "execution_count": 2,
   "metadata": {},
   "outputs": [],
   "source": [
    "#embedded function for oxygen\n",
    "def FO(rhoVar,rhoe,rho_min,rho_max,\\\n",
    "       F00,F01,F02,F03,F04,\\\n",
    "       F10,F11,F12,F13,F14,\\\n",
    "      F20,F21,F22,F23,F24,\\\n",
    "      F30,F31,F32,F33,F34):\n",
    "    func=[]\n",
    "    for rho in rhoVar:\n",
    "        if (rho>=rho_min[0] and rho<rho_max[0]):\n",
    "            func.append(F00*((rho/rhoe[0])-1)**0+F20*((rho/rhoe[0])-1)**2+F10*((rho/rhoe[0])-1)**1+\\\n",
    "                    F30*((rho/rhoe[0])-1)**3)\n",
    "        if (rho>=rho_min[1] and rho<rho_max[1]):\n",
    "            func.append(F01*((rho/rhoe[1])-1)**0+F21*((rho/rhoe[1])-1)**2+F11*((rho/rhoe[1])-1)**1+\\\n",
    "                    F31*((rho/rhoe[1])-1)**3)\n",
    "        if (rho>=rho_min[2] and rho<rho_max[2]):\n",
    "            func.append(F02*((rho/rhoe[2])-1)**0+F22*((rho/rhoe[2])-1)**2+F12*((rho/rhoe[2])-1)**1+\\\n",
    "                    F32*((rho/rhoe[2])-1)**3)\n",
    "        if (rho>=rho_min[3] and rho<rho_max[3]):\n",
    "            func.append(F03*((rho/rhoe[3])-1)**0+F23*((rho/rhoe[3])-1)**2+F13*((rho/rhoe[3])-1)**1+\\\n",
    "                    F33*((rho/rhoe[3])-1)**3)\n",
    "        if (rho>=rho_min[4] and rho<rho_max[4]):\n",
    "            func.append(F04*((rho/rhoe[4])-1)**0+F24*((rho/rhoe[4])-1)**2+F14*((rho/rhoe[4])-1)**1+\\\n",
    "                    F34*((rho/rhoe[4])-1)**3)\n",
    "    func=num.asarray(func)\n",
    "    return func\n",
    "    \n",
    "def FO1(rhoVar,rhoe,rho_min,rho_max,\\\n",
    "       F00,F01,F02,F03,F04,\\\n",
    "       F10,F11,F12,F13,F14,\\\n",
    "      F20,F21,F22,F23,F24,\\\n",
    "      F30,F31,F32,F33,F34):\n",
    "    func=[]\n",
    "    for rho in rhoVar:\n",
    "        func.append(F00*((rho/rhoe[0])-1)**0+F20*((rho/rhoe[0])-1)**2+F10*((rho/rhoe[0])-1)**1+\\\n",
    "                    F30*((rho/rhoe[0])-1)**3)\n",
    "        \n",
    "    func=num.asarray(func)\n",
    "    return func\n",
    "    \n",
    "\n",
    "\n",
    "def f(r,q,N,fe,beta,re,lam):\n",
    "    return fe*num.exp(-beta*(r/re-1))/(1+(r/re-lam)**20)*(1-q/float(N))\n",
    "\n",
    "def phiN(r,A,alpha,re,kappa):\n",
    "    return A*num.exp(-alpha*(r/re-1))/(1+(r/re-kappa)**20)\n",
    "#def phiE(r,q):\n",
    "#    return (1-q/N)*B*num.exp(-beta*(r/re-1))/(1+(r/re-kappa)**20)\n",
    "\n",
    "def phiE(r,B,beta,re,lam):\n",
    "    return B*num.exp(-beta*(r/re-1))/(1+(r/re-lam)**20)\n",
    "\n",
    "def phiT(r,A,alpha,re,B,beta,kappa,lam):\n",
    "    return phiN(r,A,alpha,re,kappa)-phiE(r,B,beta,re,lam)"
   ]
  },
  {
   "cell_type": "code",
   "execution_count": 3,
   "metadata": {},
   "outputs": [],
   "source": [
    "rhominO=[0,54.62910,65.24078,66.56797,70.57748]\n",
    "rhomaxO=[54.62910,65.24078,66.56797,70.57748,10**10]\n",
    "rhoe_O=[54.62910,64.26953,66.21202,66.92391,74.23105]\n",
    "F0=[-1.56489,-1.58967,-1.54116,-1.51798,-1.19082]\n",
    "F1=[-1.39123,1.30636,2.02821,2.30979,4.12936]\n",
    "F2=[1.77199,9.81033,6.56240,7.69582,10.32338]\n",
    "F3=[1.59833,0,0,0,0]\n",
    "re_O,A_O,alpha_O,B_O,beta_O,lam_O,fe_O,kappa_O=3.64857,0.34900,5.44072,0.57438,3.59746,0.39310,1.39479,0.08007\n",
    "gamma_O,nu_O=2.11725,0.37457\n",
    "N_O=6\n"
   ]
  },
  {
   "cell_type": "code",
   "execution_count": 4,
   "metadata": {},
   "outputs": [],
   "source": [
    "r=num.linspace(0,60,10000)\n"
   ]
  },
  {
   "cell_type": "code",
   "execution_count": 5,
   "metadata": {},
   "outputs": [
    {
     "data": {
      "image/png": "[encoded data removed]",
      "text/plain": [
       "<Figure size 432x288 with 1 Axes>"
      ]
     },
     "metadata": {
      "needs_background": "light"
     },
     "output_type": "display_data"
    }
   ],
   "source": [
    "phi2005=phiT(r,A_O,alpha_O,re_O,B_O,beta_O,kappa_O,lam_O)\n",
    "#phiModified=phiN(r,A_O,alpha_O,re_O,kappa_O)-phiE(r,B_O,gamma_O,re_O,nu_O)\n",
    "lab.plot(r,phi2005,\"r\")\n",
    "#lab.plot(r,phiModified,\"b\")\n",
    "\n",
    "lab.show()"
   ]
  },
  {
   "cell_type": "code",
   "execution_count": 6,
   "metadata": {},
   "outputs": [],
   "source": [
    "rho_O=f(r,0,N_O,fe_O,gamma_O,re_O,nu_O)\n",
    "F_OU=FO(r,rhoe_O,rhominO,rhomaxO,\\\n",
    "       F0[0],F0[1],F0[2],F0[3],F0[4],\\\n",
    "       F1[0],F1[1],F1[2],F1[3],F1[4],\\\n",
    "      F2[0],F2[1],F2[2],F2[3],F2[4],\\\n",
    "      F3[0],F3[1],F3[2],F3[3],F3[4])"
   ]
  },
  {
   "cell_type": "code",
   "execution_count": 7,
   "metadata": {},
   "outputs": [
    {
     "data": {
      "text/plain": [
       "<matplotlib.legend.Legend at 0x7fd8c143ff98>"
      ]
     },
     "execution_count": 7,
     "metadata": {},
     "output_type": "execute_result"
    },
    {
     "data": {
      "image/png": "[encoded data removed]",
      "text/plain": [
       "<Figure size 432x288 with 1 Axes>"
      ]
     },
     "metadata": {
      "needs_background": "light"
     },
     "output_type": "display_data"
    }
   ],
   "source": [
    "lab.plot(r,F_OU,'r',label=\"$U_{2005}$\")\n",
    "#lab.plot(r,2*F_OU+phiModified,'b',label=\"$U_{modified}$\")\n",
    "#lab.xlim([0,4])\n",
    "#lab.ylim([-.4,0])\n",
    "lab.legend(loc=\"lower right\")"
   ]
  },
  {
   "cell_type": "markdown",
   "metadata": {},
   "source": [
    "Bond dissociation energy of Oxygen molecule is 5.15ev/bond. So, the energy required to get rid of two bonds is 10.30ev. And at the bond length the well should be 10.30ev deep.\n",
    "\n",
    "We can add a negative gaussain to make a dip in energy landscape to form a molecule.\n",
    "\n",
    "gaussian=-a Exp(-(r-rb)^2/(2 w^2))\n",
    "\n",
    "where a= 10.30+6.86=17.16 , rb=1.208 , w is free\n",
    "       \n"
   ]
  },
  {
   "cell_type": "code",
   "execution_count": 8,
   "metadata": {},
   "outputs": [],
   "source": [
    "a=7\n",
    "rb=1.208\n",
    "w=.01\n",
    "gauss=lambda r,a,rb,w: -a*num.exp(-(r-rb)**2/(2*w**2))\n",
    "gaussO=gauss(r,a,rb,w)\n"
   ]
  },
  {
   "cell_type": "code",
   "execution_count": 9,
   "metadata": {},
   "outputs": [
    {
     "data": {
      "text/plain": [
       "[<matplotlib.lines.Line2D at 0x7fd8c2964fd0>]"
      ]
     },
     "execution_count": 9,
     "metadata": {},
     "output_type": "execute_result"
    },
    {
     "data": {
      "image/png": "[encoded data removed]",
      "text/plain": [
       "<Figure size 432x288 with 1 Axes>"
      ]
     },
     "metadata": {
      "needs_background": "light"
     },
     "output_type": "display_data"
    }
   ],
   "source": [
    "lab.plot(r,F_OU+phi2005+gaussO,'r')"
   ]
  },
  {
   "cell_type": "markdown",
   "metadata": {},
   "source": [
    "## Morse Potential\n",
    "\n",
    "# $U_{morse}=D_e\\left(e^{-2\\beta(r-r_e)}-2 e^{-\\beta(r-r_e)}\\right)$ "
   ]
  },
  {
   "cell_type": "code",
   "execution_count": 10,
   "metadata": {},
   "outputs": [],
   "source": [
    "morse= lambda r,De,beta,re : De*(num.exp(-2*beta*(r - re))- 2* num.exp(-beta*(r - re)))\n",
    "morseO=morse(r,13.1,2.6,1.085)"
   ]
  },
  {
   "cell_type": "code",
   "execution_count": 11,
   "metadata": {},
   "outputs": [
    {
     "ename": "NameError",
     "evalue": "name 'phiModified' is not defined",
     "output_type": "error",
     "traceback": [
      "\u001b[0;31m---------------------------------------------------------------------------\u001b[0m",
      "\u001b[0;31mNameError\u001b[0m                                 Traceback (most recent call last)",
      "\u001b[0;32m<ipython-input-11-04e3f64b745c>\u001b[0m in \u001b[0;36m<module>\u001b[0;34m\u001b[0m\n\u001b[0;32m----> 1\u001b[0;31m \u001b[0mlab\u001b[0m\u001b[0;34m.\u001b[0m\u001b[0mplot\u001b[0m\u001b[0;34m(\u001b[0m\u001b[0mr\u001b[0m\u001b[0;34m,\u001b[0m\u001b[0;36m2\u001b[0m\u001b[0;34m*\u001b[0m\u001b[0mF_OU\u001b[0m\u001b[0;34m+\u001b[0m\u001b[0mphiModified\u001b[0m\u001b[0;34m+\u001b[0m\u001b[0mmorseO\u001b[0m\u001b[0;34m,\u001b[0m\u001b[0;34m'r'\u001b[0m\u001b[0;34m)\u001b[0m\u001b[0;34m\u001b[0m\u001b[0;34m\u001b[0m\u001b[0m\n\u001b[0m\u001b[1;32m      2\u001b[0m \u001b[0mlab\u001b[0m\u001b[0;34m.\u001b[0m\u001b[0mplot\u001b[0m\u001b[0;34m(\u001b[0m\u001b[0mr\u001b[0m\u001b[0;34m,\u001b[0m\u001b[0;36m2\u001b[0m\u001b[0;34m*\u001b[0m\u001b[0mF_OU\u001b[0m\u001b[0;34m+\u001b[0m\u001b[0mphi2005\u001b[0m\u001b[0;34m+\u001b[0m\u001b[0mmorseO\u001b[0m\u001b[0;34m,\u001b[0m\u001b[0;34m'b'\u001b[0m\u001b[0;34m)\u001b[0m\u001b[0;34m\u001b[0m\u001b[0;34m\u001b[0m\u001b[0m\n",
      "\u001b[0;31mNameError\u001b[0m: name 'phiModified' is not defined"
     ]
    }
   ],
   "source": [
    "lab.plot(r,2*F_OU+phiModified+morseO,'r')\n",
    "lab.plot(r,2*F_OU+phi2005+morseO,'b')"
   ]
  },
  {
   "cell_type": "code",
   "execution_count": 12,
   "metadata": {},
   "outputs": [
    {
     "data": {
      "text/plain": [
       "(-0.5, 0)"
      ]
     },
     "execution_count": 12,
     "metadata": {},
     "output_type": "execute_result"
    },
    {
     "data": {
      "image/png": "[encoded data removed]",
      "text/plain": [
       "<Figure size 432x288 with 1 Axes>"
      ]
     },
     "metadata": {
      "needs_background": "light"
     },
     "output_type": "display_data"
    }
   ],
   "source": [
    "lab.plot(r,phi2005,'r')\n",
    "lab.xlim([3.9,4.1])\n",
    "lab.ylim([-.5,0])"
   ]
  },
  {
   "cell_type": "code",
   "execution_count": 13,
   "metadata": {},
   "outputs": [],
   "source": [
    "def Curvature(U,Un1,Un2,delta):\n",
    "    return((U-2*Un1+Un2)/delta**2)\n",
    "\n",
    "\n",
    "def Slope(U,Un,delta):\n",
    "    return (U-Un)/(delta)"
   ]
  },
  {
   "cell_type": "code",
   "execution_count": 14,
   "metadata": {},
   "outputs": [],
   "source": [
    "def minimum(U,r,r_bound):\n",
    "    a=num.logical_and(r>r_bound[0],r<r_bound[1])\n",
    "    bound_r=r[a]\n",
    "    bound_u=U[a]\n",
    "    \n",
    "    min_u=num.min(bound_u)\n",
    "    min_r=bound_r[num.min(bound_u)==bound_u]\n",
    "    \n",
    "    index_for_min=list(bound_r).index(min_r)\n",
    "    \n",
    "    delta=r[index_for_min]-r[index_for_min-1]\n",
    "    \n",
    "    U=bound_u[index_for_min]\n",
    "    Un1=bound_u[index_for_min-1]\n",
    "    Un2=bound_u[index_for_min-2]\n",
    "    curvature_at_minima=Curvature(U,Un1,Un2,delta)\n",
    "    \n",
    "    \n",
    "    return [min_r,min_u,curvature_at_minima]\n",
    "    "
   ]
  },
  {
   "cell_type": "code",
   "execution_count": null,
   "metadata": {},
   "outputs": [],
   "source": []
  },
  {
   "cell_type": "code",
   "execution_count": 15,
   "metadata": {},
   "outputs": [],
   "source": [
    "rbo=1.208\n",
    "do=-5.11\n",
    "ko=80.5454#123.53\n",
    "rm=3.994399\n",
    "dz=-0.327\n",
    "#kz=0.92034296037435914"
   ]
  },
  {
   "cell_type": "code",
   "execution_count": 16,
   "metadata": {},
   "outputs": [],
   "source": [
    "De_range=num.linspace(10,20,100)\n",
    "beta_range=num.linspace(1,10,100)\n",
    "re_range=num.linspace(1.0,1.1,10)\n",
    "#re_range=[1.207]"
   ]
  },
  {
   "cell_type": "code",
   "execution_count": 17,
   "metadata": {},
   "outputs": [],
   "source": [
    "param_set=[[De,Beta,Re] for De in De_range for Beta in beta_range for Re in re_range]"
   ]
  },
  {
   "cell_type": "code",
   "execution_count": 18,
   "metadata": {},
   "outputs": [
    {
     "ename": "NameError",
     "evalue": "name 'phiModified' is not defined",
     "output_type": "error",
     "traceback": [
      "\u001b[0;31m---------------------------------------------------------------------------\u001b[0m",
      "\u001b[0;31mNameError\u001b[0m                                 Traceback (most recent call last)",
      "\u001b[0;32m<ipython-input-18-080b0d1d58f3>\u001b[0m in \u001b[0;36m<module>\u001b[0;34m\u001b[0m\n\u001b[1;32m      4\u001b[0m \u001b[0;32mfor\u001b[0m \u001b[0mparam\u001b[0m \u001b[0;32min\u001b[0m \u001b[0mparam_set\u001b[0m\u001b[0;34m:\u001b[0m\u001b[0;34m\u001b[0m\u001b[0;34m\u001b[0m\u001b[0m\n\u001b[1;32m      5\u001b[0m     \u001b[0mmorse_param\u001b[0m\u001b[0;34m=\u001b[0m\u001b[0mmorse\u001b[0m\u001b[0;34m(\u001b[0m\u001b[0mr\u001b[0m\u001b[0;34m,\u001b[0m\u001b[0mparam\u001b[0m\u001b[0;34m[\u001b[0m\u001b[0;36m0\u001b[0m\u001b[0;34m]\u001b[0m\u001b[0;34m,\u001b[0m\u001b[0mparam\u001b[0m\u001b[0;34m[\u001b[0m\u001b[0;36m1\u001b[0m\u001b[0;34m]\u001b[0m\u001b[0;34m,\u001b[0m\u001b[0mparam\u001b[0m\u001b[0;34m[\u001b[0m\u001b[0;36m2\u001b[0m\u001b[0;34m]\u001b[0m\u001b[0;34m)\u001b[0m\u001b[0;34m\u001b[0m\u001b[0;34m\u001b[0m\u001b[0m\n\u001b[0;32m----> 6\u001b[0;31m     \u001b[0mtotalField\u001b[0m\u001b[0;34m=\u001b[0m\u001b[0;36m2\u001b[0m\u001b[0;34m*\u001b[0m\u001b[0mF_OU\u001b[0m\u001b[0;34m+\u001b[0m\u001b[0mphiModified\u001b[0m\u001b[0;34m+\u001b[0m\u001b[0mmorse_param\u001b[0m\u001b[0;34m\u001b[0m\u001b[0;34m\u001b[0m\u001b[0m\n\u001b[0m\u001b[1;32m      7\u001b[0m     \u001b[0;32mtry\u001b[0m\u001b[0;34m:\u001b[0m\u001b[0;34m\u001b[0m\u001b[0;34m\u001b[0m\u001b[0m\n\u001b[1;32m      8\u001b[0m         \u001b[0mbond_min\u001b[0m\u001b[0;34m=\u001b[0m\u001b[0mminimum\u001b[0m\u001b[0;34m(\u001b[0m\u001b[0mtotalField\u001b[0m\u001b[0;34m,\u001b[0m\u001b[0mr\u001b[0m\u001b[0;34m,\u001b[0m\u001b[0;34m[\u001b[0m\u001b[0;36m.5\u001b[0m\u001b[0;34m,\u001b[0m\u001b[0;36m2\u001b[0m\u001b[0;34m]\u001b[0m\u001b[0;34m)\u001b[0m\u001b[0;34m\u001b[0m\u001b[0;34m\u001b[0m\u001b[0m\n",
      "\u001b[0;31mNameError\u001b[0m: name 'phiModified' is not defined"
     ]
    }
   ],
   "source": [
    "error=[]\n",
    "file=open(\"param_tune.dat\",'w')\n",
    "file.write(\"#De\\tbeta\\tre\\n\")\n",
    "for param in param_set:\n",
    "    morse_param=morse(r,param[0],param[1],param[2])\n",
    "    totalField=2*F_OU+phiModified+morse_param\n",
    "    try:\n",
    "        bond_min=minimum(totalField,r,[.5,2])\n",
    "        zhou_min=minimum(totalField,r,[3.5,4.5])\n",
    "        squared_error=((rbo-bond_min[0])/rbo)**2+((do-bond_min[1])/do)**2+((ko-bond_min[2])/ko)**2+\\\n",
    "        ((rm-zhou_min[0])/rm)**2+((dz-zhou_min[1])/dz)**2#+((kz-zhou_min[2])/kz)**2\n",
    "        file.write(\"%f\\t%f\\t%f\\t%f\\n\"%(param[0],param[1],param[2],squared_error))\n",
    "        error.append([param[0],param[1],param[2],squared_error])\n",
    "    except (RuntimeError, TypeError, NameError , ValueError, IndexError):\n",
    "        continue;\n",
    "    \n",
    "file.close()"
   ]
  },
  {
   "cell_type": "code",
   "execution_count": 19,
   "metadata": {},
   "outputs": [
    {
     "data": {
      "text/plain": [
       "0"
      ]
     },
     "execution_count": 19,
     "metadata": {},
     "output_type": "execute_result"
    }
   ],
   "source": [
    "len(error)"
   ]
  },
  {
   "cell_type": "code",
   "execution_count": 20,
   "metadata": {},
   "outputs": [
    {
     "ename": "IndexError",
     "evalue": "too many indices for array",
     "output_type": "error",
     "traceback": [
      "\u001b[0;31m---------------------------------------------------------------------------\u001b[0m",
      "\u001b[0;31mIndexError\u001b[0m                                Traceback (most recent call last)",
      "\u001b[0;32m<ipython-input-20-cfbcd8c12744>\u001b[0m in \u001b[0;36m<module>\u001b[0;34m\u001b[0m\n\u001b[1;32m      1\u001b[0m \u001b[0merror_array\u001b[0m\u001b[0;34m=\u001b[0m\u001b[0mnum\u001b[0m\u001b[0;34m.\u001b[0m\u001b[0marray\u001b[0m\u001b[0;34m(\u001b[0m\u001b[0merror\u001b[0m\u001b[0;34m)\u001b[0m\u001b[0;34m\u001b[0m\u001b[0;34m\u001b[0m\u001b[0m\n\u001b[0;32m----> 2\u001b[0;31m \u001b[0mmin_error\u001b[0m\u001b[0;34m=\u001b[0m\u001b[0mmin\u001b[0m\u001b[0;34m(\u001b[0m\u001b[0merror_array\u001b[0m\u001b[0;34m[\u001b[0m\u001b[0;34m:\u001b[0m\u001b[0;34m,\u001b[0m\u001b[0;36m3\u001b[0m\u001b[0;34m]\u001b[0m\u001b[0;34m)\u001b[0m\u001b[0;34m\u001b[0m\u001b[0;34m\u001b[0m\u001b[0m\n\u001b[0m\u001b[1;32m      3\u001b[0m \u001b[0mmin_error\u001b[0m\u001b[0;34m\u001b[0m\u001b[0;34m\u001b[0m\u001b[0m\n",
      "\u001b[0;31mIndexError\u001b[0m: too many indices for array"
     ]
    }
   ],
   "source": [
    "error_array=num.array(error)\n",
    "min_error=min(error_array[:,3])\n",
    "min_error"
   ]
  },
  {
   "cell_type": "code",
   "execution_count": 21,
   "metadata": {},
   "outputs": [
    {
     "ename": "IndexError",
     "evalue": "too many indices for array",
     "output_type": "error",
     "traceback": [
      "\u001b[0;31m---------------------------------------------------------------------------\u001b[0m",
      "\u001b[0;31mIndexError\u001b[0m                                Traceback (most recent call last)",
      "\u001b[0;32m<ipython-input-21-3c8e0d8e0e2b>\u001b[0m in \u001b[0;36m<module>\u001b[0;34m\u001b[0m\n\u001b[0;32m----> 1\u001b[0;31m \u001b[0mparam_pos\u001b[0m\u001b[0;34m=\u001b[0m\u001b[0merror_array\u001b[0m\u001b[0;34m[\u001b[0m\u001b[0;34m:\u001b[0m\u001b[0;34m,\u001b[0m\u001b[0;36m3\u001b[0m\u001b[0;34m]\u001b[0m\u001b[0;34m==\u001b[0m\u001b[0mmin_error\u001b[0m\u001b[0;34m\u001b[0m\u001b[0;34m\u001b[0m\u001b[0m\n\u001b[0m",
      "\u001b[0;31mIndexError\u001b[0m: too many indices for array"
     ]
    }
   ],
   "source": [
    "param_pos=error_array[:,3]==min_error"
   ]
  },
  {
   "cell_type": "code",
   "execution_count": 22,
   "metadata": {},
   "outputs": [
    {
     "ename": "NameError",
     "evalue": "name 'param_pos' is not defined",
     "output_type": "error",
     "traceback": [
      "\u001b[0;31m---------------------------------------------------------------------------\u001b[0m",
      "\u001b[0;31mNameError\u001b[0m                                 Traceback (most recent call last)",
      "\u001b[0;32m<ipython-input-22-f286077ec7e3>\u001b[0m in \u001b[0;36m<module>\u001b[0;34m\u001b[0m\n\u001b[0;32m----> 1\u001b[0;31m \u001b[0mparam_De\u001b[0m\u001b[0;34m=\u001b[0m\u001b[0merror_array\u001b[0m\u001b[0;34m[\u001b[0m\u001b[0mparam_pos\u001b[0m\u001b[0;34m,\u001b[0m\u001b[0;36m0\u001b[0m\u001b[0;34m]\u001b[0m\u001b[0;34m\u001b[0m\u001b[0;34m\u001b[0m\u001b[0m\n\u001b[0m\u001b[1;32m      2\u001b[0m \u001b[0mparam_De\u001b[0m\u001b[0;34m\u001b[0m\u001b[0;34m\u001b[0m\u001b[0m\n",
      "\u001b[0;31mNameError\u001b[0m: name 'param_pos' is not defined"
     ]
    }
   ],
   "source": [
    "param_De=error_array[param_pos,0]\n",
    "param_De"
   ]
  },
  {
   "cell_type": "code",
   "execution_count": 23,
   "metadata": {},
   "outputs": [
    {
     "ename": "NameError",
     "evalue": "name 'param_pos' is not defined",
     "output_type": "error",
     "traceback": [
      "\u001b[0;31m---------------------------------------------------------------------------\u001b[0m",
      "\u001b[0;31mNameError\u001b[0m                                 Traceback (most recent call last)",
      "\u001b[0;32m<ipython-input-23-24606341cd45>\u001b[0m in \u001b[0;36m<module>\u001b[0;34m\u001b[0m\n\u001b[0;32m----> 1\u001b[0;31m \u001b[0mparam_beta\u001b[0m\u001b[0;34m=\u001b[0m\u001b[0merror_array\u001b[0m\u001b[0;34m[\u001b[0m\u001b[0mparam_pos\u001b[0m\u001b[0;34m,\u001b[0m\u001b[0;36m1\u001b[0m\u001b[0;34m]\u001b[0m\u001b[0;34m\u001b[0m\u001b[0;34m\u001b[0m\u001b[0m\n\u001b[0m\u001b[1;32m      2\u001b[0m \u001b[0mparam_beta\u001b[0m\u001b[0;34m\u001b[0m\u001b[0;34m\u001b[0m\u001b[0m\n",
      "\u001b[0;31mNameError\u001b[0m: name 'param_pos' is not defined"
     ]
    }
   ],
   "source": [
    "param_beta=error_array[param_pos,1]\n",
    "param_beta"
   ]
  },
  {
   "cell_type": "code",
   "execution_count": 24,
   "metadata": {},
   "outputs": [
    {
     "ename": "NameError",
     "evalue": "name 'param_pos' is not defined",
     "output_type": "error",
     "traceback": [
      "\u001b[0;31m---------------------------------------------------------------------------\u001b[0m",
      "\u001b[0;31mNameError\u001b[0m                                 Traceback (most recent call last)",
      "\u001b[0;32m<ipython-input-24-92111a93d077>\u001b[0m in \u001b[0;36m<module>\u001b[0;34m\u001b[0m\n\u001b[0;32m----> 1\u001b[0;31m \u001b[0mparam_re\u001b[0m\u001b[0;34m=\u001b[0m\u001b[0merror_array\u001b[0m\u001b[0;34m[\u001b[0m\u001b[0mparam_pos\u001b[0m\u001b[0;34m,\u001b[0m\u001b[0;36m2\u001b[0m\u001b[0;34m]\u001b[0m\u001b[0;34m\u001b[0m\u001b[0;34m\u001b[0m\u001b[0m\n\u001b[0m\u001b[1;32m      2\u001b[0m \u001b[0mparam_re\u001b[0m\u001b[0;34m\u001b[0m\u001b[0;34m\u001b[0m\u001b[0m\n",
      "\u001b[0;31mNameError\u001b[0m: name 'param_pos' is not defined"
     ]
    }
   ],
   "source": [
    "param_re=error_array[param_pos,2]\n",
    "param_re"
   ]
  },
  {
   "cell_type": "code",
   "execution_count": 25,
   "metadata": {},
   "outputs": [],
   "source": [
    "#lab.plot(error_array[:,3],'o')\n",
    "#lab.ylim([0,10])\n",
    "#lab.show()"
   ]
  },
  {
   "cell_type": "code",
   "execution_count": 26,
   "metadata": {},
   "outputs": [],
   "source": [
    "def Scatter(errorArray,xAxis,yAxis,xRange,yRange,size):\n",
    "    index_pos_X=num.logical_and(errorArray[:,xAxis]>xRange[0],errorArray[:,xAxis]<xRange[1])\n",
    "    index_pos_Y=num.logical_and(errorArray[:,yAxis]>yRange[0],errorArray[:,yAxis]<yRange[1])\n",
    "    \n",
    "    index_pos=num.logical_and(index_pos_X,index_pos_Y)\n",
    "    errorArrayReduced=errorArray[index_pos]\n",
    "    \n",
    "    figure_scatter=plt.figure(figsize=(6,6))\n",
    "    plt.scatter(errorArrayReduced[:,xAxis],errorArrayReduced[:,yAxis],c=errorArrayReduced[:,3],s=size,cmap='cool')\n",
    "    plt.colorbar()\n",
    "    plt.xlim(xRange)\n",
    "    plt.ylim(yRange)\n",
    "    plt.show()\n",
    "    \n",
    " "
   ]
  },
  {
   "cell_type": "code",
   "execution_count": 27,
   "metadata": {},
   "outputs": [
    {
     "ename": "IndexError",
     "evalue": "too many indices for array",
     "output_type": "error",
     "traceback": [
      "\u001b[0;31m---------------------------------------------------------------------------\u001b[0m",
      "\u001b[0;31mIndexError\u001b[0m                                Traceback (most recent call last)",
      "\u001b[0;32m<ipython-input-27-c1146ee1fc8a>\u001b[0m in \u001b[0;36m<module>\u001b[0;34m\u001b[0m\n\u001b[0;32m----> 1\u001b[0;31m \u001b[0mScatter\u001b[0m\u001b[0;34m(\u001b[0m\u001b[0merror_array\u001b[0m\u001b[0;34m,\u001b[0m\u001b[0;36m1\u001b[0m\u001b[0;34m,\u001b[0m\u001b[0;36m0\u001b[0m\u001b[0;34m,\u001b[0m\u001b[0;34m[\u001b[0m\u001b[0;36m1\u001b[0m\u001b[0;34m,\u001b[0m\u001b[0;36m10\u001b[0m\u001b[0;34m]\u001b[0m\u001b[0;34m,\u001b[0m\u001b[0;34m[\u001b[0m\u001b[0;36m10\u001b[0m\u001b[0;34m,\u001b[0m\u001b[0;36m20\u001b[0m\u001b[0;34m]\u001b[0m\u001b[0;34m,\u001b[0m\u001b[0;36m100\u001b[0m\u001b[0;34m)\u001b[0m\u001b[0;34m\u001b[0m\u001b[0;34m\u001b[0m\u001b[0m\n\u001b[0m",
      "\u001b[0;32m<ipython-input-26-4dbc43901204>\u001b[0m in \u001b[0;36mScatter\u001b[0;34m(errorArray, xAxis, yAxis, xRange, yRange, size)\u001b[0m\n\u001b[1;32m      1\u001b[0m \u001b[0;32mdef\u001b[0m \u001b[0mScatter\u001b[0m\u001b[0;34m(\u001b[0m\u001b[0merrorArray\u001b[0m\u001b[0;34m,\u001b[0m\u001b[0mxAxis\u001b[0m\u001b[0;34m,\u001b[0m\u001b[0myAxis\u001b[0m\u001b[0;34m,\u001b[0m\u001b[0mxRange\u001b[0m\u001b[0;34m,\u001b[0m\u001b[0myRange\u001b[0m\u001b[0;34m,\u001b[0m\u001b[0msize\u001b[0m\u001b[0;34m)\u001b[0m\u001b[0;34m:\u001b[0m\u001b[0;34m\u001b[0m\u001b[0;34m\u001b[0m\u001b[0m\n\u001b[0;32m----> 2\u001b[0;31m     \u001b[0mindex_pos_X\u001b[0m\u001b[0;34m=\u001b[0m\u001b[0mnum\u001b[0m\u001b[0;34m.\u001b[0m\u001b[0mlogical_and\u001b[0m\u001b[0;34m(\u001b[0m\u001b[0merrorArray\u001b[0m\u001b[0;34m[\u001b[0m\u001b[0;34m:\u001b[0m\u001b[0;34m,\u001b[0m\u001b[0mxAxis\u001b[0m\u001b[0;34m]\u001b[0m\u001b[0;34m>\u001b[0m\u001b[0mxRange\u001b[0m\u001b[0;34m[\u001b[0m\u001b[0;36m0\u001b[0m\u001b[0;34m]\u001b[0m\u001b[0;34m,\u001b[0m\u001b[0merrorArray\u001b[0m\u001b[0;34m[\u001b[0m\u001b[0;34m:\u001b[0m\u001b[0;34m,\u001b[0m\u001b[0mxAxis\u001b[0m\u001b[0;34m]\u001b[0m\u001b[0;34m<\u001b[0m\u001b[0mxRange\u001b[0m\u001b[0;34m[\u001b[0m\u001b[0;36m1\u001b[0m\u001b[0;34m]\u001b[0m\u001b[0;34m)\u001b[0m\u001b[0;34m\u001b[0m\u001b[0;34m\u001b[0m\u001b[0m\n\u001b[0m\u001b[1;32m      3\u001b[0m     \u001b[0mindex_pos_Y\u001b[0m\u001b[0;34m=\u001b[0m\u001b[0mnum\u001b[0m\u001b[0;34m.\u001b[0m\u001b[0mlogical_and\u001b[0m\u001b[0;34m(\u001b[0m\u001b[0merrorArray\u001b[0m\u001b[0;34m[\u001b[0m\u001b[0;34m:\u001b[0m\u001b[0;34m,\u001b[0m\u001b[0myAxis\u001b[0m\u001b[0;34m]\u001b[0m\u001b[0;34m>\u001b[0m\u001b[0myRange\u001b[0m\u001b[0;34m[\u001b[0m\u001b[0;36m0\u001b[0m\u001b[0;34m]\u001b[0m\u001b[0;34m,\u001b[0m\u001b[0merrorArray\u001b[0m\u001b[0;34m[\u001b[0m\u001b[0;34m:\u001b[0m\u001b[0;34m,\u001b[0m\u001b[0myAxis\u001b[0m\u001b[0;34m]\u001b[0m\u001b[0;34m<\u001b[0m\u001b[0myRange\u001b[0m\u001b[0;34m[\u001b[0m\u001b[0;36m1\u001b[0m\u001b[0;34m]\u001b[0m\u001b[0;34m)\u001b[0m\u001b[0;34m\u001b[0m\u001b[0;34m\u001b[0m\u001b[0m\n\u001b[1;32m      4\u001b[0m \u001b[0;34m\u001b[0m\u001b[0m\n\u001b[1;32m      5\u001b[0m     \u001b[0mindex_pos\u001b[0m\u001b[0;34m=\u001b[0m\u001b[0mnum\u001b[0m\u001b[0;34m.\u001b[0m\u001b[0mlogical_and\u001b[0m\u001b[0;34m(\u001b[0m\u001b[0mindex_pos_X\u001b[0m\u001b[0;34m,\u001b[0m\u001b[0mindex_pos_Y\u001b[0m\u001b[0;34m)\u001b[0m\u001b[0;34m\u001b[0m\u001b[0;34m\u001b[0m\u001b[0m\n",
      "\u001b[0;31mIndexError\u001b[0m: too many indices for array"
     ]
    }
   ],
   "source": [
    "Scatter(error_array,1,0,[1,10],[10,20],100)"
   ]
  },
  {
   "cell_type": "code",
   "execution_count": 28,
   "metadata": {},
   "outputs": [
    {
     "ename": "IndexError",
     "evalue": "too many indices for array",
     "output_type": "error",
     "traceback": [
      "\u001b[0;31m---------------------------------------------------------------------------\u001b[0m",
      "\u001b[0;31mIndexError\u001b[0m                                Traceback (most recent call last)",
      "\u001b[0;32m<ipython-input-28-a11248f32c8b>\u001b[0m in \u001b[0;36m<module>\u001b[0;34m\u001b[0m\n\u001b[0;32m----> 1\u001b[0;31m \u001b[0mScatter\u001b[0m\u001b[0;34m(\u001b[0m\u001b[0merror_array\u001b[0m\u001b[0;34m,\u001b[0m\u001b[0;36m1\u001b[0m\u001b[0;34m,\u001b[0m\u001b[0;36m0\u001b[0m\u001b[0;34m,\u001b[0m\u001b[0;34m[\u001b[0m\u001b[0;36m1\u001b[0m\u001b[0;34m,\u001b[0m\u001b[0;36m3\u001b[0m\u001b[0;34m]\u001b[0m\u001b[0;34m,\u001b[0m\u001b[0;34m[\u001b[0m\u001b[0;36m14\u001b[0m\u001b[0;34m,\u001b[0m\u001b[0;36m16\u001b[0m\u001b[0;34m]\u001b[0m\u001b[0;34m,\u001b[0m\u001b[0;36m800\u001b[0m\u001b[0;34m)\u001b[0m\u001b[0;34m\u001b[0m\u001b[0;34m\u001b[0m\u001b[0m\n\u001b[0m",
      "\u001b[0;32m<ipython-input-26-4dbc43901204>\u001b[0m in \u001b[0;36mScatter\u001b[0;34m(errorArray, xAxis, yAxis, xRange, yRange, size)\u001b[0m\n\u001b[1;32m      1\u001b[0m \u001b[0;32mdef\u001b[0m \u001b[0mScatter\u001b[0m\u001b[0;34m(\u001b[0m\u001b[0merrorArray\u001b[0m\u001b[0;34m,\u001b[0m\u001b[0mxAxis\u001b[0m\u001b[0;34m,\u001b[0m\u001b[0myAxis\u001b[0m\u001b[0;34m,\u001b[0m\u001b[0mxRange\u001b[0m\u001b[0;34m,\u001b[0m\u001b[0myRange\u001b[0m\u001b[0;34m,\u001b[0m\u001b[0msize\u001b[0m\u001b[0;34m)\u001b[0m\u001b[0;34m:\u001b[0m\u001b[0;34m\u001b[0m\u001b[0;34m\u001b[0m\u001b[0m\n\u001b[0;32m----> 2\u001b[0;31m     \u001b[0mindex_pos_X\u001b[0m\u001b[0;34m=\u001b[0m\u001b[0mnum\u001b[0m\u001b[0;34m.\u001b[0m\u001b[0mlogical_and\u001b[0m\u001b[0;34m(\u001b[0m\u001b[0merrorArray\u001b[0m\u001b[0;34m[\u001b[0m\u001b[0;34m:\u001b[0m\u001b[0;34m,\u001b[0m\u001b[0mxAxis\u001b[0m\u001b[0;34m]\u001b[0m\u001b[0;34m>\u001b[0m\u001b[0mxRange\u001b[0m\u001b[0;34m[\u001b[0m\u001b[0;36m0\u001b[0m\u001b[0;34m]\u001b[0m\u001b[0;34m,\u001b[0m\u001b[0merrorArray\u001b[0m\u001b[0;34m[\u001b[0m\u001b[0;34m:\u001b[0m\u001b[0;34m,\u001b[0m\u001b[0mxAxis\u001b[0m\u001b[0;34m]\u001b[0m\u001b[0;34m<\u001b[0m\u001b[0mxRange\u001b[0m\u001b[0;34m[\u001b[0m\u001b[0;36m1\u001b[0m\u001b[0;34m]\u001b[0m\u001b[0;34m)\u001b[0m\u001b[0;34m\u001b[0m\u001b[0;34m\u001b[0m\u001b[0m\n\u001b[0m\u001b[1;32m      3\u001b[0m     \u001b[0mindex_pos_Y\u001b[0m\u001b[0;34m=\u001b[0m\u001b[0mnum\u001b[0m\u001b[0;34m.\u001b[0m\u001b[0mlogical_and\u001b[0m\u001b[0;34m(\u001b[0m\u001b[0merrorArray\u001b[0m\u001b[0;34m[\u001b[0m\u001b[0;34m:\u001b[0m\u001b[0;34m,\u001b[0m\u001b[0myAxis\u001b[0m\u001b[0;34m]\u001b[0m\u001b[0;34m>\u001b[0m\u001b[0myRange\u001b[0m\u001b[0;34m[\u001b[0m\u001b[0;36m0\u001b[0m\u001b[0;34m]\u001b[0m\u001b[0;34m,\u001b[0m\u001b[0merrorArray\u001b[0m\u001b[0;34m[\u001b[0m\u001b[0;34m:\u001b[0m\u001b[0;34m,\u001b[0m\u001b[0myAxis\u001b[0m\u001b[0;34m]\u001b[0m\u001b[0;34m<\u001b[0m\u001b[0myRange\u001b[0m\u001b[0;34m[\u001b[0m\u001b[0;36m1\u001b[0m\u001b[0;34m]\u001b[0m\u001b[0;34m)\u001b[0m\u001b[0;34m\u001b[0m\u001b[0;34m\u001b[0m\u001b[0m\n\u001b[1;32m      4\u001b[0m \u001b[0;34m\u001b[0m\u001b[0m\n\u001b[1;32m      5\u001b[0m     \u001b[0mindex_pos\u001b[0m\u001b[0;34m=\u001b[0m\u001b[0mnum\u001b[0m\u001b[0;34m.\u001b[0m\u001b[0mlogical_and\u001b[0m\u001b[0;34m(\u001b[0m\u001b[0mindex_pos_X\u001b[0m\u001b[0;34m,\u001b[0m\u001b[0mindex_pos_Y\u001b[0m\u001b[0;34m)\u001b[0m\u001b[0;34m\u001b[0m\u001b[0;34m\u001b[0m\u001b[0m\n",
      "\u001b[0;31mIndexError\u001b[0m: too many indices for array"
     ]
    }
   ],
   "source": [
    "Scatter(error_array,1,0,[1,3],[14,16],800)"
   ]
  },
  {
   "cell_type": "code",
   "execution_count": 29,
   "metadata": {},
   "outputs": [
    {
     "ename": "IndexError",
     "evalue": "too many indices for array",
     "output_type": "error",
     "traceback": [
      "\u001b[0;31m---------------------------------------------------------------------------\u001b[0m",
      "\u001b[0;31mIndexError\u001b[0m                                Traceback (most recent call last)",
      "\u001b[0;32m<ipython-input-29-6f9590ade613>\u001b[0m in \u001b[0;36m<module>\u001b[0;34m\u001b[0m\n\u001b[0;32m----> 1\u001b[0;31m \u001b[0mScatter\u001b[0m\u001b[0;34m(\u001b[0m\u001b[0merror_array\u001b[0m\u001b[0;34m,\u001b[0m\u001b[0;36m1\u001b[0m\u001b[0;34m,\u001b[0m\u001b[0;36m0\u001b[0m\u001b[0;34m,\u001b[0m\u001b[0;34m[\u001b[0m\u001b[0;36m2\u001b[0m\u001b[0;34m,\u001b[0m\u001b[0;36m3\u001b[0m\u001b[0;34m]\u001b[0m\u001b[0;34m,\u001b[0m\u001b[0;34m[\u001b[0m\u001b[0;36m15\u001b[0m\u001b[0;34m,\u001b[0m\u001b[0;36m16\u001b[0m\u001b[0;34m]\u001b[0m\u001b[0;34m,\u001b[0m\u001b[0;36m2000\u001b[0m\u001b[0;34m)\u001b[0m\u001b[0;34m\u001b[0m\u001b[0;34m\u001b[0m\u001b[0m\n\u001b[0m",
      "\u001b[0;32m<ipython-input-26-4dbc43901204>\u001b[0m in \u001b[0;36mScatter\u001b[0;34m(errorArray, xAxis, yAxis, xRange, yRange, size)\u001b[0m\n\u001b[1;32m      1\u001b[0m \u001b[0;32mdef\u001b[0m \u001b[0mScatter\u001b[0m\u001b[0;34m(\u001b[0m\u001b[0merrorArray\u001b[0m\u001b[0;34m,\u001b[0m\u001b[0mxAxis\u001b[0m\u001b[0;34m,\u001b[0m\u001b[0myAxis\u001b[0m\u001b[0;34m,\u001b[0m\u001b[0mxRange\u001b[0m\u001b[0;34m,\u001b[0m\u001b[0myRange\u001b[0m\u001b[0;34m,\u001b[0m\u001b[0msize\u001b[0m\u001b[0;34m)\u001b[0m\u001b[0;34m:\u001b[0m\u001b[0;34m\u001b[0m\u001b[0;34m\u001b[0m\u001b[0m\n\u001b[0;32m----> 2\u001b[0;31m     \u001b[0mindex_pos_X\u001b[0m\u001b[0;34m=\u001b[0m\u001b[0mnum\u001b[0m\u001b[0;34m.\u001b[0m\u001b[0mlogical_and\u001b[0m\u001b[0;34m(\u001b[0m\u001b[0merrorArray\u001b[0m\u001b[0;34m[\u001b[0m\u001b[0;34m:\u001b[0m\u001b[0;34m,\u001b[0m\u001b[0mxAxis\u001b[0m\u001b[0;34m]\u001b[0m\u001b[0;34m>\u001b[0m\u001b[0mxRange\u001b[0m\u001b[0;34m[\u001b[0m\u001b[0;36m0\u001b[0m\u001b[0;34m]\u001b[0m\u001b[0;34m,\u001b[0m\u001b[0merrorArray\u001b[0m\u001b[0;34m[\u001b[0m\u001b[0;34m:\u001b[0m\u001b[0;34m,\u001b[0m\u001b[0mxAxis\u001b[0m\u001b[0;34m]\u001b[0m\u001b[0;34m<\u001b[0m\u001b[0mxRange\u001b[0m\u001b[0;34m[\u001b[0m\u001b[0;36m1\u001b[0m\u001b[0;34m]\u001b[0m\u001b[0;34m)\u001b[0m\u001b[0;34m\u001b[0m\u001b[0;34m\u001b[0m\u001b[0m\n\u001b[0m\u001b[1;32m      3\u001b[0m     \u001b[0mindex_pos_Y\u001b[0m\u001b[0;34m=\u001b[0m\u001b[0mnum\u001b[0m\u001b[0;34m.\u001b[0m\u001b[0mlogical_and\u001b[0m\u001b[0;34m(\u001b[0m\u001b[0merrorArray\u001b[0m\u001b[0;34m[\u001b[0m\u001b[0;34m:\u001b[0m\u001b[0;34m,\u001b[0m\u001b[0myAxis\u001b[0m\u001b[0;34m]\u001b[0m\u001b[0;34m>\u001b[0m\u001b[0myRange\u001b[0m\u001b[0;34m[\u001b[0m\u001b[0;36m0\u001b[0m\u001b[0;34m]\u001b[0m\u001b[0;34m,\u001b[0m\u001b[0merrorArray\u001b[0m\u001b[0;34m[\u001b[0m\u001b[0;34m:\u001b[0m\u001b[0;34m,\u001b[0m\u001b[0myAxis\u001b[0m\u001b[0;34m]\u001b[0m\u001b[0;34m<\u001b[0m\u001b[0myRange\u001b[0m\u001b[0;34m[\u001b[0m\u001b[0;36m1\u001b[0m\u001b[0;34m]\u001b[0m\u001b[0;34m)\u001b[0m\u001b[0;34m\u001b[0m\u001b[0;34m\u001b[0m\u001b[0m\n\u001b[1;32m      4\u001b[0m \u001b[0;34m\u001b[0m\u001b[0m\n\u001b[1;32m      5\u001b[0m     \u001b[0mindex_pos\u001b[0m\u001b[0;34m=\u001b[0m\u001b[0mnum\u001b[0m\u001b[0;34m.\u001b[0m\u001b[0mlogical_and\u001b[0m\u001b[0;34m(\u001b[0m\u001b[0mindex_pos_X\u001b[0m\u001b[0;34m,\u001b[0m\u001b[0mindex_pos_Y\u001b[0m\u001b[0;34m)\u001b[0m\u001b[0;34m\u001b[0m\u001b[0;34m\u001b[0m\u001b[0m\n",
      "\u001b[0;31mIndexError\u001b[0m: too many indices for array"
     ]
    }
   ],
   "source": [
    "Scatter(error_array,1,0,[2,3],[15,16],2000)"
   ]
  },
  {
   "cell_type": "markdown",
   "metadata": {},
   "source": [
    "When the value of parameter De[5,7],beta[2,3],re[1,3]-->minima occurs for tuple(7,3,1.8888)\n",
    "\n",
    "When the value of parameter De[7,9],beta[3,4],re[1,3]-->minima occurs for tuple(7,3,1.8888)\n",
    "\n",
    "De_range=num.linspace(8,9,10)  beta_range=num.linspace(3,3.5,10)  re_range=num.linspace(1.5,2,10):: 8.7777,3.2222,1.77777"
   ]
  },
  {
   "cell_type": "code",
   "execution_count": 30,
   "metadata": {},
   "outputs": [
    {
     "ename": "NameError",
     "evalue": "name 'param_De' is not defined",
     "output_type": "error",
     "traceback": [
      "\u001b[0;31m---------------------------------------------------------------------------\u001b[0m",
      "\u001b[0;31mNameError\u001b[0m                                 Traceback (most recent call last)",
      "\u001b[0;32m<ipython-input-30-4a991c65a111>\u001b[0m in \u001b[0;36m<module>\u001b[0;34m\u001b[0m\n\u001b[0;32m----> 1\u001b[0;31m \u001b[0mforceField\u001b[0m\u001b[0;34m=\u001b[0m\u001b[0mmorseO\u001b[0m\u001b[0;34m=\u001b[0m\u001b[0mmorse\u001b[0m\u001b[0;34m(\u001b[0m\u001b[0mr\u001b[0m\u001b[0;34m,\u001b[0m\u001b[0mparam_De\u001b[0m\u001b[0;34m,\u001b[0m\u001b[0mparam_beta\u001b[0m\u001b[0;34m,\u001b[0m\u001b[0mparam_re\u001b[0m\u001b[0;34m)\u001b[0m\u001b[0;34m+\u001b[0m\u001b[0;36m2\u001b[0m\u001b[0;34m*\u001b[0m\u001b[0mF_OU\u001b[0m\u001b[0;34m+\u001b[0m\u001b[0mphiModified\u001b[0m\u001b[0;34m\u001b[0m\u001b[0;34m\u001b[0m\u001b[0m\n\u001b[0m",
      "\u001b[0;31mNameError\u001b[0m: name 'param_De' is not defined"
     ]
    }
   ],
   "source": [
    "forceField=morseO=morse(r,param_De,param_beta,param_re)+2*F_OU+phiModified"
   ]
  },
  {
   "cell_type": "code",
   "execution_count": 31,
   "metadata": {},
   "outputs": [
    {
     "ename": "NameError",
     "evalue": "name 'forceField' is not defined",
     "output_type": "error",
     "traceback": [
      "\u001b[0;31m---------------------------------------------------------------------------\u001b[0m",
      "\u001b[0;31mNameError\u001b[0m                                 Traceback (most recent call last)",
      "\u001b[0;32m<ipython-input-31-837813824100>\u001b[0m in \u001b[0;36m<module>\u001b[0;34m\u001b[0m\n\u001b[1;32m     29\u001b[0m \u001b[0max2\u001b[0m\u001b[0;34m=\u001b[0m\u001b[0mfig\u001b[0m\u001b[0;34m.\u001b[0m\u001b[0madd_subplot\u001b[0m\u001b[0;34m(\u001b[0m\u001b[0;36m1\u001b[0m\u001b[0;34m,\u001b[0m\u001b[0;36m2\u001b[0m\u001b[0;34m,\u001b[0m\u001b[0;36m2\u001b[0m\u001b[0;34m)\u001b[0m\u001b[0;34m\u001b[0m\u001b[0;34m\u001b[0m\u001b[0m\n\u001b[1;32m     30\u001b[0m \u001b[0;34m\u001b[0m\u001b[0m\n\u001b[0;32m---> 31\u001b[0;31m \u001b[0max1\u001b[0m\u001b[0;34m.\u001b[0m\u001b[0mplot\u001b[0m\u001b[0;34m(\u001b[0m\u001b[0mr\u001b[0m\u001b[0;34m,\u001b[0m\u001b[0mforceField\u001b[0m\u001b[0;34m,\u001b[0m\u001b[0;34m'r'\u001b[0m\u001b[0;34m,\u001b[0m\u001b[0mlabel\u001b[0m\u001b[0;34m=\u001b[0m\u001b[0;34m\"$FF_{modified}$\"\u001b[0m\u001b[0;34m)\u001b[0m\u001b[0;34m\u001b[0m\u001b[0;34m\u001b[0m\u001b[0m\n\u001b[0m\u001b[1;32m     32\u001b[0m \u001b[0max1\u001b[0m\u001b[0;34m.\u001b[0m\u001b[0mplot\u001b[0m\u001b[0;34m(\u001b[0m\u001b[0mr\u001b[0m\u001b[0;34m,\u001b[0m\u001b[0;36m2\u001b[0m\u001b[0;34m*\u001b[0m\u001b[0mF_OU\u001b[0m\u001b[0;34m+\u001b[0m\u001b[0mphi2005\u001b[0m\u001b[0;34m,\u001b[0m\u001b[0;34m'b'\u001b[0m\u001b[0;34m,\u001b[0m\u001b[0mlabel\u001b[0m\u001b[0;34m=\u001b[0m\u001b[0;34m\"$EAM$\"\u001b[0m\u001b[0;34m)\u001b[0m\u001b[0;34m\u001b[0m\u001b[0;34m\u001b[0m\u001b[0m\n\u001b[1;32m     33\u001b[0m \u001b[0max1\u001b[0m\u001b[0;34m.\u001b[0m\u001b[0mplot\u001b[0m\u001b[0;34m(\u001b[0m\u001b[0mr\u001b[0m\u001b[0;34m,\u001b[0m\u001b[0mmorse\u001b[0m\u001b[0;34m(\u001b[0m\u001b[0mr\u001b[0m\u001b[0;34m,\u001b[0m\u001b[0;36m5.211\u001b[0m\u001b[0;34m,\u001b[0m\u001b[0;36m2.78\u001b[0m\u001b[0;34m,\u001b[0m\u001b[0;36m1.207\u001b[0m\u001b[0;34m)\u001b[0m\u001b[0;34m,\u001b[0m\u001b[0;34m'm'\u001b[0m\u001b[0;34m,\u001b[0m\u001b[0mlabel\u001b[0m\u001b[0;34m=\u001b[0m\u001b[0;34m\"$Morse$\"\u001b[0m\u001b[0;34m)\u001b[0m\u001b[0;34m\u001b[0m\u001b[0;34m\u001b[0m\u001b[0m\n",
      "\u001b[0;31mNameError\u001b[0m: name 'forceField' is not defined"
     ]
    },
    {
     "data": {
      "image/png": "[encoded data removed]",
      "text/plain": [
       "<Figure size 720x360 with 2 Axes>"
      ]
     },
     "metadata": {
      "needs_background": "light"
     },
     "output_type": "display_data"
    }
   ],
   "source": [
    "fig=plt.figure(figsize=(10,5))\n",
    "left  =0.1# the left side of the subplots of the figure\n",
    "right = 0.9    # the right side of the subplots of the figure\n",
    "bottom = 0.1   # the bottom of the subplots of the figure\n",
    "top = 0.9      # the top of the subplots of the figure\n",
    "wspace = 0.2  # the amount of width reserved for blank space between subplots,\n",
    "               # expressed as a fraction of the average axis width\n",
    "hspace = 0.2  # the amount of height reserved for white space between subplots,\n",
    "               # expressed as a fraction of the average axis height\n",
    "    \n",
    "fig.subplots_adjust(left=left,right=right,bottom=bottom,top=top,wspace=wspace,hspace=hspace)\n",
    "#---------------------------------------------------------------------------------------------\n",
    "\n",
    "#setting different parameteres\n",
    "from matplotlib import rcParams\n",
    "params = {\n",
    "    'font.family':'serif',\n",
    "   'axes.labelsize': 12,\n",
    "   'font.size': 12,\n",
    "   'legend.fontsize': 12,\n",
    "   'xtick.labelsize': 12,\n",
    "   'ytick.labelsize': 12,\n",
    "   'text.usetex': False,\n",
    "   'figure.figsize': [4.5, 4.5]\n",
    "   }\n",
    "rcParams.update(params)\n",
    "\n",
    "ax1=fig.add_subplot(1,2,1)\n",
    "ax2=fig.add_subplot(1,2,2)\n",
    "\n",
    "ax1.plot(r,forceField,'r',label=\"$FF_{modified}$\")\n",
    "ax1.plot(r,2*F_OU+phi2005,'b',label=\"$EAM$\")\n",
    "ax1.plot(r,morse(r,5.211,2.78,1.207),'m',label=\"$Morse$\")\n",
    "ax1.set_xlim([0,4])\n",
    "ax1.set_ylim([-6,5])\n",
    "ax1.set_xlabel(\"r\")\n",
    "ax1.set_ylabel(\"U\")\n",
    "\n",
    "\n",
    "ax2.plot(r,forceField,'r',label=\"$FF_{modified}$\")\n",
    "ax2.plot(r,2*F_OU+phi2005,'b',label=\"$EAM$\")\n",
    "ax2.plot(r,morse(r,5.211,2.78,1.207),'m',label=\"$Morse$\")\n",
    "ax2.set_xlim([1,6])\n",
    "ax2.set_ylim([-1,0])\n",
    "ax2.legend(loc=\"lower right\")\n",
    "ax2.set_xlabel(\"r\")\n",
    "\n",
    "\n",
    "\n",
    "plt.show()"
   ]
  },
  {
   "cell_type": "code",
   "execution_count": 32,
   "metadata": {},
   "outputs": [
    {
     "ename": "NameError",
     "evalue": "name 'forceField' is not defined",
     "output_type": "error",
     "traceback": [
      "\u001b[0;31m---------------------------------------------------------------------------\u001b[0m",
      "\u001b[0;31mNameError\u001b[0m                                 Traceback (most recent call last)",
      "\u001b[0;32m<ipython-input-32-f316e6777ff6>\u001b[0m in \u001b[0;36m<module>\u001b[0;34m\u001b[0m\n\u001b[0;32m----> 1\u001b[0;31m \u001b[0mminimum\u001b[0m\u001b[0;34m(\u001b[0m\u001b[0mforceField\u001b[0m\u001b[0;34m,\u001b[0m\u001b[0mr\u001b[0m\u001b[0;34m,\u001b[0m\u001b[0;34m[\u001b[0m\u001b[0;36m1\u001b[0m\u001b[0;34m,\u001b[0m\u001b[0;36m3\u001b[0m\u001b[0;34m]\u001b[0m\u001b[0;34m)\u001b[0m\u001b[0;34m\u001b[0m\u001b[0;34m\u001b[0m\u001b[0m\n\u001b[0m",
      "\u001b[0;31mNameError\u001b[0m: name 'forceField' is not defined"
     ]
    }
   ],
   "source": [
    "minimum(forceField,r,[1,3])"
   ]
  },
  {
   "cell_type": "code",
   "execution_count": 33,
   "metadata": {},
   "outputs": [
    {
     "ename": "NameError",
     "evalue": "name 'forceField' is not defined",
     "output_type": "error",
     "traceback": [
      "\u001b[0;31m---------------------------------------------------------------------------\u001b[0m",
      "\u001b[0;31mNameError\u001b[0m                                 Traceback (most recent call last)",
      "\u001b[0;32m<ipython-input-33-320eb68eafca>\u001b[0m in \u001b[0;36m<module>\u001b[0;34m\u001b[0m\n\u001b[0;32m----> 1\u001b[0;31m \u001b[0mminimum\u001b[0m\u001b[0;34m(\u001b[0m\u001b[0mforceField\u001b[0m\u001b[0;34m,\u001b[0m\u001b[0mr\u001b[0m\u001b[0;34m,\u001b[0m\u001b[0;34m[\u001b[0m\u001b[0;36m3.7\u001b[0m\u001b[0;34m,\u001b[0m\u001b[0;36m5\u001b[0m\u001b[0;34m]\u001b[0m\u001b[0;34m)\u001b[0m\u001b[0;34m\u001b[0m\u001b[0;34m\u001b[0m\u001b[0m\n\u001b[0m",
      "\u001b[0;31mNameError\u001b[0m: name 'forceField' is not defined"
     ]
    }
   ],
   "source": [
    "minimum(forceField,r,[3.7,5])"
   ]
  },
  {
   "cell_type": "code",
   "execution_count": 236,
   "metadata": {},
   "outputs": [
    {
     "data": {
      "text/plain": [
       "[array([ 3.99139914]), -0.32746137567928424, 0.92034296037435914]"
      ]
     },
     "execution_count": 236,
     "metadata": {},
     "output_type": "execute_result"
    }
   ],
   "source": [
    "minimum(2*F_OU+phi2005,r,[3.7,5])"
   ]
  },
  {
   "cell_type": "code",
   "execution_count": 4,
   "metadata": {},
   "outputs": [],
   "source": [
    "cutoff=lambda r,re,k:1/(1+((r/re)-k)**20)"
   ]
  },
  {
   "cell_type": "code",
   "execution_count": 5,
   "metadata": {},
   "outputs": [
    {
     "data": {
      "text/plain": [
       "<matplotlib.collections.LineCollection at 0x7f120e8274e0>"
      ]
     },
     "execution_count": 5,
     "metadata": {},
     "output_type": "execute_result"
    },
    {
     "data": {
      "image/png": "[encoded data removed]",
      "text/plain": [
       "<matplotlib.figure.Figure at 0x7f120e8274a8>"
      ]
     },
     "metadata": {},
     "output_type": "display_data"
    }
   ],
   "source": [
    "r=num.linspace(0,10,100)\n",
    "lab.plot(r,cutoff(r,2.59586,0.58))\n",
    "lab.vlines(x=2.59,ymin=0,ymax=1)\n",
    "#lab.xlim([2,3])"
   ]
  },
  {
   "cell_type": "code",
   "execution_count": 77,
   "metadata": {},
   "outputs": [],
   "source": [
    "s = lambda x,a,b,c:0.5-0.5*num.tanh((x-a*(b))/c)"
   ]
  },
  {
   "cell_type": "code",
   "execution_count": 103,
   "metadata": {},
   "outputs": [
    {
     "data": {
      "text/plain": [
       "<matplotlib.collections.LineCollection at 0x7f6692c44ba8>"
      ]
     },
     "execution_count": 103,
     "metadata": {},
     "output_type": "execute_result"
    },
    {
     "data": {
      "image/png": "[encoded data removed]",
      "text/plain": [
       "<matplotlib.figure.Figure at 0x7f6692c79b70>"
      ]
     },
     "metadata": {},
     "output_type": "display_data"
    }
   ],
   "source": [
    "lab.plot(r,s(r,1.25,2.59586,.3))\n",
    "lab.plot(r,cutoff(r,2.59586,0.374))\n",
    "lab.vlines(x=2.59,ymin=0,ymax=1)"
   ]
  },
  {
   "cell_type": "code",
   "execution_count": 101,
   "metadata": {},
   "outputs": [
    {
     "data": {
      "text/plain": [
       "<matplotlib.collections.LineCollection at 0x7f6692d017f0>"
      ]
     },
     "execution_count": 101,
     "metadata": {},
     "output_type": "execute_result"
    },
    {
     "data": {
      "image/png": "[encoded data removed]",
      "text/plain": [
       "<matplotlib.figure.Figure at 0x7f6692d3f898>"
      ]
     },
     "metadata": {},
     "output_type": "display_data"
    }
   ],
   "source": [
    "lab.plot(r,s(r,1.25,2.98520,.3))\n",
    "lab.plot(r,cutoff(r,2.98520,0.18))\n",
    "lab.vlines(x=2.98520,ymin=0,ymax=1)"
   ]
  },
  {
   "cell_type": "code",
   "execution_count": 9,
   "metadata": {},
   "outputs": [
    {
     "ename": "NameError",
     "evalue": "name 'cutoff' is not defined",
     "output_type": "error",
     "traceback": [
      "\u001b[0;31m---------------------------------------------------------------------------\u001b[0m",
      "\u001b[0;31mNameError\u001b[0m                                 Traceback (most recent call last)",
      "\u001b[0;32m<ipython-input-9-e98ddad47f81>\u001b[0m in \u001b[0;36m<module>\u001b[0;34m()\u001b[0m\n\u001b[0;32m----> 1\u001b[0;31m \u001b[0mlab\u001b[0m\u001b[0;34m.\u001b[0m\u001b[0mplot\u001b[0m\u001b[0;34m(\u001b[0m\u001b[0mr\u001b[0m\u001b[0;34m,\u001b[0m\u001b[0mcutoff\u001b[0m\u001b[0;34m(\u001b[0m\u001b[0mr\u001b[0m\u001b[0;34m,\u001b[0m\u001b[0;36m2.98520\u001b[0m\u001b[0;34m,\u001b[0m\u001b[0;36m0.11\u001b[0m\u001b[0;34m)\u001b[0m\u001b[0;34m)\u001b[0m\u001b[0;34m\u001b[0m\u001b[0m\n\u001b[0m\u001b[1;32m      2\u001b[0m \u001b[0mlab\u001b[0m\u001b[0;34m.\u001b[0m\u001b[0mxlim\u001b[0m\u001b[0;34m(\u001b[0m\u001b[0;34m[\u001b[0m\u001b[0;36m2.5\u001b[0m\u001b[0;34m,\u001b[0m\u001b[0;36m3\u001b[0m\u001b[0;34m]\u001b[0m\u001b[0;34m)\u001b[0m\u001b[0;34m\u001b[0m\u001b[0m\n",
      "\u001b[0;31mNameError\u001b[0m: name 'cutoff' is not defined"
     ]
    }
   ],
   "source": [
    "lab.plot(r,cutoff(r,2.98520,0.11))\n",
    "lab.xlim([2.5,3])"
   ]
  },
  {
   "cell_type": "code",
   "execution_count": null,
   "metadata": {},
   "outputs": [],
   "source": []
  },
  {
   "cell_type": "code",
   "execution_count": 8,
   "metadata": {},
   "outputs": [
    {
     "data": {
      "text/plain": [
       "<matplotlib.legend.Legend at 0x7f685901d588>"
      ]
     },
     "execution_count": 8,
     "metadata": {},
     "output_type": "execute_result"
    },
    {
     "data": {
      "image/png": "[encoded data removed]",
      "text/plain": [
       "<matplotlib.figure.Figure at 0x7f685901d470>"
      ]
     },
     "metadata": {},
     "output_type": "display_data"
    }
   ],
   "source": [
    "lab.plot(r,2*F_OU,'r',label=\"$U_{2005}$\")\n",
    "#lab.plot(r,2*F_OU+phiModified,'b',label=\"$U_{modified}$\")\n",
    "#lab.xlim([3,6])\n",
    "#lab.ylim([-.4,0])\n",
    "lab.legend(loc=\"lower right\")"
   ]
  },
  {
   "cell_type": "code",
   "execution_count": 39,
   "metadata": {
    "collapsed": true
   },
   "outputs": [
    {
     "data": {
      "text/plain": [
       "80.48224839061227"
      ]
     },
     "execution_count": 39,
     "metadata": {},
     "output_type": "execute_result"
    }
   ],
   "source": [
    "a0=A_O*num.exp(alpha_O)\n",
    "a0"
   ]
  },
  {
   "cell_type": "code",
   "execution_count": 40,
   "metadata": {},
   "outputs": [
    {
     "data": {
      "text/plain": [
       "1.491192439777776"
      ]
     },
     "execution_count": 40,
     "metadata": {},
     "output_type": "execute_result"
    }
   ],
   "source": [
    "a1=alpha_O/re_O\n",
    "a1"
   ]
  },
  {
   "cell_type": "code",
   "execution_count": 38,
   "metadata": {},
   "outputs": [
    {
     "data": {
      "text/plain": [
       "(0, 6)"
      ]
     },
     "execution_count": 38,
     "metadata": {},
     "output_type": "execute_result"
    },
    {
     "data": {
      "image/png": "[encoded data removed]",
      "text/plain": [
       "<matplotlib.figure.Figure at 0x7f6858ab3198>"
      ]
     },
     "metadata": {},
     "output_type": "display_data"
    }
   ],
   "source": [
    "lab.plot(r,phiN(r,A_O,alpha_O,re_O,kappa_O))\n",
    "lab.plot(r,a0*num.exp(-a1*r))\n",
    "lab.xlim([0,6])"
   ]
  },
  {
   "cell_type": "code",
   "execution_count": 37,
   "metadata": {},
   "outputs": [
    {
     "data": {
      "image/png": "[encoded data removed]",
      "text/plain": [
       "<matplotlib.figure.Figure at 0x7f6858ad4f98>"
      ]
     },
     "metadata": {},
     "output_type": "display_data"
    }
   ],
   "source": [
    "lab.plot(r,phiN(r,A_O,alpha_O,re_O,kappa_O))\n",
    "lab.xlim([0,1])\n",
    "lab.show()"
   ]
  },
  {
   "cell_type": "code",
   "execution_count": 11,
   "metadata": {},
   "outputs": [
    {
     "data": {
      "text/plain": [
       "[<matplotlib.lines.Line2D at 0x7f1a407f4be0>]"
      ]
     },
     "execution_count": 11,
     "metadata": {},
     "output_type": "execute_result"
    },
    {
     "data": {
      "image/png": "[encoded data removed]",
      "text/plain": [
       "<matplotlib.figure.Figure at 0x7f1a3ff9f6a0>"
      ]
     },
     "metadata": {},
     "output_type": "display_data"
    }
   ],
   "source": [
    "den=num.linspace(37,39,10000)\n",
    "\n",
    "F_OU=FO(den,rhoe_O,rhominO,rhomaxO,\\\n",
    "       F0[0],F0[1],F0[2],F0[3],F0[4],\\\n",
    "       F1[0],F1[1],F1[2],F1[3],F1[4],\\\n",
    "      F2[0],F2[1],F2[2],F2[3],F2[4],\\\n",
    "      F3[0],F3[1],F3[2],F3[3],F3[4])\n",
    "lab.plot(den,F_OU)"
   ]
  },
  {
   "cell_type": "code",
   "execution_count": 283,
   "metadata": {},
   "outputs": [],
   "source": [
    "\n",
    "\n",
    "def Der(rho):\n",
    "    delta=0.00001\n",
    "    f1=FO([rho+delta],rhoe_O,rhominO,rhomaxO,\\\n",
    "       F0[0],F0[1],F0[2],F0[3],F0[4],\\\n",
    "       F1[0],F1[1],F1[2],F1[3],F1[4],\\\n",
    "      F2[0],F2[1],F2[2],F2[3],F2[4],\\\n",
    "      F3[0],F3[1],F3[2],F3[3],F3[4])\n",
    "    f2=FO([rho],rhoe_O,rhominO,rhomaxO,\\\n",
    "       F0[0],F0[1],F0[2],F0[3],F0[4],\\\n",
    "       F1[0],F1[1],F1[2],F1[3],F1[4],\\\n",
    "      F2[0],F2[1],F2[2],F2[3],F2[4],\\\n",
    "      F3[0],F3[1],F3[2],F3[3],F3[4])\n",
    "    return (f1-f2)/delta\n",
    "\n",
    "\n",
    "def DerFit(rho):\n",
    "    delta=0.00001\n",
    "    f1=FO([rho+delta],rhoe_O,rhominO,rhomaxO,\\\n",
    "       F0[0],F0[1],F0[2],F0[3],F0[4],\\\n",
    "       F1[0],F1[1],F1[2],F1[3],F1[4],\\\n",
    "      F2[0],F2[1],F2[2],F2[3],F2[4],\\\n",
    "      F3[0],F3[1],F3[2],F3[3],F3[4])\n",
    "    f2=FO([rho],rhoe_O,rhominO,rhomaxO,\\\n",
    "       F0[0],F0[1],F0[2],F0[3],F0[4],\\\n",
    "       F1[0],F1[1],F1[2],F1[3],F1[4],\\\n",
    "      F2[0],F2[1],F2[2],F2[3],F2[4],\\\n",
    "      F3[0],F3[1],F3[2],F3[3],F3[4])\n",
    "    return (f1-f2)/delta"
   ]
  },
  {
   "cell_type": "code",
   "execution_count": null,
   "metadata": {},
   "outputs": [],
   "source": []
  },
  {
   "cell_type": "code",
   "execution_count": 284,
   "metadata": {},
   "outputs": [],
   "source": [
    "x=num.linspace(0,100,10000)"
   ]
  },
  {
   "cell_type": "code",
   "execution_count": 285,
   "metadata": {},
   "outputs": [],
   "source": [
    "derf=[]\n",
    "for var in x:\n",
    "    derf.append(Der(var))\n",
    "    \n",
    "    \n",
    " "
   ]
  },
  {
   "cell_type": "code",
   "execution_count": 286,
   "metadata": {},
   "outputs": [
    {
     "data": {
      "text/plain": [
       "[<matplotlib.lines.Line2D at 0x7fd6d48411d0>]"
      ]
     },
     "execution_count": 286,
     "metadata": {},
     "output_type": "execute_result"
    },
    {
     "data": {
      "image/png": "[encoded data removed]",
      "text/plain": [
       "<matplotlib.figure.Figure at 0x7fd6d4b8f828>"
      ]
     },
     "metadata": {},
     "output_type": "display_data"
    }
   ],
   "source": [
    "lab.plot(x,derf)"
   ]
  },
  {
   "cell_type": "code",
   "execution_count": 287,
   "metadata": {},
   "outputs": [
    {
     "data": {
      "text/plain": [
       "[<matplotlib.lines.Line2D at 0x7fd6d4859438>]"
      ]
     },
     "execution_count": 287,
     "metadata": {},
     "output_type": "execute_result"
    },
    {
     "data": {
      "image/png": "[encoded data removed]",
      "text/plain": [
       "<matplotlib.figure.Figure at 0x7fd6d4b2f668>"
      ]
     },
     "metadata": {},
     "output_type": "display_data"
    }
   ],
   "source": [
    "lab.plot(x,FO(x,rhoe_O,rhominO,rhomaxO,\\\n",
    "       F0[0],F0[1],F0[2],F0[3],F0[4],\\\n",
    "       F1[0],F1[1],F1[2],F1[3],F1[4],\\\n",
    "      F2[0],F2[1],F2[2],F2[3],F2[4],\\\n",
    "      F3[0],F3[1],F3[2],F3[3],F3[4]))\n",
    "lab.plot(x,FO1(x,rhoe_O,rhominO,rhomaxO,\\\n",
    "       F0[0],F0[1],F0[2],F0[3],F0[4],\\\n",
    "       F1[0],F1[1],F1[2],F1[3],F1[4],\\\n",
    "      F2[0],F2[1],F2[2],F2[3],F2[4],\\\n",
    "      F3[0],F3[1],F3[2],F3[3],F3[4]))"
   ]
  },
  {
   "cell_type": "code",
   "execution_count": 289,
   "metadata": {},
   "outputs": [
    {
     "data": {
      "text/plain": [
       "[<matplotlib.lines.Line2D at 0x7fd6d4b37438>]"
      ]
     },
     "execution_count": 289,
     "metadata": {},
     "output_type": "execute_result"
    },
    {
     "data": {
      "image/png": "[encoded data removed]",
      "text/plain": [
       "<matplotlib.figure.Figure at 0x7fd6d49ad7f0>"
      ]
     },
     "metadata": {},
     "output_type": "display_data"
    }
   ],
   "source": [
    "r=num.linspace(0,5,100)\n",
    "val=f(r,0,5,fe_O,beta_O,re_O,lam_O)\n",
    "lab.plot(r,val)\n"
   ]
  },
  {
   "cell_type": "code",
   "execution_count": 290,
   "metadata": {},
   "outputs": [],
   "source": [
    "y=FO(x,rhoe_O,rhominO,rhomaxO,\\\n",
    "       F0[0],F0[1],F0[2],F0[3],F0[4],\\\n",
    "       F1[0],F1[1],F1[2],F1[3],F1[4],\\\n",
    "      F2[0],F2[1],F2[2],F2[3],F2[4],\\\n",
    "      F3[0],F3[1],F3[2],F3[3],F3[4])"
   ]
  },
  {
   "cell_type": "code",
   "execution_count": 311,
   "metadata": {},
   "outputs": [],
   "source": [
    "xred=(x/rhoe_O[0])-1\n",
    "xred1=(x/60.0)-1\n",
    "xnorm=(xred+1)*rhoe_O[0]"
   ]
  },
  {
   "cell_type": "code",
   "execution_count": 336,
   "metadata": {},
   "outputs": [],
   "source": [
    "param=num.polyfit(xred1,y,10)\n",
    "f=num.poly1d(param)\n",
    "param"
   ]
  },
  {
   "cell_type": "code",
   "execution_count": 336,
   "metadata": {},
   "outputs": [
    {
     "data": {
      "text/plain": [
       "array([ -1.84048019e+01,  -4.63159376e+01,  -1.36389113e+01,\n",
       "         4.61808076e+01,   2.87737943e+01,  -1.71312756e+01,\n",
       "        -1.39392638e+01,   5.77551438e+00,   7.29642361e+00,\n",
       "        -4.56977481e-02,  -1.62095343e+00])"
      ]
     },
     "execution_count": 336,
     "metadata": {},
     "output_type": "execute_result"
    }
   ],
   "source": [
    "param=num.polyfit(rhoe_O,F,10)\n",
    "f=num.poly1d(param)\n",
    "param"
   ]
  },
  {
   "cell_type": "code",
   "execution_count": 337,
   "metadata": {},
   "outputs": [
    {
     "data": {
      "text/plain": [
       "(-2, 0)"
      ]
     },
     "execution_count": 337,
     "metadata": {},
     "output_type": "execute_result"
    },
    {
     "data": {
      "image/png": "[encoded data removed]",
      "text/plain": [
       "<matplotlib.figure.Figure at 0x7fd6d5a60860>"
      ]
     },
     "metadata": {},
     "output_type": "display_data"
    }
   ],
   "source": [
    "lab.plot(x,FO(x,rhoe_O,rhominO,rhomaxO,\\\n",
    "       F0[0],F0[1],F0[2],F0[3],F0[4],\\\n",
    "       F1[0],F1[1],F1[2],F1[3],F1[4],\\\n",
    "      F2[0],F2[1],F2[2],F2[3],F2[4],\\\n",
    "      F3[0],F3[1],F3[2],F3[3],F3[4]),'.',markersize=0.5)\n",
    "lab.plot(xnorm,f(xred1),'.r',markersize=.1)\n",
    "#lab.xlim([50,65])\n",
    "lab.ylim([-2,0])"
   ]
  },
  {
   "cell_type": "code",
   "execution_count": 338,
   "metadata": {},
   "outputs": [],
   "source": [
    "def DerFit(rho,param):\n",
    "    delta=0.00001\n",
    "    f=num.poly1d(param)\n",
    "    f1=f(rho+delta)\n",
    "    f2=f(rho)\n",
    "    return (f1-f2)/delta"
   ]
  },
  {
   "cell_type": "code",
   "execution_count": 339,
   "metadata": {},
   "outputs": [
    {
     "data": {
      "text/plain": [
       "[<matplotlib.lines.Line2D at 0x7fd6d4cc3be0>]"
      ]
     },
     "execution_count": 339,
     "metadata": {},
     "output_type": "execute_result"
    },
    {
     "data": {
      "image/png": "[encoded data removed]",
      "text/plain": [
       "<matplotlib.figure.Figure at 0x7fd6d4cc3d68>"
      ]
     },
     "metadata": {},
     "output_type": "display_data"
    }
   ],
   "source": [
    "lab.plot(x,DerFit(xred1,param)/rhoe_O[0],'r.',markersize=1)\n",
    "lab.plot(x,derf,'.',markersize=.5)\n",
    "#lab.xlim([50,60])\n",
    "#lab.ylim([-0.04,0.06])"
   ]
  },
  {
   "cell_type": "code",
   "execution_count": null,
   "metadata": {},
   "outputs": [],
   "source": []
  },
  {
   "cell_type": "code",
   "execution_count": 340,
   "metadata": {},
   "outputs": [
    {
     "data": {
      "text/plain": [
       "array([-1.        , -0.98626968, -0.98608661, ...,  0.83016008,\n",
       "        0.83034315,  0.83052622])"
      ]
     },
     "execution_count": 340,
     "metadata": {},
     "output_type": "execute_result"
    }
   ],
   "source": [
    "xred[(DerFit(x,param)<0.06)]"
   ]
  },
  {
   "cell_type": "code",
   "execution_count": null,
   "metadata": {},
   "outputs": [],
   "source": []
  },
  {
   "cell_type": "code",
   "execution_count": null,
   "metadata": {},
   "outputs": [],
   "source": []
  }
 ],
 "metadata": {
  "anaconda-cloud": {},
  "kernelspec": {
   "display_name": "Python 3",
   "language": "python",
   "name": "python3"
  },
  "language_info": {
   "codemirror_mode": {
    "name": "ipython",
    "version": 3
   },
   "file_extension": ".py",
   "mimetype": "text/x-python",
   "name": "python",
   "nbconvert_exporter": "python",
   "pygments_lexer": "ipython3",
   "version": "3.6.8"
  }
 },
 "nbformat": 4,
 "nbformat_minor": 2
}
