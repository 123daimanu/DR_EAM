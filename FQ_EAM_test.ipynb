{
 "cells": [
  {
   "cell_type": "code",
   "execution_count": 2,
   "metadata": {
    "collapsed": true
   },
   "outputs": [],
   "source": [
    "import numpy as num\n",
    "import pylab as lab\n",
    "import scipy as sci\n",
    "import pandas as pan\n",
    "%matplotlib inline"
   ]
  },
  {
   "cell_type": "code",
   "execution_count": 1,
   "metadata": {
    "collapsed": true
   },
   "outputs": [],
   "source": [
    "re,fe,rhoe,alpha,beta,A,B,kappa,lam,Fn0,Fn1,Fn2,Fn3,F0,F1,F2,F3,eta,Fe,N=\\\n",
    "2.771916, 2.336509, 34.108882, 7.079952, 3.775974, 0.449644, 0.593713,\\\n",
    "0.413484, 0.826967, -4.099542, -0.754764, 1.766503, -1.578274, -4.17, 0,\\\n",
    "3.474733,  2.288323,  1.39349,  -4.174332,10"
   ]
  },
  {
   "cell_type": "code",
   "execution_count": 2,
   "metadata": {
    "collapsed": false
   },
   "outputs": [],
   "source": [
    "re,fe,rhoe,alpha,beta,A,B,kappa,lam,Fn0,Fn1,Fn2,Fn3,F0,F1,F2,F3,eta,Fe,N=\\\n",
    "2.771916, 2.336509, 34.108882, 7.079952, 3.775974, 0.449644,\\\n",
    "0.593713, 0.413484, 0.826967, -4.099542, -0.754764, 1.766503,\\\n",
    "-1.578274, -4.17, 0, 3.474733,  2.288323,  1.39349,  -4.174332,10"
   ]
  },
  {
   "cell_type": "code",
   "execution_count": 9,
   "metadata": {
    "collapsed": false
   },
   "outputs": [],
   "source": [
    "def f(r,q,N):\n",
    "    return fe*num.exp(-beta*(r/re-1))/(1+(r/re-lam)**20)*(1-q/float(N))\n",
    "\n",
    "\n",
    "\n",
    "def F(rho):\n",
    "    func=[]\n",
    "    rhon=0.85*rhoe\n",
    "    rho0=1.15*rhoe\n",
    "    for var in rho:\n",
    "        if(rho<rhon):\n",
    "            func.append( Fn0*(rho/rhon-1)**0+Fn1*(rho/rhon-1)**1+Fn2*(rho/rhon-1)**2+Fn3*(rho/rhon-1)**3)\n",
    "        elif (rho>=rhon and rho<rho0):\n",
    "            func.append(F0*(rho/rhoe-1)**0+F1*(rho/rhoe-1)**1+F2*(rho/rhoe-1)**2+F3*(rho/rhoe-1)**3)\n",
    "        else:\n",
    "            func.append(Fe*(1-num.log((rho/rhoe)**eta))*(rho/rhoe)**eta)\n",
    "    \n",
    "    func=num.asarray(func)\n",
    "    return func\n",
    "        \n",
    "def phiN(r):\n",
    "    return A*num.exp(-alpha*(r/re-1))/(1+(r/re-kappa)**20)\n",
    "#def phiE(r,q):\n",
    "#    return (1-q/N)*B*num.exp(-beta*(r/re-1))/(1+(r/re-kappa)**20)\n",
    "\n",
    "def phiE(r):\n",
    "    return B*num.exp(-beta*(r/re-1))/(1+(r/re-kappa)**20)\n",
    "def phiT(r):\n",
    "    return phiN(r)-phiE(r)\n",
    "\n"
   ]
  },
  {
   "cell_type": "code",
   "execution_count": null,
   "metadata": {
    "collapsed": false
   },
   "outputs": [],
   "source": []
  },
  {
   "cell_type": "code",
   "execution_count": 10,
   "metadata": {
    "collapsed": false
   },
   "outputs": [
    {
     "data": {
      "text/plain": [
       "(28.9925497, 39.2252143)"
      ]
     },
     "execution_count": 10,
     "metadata": {},
     "output_type": "execute_result"
    }
   ],
   "source": [
    "x=num.linspace(0,10,1000)\n",
    "rhon=0.85*rhoe\n",
    "rho0=1.15*rhoe\n",
    "rhon,rho0"
   ]
  },
  {
   "cell_type": "code",
   "execution_count": null,
   "metadata": {
    "collapsed": false
   },
   "outputs": [],
   "source": []
  },
  {
   "cell_type": "code",
   "execution_count": null,
   "metadata": {
    "collapsed": false
   },
   "outputs": [],
   "source": []
  },
  {
   "cell_type": "code",
   "execution_count": 11,
   "metadata": {
    "collapsed": false
   },
   "outputs": [
    {
     "ename": "SyntaxError",
     "evalue": "invalid syntax (<ipython-input-11-ee6350a5e91f>, line 2)",
     "output_type": "error",
     "traceback": [
      "\u001b[0;36m  File \u001b[0;32m\"<ipython-input-11-ee6350a5e91f>\"\u001b[0;36m, line \u001b[0;32m2\u001b[0m\n\u001b[0;31m    print F0*(rho/rhoe-1)**0+F1*(rho/rhoe-1)**1+F2*(rho/rhoe-1)**2+F3*(rho/rhoe-1)**3\u001b[0m\n\u001b[0m           ^\u001b[0m\n\u001b[0;31mSyntaxError\u001b[0m\u001b[0;31m:\u001b[0m invalid syntax\n"
     ]
    }
   ],
   "source": [
    "rho=rhon\n",
    "print F0*(rho/rhoe-1)**0+F1*(rho/rhoe-1)**1+F2*(rho/rhoe-1)**2+F3*(rho/rhoe-1)**3\n",
    "print Fe*(1-num.log((rho/rhoe)**eta))*(rho/rhoe)**eta"
   ]
  },
  {
   "cell_type": "code",
   "execution_count": 6,
   "metadata": {
    "collapsed": false
   },
   "outputs": [
    {
     "data": {
      "text/plain": [
       "-4.0821538212178545"
      ]
     },
     "execution_count": 6,
     "metadata": {},
     "output_type": "execute_result"
    }
   ],
   "source": [
    "Fe*(1-num.log((rhon/rhoe)**eta))*(rhon/rhoe)**eta"
   ]
  },
  {
   "cell_type": "code",
   "execution_count": 13,
   "metadata": {
    "collapsed": false
   },
   "outputs": [
    {
     "data": {
      "image/png": "[encoded data removed]",
      "text/plain": [
       "<matplotlib.figure.Figure at 0x7f7492c6ff98>"
      ]
     },
     "metadata": {},
     "output_type": "display_data"
    }
   ],
   "source": [
    "fig=lab.figure()\n",
    "#lab.plot(x,phi(x),label=\"phi\")\n",
    "#lab.plot(x,phiN(x),label=\"phiN\")\n",
    "\n",
    "lab.plot(x,f(x,0,N),label=\"phiE\")\n",
    "#lab.xlim([0,5])\n",
    "#lab.ylim([0,30])\n",
    "lab.legend()\n",
    "lab.show()\n",
    "\n"
   ]
  },
  {
   "cell_type": "code",
   "execution_count": 8,
   "metadata": {
    "collapsed": false
   },
   "outputs": [
    {
     "data": {
      "image/png": "[encoded data removed]",
      "text/plain": [
       "<matplotlib.figure.Figure at 0x7f67d0a83110>"
      ]
     },
     "metadata": {},
     "output_type": "display_data"
    }
   ],
   "source": [
    "r=num.linspace(0.001,5,1000)\n",
    "rhoe=num.multiply(10*0.1305*r,num.exp(-1.2663*r))\n",
    "\n",
    "lab.plot(r,rhoe)\n",
    "lab.show()"
   ]
  },
  {
   "cell_type": "code",
   "execution_count": 9,
   "metadata": {
    "collapsed": false
   },
   "outputs": [
    {
     "data": {
      "image/png": "[encoded data removed]",
      "text/plain": [
       "<matplotlib.figure.Figure at 0x7f67d096e6d0>"
      ]
     },
     "metadata": {},
     "output_type": "display_data"
    }
   ],
   "source": [
    "rhon=lambda r:10*num.exp(-1.2663*r)\n",
    "rhoe=lambda r:num.multiply(10*0.1305*r,num.exp(-1.2663*r))\n",
    "lab.plot(r,rhon(r),r,rhoe(r))\n",
    "lab.show()"
   ]
  },
  {
   "cell_type": "code",
   "execution_count": 10,
   "metadata": {
    "collapsed": false
   },
   "outputs": [
    {
     "data": {
      "image/png": "[encoded data removed]",
      "text/plain": [
       "<matplotlib.figure.Figure at 0x7f67d09011d0>"
      ]
     },
     "metadata": {},
     "output_type": "display_data"
    }
   ],
   "source": [
    "Z=lambda r:rhon(r)+rhoe(r)\n",
    "lab.plot(r,Z(0)*Z(r)/r)\n",
    "lab.ylim([0,1000])\n",
    "lab.show()"
   ]
  },
  {
   "cell_type": "code",
   "execution_count": 11,
   "metadata": {
    "collapsed": false
   },
   "outputs": [
    {
     "data": {
      "text/plain": [
       "(0.16774193548387098, 2.336509, 2.4375)"
      ]
     },
     "execution_count": 11,
     "metadata": {},
     "output_type": "execute_result"
    }
   ],
   "source": [
    "78/465.,fe,78/32."
   ]
  },
  {
   "cell_type": "code",
   "execution_count": 12,
   "metadata": {
    "collapsed": false
   },
   "outputs": [
    {
     "data": {
      "text/plain": [
       "0.25410259493971565"
      ]
     },
     "execution_count": 12,
     "metadata": {},
     "output_type": "execute_result"
    }
   ],
   "source": [
    "B/fe"
   ]
  },
  {
   "cell_type": "code",
   "execution_count": 13,
   "metadata": {
    "collapsed": false
   },
   "outputs": [
    {
     "data": {
      "text/plain": [
       "2.6812403100775195"
      ]
     },
     "execution_count": 13,
     "metadata": {},
     "output_type": "execute_result"
    }
   ],
   "source": [
    "A/0.1677"
   ]
  },
  {
   "cell_type": "code",
   "execution_count": 14,
   "metadata": {
    "collapsed": false
   },
   "outputs": [
    {
     "name": "stdout",
     "output_type": "stream",
     "text": [
      "(57.61518039467671, 6.194172009856068e-08)\n",
      "88.3736563748\n"
     ]
    },
    {
     "data": {
      "image/png": "[encoded data removed]",
      "text/plain": [
       "<matplotlib.figure.Figure at 0x7f67cb281f90>"
      ]
     },
     "metadata": {},
     "output_type": "display_data"
    }
   ],
   "source": [
    "x=num.linspace(0,10,1000)\n",
    "phiE(0),f(0,0,10)\n",
    "fe,re,beta,lam=1.554485,2.556162,4.090619,0.86214\n",
    "f_e=lambda r: fe*num.exp(-beta*(r/re-1))/(1+(r/re-lam)**20)\n",
    "f_N=lambda r: 0.16*num.exp(-alpha*(r/re-1))/(1+(r/re-kappa)**20)\n",
    "from scipy import integrate\n",
    "print integrate.quad(f_e,0,100)\n",
    "print f_e(0)\n",
    "lab.plot(x,f_e(x),label=\"ele\")\n",
    "lab.legend(loc=1)\n",
    "lab.show()"
   ]
  },
  {
   "cell_type": "code",
   "execution_count": 28,
   "metadata": {
    "collapsed": false
   },
   "outputs": [
    {
     "data": {
      "image/png": "[encoded data removed]",
      "text/plain": [
       "<matplotlib.figure.Figure at 0x7f67d08b35d0>"
      ]
     },
     "metadata": {},
     "output_type": "display_data"
    }
   ],
   "source": [
    "Z=pan.read_csv(\"Pt.u3.Z.dat\",sep=\"\\t\",names=[\"r\",\"Z\"])\n",
    "ZFrame=pan.DataFrame(Z)\n",
    "phi=(ZFrame.Z)**2/ZFrame.r\n",
    "lab.plot(ZFrame.r,phi,label=\"Daw\")\n",
    "lab.plot(ZFrame.r,phiT(ZFrame.r),label=\"Zhou\")\n",
    "lab.legend(loc=1)\n",
    "lab.ylim([0,600])\n",
    "lab.xlim([0,5])\n",
    "lab.show()\n"
   ]
  },
  {
   "cell_type": "code",
   "execution_count": 18,
   "metadata": {
    "collapsed": false
   },
   "outputs": [],
   "source": [
    "\n",
    "x=num.linspace(0,10,100)\n",
    "\n",
    "def fPt(r,q):\n",
    "    re,fe,rhoe,alpha,beta,A,B,kappa,lam,Fn0,Fn1,Fn2,Fn3,F0,F1,F2,F3,eta,Fe,N=\\\n",
    "2.771916, 2.336509, 34.108882, 7.079952, 3.775974, 0.449644, 0.593713,\\\n",
    "0.413484, 0.826967, -4.099542, -0.754764, 1.766503, -1.578274, -4.17, 0,\\\n",
    "3.474733,  2.288323,  1.39349,  -4.174332,10\n",
    "    return fe*num.exp(-beta*(r/re-1))/(1+(r/re-lam)**20)*(1-q/float(N))\n",
    "\n",
    "\n",
    "\n",
    "def fCu(r,q):\n",
    "    re,fe,rhoe,alpha,beta,A,B,kappa,lam,Fn0,Fn1,Fn2,Fn3,F0,F1,F2,F3,eta,Fe,N=\\\n",
    "2.556162, 1.554485, 22.150141, 7.669911, 4.090619, 0.327584, 0.468735,\\\n",
    "0.431307, 0.86214,  -2.176490, -0.140035, 0.285621, -1.750834, -2.19, 0, 0.702991,\\\n",
    "0.683705,  0.92115,  -2.191675,11\n",
    "    return fe*num.exp(-beta*(r/re-1))/(1+(r/re-lam)**20)*(1-q/float(N))\n",
    "\n",
    "def fCo(r,q):\n",
    "    re,fe,rhoe,alpha,beta,A,B,kappa,lam,Fn0,Fn1,Fn2,Fn3,F0,F1,F2,F3,eta,Fe,N=\\\n",
    "    2.505979, 1.975299, 27.206789, 8.679625, 4.629134, 0.421378, 0.640107, 0.5,\\\n",
    "    1.0,      -2.541799, -0.219415, 0.733381, -1.589003, -2.56, 0, 0.705845, -0.687140,  0.694608, -2.559307,9\n",
    "    return fe*num.exp(-beta*(r/re-1))/(1+(r/re-lam)**20)*(1-q/float(N))\n",
    "\n",
    "f_Cu=fCu(x,0)\n",
    "f_Pt=fPt(x,0)\n",
    "f_Co=fCo(x,0)"
   ]
  },
  {
   "cell_type": "code",
   "execution_count": 19,
   "metadata": {
    "collapsed": false
   },
   "outputs": [
    {
     "data": {
      "image/png": "[encoded data removed]",
      "text/plain": [
       "<matplotlib.figure.Figure at 0x7f6be653bfd0>"
      ]
     },
     "metadata": {},
     "output_type": "display_data"
    },
    {
     "name": "stdout",
     "output_type": "stream",
     "text": [
      "[  8.97603230e+01   7.92516996e+01   6.94457178e+01   6.06526876e+01\n",
      "   5.29005909e+01   4.61143738e+01   4.01905620e+01   3.50252013e+01\n",
      "   3.05229719e+01   2.65992734e+01   2.31799135e+01   2.02001041e+01\n",
      "   1.76033509e+01   1.53404138e+01   1.33683806e+01   1.16498552e+01\n",
      "   1.01522488e+01   8.84716197e+00   7.70984602e+00   6.71873373e+00\n",
      "   5.85503042e+00   5.10235747e+00   4.44644175e+00   3.87484499e+00\n",
      "   3.37672784e+00   2.94264441e+00   2.56436305e+00   2.23471033e+00\n",
      "   1.94743496e+00   1.69708927e+00   1.47892590e+00   1.28880775e+00\n",
      "   1.12312958e+00   9.78749583e-01   8.52929840e-01   7.43284362e-01\n",
      "   6.47733777e-01   5.64465677e-01   4.91899670e-01   4.28655959e-01\n",
      "   3.73525848e-01   3.25441644e-01   2.83441882e-01   2.46625415e-01\n",
      "   2.14085405e-01   1.84815651e-01   1.57603122e-01   1.31007231e-01\n",
      "   1.03729138e-01   7.57473218e-02   4.95138882e-02   2.87566703e-02\n",
      "   1.51707339e-02   7.53800016e-03   3.64174501e-03   1.74672961e-03\n",
      "   8.41489865e-04   4.09551730e-04   2.01905792e-04   1.00923638e-04\n",
      "   5.11568633e-05   2.62886819e-05   1.36896820e-05   7.22021287e-06\n",
      "   3.85480162e-06   2.08216701e-06   1.13727429e-06   6.27822188e-07\n",
      "   3.50128408e-07   1.97172604e-07   1.12076610e-07   6.42782427e-08\n",
      "   3.71821992e-08   2.16859803e-08   1.27483942e-08   7.55147790e-09\n",
      "   4.50592078e-09   2.70764857e-09   1.63812353e-09   9.97564661e-10\n",
      "   6.11329758e-10   3.76925301e-10   2.33770848e-10   1.45812671e-10\n",
      "   9.14510706e-11   5.76625227e-11   3.65456925e-11   2.32780353e-11\n",
      "   1.48989999e-11   9.58086541e-12   6.18911004e-12   4.01577370e-12\n",
      "   2.61680933e-12   1.71231398e-12   1.12499895e-12   7.42043345e-13\n",
      "   4.91323954e-13   3.26529997e-13   2.17796800e-13   1.45784602e-13]\n"
     ]
    }
   ],
   "source": [
    "fig=lab.figure()\n",
    "lab.plot(x,f_Pt,label=\"Pt_f\")\n",
    "#lab.plot(x,f_Cu,label=\"Cu_f\")\n",
    "#lab.plot(x,f_Co,label=\"Co_f\")\n",
    "#lab.legend(loc=1)\n",
    "lab.xlim([0,6])\n",
    "lab.show()\n",
    "print(fPt(x,1))"
   ]
  },
  {
   "cell_type": "code",
   "execution_count": 8,
   "metadata": {
    "collapsed": false
   },
   "outputs": [
    {
     "ename": "OSError",
     "evalue": "File b'Zhou.info.dat' does not exist",
     "output_type": "error",
     "traceback": [
      "\u001b[0;31m---------------------------------------------------------------------------\u001b[0m",
      "\u001b[0;31mOSError\u001b[0m                                   Traceback (most recent call last)",
      "\u001b[0;32m<ipython-input-8-9a1294596a7e>\u001b[0m in \u001b[0;36m<module>\u001b[0;34m()\u001b[0m\n\u001b[0;32m----> 1\u001b[0;31m \u001b[0mZhou\u001b[0m\u001b[0;34m=\u001b[0m\u001b[0mpan\u001b[0m\u001b[0;34m.\u001b[0m\u001b[0mread_csv\u001b[0m\u001b[0;34m(\u001b[0m\u001b[0;34m\"Zhou.info.dat\"\u001b[0m\u001b[0;34m,\u001b[0m\u001b[0msep\u001b[0m\u001b[0;34m=\u001b[0m\u001b[0;34m\"\\t\"\u001b[0m\u001b[0;34m,\u001b[0m\u001b[0mnames\u001b[0m\u001b[0;34m=\u001b[0m\u001b[0;34m[\u001b[0m\u001b[0;34m\"atom\"\u001b[0m\u001b[0;34m,\u001b[0m\u001b[0;34m\"type\"\u001b[0m\u001b[0;34m,\u001b[0m\u001b[0;34m\"lat\"\u001b[0m\u001b[0;34m,\u001b[0m\u001b[0;34m\"re\"\u001b[0m\u001b[0;34m,\u001b[0m\u001b[0;34m\"fe\"\u001b[0m\u001b[0;34m,\u001b[0m\u001b[0;34m\"rhoe\"\u001b[0m\u001b[0;34m,\u001b[0m\u001b[0;34m\"alpha\"\u001b[0m\u001b[0;34m,\u001b[0m\u001b[0;34m\"beta\"\u001b[0m\u001b[0;34m,\u001b[0m\u001b[0;34m\"A\"\u001b[0m\u001b[0;34m,\u001b[0m\u001b[0;34m\"B\"\u001b[0m                                                     \u001b[0;34m,\u001b[0m\u001b[0;34m\"kappa\"\u001b[0m\u001b[0;34m,\u001b[0m\u001b[0;34m\"lam\"\u001b[0m\u001b[0;34m,\u001b[0m\u001b[0;34m\"Fn0\"\u001b[0m\u001b[0;34m,\u001b[0m\u001b[0;34m\"Fn1\"\u001b[0m\u001b[0;34m,\u001b[0m\u001b[0;34m\"Fn2\"\u001b[0m\u001b[0;34m,\u001b[0m\u001b[0;34m\"Fn3\"\u001b[0m\u001b[0;34m,\u001b[0m\u001b[0;34m\"F0\"\u001b[0m\u001b[0;34m,\u001b[0m\u001b[0;34m\"F1\"\u001b[0m\u001b[0;34m,\u001b[0m\u001b[0;34m\"F2\"\u001b[0m\u001b[0;34m,\u001b[0m\u001b[0;34m\"F3\"\u001b[0m\u001b[0;34m,\u001b[0m\u001b[0;34m\"eta\"\u001b[0m\u001b[0;34m,\u001b[0m\u001b[0;34m\"Fe\"\u001b[0m\u001b[0;34m]\u001b[0m\u001b[0;34m)\u001b[0m\u001b[0;34m\u001b[0m\u001b[0m\n\u001b[0m",
      "\u001b[0;32m/home/hbhattar/anaconda3/lib/python3.5/site-packages/pandas/io/parsers.py\u001b[0m in \u001b[0;36mparser_f\u001b[0;34m(filepath_or_buffer, sep, delimiter, header, names, index_col, usecols, squeeze, prefix, mangle_dupe_cols, dtype, engine, converters, true_values, false_values, skipinitialspace, skiprows, skipfooter, nrows, na_values, keep_default_na, na_filter, verbose, skip_blank_lines, parse_dates, infer_datetime_format, keep_date_col, date_parser, dayfirst, iterator, chunksize, compression, thousands, decimal, lineterminator, quotechar, quoting, escapechar, comment, encoding, dialect, tupleize_cols, error_bad_lines, warn_bad_lines, skip_footer, doublequote, delim_whitespace, as_recarray, compact_ints, use_unsigned, low_memory, buffer_lines, memory_map, float_precision)\u001b[0m\n\u001b[1;32m    560\u001b[0m                     skip_blank_lines=skip_blank_lines)\n\u001b[1;32m    561\u001b[0m \u001b[0;34m\u001b[0m\u001b[0m\n\u001b[0;32m--> 562\u001b[0;31m         \u001b[0;32mreturn\u001b[0m \u001b[0m_read\u001b[0m\u001b[0;34m(\u001b[0m\u001b[0mfilepath_or_buffer\u001b[0m\u001b[0;34m,\u001b[0m \u001b[0mkwds\u001b[0m\u001b[0;34m)\u001b[0m\u001b[0;34m\u001b[0m\u001b[0m\n\u001b[0m\u001b[1;32m    563\u001b[0m \u001b[0;34m\u001b[0m\u001b[0m\n\u001b[1;32m    564\u001b[0m     \u001b[0mparser_f\u001b[0m\u001b[0;34m.\u001b[0m\u001b[0m__name__\u001b[0m \u001b[0;34m=\u001b[0m \u001b[0mname\u001b[0m\u001b[0;34m\u001b[0m\u001b[0m\n",
      "\u001b[0;32m/home/hbhattar/anaconda3/lib/python3.5/site-packages/pandas/io/parsers.py\u001b[0m in \u001b[0;36m_read\u001b[0;34m(filepath_or_buffer, kwds)\u001b[0m\n\u001b[1;32m    313\u001b[0m \u001b[0;34m\u001b[0m\u001b[0m\n\u001b[1;32m    314\u001b[0m     \u001b[0;31m# Create the parser.\u001b[0m\u001b[0;34m\u001b[0m\u001b[0;34m\u001b[0m\u001b[0m\n\u001b[0;32m--> 315\u001b[0;31m     \u001b[0mparser\u001b[0m \u001b[0;34m=\u001b[0m \u001b[0mTextFileReader\u001b[0m\u001b[0;34m(\u001b[0m\u001b[0mfilepath_or_buffer\u001b[0m\u001b[0;34m,\u001b[0m \u001b[0;34m**\u001b[0m\u001b[0mkwds\u001b[0m\u001b[0;34m)\u001b[0m\u001b[0;34m\u001b[0m\u001b[0m\n\u001b[0m\u001b[1;32m    316\u001b[0m \u001b[0;34m\u001b[0m\u001b[0m\n\u001b[1;32m    317\u001b[0m     \u001b[0;32mif\u001b[0m \u001b[0;34m(\u001b[0m\u001b[0mnrows\u001b[0m \u001b[0;32mis\u001b[0m \u001b[0;32mnot\u001b[0m \u001b[0;32mNone\u001b[0m\u001b[0;34m)\u001b[0m \u001b[0;32mand\u001b[0m \u001b[0;34m(\u001b[0m\u001b[0mchunksize\u001b[0m \u001b[0;32mis\u001b[0m \u001b[0;32mnot\u001b[0m \u001b[0;32mNone\u001b[0m\u001b[0;34m)\u001b[0m\u001b[0;34m:\u001b[0m\u001b[0;34m\u001b[0m\u001b[0m\n",
      "\u001b[0;32m/home/hbhattar/anaconda3/lib/python3.5/site-packages/pandas/io/parsers.py\u001b[0m in \u001b[0;36m__init__\u001b[0;34m(self, f, engine, **kwds)\u001b[0m\n\u001b[1;32m    643\u001b[0m             \u001b[0mself\u001b[0m\u001b[0;34m.\u001b[0m\u001b[0moptions\u001b[0m\u001b[0;34m[\u001b[0m\u001b[0;34m'has_index_names'\u001b[0m\u001b[0;34m]\u001b[0m \u001b[0;34m=\u001b[0m \u001b[0mkwds\u001b[0m\u001b[0;34m[\u001b[0m\u001b[0;34m'has_index_names'\u001b[0m\u001b[0;34m]\u001b[0m\u001b[0;34m\u001b[0m\u001b[0m\n\u001b[1;32m    644\u001b[0m \u001b[0;34m\u001b[0m\u001b[0m\n\u001b[0;32m--> 645\u001b[0;31m         \u001b[0mself\u001b[0m\u001b[0;34m.\u001b[0m\u001b[0m_make_engine\u001b[0m\u001b[0;34m(\u001b[0m\u001b[0mself\u001b[0m\u001b[0;34m.\u001b[0m\u001b[0mengine\u001b[0m\u001b[0;34m)\u001b[0m\u001b[0;34m\u001b[0m\u001b[0m\n\u001b[0m\u001b[1;32m    646\u001b[0m \u001b[0;34m\u001b[0m\u001b[0m\n\u001b[1;32m    647\u001b[0m     \u001b[0;32mdef\u001b[0m \u001b[0mclose\u001b[0m\u001b[0;34m(\u001b[0m\u001b[0mself\u001b[0m\u001b[0;34m)\u001b[0m\u001b[0;34m:\u001b[0m\u001b[0;34m\u001b[0m\u001b[0m\n",
      "\u001b[0;32m/home/hbhattar/anaconda3/lib/python3.5/site-packages/pandas/io/parsers.py\u001b[0m in \u001b[0;36m_make_engine\u001b[0;34m(self, engine)\u001b[0m\n\u001b[1;32m    797\u001b[0m     \u001b[0;32mdef\u001b[0m \u001b[0m_make_engine\u001b[0m\u001b[0;34m(\u001b[0m\u001b[0mself\u001b[0m\u001b[0;34m,\u001b[0m \u001b[0mengine\u001b[0m\u001b[0;34m=\u001b[0m\u001b[0;34m'c'\u001b[0m\u001b[0;34m)\u001b[0m\u001b[0;34m:\u001b[0m\u001b[0;34m\u001b[0m\u001b[0m\n\u001b[1;32m    798\u001b[0m         \u001b[0;32mif\u001b[0m \u001b[0mengine\u001b[0m \u001b[0;34m==\u001b[0m \u001b[0;34m'c'\u001b[0m\u001b[0;34m:\u001b[0m\u001b[0;34m\u001b[0m\u001b[0m\n\u001b[0;32m--> 799\u001b[0;31m             \u001b[0mself\u001b[0m\u001b[0;34m.\u001b[0m\u001b[0m_engine\u001b[0m \u001b[0;34m=\u001b[0m \u001b[0mCParserWrapper\u001b[0m\u001b[0;34m(\u001b[0m\u001b[0mself\u001b[0m\u001b[0;34m.\u001b[0m\u001b[0mf\u001b[0m\u001b[0;34m,\u001b[0m \u001b[0;34m**\u001b[0m\u001b[0mself\u001b[0m\u001b[0;34m.\u001b[0m\u001b[0moptions\u001b[0m\u001b[0;34m)\u001b[0m\u001b[0;34m\u001b[0m\u001b[0m\n\u001b[0m\u001b[1;32m    800\u001b[0m         \u001b[0;32melse\u001b[0m\u001b[0;34m:\u001b[0m\u001b[0;34m\u001b[0m\u001b[0m\n\u001b[1;32m    801\u001b[0m             \u001b[0;32mif\u001b[0m \u001b[0mengine\u001b[0m \u001b[0;34m==\u001b[0m \u001b[0;34m'python'\u001b[0m\u001b[0;34m:\u001b[0m\u001b[0;34m\u001b[0m\u001b[0m\n",
      "\u001b[0;32m/home/hbhattar/anaconda3/lib/python3.5/site-packages/pandas/io/parsers.py\u001b[0m in \u001b[0;36m__init__\u001b[0;34m(self, src, **kwds)\u001b[0m\n\u001b[1;32m   1211\u001b[0m         \u001b[0mkwds\u001b[0m\u001b[0;34m[\u001b[0m\u001b[0;34m'allow_leading_cols'\u001b[0m\u001b[0;34m]\u001b[0m \u001b[0;34m=\u001b[0m \u001b[0mself\u001b[0m\u001b[0;34m.\u001b[0m\u001b[0mindex_col\u001b[0m \u001b[0;32mis\u001b[0m \u001b[0;32mnot\u001b[0m \u001b[0;32mFalse\u001b[0m\u001b[0;34m\u001b[0m\u001b[0m\n\u001b[1;32m   1212\u001b[0m \u001b[0;34m\u001b[0m\u001b[0m\n\u001b[0;32m-> 1213\u001b[0;31m         \u001b[0mself\u001b[0m\u001b[0;34m.\u001b[0m\u001b[0m_reader\u001b[0m \u001b[0;34m=\u001b[0m \u001b[0m_parser\u001b[0m\u001b[0;34m.\u001b[0m\u001b[0mTextReader\u001b[0m\u001b[0;34m(\u001b[0m\u001b[0msrc\u001b[0m\u001b[0;34m,\u001b[0m \u001b[0;34m**\u001b[0m\u001b[0mkwds\u001b[0m\u001b[0;34m)\u001b[0m\u001b[0;34m\u001b[0m\u001b[0m\n\u001b[0m\u001b[1;32m   1214\u001b[0m \u001b[0;34m\u001b[0m\u001b[0m\n\u001b[1;32m   1215\u001b[0m         \u001b[0;31m# XXX\u001b[0m\u001b[0;34m\u001b[0m\u001b[0;34m\u001b[0m\u001b[0m\n",
      "\u001b[0;32mpandas/parser.pyx\u001b[0m in \u001b[0;36mpandas.parser.TextReader.__cinit__ (pandas/parser.c:3427)\u001b[0;34m()\u001b[0m\n",
      "\u001b[0;32mpandas/parser.pyx\u001b[0m in \u001b[0;36mpandas.parser.TextReader._setup_parser_source (pandas/parser.c:6861)\u001b[0;34m()\u001b[0m\n",
      "\u001b[0;31mOSError\u001b[0m: File b'Zhou.info.dat' does not exist"
     ]
    }
   ],
   "source": [
    "Zhou=pan.read_csv(\"Zhou.info.dat\",sep=\"\\t\",names=[\"atom\",\"type\",\"lat\",\"re\",\"fe\",\"rhoe\",\"alpha\",\"beta\",\"A\",\"B\"\\\n",
    "                                                     ,\"kappa\",\"lam\",\"Fn0\",\"Fn1\",\"Fn2\",\"Fn3\",\"F0\",\"F1\",\"F2\",\"F3\",\"eta\",\"Fe\"])"
   ]
  },
  {
   "cell_type": "code",
   "execution_count": 19,
   "metadata": {
    "collapsed": false
   },
   "outputs": [
    {
     "data": {
      "text/html": [
       "<div style=\"max-width:1500px;overflow:auto;\">\n",
       "<table border=\"1\" class=\"dataframe\">\n",
       "  <thead>\n",
       "    <tr style=\"text-align: right;\">\n",
       "      <th></th>\n",
       "      <th>atom</th>\n",
       "      <th>type</th>\n",
       "      <th>lat</th>\n",
       "      <th>re</th>\n",
       "      <th>fe</th>\n",
       "      <th>rhoe</th>\n",
       "      <th>alpha</th>\n",
       "      <th>beta</th>\n",
       "      <th>A</th>\n",
       "      <th>B</th>\n",
       "      <th>...</th>\n",
       "      <th>Fn0</th>\n",
       "      <th>Fn1</th>\n",
       "      <th>Fn2</th>\n",
       "      <th>Fn3</th>\n",
       "      <th>F0</th>\n",
       "      <th>F1</th>\n",
       "      <th>F2</th>\n",
       "      <th>F3</th>\n",
       "      <th>eta</th>\n",
       "      <th>Fe</th>\n",
       "    </tr>\n",
       "  </thead>\n",
       "  <tbody>\n",
       "    <tr>\n",
       "      <th>0</th>\n",
       "      <td>Cu</td>\n",
       "      <td>Zhou</td>\n",
       "      <td>FCC</td>\n",
       "      <td>2.556162</td>\n",
       "      <td>1.554485</td>\n",
       "      <td>22.150141</td>\n",
       "      <td>7.669911</td>\n",
       "      <td>4.090619</td>\n",
       "      <td>0.327584</td>\n",
       "      <td>0.468735</td>\n",
       "      <td>...</td>\n",
       "      <td>-2.176490</td>\n",
       "      <td>-0.140035</td>\n",
       "      <td>0.285621</td>\n",
       "      <td>-1.750834</td>\n",
       "      <td>-2.19</td>\n",
       "      <td>0</td>\n",
       "      <td>0.702991</td>\n",
       "      <td>0.683705</td>\n",
       "      <td>0.921150</td>\n",
       "      <td>-2.191675</td>\n",
       "    </tr>\n",
       "    <tr>\n",
       "      <th>1</th>\n",
       "      <td>Ag</td>\n",
       "      <td>Zhou</td>\n",
       "      <td>FCC</td>\n",
       "      <td>2.891814</td>\n",
       "      <td>1.106232</td>\n",
       "      <td>15.539255</td>\n",
       "      <td>7.944536</td>\n",
       "      <td>4.237086</td>\n",
       "      <td>0.266074</td>\n",
       "      <td>0.386272</td>\n",
       "      <td>...</td>\n",
       "      <td>-1.729619</td>\n",
       "      <td>-0.221025</td>\n",
       "      <td>0.541558</td>\n",
       "      <td>-0.967036</td>\n",
       "      <td>-1.75</td>\n",
       "      <td>0</td>\n",
       "      <td>0.983967</td>\n",
       "      <td>0.520904</td>\n",
       "      <td>1.149461</td>\n",
       "      <td>-1.751274</td>\n",
       "    </tr>\n",
       "    <tr>\n",
       "      <th>2</th>\n",
       "      <td>Au</td>\n",
       "      <td>Zhou</td>\n",
       "      <td>FCC</td>\n",
       "      <td>2.885034</td>\n",
       "      <td>1.529021</td>\n",
       "      <td>21.319637</td>\n",
       "      <td>8.086176</td>\n",
       "      <td>4.312627</td>\n",
       "      <td>0.230728</td>\n",
       "      <td>0.336695</td>\n",
       "      <td>...</td>\n",
       "      <td>-2.930281</td>\n",
       "      <td>-0.554034</td>\n",
       "      <td>1.489437</td>\n",
       "      <td>-0.886809</td>\n",
       "      <td>-2.98</td>\n",
       "      <td>0</td>\n",
       "      <td>2.283863</td>\n",
       "      <td>0.494127</td>\n",
       "      <td>1.286960</td>\n",
       "      <td>-2.981365</td>\n",
       "    </tr>\n",
       "    <tr>\n",
       "      <th>3</th>\n",
       "      <td>Ni</td>\n",
       "      <td>Zhou</td>\n",
       "      <td>FCC</td>\n",
       "      <td>2.488746</td>\n",
       "      <td>2.007018</td>\n",
       "      <td>27.984706</td>\n",
       "      <td>8.029633</td>\n",
       "      <td>4.282471</td>\n",
       "      <td>0.439664</td>\n",
       "      <td>0.632771</td>\n",
       "      <td>...</td>\n",
       "      <td>-2.693996</td>\n",
       "      <td>-0.066073</td>\n",
       "      <td>0.170482</td>\n",
       "      <td>-2.457442</td>\n",
       "      <td>-2.70</td>\n",
       "      <td>0</td>\n",
       "      <td>0.282257</td>\n",
       "      <td>0.102879</td>\n",
       "      <td>0.509860</td>\n",
       "      <td>-2.700493</td>\n",
       "    </tr>\n",
       "    <tr>\n",
       "      <th>4</th>\n",
       "      <td>Pd</td>\n",
       "      <td>Zhou</td>\n",
       "      <td>FCC</td>\n",
       "      <td>2.750897</td>\n",
       "      <td>1.595417</td>\n",
       "      <td>22.770550</td>\n",
       "      <td>7.605017</td>\n",
       "      <td>4.056009</td>\n",
       "      <td>0.385412</td>\n",
       "      <td>0.545121</td>\n",
       "      <td>...</td>\n",
       "      <td>-2.320473</td>\n",
       "      <td>-0.421263</td>\n",
       "      <td>0.966525</td>\n",
       "      <td>-0.932685</td>\n",
       "      <td>-2.36</td>\n",
       "      <td>0</td>\n",
       "      <td>1.966273</td>\n",
       "      <td>1.396717</td>\n",
       "      <td>1.399758</td>\n",
       "      <td>-2.362609</td>\n",
       "    </tr>\n",
       "    <tr>\n",
       "      <th>5</th>\n",
       "      <td>Pt</td>\n",
       "      <td>Zhou</td>\n",
       "      <td>FCC</td>\n",
       "      <td>2.771916</td>\n",
       "      <td>2.336509</td>\n",
       "      <td>34.108882</td>\n",
       "      <td>7.079952</td>\n",
       "      <td>3.775974</td>\n",
       "      <td>0.449644</td>\n",
       "      <td>0.593713</td>\n",
       "      <td>...</td>\n",
       "      <td>-4.099542</td>\n",
       "      <td>-0.754764</td>\n",
       "      <td>1.766503</td>\n",
       "      <td>-1.578274</td>\n",
       "      <td>-4.17</td>\n",
       "      <td>0</td>\n",
       "      <td>3.474733</td>\n",
       "      <td>2.288323</td>\n",
       "      <td>1.393490</td>\n",
       "      <td>-4.174332</td>\n",
       "    </tr>\n",
       "    <tr>\n",
       "      <th>6</th>\n",
       "      <td>Al</td>\n",
       "      <td>Zhou</td>\n",
       "      <td>FCC</td>\n",
       "      <td>2.886166</td>\n",
       "      <td>1.392302</td>\n",
       "      <td>20.226537</td>\n",
       "      <td>6.942419</td>\n",
       "      <td>3.702623</td>\n",
       "      <td>0.251519</td>\n",
       "      <td>0.313394</td>\n",
       "      <td>...</td>\n",
       "      <td>-2.806783</td>\n",
       "      <td>-0.276173</td>\n",
       "      <td>0.893409</td>\n",
       "      <td>-1.637201</td>\n",
       "      <td>-2.83</td>\n",
       "      <td>0</td>\n",
       "      <td>0.929508</td>\n",
       "      <td>-0.682320</td>\n",
       "      <td>0.779208</td>\n",
       "      <td>-2.829437</td>\n",
       "    </tr>\n",
       "    <tr>\n",
       "      <th>7</th>\n",
       "      <td>Pb</td>\n",
       "      <td>Zhou</td>\n",
       "      <td>FCC</td>\n",
       "      <td>3.499723</td>\n",
       "      <td>0.647872</td>\n",
       "      <td>8.906840</td>\n",
       "      <td>8.468412</td>\n",
       "      <td>4.516486</td>\n",
       "      <td>0.134878</td>\n",
       "      <td>0.203093</td>\n",
       "      <td>...</td>\n",
       "      <td>-1.419644</td>\n",
       "      <td>-0.228622</td>\n",
       "      <td>0.630069</td>\n",
       "      <td>-0.560952</td>\n",
       "      <td>-1.44</td>\n",
       "      <td>0</td>\n",
       "      <td>0.921049</td>\n",
       "      <td>0.108847</td>\n",
       "      <td>1.172361</td>\n",
       "      <td>-1.440494</td>\n",
       "    </tr>\n",
       "    <tr>\n",
       "      <th>8</th>\n",
       "      <td>Fe</td>\n",
       "      <td>Zhou</td>\n",
       "      <td>BCC</td>\n",
       "      <td>2.481987</td>\n",
       "      <td>1.885957</td>\n",
       "      <td>20.041463</td>\n",
       "      <td>9.818270</td>\n",
       "      <td>5.236411</td>\n",
       "      <td>0.392811</td>\n",
       "      <td>0.646243</td>\n",
       "      <td>...</td>\n",
       "      <td>-2.534992</td>\n",
       "      <td>-0.059605</td>\n",
       "      <td>0.193065</td>\n",
       "      <td>-2.282322</td>\n",
       "      <td>-2.54</td>\n",
       "      <td>0</td>\n",
       "      <td>0.200269</td>\n",
       "      <td>-0.148770</td>\n",
       "      <td>0.391750</td>\n",
       "      <td>-2.539945</td>\n",
       "    </tr>\n",
       "    <tr>\n",
       "      <th>9</th>\n",
       "      <td>Mo</td>\n",
       "      <td>Zhou</td>\n",
       "      <td>BCC</td>\n",
       "      <td>2.728100</td>\n",
       "      <td>2.723710</td>\n",
       "      <td>29.354065</td>\n",
       "      <td>8.393531</td>\n",
       "      <td>4.476550</td>\n",
       "      <td>0.708787</td>\n",
       "      <td>1.120373</td>\n",
       "      <td>...</td>\n",
       "      <td>-3.692913</td>\n",
       "      <td>-0.178812</td>\n",
       "      <td>0.380450</td>\n",
       "      <td>-3.133650</td>\n",
       "      <td>-3.71</td>\n",
       "      <td>0</td>\n",
       "      <td>0.875874</td>\n",
       "      <td>0.776222</td>\n",
       "      <td>0.790879</td>\n",
       "      <td>-3.712093</td>\n",
       "    </tr>\n",
       "    <tr>\n",
       "      <th>10</th>\n",
       "      <td>Ta</td>\n",
       "      <td>Zhou</td>\n",
       "      <td>BCC</td>\n",
       "      <td>2.860082</td>\n",
       "      <td>3.086341</td>\n",
       "      <td>33.787168</td>\n",
       "      <td>8.489528</td>\n",
       "      <td>4.527748</td>\n",
       "      <td>0.611679</td>\n",
       "      <td>1.032101</td>\n",
       "      <td>...</td>\n",
       "      <td>-5.103845</td>\n",
       "      <td>-0.405524</td>\n",
       "      <td>1.112997</td>\n",
       "      <td>-3.585325</td>\n",
       "      <td>-5.14</td>\n",
       "      <td>0</td>\n",
       "      <td>1.640098</td>\n",
       "      <td>0.221375</td>\n",
       "      <td>0.848843</td>\n",
       "      <td>-5.141526</td>\n",
       "    </tr>\n",
       "    <tr>\n",
       "      <th>11</th>\n",
       "      <td>W</td>\n",
       "      <td>Zhou</td>\n",
       "      <td>BCC</td>\n",
       "      <td>2.740840</td>\n",
       "      <td>3.487340</td>\n",
       "      <td>37.234847</td>\n",
       "      <td>8.900114</td>\n",
       "      <td>4.746728</td>\n",
       "      <td>0.882435</td>\n",
       "      <td>1.394592</td>\n",
       "      <td>...</td>\n",
       "      <td>-4.946281</td>\n",
       "      <td>-0.148818</td>\n",
       "      <td>0.365057</td>\n",
       "      <td>-4.432406</td>\n",
       "      <td>-4.96</td>\n",
       "      <td>0</td>\n",
       "      <td>0.661935</td>\n",
       "      <td>0.348147</td>\n",
       "      <td>-0.582714</td>\n",
       "      <td>-4.961306</td>\n",
       "    </tr>\n",
       "    <tr>\n",
       "      <th>12</th>\n",
       "      <td>Mg</td>\n",
       "      <td>Zhou</td>\n",
       "      <td>HCP</td>\n",
       "      <td>3.196291</td>\n",
       "      <td>0.544323</td>\n",
       "      <td>7.132600</td>\n",
       "      <td>10.228708</td>\n",
       "      <td>5.455311</td>\n",
       "      <td>0.137518</td>\n",
       "      <td>0.225930</td>\n",
       "      <td>...</td>\n",
       "      <td>-0.896473</td>\n",
       "      <td>-0.044291</td>\n",
       "      <td>0.162232</td>\n",
       "      <td>-0.689950</td>\n",
       "      <td>-0.90</td>\n",
       "      <td>0</td>\n",
       "      <td>0.122838</td>\n",
       "      <td>-0.226010</td>\n",
       "      <td>0.431425</td>\n",
       "      <td>-0.899702</td>\n",
       "    </tr>\n",
       "    <tr>\n",
       "      <th>13</th>\n",
       "      <td>Co</td>\n",
       "      <td>Zhou</td>\n",
       "      <td>FCC</td>\n",
       "      <td>2.505979</td>\n",
       "      <td>1.975299</td>\n",
       "      <td>27.206789</td>\n",
       "      <td>8.679625</td>\n",
       "      <td>4.629134</td>\n",
       "      <td>0.421378</td>\n",
       "      <td>0.640107</td>\n",
       "      <td>...</td>\n",
       "      <td>-2.541799</td>\n",
       "      <td>-0.219415</td>\n",
       "      <td>0.733381</td>\n",
       "      <td>-1.589003</td>\n",
       "      <td>-2.56</td>\n",
       "      <td>0</td>\n",
       "      <td>0.705845</td>\n",
       "      <td>-0.687140</td>\n",
       "      <td>0.694608</td>\n",
       "      <td>-2.559307</td>\n",
       "    </tr>\n",
       "    <tr>\n",
       "      <th>14</th>\n",
       "      <td>Ti</td>\n",
       "      <td>Zhou</td>\n",
       "      <td>HCP</td>\n",
       "      <td>2.933872</td>\n",
       "      <td>1.863200</td>\n",
       "      <td>25.565138</td>\n",
       "      <td>8.775431</td>\n",
       "      <td>4.680230</td>\n",
       "      <td>0.373601</td>\n",
       "      <td>0.570968</td>\n",
       "      <td>...</td>\n",
       "      <td>-3.203773</td>\n",
       "      <td>-0.198262</td>\n",
       "      <td>0.683779</td>\n",
       "      <td>-2.321732</td>\n",
       "      <td>-3.22</td>\n",
       "      <td>0</td>\n",
       "      <td>0.608587</td>\n",
       "      <td>-0.750710</td>\n",
       "      <td>0.558572</td>\n",
       "      <td>-3.219176</td>\n",
       "    </tr>\n",
       "    <tr>\n",
       "      <th>15</th>\n",
       "      <td>Zr</td>\n",
       "      <td>Zhou</td>\n",
       "      <td>HCP</td>\n",
       "      <td>3.199978</td>\n",
       "      <td>2.230909</td>\n",
       "      <td>30.879991</td>\n",
       "      <td>8.559190</td>\n",
       "      <td>4.564902</td>\n",
       "      <td>0.424667</td>\n",
       "      <td>0.640054</td>\n",
       "      <td>...</td>\n",
       "      <td>-4.485793</td>\n",
       "      <td>-0.293129</td>\n",
       "      <td>0.990148</td>\n",
       "      <td>-3.202516</td>\n",
       "      <td>-4.51</td>\n",
       "      <td>0</td>\n",
       "      <td>0.928602</td>\n",
       "      <td>-0.981870</td>\n",
       "      <td>0.597133</td>\n",
       "      <td>-4.509025</td>\n",
       "    </tr>\n",
       "  </tbody>\n",
       "</table>\n",
       "<p>16 rows × 22 columns</p>\n",
       "</div>"
      ],
      "text/plain": [
       "   atom   type   lat        re        fe       rhoe      alpha      beta  \\\n",
       "0   Cu   Zhou   FCC   2.556162  1.554485  22.150141   7.669911  4.090619   \n",
       "1   Ag   Zhou   FCC   2.891814  1.106232  15.539255   7.944536  4.237086   \n",
       "2   Au   Zhou   FCC   2.885034  1.529021  21.319637   8.086176  4.312627   \n",
       "3   Ni   Zhou   FCC   2.488746  2.007018  27.984706   8.029633  4.282471   \n",
       "4   Pd   Zhou   FCC   2.750897  1.595417  22.770550   7.605017  4.056009   \n",
       "5   Pt   Zhou   FCC   2.771916  2.336509  34.108882   7.079952  3.775974   \n",
       "6   Al   Zhou   FCC   2.886166  1.392302  20.226537   6.942419  3.702623   \n",
       "7   Pb   Zhou   FCC   3.499723  0.647872   8.906840   8.468412  4.516486   \n",
       "8   Fe   Zhou   BCC   2.481987  1.885957  20.041463   9.818270  5.236411   \n",
       "9   Mo   Zhou   BCC   2.728100  2.723710  29.354065   8.393531  4.476550   \n",
       "10  Ta   Zhou   BCC   2.860082  3.086341  33.787168   8.489528  4.527748   \n",
       "11  W    Zhou   BCC   2.740840  3.487340  37.234847   8.900114  4.746728   \n",
       "12  Mg   Zhou   HCP   3.196291  0.544323   7.132600  10.228708  5.455311   \n",
       "13  Co   Zhou   FCC   2.505979  1.975299  27.206789   8.679625  4.629134   \n",
       "14  Ti   Zhou   HCP   2.933872  1.863200  25.565138   8.775431  4.680230   \n",
       "15  Zr   Zhou   HCP   3.199978  2.230909  30.879991   8.559190  4.564902   \n",
       "\n",
       "           A         B    ...          Fn0       Fn1       Fn2       Fn3  \\\n",
       "0   0.327584  0.468735    ...    -2.176490 -0.140035  0.285621 -1.750834   \n",
       "1   0.266074  0.386272    ...    -1.729619 -0.221025  0.541558 -0.967036   \n",
       "2   0.230728  0.336695    ...    -2.930281 -0.554034  1.489437 -0.886809   \n",
       "3   0.439664  0.632771    ...    -2.693996 -0.066073  0.170482 -2.457442   \n",
       "4   0.385412  0.545121    ...    -2.320473 -0.421263  0.966525 -0.932685   \n",
       "5   0.449644  0.593713    ...    -4.099542 -0.754764  1.766503 -1.578274   \n",
       "6   0.251519  0.313394    ...    -2.806783 -0.276173  0.893409 -1.637201   \n",
       "7   0.134878  0.203093    ...    -1.419644 -0.228622  0.630069 -0.560952   \n",
       "8   0.392811  0.646243    ...    -2.534992 -0.059605  0.193065 -2.282322   \n",
       "9   0.708787  1.120373    ...    -3.692913 -0.178812  0.380450 -3.133650   \n",
       "10  0.611679  1.032101    ...    -5.103845 -0.405524  1.112997 -3.585325   \n",
       "11  0.882435  1.394592    ...    -4.946281 -0.148818  0.365057 -4.432406   \n",
       "12  0.137518  0.225930    ...    -0.896473 -0.044291  0.162232 -0.689950   \n",
       "13  0.421378  0.640107    ...    -2.541799 -0.219415  0.733381 -1.589003   \n",
       "14  0.373601  0.570968    ...    -3.203773 -0.198262  0.683779 -2.321732   \n",
       "15  0.424667  0.640054    ...    -4.485793 -0.293129  0.990148 -3.202516   \n",
       "\n",
       "      F0  F1        F2        F3       eta        Fe  \n",
       "0  -2.19   0  0.702991  0.683705  0.921150 -2.191675  \n",
       "1  -1.75   0  0.983967  0.520904  1.149461 -1.751274  \n",
       "2  -2.98   0  2.283863  0.494127  1.286960 -2.981365  \n",
       "3  -2.70   0  0.282257  0.102879  0.509860 -2.700493  \n",
       "4  -2.36   0  1.966273  1.396717  1.399758 -2.362609  \n",
       "5  -4.17   0  3.474733  2.288323  1.393490 -4.174332  \n",
       "6  -2.83   0  0.929508 -0.682320  0.779208 -2.829437  \n",
       "7  -1.44   0  0.921049  0.108847  1.172361 -1.440494  \n",
       "8  -2.54   0  0.200269 -0.148770  0.391750 -2.539945  \n",
       "9  -3.71   0  0.875874  0.776222  0.790879 -3.712093  \n",
       "10 -5.14   0  1.640098  0.221375  0.848843 -5.141526  \n",
       "11 -4.96   0  0.661935  0.348147 -0.582714 -4.961306  \n",
       "12 -0.90   0  0.122838 -0.226010  0.431425 -0.899702  \n",
       "13 -2.56   0  0.705845 -0.687140  0.694608 -2.559307  \n",
       "14 -3.22   0  0.608587 -0.750710  0.558572 -3.219176  \n",
       "15 -4.51   0  0.928602 -0.981870  0.597133 -4.509025  \n",
       "\n",
       "[16 rows x 22 columns]"
      ]
     },
     "execution_count": 19,
     "metadata": {},
     "output_type": "execute_result"
    }
   ],
   "source": [
    "Zhou"
   ]
  },
  {
   "cell_type": "code",
   "execution_count": 20,
   "metadata": {
    "collapsed": false
   },
   "outputs": [],
   "source": [
    "def fEle(r,n,frame):\n",
    "    data=list(frame.iloc[n])\n",
    "    atom,name,lat,re,fe,rhoe,alpha,beta,A,B,kappa,lam,Fn0,Fn1,Fn2,Fn3,F0,F1,F2,F3,eta,Fe=data\n",
    "    \n",
    "    return fe*num.exp(-beta*(r/re-1))/(1+(r/re-lam)**20)\n",
    "\n",
    "def phiN_(r,n,frame):\n",
    "    data=list(frame.iloc[n])\n",
    "    atom,name,lat,re,fe,rhoe,alpha,beta,A,B,kappa,lam,Fn0,Fn1,Fn2,Fn3,F0,F1,F2,F3,eta,Fe=data\n",
    "    return A*num.exp(-alpha*(r/re-1))/(1+(r/re-kappa)**20)\n",
    "#def phiE(r,q):\n",
    "#    return (1-q/N)*B*num.exp(-beta*(r/re-1))/(1+(r/re-kappa)**20)\n",
    "\n",
    "def phiE_(r,n,frame):\n",
    "    data=list(frame.iloc[n])\n",
    "    atom,name,lat,re,fe,rhoe,alpha,beta,A,B,kappa,lam,Fn0,Fn1,Fn2,Fn3,F0,F1,F2,F3,eta,Fe=data\n",
    "    return B*num.exp(-beta*(r/re-1))/(1+(r/re-kappa)**20)\n",
    "\n",
    "def phiT_(r,n,frame):\n",
    "    return phiN_(r,n,frame)+phiE_(r,n,frame)\n",
    "\n",
    "\n",
    "\n",
    "def F_(rho,n,frame):\n",
    "    func=[]\n",
    "    data=list(frame.iloc[n])\n",
    "    atom,name,lat,re,fe,rhoe,alpha,beta,A,B,kappa,lam,Fn0,Fn1,Fn2,Fn3,F0,F1,F2,F3,eta,Fe=data\n",
    "    rhon=0.85*rhoe\n",
    "    rho0=1.15*rhoe\n",
    "    for var in rho:\n",
    "        if(var<rhon):\n",
    "            func.append(Fn0*(var/rhon-1)**0+Fn1*(var/rhon-1)**1+Fn2*(var/rhon-1)**2+Fn3*(var/rhon-1)**3)\n",
    "        elif (var>=rhon and var<rho0):\n",
    "            func.append(F0*(var/rhoe-1)**0+F1*(var/rhoe-1)**1+F2*(var/rhoe-1)**2+F3*(var/rhoe-1)**3)\n",
    "        else:\n",
    "            func.append(Fe*(1-num.log((var/rhoe)**eta))*(var/rhoe)**eta)\n",
    "    func=num.asarray(func)\n",
    "    return func"
   ]
  },
  {
   "cell_type": "code",
   "execution_count": 62,
   "metadata": {
    "collapsed": false
   },
   "outputs": [
    {
     "data": {
      "image/png": "[encoded data removed]",
      "text/plain": [
       "<matplotlib.figure.Figure at 0x7f67cac95810>"
      ]
     },
     "metadata": {},
     "output_type": "display_data"
    }
   ],
   "source": [
    "x=num.linspace(0,100,1000)\n",
    "F=pan.read_csv(\"Cu_u3.F.dat\",sep=\"\\t\",names=[\"rho\",\"F\"])\n",
    "FFrame=pan.DataFrame(F)\n",
    "FFunc=interp1d(FFrame.rho,FFrame.F)\n",
    "#lab.plot(FFrame.rho,FFunc(FFrame.rho))\n",
    "var=0\n",
    "#lab.plot(x,F_(x,var,Zhou),label=Zhou.atom[var])\n",
    "lab.plot(x,F_(x,var,Zhou),FFrame.rho,FFunc(FFrame.rho))\n",
    "\n",
    "#lab.legend(loc=1)\n",
    "lab.xlim([0,0.2])\n",
    "#lab.ylim([-5,0])\n",
    "lab.savefig(\"fele.pdf\")\n",
    "lab.show()"
   ]
  },
  {
   "cell_type": "code",
   "execution_count": 51,
   "metadata": {
    "collapsed": false
   },
   "outputs": [
    {
     "data": {
      "image/png": "[encoded data removed]",
      "text/plain": [
       "<matplotlib.figure.Figure at 0x7f67c97d7550>"
      ]
     },
     "metadata": {},
     "output_type": "display_data"
    }
   ],
   "source": [
    "for var in [0]:\n",
    "    lab.plot(x,phiT_(x,var,Zhou),label=Zhou.atom[var])\n",
    "\n",
    "lab.legend(loc=1)\n",
    "lab.xlim([0,5])    \n",
    "lab.show()"
   ]
  },
  {
   "cell_type": "code",
   "execution_count": 6,
   "metadata": {
    "collapsed": false
   },
   "outputs": [
    {
     "ename": "NameError",
     "evalue": "name 'fEle' is not defined",
     "output_type": "error",
     "traceback": [
      "\u001b[0;31m---------------------------------------------------------------------------\u001b[0m",
      "\u001b[0;31mNameError\u001b[0m                                 Traceback (most recent call last)",
      "\u001b[0;32m<ipython-input-6-dcea929d3ebf>\u001b[0m in \u001b[0;36m<module>\u001b[0;34m()\u001b[0m\n\u001b[1;32m      1\u001b[0m \u001b[0;32mfor\u001b[0m \u001b[0matoms\u001b[0m \u001b[0;32min\u001b[0m \u001b[0;34m[\u001b[0m\u001b[0;36m5\u001b[0m\u001b[0;34m]\u001b[0m\u001b[0;34m:\u001b[0m\u001b[0;34m\u001b[0m\u001b[0m\n\u001b[0;32m----> 2\u001b[0;31m     \u001b[0mlab\u001b[0m\u001b[0;34m.\u001b[0m\u001b[0mplot\u001b[0m\u001b[0;34m(\u001b[0m\u001b[0mx\u001b[0m\u001b[0;34m,\u001b[0m\u001b[0mfEle\u001b[0m\u001b[0;34m(\u001b[0m\u001b[0mx\u001b[0m\u001b[0;34m,\u001b[0m\u001b[0matoms\u001b[0m\u001b[0;34m,\u001b[0m\u001b[0mZhou\u001b[0m\u001b[0;34m)\u001b[0m\u001b[0;34m,\u001b[0m\u001b[0mlabel\u001b[0m\u001b[0;34m=\u001b[0m\u001b[0mZhou\u001b[0m\u001b[0;34m.\u001b[0m\u001b[0matom\u001b[0m\u001b[0;34m[\u001b[0m\u001b[0matoms\u001b[0m\u001b[0;34m]\u001b[0m\u001b[0;34m)\u001b[0m\u001b[0;34m\u001b[0m\u001b[0m\n\u001b[0m\u001b[1;32m      3\u001b[0m \u001b[0;34m\u001b[0m\u001b[0m\n\u001b[1;32m      4\u001b[0m \u001b[0mlab\u001b[0m\u001b[0;34m.\u001b[0m\u001b[0mlegend\u001b[0m\u001b[0;34m(\u001b[0m\u001b[0mloc\u001b[0m\u001b[0;34m=\u001b[0m\u001b[0;36m1\u001b[0m\u001b[0;34m)\u001b[0m\u001b[0;34m\u001b[0m\u001b[0m\n\u001b[1;32m      5\u001b[0m \u001b[0mlab\u001b[0m\u001b[0;34m.\u001b[0m\u001b[0mxlim\u001b[0m\u001b[0;34m(\u001b[0m\u001b[0;34m[\u001b[0m\u001b[0;36m0\u001b[0m\u001b[0;34m,\u001b[0m\u001b[0;36m5\u001b[0m\u001b[0;34m]\u001b[0m\u001b[0;34m)\u001b[0m\u001b[0;34m\u001b[0m\u001b[0m\n",
      "\u001b[0;31mNameError\u001b[0m: name 'fEle' is not defined"
     ]
    }
   ],
   "source": [
    "for atoms in [5]:\n",
    "    lab.plot(x,fEle(x,atoms,Zhou),label=Zhou.atom[atoms])\n",
    "\n",
    "lab.legend(loc=1)\n",
    "lab.xlim([0,5])\n",
    "#lab.ylim([-1,0])\n",
    "lab.show()"
   ]
  },
  {
   "cell_type": "code",
   "execution_count": 7,
   "metadata": {
    "collapsed": false
   },
   "outputs": [],
   "source": [
    "def Energy(x,n,frame):\n",
    "    density=12*fEle(x,n,frame)\n",
    "    potential=12*phiT_(x,n,frame)\n",
    "    embedded=F_(density,n,frame)\n",
    "    return potential+embedded"
   ]
  },
  {
   "cell_type": "code",
   "execution_count": 515,
   "metadata": {
    "collapsed": false
   },
   "outputs": [
    {
     "data": {
      "image/png": "[encoded data removed]",
      "text/plain": [
       "<matplotlib.figure.Figure at 0x7fdeeeb48e50>"
      ]
     },
     "metadata": {},
     "output_type": "display_data"
    }
   ],
   "source": [
    "for atoms in range(5,6):\n",
    "    lab.plot(x,Energy(x,atoms,Zhou),label=Zhou.atom[atoms])\n",
    "\n",
    "lab.legend(loc=1)\n",
    "lab.ylim([-1,2])\n",
    "lab.xlim([3,6]) \n",
    "lab.show()"
   ]
  },
  {
   "cell_type": "code",
   "execution_count": 33,
   "metadata": {
    "collapsed": false
   },
   "outputs": [
    {
     "data": {
      "text/plain": [
       "[<matplotlib.lines.Line2D at 0x7f67c98dcf90>]"
      ]
     },
     "execution_count": 33,
     "metadata": {},
     "output_type": "execute_result"
    },
    {
     "data": {
      "image/png": "[encoded data removed]",
      "text/plain": [
       "<matplotlib.figure.Figure at 0x7f67d0937710>"
      ]
     },
     "metadata": {},
     "output_type": "display_data"
    }
   ],
   "source": [
    "from scipy.interpolate import interp1d\n",
    "Z=pan.read_csv(\"Pt.u3.Z.dat\",sep=\"\\t\",names=[\"r\",\"Z\"])\n",
    "ZFrame=pan.DataFrame(Z)\n",
    "ZFunc = interp1d(ZFrame.r, ZFrame.Z, kind='cubic')\n",
    "lab.plot(ZFrame.r,ZFunc(ZFrame.r))"
   ]
  },
  {
   "cell_type": "code",
   "execution_count": 34,
   "metadata": {
    "collapsed": false
   },
   "outputs": [
    {
     "data": {
      "text/plain": [
       "[<matplotlib.lines.Line2D at 0x7f67d0816b50>]"
      ]
     },
     "execution_count": 34,
     "metadata": {},
     "output_type": "execute_result"
    },
    {
     "data": {
      "image/png": "[encoded data removed]",
      "text/plain": [
       "<matplotlib.figure.Figure at 0x7f67d096ee90>"
      ]
     },
     "metadata": {},
     "output_type": "display_data"
    }
   ],
   "source": [
    "F=pan.read_csv(\"Cu_u3.F.dat\",sep=\"\\t\",names=[\"rho\",\"F\"])\n",
    "FFrame=pan.DataFrame(F)\n",
    "FFunc=interp1d(FFrame.rho,FFrame.F)\n",
    "lab.plot(FFrame.rho,FFunc(FFrame.rho))"
   ]
  },
  {
   "cell_type": "code",
   "execution_count": 5,
   "metadata": {
    "collapsed": false
   },
   "outputs": [
    {
     "ename": "AttributeError",
     "evalue": "module 'scipy' has no attribute 'interp1d'",
     "output_type": "error",
     "traceback": [
      "\u001b[0;31m---------------------------------------------------------------------------\u001b[0m",
      "\u001b[0;31mAttributeError\u001b[0m                            Traceback (most recent call last)",
      "\u001b[0;32m<ipython-input-5-257a950a9ff3>\u001b[0m in \u001b[0;36m<module>\u001b[0;34m()\u001b[0m\n\u001b[1;32m      1\u001b[0m \u001b[0mrho\u001b[0m\u001b[0;34m=\u001b[0m\u001b[0mpan\u001b[0m\u001b[0;34m.\u001b[0m\u001b[0mread_csv\u001b[0m\u001b[0;34m(\u001b[0m\u001b[0;34m\"Pt_u3.rho.dat\"\u001b[0m\u001b[0;34m,\u001b[0m\u001b[0msep\u001b[0m\u001b[0;34m=\u001b[0m\u001b[0;34m\"\\t\"\u001b[0m\u001b[0;34m,\u001b[0m\u001b[0mnames\u001b[0m\u001b[0;34m=\u001b[0m\u001b[0;34m[\u001b[0m\u001b[0;34m\"r\"\u001b[0m\u001b[0;34m,\u001b[0m\u001b[0;34m\"rho\"\u001b[0m\u001b[0;34m]\u001b[0m\u001b[0;34m)\u001b[0m\u001b[0;34m\u001b[0m\u001b[0m\n\u001b[1;32m      2\u001b[0m \u001b[0mRhoF\u001b[0m\u001b[0;34m=\u001b[0m\u001b[0mpan\u001b[0m\u001b[0;34m.\u001b[0m\u001b[0mDataFrame\u001b[0m\u001b[0;34m(\u001b[0m\u001b[0mrho\u001b[0m\u001b[0;34m)\u001b[0m\u001b[0;34m\u001b[0m\u001b[0m\n\u001b[0;32m----> 3\u001b[0;31m \u001b[0mRFunc\u001b[0m\u001b[0;34m=\u001b[0m\u001b[0msci\u001b[0m\u001b[0;34m.\u001b[0m\u001b[0minterp1d\u001b[0m\u001b[0;34m(\u001b[0m\u001b[0mRhoF\u001b[0m\u001b[0;34m.\u001b[0m\u001b[0mr\u001b[0m\u001b[0;34m,\u001b[0m\u001b[0mRhoF\u001b[0m\u001b[0;34m.\u001b[0m\u001b[0mrho\u001b[0m\u001b[0;34m)\u001b[0m\u001b[0;34m\u001b[0m\u001b[0m\n\u001b[0m\u001b[1;32m      4\u001b[0m \u001b[0mlab\u001b[0m\u001b[0;34m.\u001b[0m\u001b[0mplot\u001b[0m\u001b[0;34m(\u001b[0m\u001b[0mRhoF\u001b[0m\u001b[0;34m.\u001b[0m\u001b[0mr\u001b[0m\u001b[0;34m,\u001b[0m\u001b[0mRFunc\u001b[0m\u001b[0;34m(\u001b[0m\u001b[0mRhoF\u001b[0m\u001b[0;34m.\u001b[0m\u001b[0mr\u001b[0m\u001b[0;34m)\u001b[0m\u001b[0;34m)\u001b[0m\u001b[0;34m\u001b[0m\u001b[0m\n\u001b[1;32m      5\u001b[0m \u001b[0mlab\u001b[0m\u001b[0;34m.\u001b[0m\u001b[0mylim\u001b[0m\u001b[0;34m(\u001b[0m\u001b[0;34m[\u001b[0m\u001b[0;36m0\u001b[0m\u001b[0;34m,\u001b[0m\u001b[0;36m0.20\u001b[0m\u001b[0;34m]\u001b[0m\u001b[0;34m)\u001b[0m\u001b[0;34m\u001b[0m\u001b[0m\n",
      "\u001b[0;31mAttributeError\u001b[0m: module 'scipy' has no attribute 'interp1d'"
     ]
    }
   ],
   "source": [
    "rho=pan.read_csv(\"Pt_u3.rho.dat\",sep=\"\\t\",names=[\"r\",\"rho\"])\n",
    "RhoF=pan.DataFrame(rho)\n",
    "RFunc=sci.interp1d(RhoF.r,RhoF.rho)\n",
    "lab.plot(RhoF.r,RFunc(RhoF.r))\n",
    "lab.ylim([0,0.20])"
   ]
  },
  {
   "cell_type": "code",
   "execution_count": 415,
   "metadata": {
    "collapsed": false
   },
   "outputs": [],
   "source": [
    "def EnergyDaw(r):\n",
    "    density=12*RFunc(r)\n",
    "    Potential=ZFunc(r)*ZFunc(r)/r\n",
    "    Embedded=FFunc(density)\n",
    "    return Potential+Embedded\n",
    "\n"
   ]
  },
  {
   "cell_type": "code",
   "execution_count": 520,
   "metadata": {
    "collapsed": false
   },
   "outputs": [
    {
     "data": {
      "text/plain": [
       "[<matplotlib.lines.Line2D at 0x7fdeeec58210>]"
      ]
     },
     "execution_count": 520,
     "metadata": {},
     "output_type": "execute_result"
    },
    {
     "data": {
      "image/png": "[encoded data removed]",
      "text/plain": [
       "<matplotlib.figure.Figure at 0x7fdeee1ba810>"
      ]
     },
     "metadata": {},
     "output_type": "display_data"
    }
   ],
   "source": [
    "r=num.linspace(2,2.2,100)\n",
    "\n",
    "lab.plot(r,EnergyDaw(r))"
   ]
  },
  {
   "cell_type": "code",
   "execution_count": 7,
   "metadata": {
    "collapsed": false
   },
   "outputs": [],
   "source": [
    "def f(r,q,N,fe,beta,re,lam):\n",
    "    return fe*num.exp(-beta*(r/re-1))/(1+(r/re-lam)**20)*(1-q/float(N))\n",
    "\n",
    "def phiN(r,A,alpha,re,kappa):\n",
    "    return A*num.exp(-alpha*(r/re-1))/(1+(r/re-kappa)**20)\n",
    "#def phiE(r,q):\n",
    "#    return (1-q/N)*B*num.exp(-beta*(r/re-1))/(1+(r/re-kappa)**20)\n",
    "\n",
    "def phiE(r,B,beta,re,kappa):\n",
    "    return B*num.exp(-beta*(r/re-1))/(1+(r/re-kappa)**20)\n",
    "def phiT(r,A,alpha,re,B,beta):\n",
    "    return phiN(r,A,alpha,re,kappa)-phiE(r,B,beta,re,kappa)"
   ]
  },
  {
   "cell_type": "code",
   "execution_count": 115,
   "metadata": {
    "collapsed": false
   },
   "outputs": [],
   "source": [
    "re_O,A_O,alpha_O,B_O,beta_O,lam_O,fe_O=3.64857,0.34900,5.44072,0.57438,3.59746,0.39310,1.39479\n",
    "\n",
    "\n",
    "re_Al,A_Al,alpha_Al,B_Al,beta_Al,lam_Al,fe_Al=2.86392,0.31487,6.61317,0.36555,3.52702,0.75969,1.20378\n",
    "\n",
    "\n",
    "A_AlO,alpha_AlO,re_AlO,B_AlO,beta_AlO=0.09738,8.49741,2.98520,0.38121,4.52114\n",
    "\n",
    "\n",
    "re_Al04,A_Al04,alpha_Al04,B_Al04,beta_Al04,lam_Al04,fe_Al04=2.863924,0.134873,6.613165,0.365551,3.527021,0.759692,\\\n",
    "                    1.403115\n",
    "    \n",
    "    \n",
    "r=num.linspace(0,2.5,1000)"
   ]
  },
  {
   "cell_type": "code",
   "execution_count": 116,
   "metadata": {
    "collapsed": false
   },
   "outputs": [
    {
     "data": {
      "text/plain": [
       "[<matplotlib.lines.Line2D at 0x7f889ccc8b70>]"
      ]
     },
     "execution_count": 116,
     "metadata": {},
     "output_type": "execute_result"
    },
    {
     "data": {
      "image/png": "[encoded data removed]",
      "text/plain": [
       "<matplotlib.figure.Figure at 0x7f889cb471d0>"
      ]
     },
     "metadata": {},
     "output_type": "display_data"
    }
   ],
   "source": [
    "phiO_Al=phiT(r,A_AlO,alpha_AlO,re_AlO,B_AlO,beta_AlO)\n",
    "lab.plot(r,phiO_Al)"
   ]
  },
  {
   "cell_type": "code",
   "execution_count": 117,
   "metadata": {
    "collapsed": false
   },
   "outputs": [],
   "source": [
    "f_Al=f(r,0,3,fe_Al,beta_Al,re_Al,lam_Al)\n",
    "f_Al04=f(r,0,3,fe_Al04,beta_Al04,re_Al04,lam_Al04)"
   ]
  },
  {
   "cell_type": "code",
   "execution_count": 118,
   "metadata": {
    "collapsed": true
   },
   "outputs": [],
   "source": [
    "f_O=f(r,0,6,fe_O,beta_O,re_O,lam_O)"
   ]
  },
  {
   "cell_type": "code",
   "execution_count": 119,
   "metadata": {
    "collapsed": true
   },
   "outputs": [],
   "source": [
    "phiAl_Al=phiT(r,A_Al,alpha_Al,re_Al,B_Al,beta_Al)\n",
    "phiAl_Al04=phiT(r,A_Al04,alpha_Al04,re_Al04,B_Al04,beta_Al04)"
   ]
  },
  {
   "cell_type": "code",
   "execution_count": 120,
   "metadata": {
    "collapsed": true
   },
   "outputs": [],
   "source": [
    "phiO_O=phiT(r,A_O,alpha_O,re_O,B_O,beta_O)"
   ]
  },
  {
   "cell_type": "code",
   "execution_count": 121,
   "metadata": {
    "collapsed": false
   },
   "outputs": [],
   "source": [
    "phiAl_OJonson=(1/2)*((f_Al/f_O)*phiO_O+(f_O/f_Al)*phiAl_Al)\n",
    "\n",
    "phiAl_OJonson04=(1/2)*((f_Al04/f_O)*phiO_O+(f_O/f_Al04)*phiAl_Al04)"
   ]
  },
  {
   "cell_type": "code",
   "execution_count": 127,
   "metadata": {
    "collapsed": false
   },
   "outputs": [
    {
     "data": {
      "image/png": "[encoded data removed]",
      "text/plain": [
       "<matplotlib.figure.Figure at 0x7f889c9d46d8>"
      ]
     },
     "metadata": {},
     "output_type": "display_data"
    }
   ],
   "source": [
    "lab.plot(r,phiAl_OJonson,label=\"Joh05\")\n",
    "lab.plot(r,phiO_Al,label=\"Fit_Zhou_05\")\n",
    "lab.plot(r,phiAl_OJonson04,label=\"Joh04\")\n",
    "lab.title(\"Al-O pair Potential\")\n",
    "lab.xlabel(\"r\")\n",
    "lab.ylabel(\"Phi Al-O\")\n",
    "lab.legend()\n",
    "lab.savefig(\"AlO.eps\")\n",
    "lab.show()"
   ]
  },
  {
   "cell_type": "code",
   "execution_count": null,
   "metadata": {
    "collapsed": true
   },
   "outputs": [],
   "source": []
  },
  {
   "cell_type": "code",
   "execution_count": null,
   "metadata": {
    "collapsed": true
   },
   "outputs": [],
   "source": []
  },
  {
   "cell_type": "code",
   "execution_count": null,
   "metadata": {
    "collapsed": true
   },
   "outputs": [],
   "source": []
  },
  {
   "cell_type": "code",
   "execution_count": null,
   "metadata": {
    "collapsed": true
   },
   "outputs": [],
   "source": []
  },
  {
   "cell_type": "code",
   "execution_count": null,
   "metadata": {
    "collapsed": true
   },
   "outputs": [],
   "source": []
  }
 ],
 "metadata": {
  "anaconda-cloud": {},
  "kernelspec": {
   "display_name": "Python [default]",
   "language": "python",
   "name": "python3"
  },
  "language_info": {
   "codemirror_mode": {
    "name": "ipython",
    "version": 3
   },
   "file_extension": ".py",
   "mimetype": "text/x-python",
   "name": "python",
   "nbconvert_exporter": "python",
   "pygments_lexer": "ipython3",
   "version": "3.5.2"
  }
 },
 "nbformat": 4,
 "nbformat_minor": 0
}
