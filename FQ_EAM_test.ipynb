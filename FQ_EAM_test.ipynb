{
 "cells": [
  {
   "cell_type": "code",
   "execution_count": 2,
   "metadata": {},
   "outputs": [],
   "source": [
    "import numpy as num\n",
    "import pylab as lab\n",
    "import scipy as sci\n",
    "import pandas as pan\n",
    "from IPython.core.display import HTML\n",
    "\n",
    "\n",
    "%matplotlib inline"
   ]
  },
  {
   "cell_type": "code",
   "execution_count": 3,
   "metadata": {},
   "outputs": [],
   "source": [
    "pan.set_eng_float_format(accuracy=2, use_eng_prefix=False)\n",
    "pan.options.display.float_format = '{:,.2f}'.format\n",
    "pan.set_option('display.max_rows', 500)"
   ]
  },
  {
   "cell_type": "code",
   "execution_count": 4,
   "metadata": {},
   "outputs": [
    {
     "data": {
      "text/plain": [
       "'Z=pan.read_csv(\"Pt.u3.Z.dat\",sep=\"\\t\",names=[\"r\",\"Z\"])\\nZFrame=pan.DataFrame(Z)\\nphi=(ZFrame.Z)**2/ZFrame.r\\nlab.plot(ZFrame.r,phi,label=\"Daw\")\\nlab.plot(ZFrame.r,phiT(ZFrame.r),label=\"Zhou\")\\nlab.legend(loc=1)\\nlab.ylim([0,600])\\nlab.xlim([0,5])\\nlab.show()\\n'"
      ]
     },
     "execution_count": 4,
     "metadata": {},
     "output_type": "execute_result"
    }
   ],
   "source": [
    "\"\"\"Z=pan.read_csv(\"Pt.u3.Z.dat\",sep=\"\\t\",names=[\"r\",\"Z\"])\n",
    "ZFrame=pan.DataFrame(Z)\n",
    "phi=(ZFrame.Z)**2/ZFrame.r\n",
    "lab.plot(ZFrame.r,phi,label=\"Daw\")\n",
    "lab.plot(ZFrame.r,phiT(ZFrame.r),label=\"Zhou\")\n",
    "lab.legend(loc=1)\n",
    "lab.ylim([0,600])\n",
    "lab.xlim([0,5])\n",
    "lab.show()\n",
    "\"\"\""
   ]
  },
  {
   "cell_type": "code",
   "execution_count": 5,
   "metadata": {},
   "outputs": [],
   "source": [
    "Zhou=pan.read_csv(\"Zhou.info.dat\",sep=\" \",names=[\"atom\",\"type\",\"lat\",\"re\",\"fe\",\"rhoe\",\"rhos\",\"alpha\",\"beta\",\"A\",\"B\"\\\n",
    "                                                     ,\"kappa\",\"lam\",\"Fn0\",\"Fn1\",\"Fn2\",\"Fn3\",\"F0\",\"F1\",\"F2\",\"F3\",\"eta\",\"Fe\",\"rhol\",\"rhoh\"])"
   ]
  },
  {
   "cell_type": "code",
   "execution_count": 6,
   "metadata": {},
   "outputs": [
    {
     "data": {
      "text/html": [
       "<div>\n",
       "<style scoped>\n",
       "    .dataframe tbody tr th:only-of-type {\n",
       "        vertical-align: middle;\n",
       "    }\n",
       "\n",
       "    .dataframe tbody tr th {\n",
       "        vertical-align: top;\n",
       "    }\n",
       "\n",
       "    .dataframe thead th {\n",
       "        text-align: right;\n",
       "    }\n",
       "</style>\n",
       "<table border=\"1\" class=\"dataframe\">\n",
       "  <thead>\n",
       "    <tr style=\"text-align: right;\">\n",
       "      <th></th>\n",
       "      <th>atom</th>\n",
       "      <th>type</th>\n",
       "      <th>lat</th>\n",
       "      <th>re</th>\n",
       "      <th>fe</th>\n",
       "      <th>rhoe</th>\n",
       "      <th>rhos</th>\n",
       "      <th>alpha</th>\n",
       "      <th>beta</th>\n",
       "      <th>A</th>\n",
       "      <th>...</th>\n",
       "      <th>Fn2</th>\n",
       "      <th>Fn3</th>\n",
       "      <th>F0</th>\n",
       "      <th>F1</th>\n",
       "      <th>F2</th>\n",
       "      <th>F3</th>\n",
       "      <th>eta</th>\n",
       "      <th>Fe</th>\n",
       "      <th>rhol</th>\n",
       "      <th>rhoh</th>\n",
       "    </tr>\n",
       "  </thead>\n",
       "  <tbody>\n",
       "    <tr>\n",
       "      <th>0</th>\n",
       "      <td>Cu</td>\n",
       "      <td>Zhou2004</td>\n",
       "      <td>FCC</td>\n",
       "      <td>2.56</td>\n",
       "      <td>1.55</td>\n",
       "      <td>21.18</td>\n",
       "      <td>21.18</td>\n",
       "      <td>8.13</td>\n",
       "      <td>4.33</td>\n",
       "      <td>0.40</td>\n",
       "      <td>...</td>\n",
       "      <td>1.09</td>\n",
       "      <td>-0.82</td>\n",
       "      <td>-2.19</td>\n",
       "      <td>0</td>\n",
       "      <td>0.56</td>\n",
       "      <td>-2.10</td>\n",
       "      <td>0.31</td>\n",
       "      <td>-2.19</td>\n",
       "      <td>0.85</td>\n",
       "      <td>1.15</td>\n",
       "    </tr>\n",
       "    <tr>\n",
       "      <th>1</th>\n",
       "      <td>Ag</td>\n",
       "      <td>Zhou2004</td>\n",
       "      <td>FCC</td>\n",
       "      <td>2.89</td>\n",
       "      <td>1.11</td>\n",
       "      <td>14.60</td>\n",
       "      <td>14.60</td>\n",
       "      <td>9.13</td>\n",
       "      <td>4.87</td>\n",
       "      <td>0.28</td>\n",
       "      <td>...</td>\n",
       "      <td>0.91</td>\n",
       "      <td>-0.56</td>\n",
       "      <td>-1.75</td>\n",
       "      <td>0</td>\n",
       "      <td>0.74</td>\n",
       "      <td>-1.15</td>\n",
       "      <td>0.78</td>\n",
       "      <td>-1.75</td>\n",
       "      <td>0.85</td>\n",
       "      <td>1.15</td>\n",
       "    </tr>\n",
       "    <tr>\n",
       "      <th>2</th>\n",
       "      <td>Au</td>\n",
       "      <td>Zhou2004</td>\n",
       "      <td>FCC</td>\n",
       "      <td>2.89</td>\n",
       "      <td>1.53</td>\n",
       "      <td>19.99</td>\n",
       "      <td>19.99</td>\n",
       "      <td>9.52</td>\n",
       "      <td>5.08</td>\n",
       "      <td>0.23</td>\n",
       "      <td>...</td>\n",
       "      <td>1.60</td>\n",
       "      <td>-0.84</td>\n",
       "      <td>-2.98</td>\n",
       "      <td>0</td>\n",
       "      <td>1.71</td>\n",
       "      <td>-1.13</td>\n",
       "      <td>1.02</td>\n",
       "      <td>-2.98</td>\n",
       "      <td>0.85</td>\n",
       "      <td>1.15</td>\n",
       "    </tr>\n",
       "    <tr>\n",
       "      <th>3</th>\n",
       "      <td>Ni</td>\n",
       "      <td>Zhou2004</td>\n",
       "      <td>FCC</td>\n",
       "      <td>2.49</td>\n",
       "      <td>2.01</td>\n",
       "      <td>27.56</td>\n",
       "      <td>27.56</td>\n",
       "      <td>8.38</td>\n",
       "      <td>4.47</td>\n",
       "      <td>0.43</td>\n",
       "      <td>...</td>\n",
       "      <td>0.24</td>\n",
       "      <td>-2.38</td>\n",
       "      <td>-2.70</td>\n",
       "      <td>0</td>\n",
       "      <td>0.27</td>\n",
       "      <td>-0.15</td>\n",
       "      <td>0.45</td>\n",
       "      <td>-2.70</td>\n",
       "      <td>0.85</td>\n",
       "      <td>1.15</td>\n",
       "    </tr>\n",
       "    <tr>\n",
       "      <th>4</th>\n",
       "      <td>Pd</td>\n",
       "      <td>Zhou2004</td>\n",
       "      <td>FCC</td>\n",
       "      <td>2.75</td>\n",
       "      <td>1.60</td>\n",
       "      <td>21.34</td>\n",
       "      <td>21.94</td>\n",
       "      <td>8.70</td>\n",
       "      <td>4.64</td>\n",
       "      <td>0.41</td>\n",
       "      <td>...</td>\n",
       "      <td>1.62</td>\n",
       "      <td>-0.23</td>\n",
       "      <td>-2.36</td>\n",
       "      <td>0</td>\n",
       "      <td>1.48</td>\n",
       "      <td>-1.68</td>\n",
       "      <td>1.13</td>\n",
       "      <td>-2.35</td>\n",
       "      <td>0.85</td>\n",
       "      <td>1.15</td>\n",
       "    </tr>\n",
       "    <tr>\n",
       "      <th>5</th>\n",
       "      <td>Pt</td>\n",
       "      <td>Zhou2004</td>\n",
       "      <td>FCC</td>\n",
       "      <td>2.77</td>\n",
       "      <td>2.34</td>\n",
       "      <td>33.37</td>\n",
       "      <td>35.21</td>\n",
       "      <td>7.11</td>\n",
       "      <td>3.79</td>\n",
       "      <td>0.56</td>\n",
       "      <td>...</td>\n",
       "      <td>0.53</td>\n",
       "      <td>1.22</td>\n",
       "      <td>-4.17</td>\n",
       "      <td>0</td>\n",
       "      <td>3.01</td>\n",
       "      <td>-2.42</td>\n",
       "      <td>1.45</td>\n",
       "      <td>-4.15</td>\n",
       "      <td>0.25</td>\n",
       "      <td>1.15</td>\n",
       "    </tr>\n",
       "    <tr>\n",
       "      <th>6</th>\n",
       "      <td>Al</td>\n",
       "      <td>Zhou2004</td>\n",
       "      <td>FCC</td>\n",
       "      <td>2.86</td>\n",
       "      <td>1.40</td>\n",
       "      <td>20.42</td>\n",
       "      <td>23.20</td>\n",
       "      <td>6.61</td>\n",
       "      <td>3.53</td>\n",
       "      <td>0.31</td>\n",
       "      <td>...</td>\n",
       "      <td>1.26</td>\n",
       "      <td>-1.25</td>\n",
       "      <td>-2.83</td>\n",
       "      <td>0</td>\n",
       "      <td>0.62</td>\n",
       "      <td>-2.49</td>\n",
       "      <td>0.79</td>\n",
       "      <td>-2.82</td>\n",
       "      <td>0.85</td>\n",
       "      <td>1.15</td>\n",
       "    </tr>\n",
       "    <tr>\n",
       "      <th>7</th>\n",
       "      <td>Pb</td>\n",
       "      <td>Zhou2004</td>\n",
       "      <td>FCC</td>\n",
       "      <td>3.50</td>\n",
       "      <td>0.65</td>\n",
       "      <td>8.45</td>\n",
       "      <td>8.45</td>\n",
       "      <td>9.12</td>\n",
       "      <td>5.21</td>\n",
       "      <td>0.16</td>\n",
       "      <td>...</td>\n",
       "      <td>0.68</td>\n",
       "      <td>-0.53</td>\n",
       "      <td>-1.44</td>\n",
       "      <td>0</td>\n",
       "      <td>0.70</td>\n",
       "      <td>-0.54</td>\n",
       "      <td>0.94</td>\n",
       "      <td>-1.44</td>\n",
       "      <td>0.85</td>\n",
       "      <td>1.15</td>\n",
       "    </tr>\n",
       "    <tr>\n",
       "      <th>8</th>\n",
       "      <td>Fe</td>\n",
       "      <td>Zhou2004</td>\n",
       "      <td>BCC</td>\n",
       "      <td>2.48</td>\n",
       "      <td>1.89</td>\n",
       "      <td>20.04</td>\n",
       "      <td>20.04</td>\n",
       "      <td>9.82</td>\n",
       "      <td>5.24</td>\n",
       "      <td>0.39</td>\n",
       "      <td>...</td>\n",
       "      <td>0.19</td>\n",
       "      <td>-2.28</td>\n",
       "      <td>-2.54</td>\n",
       "      <td>0</td>\n",
       "      <td>0.20</td>\n",
       "      <td>-0.15</td>\n",
       "      <td>0.39</td>\n",
       "      <td>-2.54</td>\n",
       "      <td>0.85</td>\n",
       "      <td>1.15</td>\n",
       "    </tr>\n",
       "    <tr>\n",
       "      <th>9</th>\n",
       "      <td>Mo</td>\n",
       "      <td>Zhou2004</td>\n",
       "      <td>BCC</td>\n",
       "      <td>2.73</td>\n",
       "      <td>2.72</td>\n",
       "      <td>29.35</td>\n",
       "      <td>29.35</td>\n",
       "      <td>8.39</td>\n",
       "      <td>4.48</td>\n",
       "      <td>0.71</td>\n",
       "      <td>...</td>\n",
       "      <td>0.38</td>\n",
       "      <td>-3.13</td>\n",
       "      <td>-3.71</td>\n",
       "      <td>0</td>\n",
       "      <td>0.88</td>\n",
       "      <td>0.78</td>\n",
       "      <td>0.79</td>\n",
       "      <td>-3.71</td>\n",
       "      <td>0.85</td>\n",
       "      <td>1.15</td>\n",
       "    </tr>\n",
       "    <tr>\n",
       "      <th>10</th>\n",
       "      <td>Ta</td>\n",
       "      <td>Zhou2004</td>\n",
       "      <td>BCC</td>\n",
       "      <td>2.86</td>\n",
       "      <td>3.09</td>\n",
       "      <td>33.79</td>\n",
       "      <td>33.79</td>\n",
       "      <td>8.49</td>\n",
       "      <td>4.53</td>\n",
       "      <td>0.61</td>\n",
       "      <td>...</td>\n",
       "      <td>1.11</td>\n",
       "      <td>-3.59</td>\n",
       "      <td>-5.14</td>\n",
       "      <td>0</td>\n",
       "      <td>1.64</td>\n",
       "      <td>0.22</td>\n",
       "      <td>0.85</td>\n",
       "      <td>-5.14</td>\n",
       "      <td>0.85</td>\n",
       "      <td>1.15</td>\n",
       "    </tr>\n",
       "    <tr>\n",
       "      <th>11</th>\n",
       "      <td>W</td>\n",
       "      <td>Zhou2004</td>\n",
       "      <td>BCC</td>\n",
       "      <td>2.74</td>\n",
       "      <td>3.49</td>\n",
       "      <td>37.23</td>\n",
       "      <td>37.23</td>\n",
       "      <td>8.90</td>\n",
       "      <td>4.75</td>\n",
       "      <td>0.88</td>\n",
       "      <td>...</td>\n",
       "      <td>0.37</td>\n",
       "      <td>-4.43</td>\n",
       "      <td>-4.96</td>\n",
       "      <td>0</td>\n",
       "      <td>0.66</td>\n",
       "      <td>0.35</td>\n",
       "      <td>0.58</td>\n",
       "      <td>-4.96</td>\n",
       "      <td>0.85</td>\n",
       "      <td>1.15</td>\n",
       "    </tr>\n",
       "    <tr>\n",
       "      <th>12</th>\n",
       "      <td>Mg</td>\n",
       "      <td>Zhou2004</td>\n",
       "      <td>HCP</td>\n",
       "      <td>3.20</td>\n",
       "      <td>0.54</td>\n",
       "      <td>7.13</td>\n",
       "      <td>7.13</td>\n",
       "      <td>10.23</td>\n",
       "      <td>5.46</td>\n",
       "      <td>0.14</td>\n",
       "      <td>...</td>\n",
       "      <td>0.16</td>\n",
       "      <td>-0.69</td>\n",
       "      <td>-0.90</td>\n",
       "      <td>0</td>\n",
       "      <td>0.12</td>\n",
       "      <td>-0.23</td>\n",
       "      <td>0.43</td>\n",
       "      <td>-0.90</td>\n",
       "      <td>0.85</td>\n",
       "      <td>1.15</td>\n",
       "    </tr>\n",
       "    <tr>\n",
       "      <th>13</th>\n",
       "      <td>Co</td>\n",
       "      <td>Zhou2004</td>\n",
       "      <td>HCP</td>\n",
       "      <td>2.51</td>\n",
       "      <td>1.98</td>\n",
       "      <td>27.21</td>\n",
       "      <td>27.21</td>\n",
       "      <td>8.68</td>\n",
       "      <td>4.63</td>\n",
       "      <td>0.42</td>\n",
       "      <td>...</td>\n",
       "      <td>0.73</td>\n",
       "      <td>-1.59</td>\n",
       "      <td>-2.56</td>\n",
       "      <td>0</td>\n",
       "      <td>0.71</td>\n",
       "      <td>-0.69</td>\n",
       "      <td>0.69</td>\n",
       "      <td>-2.56</td>\n",
       "      <td>0.85</td>\n",
       "      <td>1.15</td>\n",
       "    </tr>\n",
       "    <tr>\n",
       "      <th>14</th>\n",
       "      <td>Ti</td>\n",
       "      <td>Zhou2004</td>\n",
       "      <td>HCP</td>\n",
       "      <td>2.93</td>\n",
       "      <td>1.86</td>\n",
       "      <td>25.57</td>\n",
       "      <td>25.57</td>\n",
       "      <td>8.78</td>\n",
       "      <td>4.68</td>\n",
       "      <td>0.37</td>\n",
       "      <td>...</td>\n",
       "      <td>0.68</td>\n",
       "      <td>-2.32</td>\n",
       "      <td>-3.22</td>\n",
       "      <td>0</td>\n",
       "      <td>0.61</td>\n",
       "      <td>-0.75</td>\n",
       "      <td>0.56</td>\n",
       "      <td>-3.22</td>\n",
       "      <td>0.85</td>\n",
       "      <td>1.15</td>\n",
       "    </tr>\n",
       "    <tr>\n",
       "      <th>15</th>\n",
       "      <td>Zr</td>\n",
       "      <td>Zhou2004</td>\n",
       "      <td>HCP</td>\n",
       "      <td>3.20</td>\n",
       "      <td>2.23</td>\n",
       "      <td>30.88</td>\n",
       "      <td>30.88</td>\n",
       "      <td>8.56</td>\n",
       "      <td>4.56</td>\n",
       "      <td>0.42</td>\n",
       "      <td>...</td>\n",
       "      <td>0.99</td>\n",
       "      <td>-3.20</td>\n",
       "      <td>-4.51</td>\n",
       "      <td>0</td>\n",
       "      <td>0.93</td>\n",
       "      <td>-0.98</td>\n",
       "      <td>0.60</td>\n",
       "      <td>-4.51</td>\n",
       "      <td>0.85</td>\n",
       "      <td>1.15</td>\n",
       "    </tr>\n",
       "  </tbody>\n",
       "</table>\n",
       "<p>16 rows × 25 columns</p>\n",
       "</div>"
      ],
      "text/plain": [
       "   atom      type  lat   re   fe  rhoe  rhos  alpha  beta    A  ...  Fn2  \\\n",
       "0    Cu  Zhou2004  FCC 2.56 1.55 21.18 21.18   8.13  4.33 0.40  ... 1.09   \n",
       "1    Ag  Zhou2004  FCC 2.89 1.11 14.60 14.60   9.13  4.87 0.28  ... 0.91   \n",
       "2    Au  Zhou2004  FCC 2.89 1.53 19.99 19.99   9.52  5.08 0.23  ... 1.60   \n",
       "3    Ni  Zhou2004  FCC 2.49 2.01 27.56 27.56   8.38  4.47 0.43  ... 0.24   \n",
       "4    Pd  Zhou2004  FCC 2.75 1.60 21.34 21.94   8.70  4.64 0.41  ... 1.62   \n",
       "5    Pt  Zhou2004  FCC 2.77 2.34 33.37 35.21   7.11  3.79 0.56  ... 0.53   \n",
       "6    Al  Zhou2004  FCC 2.86 1.40 20.42 23.20   6.61  3.53 0.31  ... 1.26   \n",
       "7    Pb  Zhou2004  FCC 3.50 0.65  8.45  8.45   9.12  5.21 0.16  ... 0.68   \n",
       "8    Fe  Zhou2004  BCC 2.48 1.89 20.04 20.04   9.82  5.24 0.39  ... 0.19   \n",
       "9    Mo  Zhou2004  BCC 2.73 2.72 29.35 29.35   8.39  4.48 0.71  ... 0.38   \n",
       "10   Ta  Zhou2004  BCC 2.86 3.09 33.79 33.79   8.49  4.53 0.61  ... 1.11   \n",
       "11    W  Zhou2004  BCC 2.74 3.49 37.23 37.23   8.90  4.75 0.88  ... 0.37   \n",
       "12   Mg  Zhou2004  HCP 3.20 0.54  7.13  7.13  10.23  5.46 0.14  ... 0.16   \n",
       "13   Co  Zhou2004  HCP 2.51 1.98 27.21 27.21   8.68  4.63 0.42  ... 0.73   \n",
       "14   Ti  Zhou2004  HCP 2.93 1.86 25.57 25.57   8.78  4.68 0.37  ... 0.68   \n",
       "15   Zr  Zhou2004  HCP 3.20 2.23 30.88 30.88   8.56  4.56 0.42  ... 0.99   \n",
       "\n",
       "     Fn3    F0  F1   F2    F3  eta    Fe  rhol  rhoh  \n",
       "0  -0.82 -2.19   0 0.56 -2.10 0.31 -2.19  0.85  1.15  \n",
       "1  -0.56 -1.75   0 0.74 -1.15 0.78 -1.75  0.85  1.15  \n",
       "2  -0.84 -2.98   0 1.71 -1.13 1.02 -2.98  0.85  1.15  \n",
       "3  -2.38 -2.70   0 0.27 -0.15 0.45 -2.70  0.85  1.15  \n",
       "4  -0.23 -2.36   0 1.48 -1.68 1.13 -2.35  0.85  1.15  \n",
       "5   1.22 -4.17   0 3.01 -2.42 1.45 -4.15  0.25  1.15  \n",
       "6  -1.25 -2.83   0 0.62 -2.49 0.79 -2.82  0.85  1.15  \n",
       "7  -0.53 -1.44   0 0.70 -0.54 0.94 -1.44  0.85  1.15  \n",
       "8  -2.28 -2.54   0 0.20 -0.15 0.39 -2.54  0.85  1.15  \n",
       "9  -3.13 -3.71   0 0.88  0.78 0.79 -3.71  0.85  1.15  \n",
       "10 -3.59 -5.14   0 1.64  0.22 0.85 -5.14  0.85  1.15  \n",
       "11 -4.43 -4.96   0 0.66  0.35 0.58 -4.96  0.85  1.15  \n",
       "12 -0.69 -0.90   0 0.12 -0.23 0.43 -0.90  0.85  1.15  \n",
       "13 -1.59 -2.56   0 0.71 -0.69 0.69 -2.56  0.85  1.15  \n",
       "14 -2.32 -3.22   0 0.61 -0.75 0.56 -3.22  0.85  1.15  \n",
       "15 -3.20 -4.51   0 0.93 -0.98 0.60 -4.51  0.85  1.15  \n",
       "\n",
       "[16 rows x 25 columns]"
      ]
     },
     "execution_count": 6,
     "metadata": {},
     "output_type": "execute_result"
    }
   ],
   "source": [
    "Zhou"
   ]
  },
  {
   "cell_type": "code",
   "execution_count": 7,
   "metadata": {},
   "outputs": [
    {
     "data": {
      "image/png": "[encoded data removed]",
      "text/plain": [
       "<Figure size 432x288 with 1 Axes>"
      ]
     },
     "metadata": {
      "needs_background": "light"
     },
     "output_type": "display_data"
    },
    {
     "data": {
      "image/png": "[encoded data removed]",
      "text/plain": [
       "<Figure size 432x288 with 1 Axes>"
      ]
     },
     "metadata": {
      "needs_background": "light"
     },
     "output_type": "display_data"
    }
   ],
   "source": [
    "\n",
    "data=Zhou.A/Zhou.B\n",
    "lab.plot(data,'o')\n",
    "lab.title(\"A/B\")\n",
    "lab.show()\n",
    "\n",
    "data=Zhou.alpha/Zhou.beta\n",
    "lab.plot(data,'o')\n",
    "lab.title(\"alpha/beta\")\n",
    "lab.show()\n",
    "\n"
   ]
  },
  {
   "cell_type": "code",
   "execution_count": 8,
   "metadata": {},
   "outputs": [],
   "source": [
    "nn=[12,12,12,12,12,12,12,12,8,8,8,8,12,12,12,12]\n",
    "nn2=[6,6,6,6,6,6,6,6,6,6,6,6,6,6,6,6]\n",
    "nn3=[24,24,24,24,24,24,24,24,12,12,12,12,24,24,24,24]\n",
    "nn4=[12,12,12,12,12,12,12,12,24,24,24,24,12,12,12,12]\n",
    "Nv=[11,11,11,10,10,10,3,4,8,6,5,6,2,9,4,4]\n",
    "#Nv=[8,9,9,7,10,10,3,4,8,6,5,6,2,9,4,4]\n",
    "\n",
    "a=[1.414213562,1.414213562,1.414213562,1.414213562,1.414213562,1.414213562,\\\n",
    "   1.414213562,1.414213562,1.154700538,1.154700538\\\n",
    "  ,1.154700538,1.154700538,1.414213562,1.414213562,1.414213562,1.414213562]\n",
    "\n",
    "\n",
    "a2=[1,1,1,1,1,1,1,1,1,1,1,1,1,1,1,1]\n",
    "\n",
    "a3=[1.22474487,1.22474487,1.22474487,1.22474487,1.22474487,1.22474487,1.22474487\\\n",
    "    ,1.22474487,1.41421356,1.41421356,1.41421356,1.41421356,1.22474487,1.22474487,1.22474487,1.22474487]\n",
    "\n",
    "a4=[1.41421356,1.41421356,1.41421356,1.41421356,1.41421356,\\\n",
    "    1.41421356,1.41421356,1.41421356,1.6583124,1.6583124,1.6583124,1.6583124,\\\n",
    "    1.41421356,1.41421356,1.41421356,1.41421356]\n",
    "Zhou1=pan.DataFrame()\n",
    "Zhou1[\"nn\"]=nn\n",
    "Zhou1[\"Nv\"]=Nv\n",
    "Zhou1[\"a\"]=a\n",
    "Zhou1[\"nn2\"]=nn2\n",
    "Zhou1[\"nn3\"]=nn3\n",
    "Zhou1[\"nn4\"]=nn4\n",
    "Zhou1[\"a2\"]=a2\n",
    "Zhou1[\"a3\"]=a3\n",
    "Zhou1[\"a4\"]=a4"
   ]
  },
  {
   "cell_type": "code",
   "execution_count": 9,
   "metadata": {},
   "outputs": [],
   "source": [
    "def fEle_(r,n,frame):\n",
    "    data=list(frame.iloc[n])\n",
    "    atom,name,lat,re,fe,rhoe,rhos,alpha,beta,A,B,kappa,lam,Fn0,Fn1,Fn2,Fn3,F0,F1,F2,F3,eta,Fe,rhol,rhoh=data\n",
    "    \n",
    "    return fe*num.exp(-beta*((r/re)-1))/(1+((r/re)-lam)**20)\n",
    "\n",
    "def phiN_(r,n,frame):\n",
    "    data=list(frame.iloc[n])\n",
    "    atom,name,lat,re,fe,rhoe,rhos,alpha,beta,A,B,kappa,lam,Fn0,Fn1,Fn2,Fn3,F0,F1,F2,F3,eta,Fe,rhol,rhoh=data\n",
    "    return A*num.exp(-alpha*(r/re-1))/(1+((r/re)-kappa)**20)\n",
    "#def phiE(r,q):\n",
    "#    return (1-q/N)*B*num.exp(-beta*(r/re-1))/(1+(r/re-kappa)**20)\n",
    "\n",
    "def phiE_(r,n,frame):\n",
    "    data=list(frame.iloc[n])\n",
    "    atom,name,lat,re,fe,rhoe,rhos,alpha,beta,A,B,kappa,lam,Fn0,Fn1,Fn2,Fn3,F0,F1,F2,F3,eta,Fe,rhol,rhoh=data\n",
    "    return B*num.exp(-beta*((r/re)-1))/(1+((r/re)-lam)**20)\n",
    "\n",
    "def phiT_(r,n,frame):\n",
    "    return phiN_(r,n,frame)-phiE_(r,n,frame)\n",
    "\n",
    "\n",
    "\n",
    "def F_(rho,n,frame):\n",
    "    func=[]\n",
    "    data=list(frame.iloc[n])\n",
    "    atom,name,lat,re,fe,rhoe,rhos,alpha,beta,A,B,kappa,lam,Fn0,Fn1,Fn2,Fn3,F0,F1,F2,F3,eta,Fe,rhol,rhoh=data\n",
    "    rhon=rhol*rhoe\n",
    "    rho0=rhoh*rhoe\n",
    "    \n",
    "    for var in rho:\n",
    "        if(var<rhon):\n",
    "            func.append(Fn0*((var/rhon)-1)**0+Fn1*((var/rhon)-1)**1+Fn2*((var/rhon)-1)**2+Fn3*((var/rhon)-1)**3)\n",
    "        elif (var>=rhon and var<rho0):\n",
    "            func.append(F0*((var/rhoe)-1)**0+F1*((var/rhoe)-1)**1+F2*((var/rhoe)-1)**2+F3*((var/rhoe)-1)**3)\n",
    "        else:\n",
    "            func.append(Fe*(1-(num.log((var/rhos)**eta)))*(var/rhos)**eta)\n",
    "    func=num.asarray(func)\n",
    "    return func"
   ]
  },
  {
   "cell_type": "code",
   "execution_count": 10,
   "metadata": {},
   "outputs": [],
   "source": [
    "def CheckContinuity(n,frame):\n",
    "    data=list(frame.iloc[n])\n",
    "    atom,name,lat,re,fe,rhoe,rhos,alpha,beta,A,B,kappa,lam,Fn0,Fn1,Fn2,Fn3,F0,F1,F2,F3,eta,Fe,rhol,rhoh=data\n",
    "    rhon=rhol*rhoe\n",
    "    rho0=rhoh*rhoe\n",
    "    var=rho0\n",
    "    e1=F0*((var/rhoe)-1)**0+F1*((var/rhoe)-1)**1+F2*((var/rhoe)-1)**2+F3*((var/rhoe)-1)**3\n",
    "    e2=Fe*(1-(num.log((var/rhos)**eta)))*(var/rhos)**eta\n",
    "    print(e1)\n",
    "    print(e2)\n",
    "\n",
    "def deriv(n,frame,rho):\n",
    "    delta=0.0001\n",
    "    f1=F_(rho+delta,n,frame)\n",
    "    f2=F_(rho,n,frame)\n",
    "    return (f1-f2)/delta"
   ]
  },
  {
   "cell_type": "code",
   "execution_count": null,
   "metadata": {},
   "outputs": [],
   "source": []
  },
  {
   "cell_type": "code",
   "execution_count": null,
   "metadata": {},
   "outputs": [],
   "source": []
  },
  {
   "cell_type": "code",
   "execution_count": 13,
   "metadata": {
    "scrolled": false
   },
   "outputs": [
    {
     "data": {
      "image/png": "[encoded data removed]",
      "text/plain": [
       "<Figure size 720x720 with 2 Axes>"
      ]
     },
     "metadata": {
      "needs_background": "light"
     },
     "output_type": "display_data"
    },
    {
     "data": {
      "image/png": "[encoded data removed]",
      "text/plain": [
       "<Figure size 720x720 with 2 Axes>"
      ]
     },
     "metadata": {
      "needs_background": "light"
     },
     "output_type": "display_data"
    },
    {
     "data": {
      "image/png": "[encoded data removed]",
      "text/plain": [
       "<Figure size 720x720 with 2 Axes>"
      ]
     },
     "metadata": {
      "needs_background": "light"
     },
     "output_type": "display_data"
    }
   ],
   "source": [
    "#lab.plot(r,U,'.',markersize=1)\n",
    "r=num.linspace(0,100,1000)\n",
    "for var in [6,12,14]:\n",
    "    fig=lab.figure(figsize=(10,10))\n",
    "    lab.subplot(1,2,1)\n",
    "    lab.plot(r,F_(r,var,Zhou),'-.')\n",
    "    lab.title(Zhou.iloc[var][\"atom\"])\n",
    "    lab.subplot(1,2,2)\n",
    "    lab.plot(r,deriv(var,Zhou,r),'.',markersize=1)\n",
    "    #lab.subplot(1,3,3)\n",
    "    #lab.plot(r,phiT_(r,var,Zhou),markersize=1)\n",
    "    #lab.ylim([-0.5,1])\n",
    "    #lab.xlim([1,6])\n",
    "    lab.show()"
   ]
  },
  {
   "cell_type": "code",
   "execution_count": 12,
   "metadata": {},
   "outputs": [
    {
     "name": "stdout",
     "output_type": "stream",
     "text": [
      "-4.49242026625\n",
      "-4.49242074168079\n"
     ]
    }
   ],
   "source": [
    "CheckContinuity(15,Zhou)"
   ]
  },
  {
   "cell_type": "code",
   "execution_count": 12,
   "metadata": {
    "scrolled": true
   },
   "outputs": [
    {
     "data": {
      "text/plain": [
       "'Au'"
      ]
     },
     "execution_count": 12,
     "metadata": {},
     "output_type": "execute_result"
    }
   ],
   "source": [
    "Zhou.iloc[2][\"atom\"]"
   ]
  },
  {
   "cell_type": "markdown",
   "metadata": {},
   "source": [
    "## Electronegativity of impurity(i) in host(j)\n",
    "$$\\chi_i=\\sum_{j\\neq i}\\left[-\\frac{\\partial F_j}{\\partial \\bar{\\rho_j}}\\frac{f_i(r_{ij})}{N_i}+\\frac{1}{2N_i}\\left(\\frac{f_j(r_{ij})}{f_i(r_{ij})}\\phi_j(r_{ij})-\\frac{f_i(r_{ij})}{f_j(r_{ij})}\\phi_i(r_{ij})\\right)  \\right]$$"
   ]
  },
  {
   "cell_type": "code",
   "execution_count": 13,
   "metadata": {},
   "outputs": [],
   "source": [
    "#ni in nh. ni impurity nh host\n",
    "\n",
    "\n",
    "\n",
    "def ENegative(ni,nh,frame,frame1):\n",
    "    re=frame.iloc[nh][\"re\"]\n",
    "    \n",
    "    a=frame1.iloc[nh][\"a\"]*re\n",
    "    re2=a*Zhou1.iloc[nh][\"a2\"]\n",
    "    re3=a*Zhou1.iloc[nh][\"a3\"]\n",
    "    re4=a*Zhou1.iloc[nh][\"a4\"]\n",
    "    \n",
    "    Ni=frame1.iloc[ni][\"Nv\"]\n",
    "    Nh=frame1.iloc[nh][\"Nv\"]\n",
    "    nn=frame1.iloc[nh][\"nn\"]\n",
    "    nn2=frame1.iloc[nh][\"nn2\"]\n",
    "    nn3=frame1.iloc[nh][\"nn3\"]\n",
    "    nn4=frame1.iloc[nh][\"nn4\"]\n",
    "    \n",
    "    \n",
    "    fH=fEle_(re,nh,frame)\n",
    "    fH2=fEle_(re2,nh,frame)\n",
    "    fH3=fEle_(re3,nh,frame)\n",
    "    fH4=fEle_(re4,nh,frame)\n",
    "    \n",
    "    \n",
    "    fI=fEle_(re,ni,frame)\n",
    "    fI2=fEle_(re2,ni,frame)\n",
    "    fI3=fEle_(re3,ni,frame)\n",
    "    fI4=fEle_(re4,ni,frame)\n",
    "    \n",
    "    phiH=phiT_(re,nh,frame)\n",
    "    phiI=phiT_(re,ni,frame)\n",
    "    \n",
    "    phiH2=phiT_(re2,nh,frame)\n",
    "    phiI2=phiT_(re2,ni,frame)\n",
    "    \n",
    "    phiH3=phiT_(re3,nh,frame)\n",
    "    phiI3=phiT_(re3,ni,frame)\n",
    "    \n",
    "    phiH4=phiT_(re4,nh,frame)\n",
    "    phiI4=phiT_(re4,ni,frame)\n",
    "    \n",
    "    rho=(nn-1)*fH+nn2*fH2+nn3*fH3+nn4*fH4+fI\n",
    "    rho2=(nn)*fH+(nn2-1)*fH2+nn3*fH3+nn4*fH4+fI2\n",
    "    rho3=(nn)*fH+(nn2)*fH2+(nn3-1)*fH3+nn4*fH4+fI3\n",
    "    rho4=(nn)*fH+(nn2)*fH2+(nn3)*fH3+(nn4-1)+fI4\n",
    "    \n",
    "   \n",
    "    \n",
    "    \n",
    "    dFdrho=deriv(nh,frame,num.array([rho]))\n",
    "    dFdrho2=deriv(nh,frame,num.array([rho2]))\n",
    "    dFdrho3=deriv(nh,frame,num.array([rho3]))\n",
    "    dFdrho4=deriv(nh,frame,num.array([rho4]))\n",
    "    \n",
    "    \n",
    "    \n",
    "    chi1=-(nn*dFdrho*fI+nn2*dFdrho2*fI2+nn3*dFdrho3*fI3+nn4*dFdrho4*fI4)/Ni\n",
    "   \n",
    "    \n",
    "    chi2=0.5*(nn*((phiI*fH)/Ni-(fI*phiH)/Ni)+nn2*((phiI2*fH2)/Ni-(fI2*phiH2)/Ni)+\\\n",
    "              nn3*((phiI3*fH3)/Ni-(fI3*phiH3)/Ni)+nn4*((phiI4*fH4)/Ni-(fI4*phiH4)/Ni))\n",
    "    \n",
    "    chi=chi1+chi2\n",
    "    \n",
    "    return [frame.iloc[ni][\"atom\"],frame.iloc[nh][\"atom\"],chi1[0],chi2,chi[0],frame.iloc[nh][\"rhoe\"],rho]\n",
    "    "
   ]
  },
  {
   "cell_type": "code",
   "execution_count": null,
   "metadata": {},
   "outputs": [],
   "source": []
  },
  {
   "cell_type": "code",
   "execution_count": 14,
   "metadata": {},
   "outputs": [
    {
     "data": {
      "text/plain": [
       "['Pb',\n",
       " 'Ag',\n",
       " -0.017984472924326797,\n",
       " 0.67707370172849213,\n",
       " 0.65908922880416532,\n",
       " 14.604100000000001,\n",
       " 15.100004655189375]"
      ]
     },
     "execution_count": 14,
     "metadata": {},
     "output_type": "execute_result"
    }
   ],
   "source": [
    "ENegative(7,1,Zhou,Zhou1)"
   ]
  },
  {
   "cell_type": "code",
   "execution_count": 15,
   "metadata": {},
   "outputs": [],
   "source": [
    "sample=[[x,y] for x in range(8) for y in range(x+1,7)]\n",
    "sample1=[[x,x] for x in range(7)]"
   ]
  },
  {
   "cell_type": "code",
   "execution_count": 16,
   "metadata": {},
   "outputs": [],
   "source": [
    "def PrintNegativity(paired):\n",
    "    enegativity=[]\n",
    "    samplepair=[paired,paired[::-1]]\n",
    "    if paired==paired[::-1]:\n",
    "        samplepair=[paired]\n",
    "    for pair in samplepair:\n",
    "        enegativity.append(ENegative(pair[0],pair[1],Zhou,Zhou1))\n",
    "    eneg=num.array(enegativity)\n",
    "\n",
    "    Negativity=pan.DataFrame()\n",
    "    Negativity=Negativity.iloc[0:0]\n",
    "\n",
    "    Negativity[\"Host\"]=eneg[:,1]\n",
    "    Negativity[\"Impurity\"]=eneg[:,0]\n",
    "    Negativity[\"chiFunc\"]=eneg[:,2]\n",
    "    Negativity[\"chiPhi\"]=eneg[:,3]\n",
    "    Negativity[\"chi\"]=eneg[:,4]\n",
    "    Negativity[\"rhoeH\"]=eneg[:,5]\n",
    "    Negativity[\"rhoeIH\"]=eneg[:,6]\n",
    "    \n",
    "    print(\"\\n===================================================================\")\n",
    "    print(Negativity)\n",
    "    print(\"===================================================================\\n\")"
   ]
  },
  {
   "cell_type": "code",
   "execution_count": 17,
   "metadata": {},
   "outputs": [
    {
     "name": "stdout",
     "output_type": "stream",
     "text": [
      "\n",
      "===================================================================\n",
      "  Host Impurity             chiFunc chiPhi                 chi      rhoeH  \\\n",
      "0   Cu       Cu  -7.62048469107e-07    0.0  -7.62048469107e-07  21.175871   \n",
      "\n",
      "          rhoeIH  \n",
      "0  21.1757972778  \n",
      "===================================================================\n",
      "\n",
      "\n",
      "===================================================================\n",
      "  Host Impurity             chiFunc chiPhi                 chi    rhoeH  \\\n",
      "0   Ag       Ag  -4.16059431495e-06    0.0  -4.16059431495e-06  14.6041   \n",
      "\n",
      "          rhoeIH  \n",
      "0  14.6040774147  \n",
      "===================================================================\n",
      "\n",
      "\n",
      "===================================================================\n",
      "  Host Impurity             chiFunc chiPhi                 chi      rhoeH  \\\n",
      "0   Au       Au  -8.51746658986e-06    0.0  -8.51746658986e-06  19.991632   \n",
      "\n",
      "          rhoeIH  \n",
      "0  19.9916144798  \n",
      "===================================================================\n",
      "\n",
      "\n",
      "===================================================================\n",
      "  Host Impurity             chiFunc chiPhi                 chi      rhoeH  \\\n",
      "0   Ni       Ni  -5.06351187694e-06    0.0  -5.06351187694e-06  27.562015   \n",
      "\n",
      "          rhoeIH  \n",
      "0  27.5618371278  \n",
      "===================================================================\n",
      "\n",
      "\n",
      "===================================================================\n",
      "  Host Impurity             chiFunc chiPhi                 chi      rhoeH  \\\n",
      "0   Pd       Pd  -1.27519453805e-05    0.0  -1.27519453805e-05  21.335246   \n",
      "\n",
      "          rhoeIH  \n",
      "0  21.3351986086  \n",
      "===================================================================\n",
      "\n",
      "\n",
      "===================================================================\n",
      "  Host Impurity             chiFunc chiPhi                 chi      rhoeH  \\\n",
      "0   Pt       Pt  -5.99693205127e-05    0.0  -5.99693205127e-05  33.367564   \n",
      "\n",
      "          rhoeIH  \n",
      "0  33.3673152895  \n",
      "===================================================================\n",
      "\n",
      "\n",
      "===================================================================\n",
      "  Host Impurity             chiFunc chiPhi                 chi      rhoeH  \\\n",
      "0   Al       Al  -4.44936318598e-05    0.0  -4.44936318598e-05  20.418205   \n",
      "\n",
      "          rhoeIH  \n",
      "0  20.4180383551  \n",
      "===================================================================\n",
      "\n"
     ]
    }
   ],
   "source": [
    "for var in sample1:\n",
    "    PrintNegativity(var)\n"
   ]
  },
  {
   "cell_type": "code",
   "execution_count": 18,
   "metadata": {
    "scrolled": false
   },
   "outputs": [
    {
     "name": "stdout",
     "output_type": "stream",
     "text": [
      "\n",
      "===================================================================\n",
      "  Host Impurity            chiFunc            chiPhi               chi  \\\n",
      "0   Ag       Cu   0.00158689044458  -0.0382919715223  -0.0367050810778   \n",
      "1   Cu       Ag  -0.00195813548216    0.215537396643    0.213579261161   \n",
      "\n",
      "       rhoeH         rhoeIH  \n",
      "0    14.6041  14.3776519475  \n",
      "1  21.175871  21.5682663189  \n",
      "===================================================================\n",
      "\n",
      "\n",
      "===================================================================\n",
      "  Host Impurity            chiFunc            chiPhi               chi  \\\n",
      "0   Au       Cu   0.00550612549664  -0.0867061598468  -0.0812000343502   \n",
      "1   Cu       Au  -0.00618995939182    0.267926406811    0.261736447419   \n",
      "\n",
      "       rhoeH         rhoeIH  \n",
      "0  19.991632  19.3525739652  \n",
      "1  21.175871   22.348211561  \n",
      "===================================================================\n",
      "\n",
      "\n",
      "===================================================================\n",
      "  Host Impurity            chiFunc            chiPhi               chi  \\\n",
      "0   Ni       Cu  0.000351149291843   0.0580414843904   0.0583926336822   \n",
      "1   Cu       Ni   -0.0011291823605  -0.0417217279556  -0.0428509103161   \n",
      "\n",
      "       rhoeH         rhoeIH  \n",
      "0  27.562015  27.2975757569  \n",
      "1  21.175871  21.3993908472  \n",
      "===================================================================\n",
      "\n",
      "\n",
      "===================================================================\n",
      "  Host Impurity            chiFunc            chiPhi               chi  \\\n",
      "0   Pd       Cu    0.0039808229987  -0.0407876700586  -0.0368068470599   \n",
      "1   Cu       Pd  -0.00373500091206    0.129006622677    0.125271621765   \n",
      "\n",
      "       rhoeH         rhoeIH  \n",
      "0  21.335246  20.8570796828  \n",
      "1  21.175871  21.8368625524  \n",
      "===================================================================\n",
      "\n",
      "\n",
      "===================================================================\n",
      "  Host Impurity            chiFunc           chiPhi              chi  \\\n",
      "0   Pt       Cu   0.00852437761354  -0.150920735012  -0.142396357398   \n",
      "1   Cu       Pt  -0.00947742086412   0.323568541917   0.314091121053   \n",
      "\n",
      "       rhoeH         rhoeIH  \n",
      "0  33.367564  32.1089808472  \n",
      "1  21.175871  22.7594694782  \n",
      "===================================================================\n",
      "\n",
      "\n",
      "===================================================================\n",
      "  Host Impurity           chiFunc           chiPhi              chi  \\\n",
      "0   Al       Cu  0.00169127939621  -0.112254991248  -0.110563711851   \n",
      "1   Cu       Al  -0.0106540527769   0.982803871585   0.972149818808   \n",
      "\n",
      "       rhoeH         rhoeIH  \n",
      "0  20.418205  19.9373407292  \n",
      "1  21.175871  21.6710549572  \n",
      "===================================================================\n",
      "\n",
      "\n",
      "===================================================================\n",
      "  Host Impurity            chiFunc            chiPhi               chi  \\\n",
      "0   Au       Ag   0.00438071626731  -0.0410511688977  -0.0366704526303   \n",
      "1   Ag       Au  -0.00438794720143   0.0409679517988   0.0365800045973   \n",
      "\n",
      "       rhoeH         rhoeIH  \n",
      "0  19.991632  19.5815298335  \n",
      "1    14.6041  15.0087379758  \n",
      "===================================================================\n",
      "\n",
      "\n",
      "===================================================================\n",
      "  Host Impurity             chiFunc            chiPhi               chi  \\\n",
      "0   Ni       Ag  -0.000429044493998    0.423032949296    0.422603904802   \n",
      "1   Ag       Ni    0.00112671071919  -0.0475587300844  -0.0464320193652   \n",
      "\n",
      "       rhoeH         rhoeIH  \n",
      "0  27.562015  27.7358735175  \n",
      "1    14.6041  14.4707349306  \n",
      "===================================================================\n",
      "\n",
      "\n",
      "===================================================================\n",
      "  Host Impurity            chiFunc            chiPhi               chi  \\\n",
      "0   Pd       Ag   0.00191866729356   0.0612277600475    0.063146427341   \n",
      "1   Ag       Pd  -0.00157457148096  -0.0334144765709  -0.0349890480518   \n",
      "\n",
      "       rhoeH         rhoeIH  \n",
      "0  21.335246   21.142332488  \n",
      "1    14.6041  14.7558393836  \n",
      "===================================================================\n",
      "\n",
      "\n",
      "===================================================================\n",
      "  Host Impurity           chiFunc            chiPhi               chi  \\\n",
      "0   Pt       Ag  0.00828812290863  -0.0368336378783  -0.0285455149697   \n",
      "1   Ag       Pt  -0.0129317614957   0.0496957861277    0.036764024632   \n",
      "\n",
      "       rhoeH         rhoeIH  \n",
      "0  33.367564   32.384575012  \n",
      "1    14.6041  15.4810895891  \n",
      "===================================================================\n",
      "\n",
      "\n",
      "===================================================================\n",
      "  Host Impurity           chiFunc            chiPhi               chi  \\\n",
      "0   Al       Ag   0.0010350009855  -0.0744199621649  -0.0733849611794   \n",
      "1   Ag       Al  -0.0099295063676    0.262785144067    0.252855637699   \n",
      "\n",
      "       rhoeH         rhoeIH  \n",
      "0  20.418205  20.1743575214  \n",
      "1    14.6041  14.8535851966  \n",
      "===================================================================\n",
      "\n",
      "\n",
      "===================================================================\n",
      "  Host Impurity            chiFunc           chiPhi              chi  \\\n",
      "0   Ni       Au  -0.00259184842312   0.493382070079   0.490790221656   \n",
      "1   Au       Ni   0.00568418847763  -0.107278768401  -0.101594579923   \n",
      "\n",
      "       rhoeH         rhoeIH  \n",
      "0  27.562015  28.6250737716  \n",
      "1  19.991632  19.4474058982  \n",
      "===================================================================\n",
      "\n",
      "\n",
      "===================================================================\n",
      "  Host Impurity            chiFunc            chiPhi               chi  \\\n",
      "0   Pd       Au  -0.00463943541033    0.123679530261    0.119040094851   \n",
      "1   Au       Pd   0.00340321065119  -0.0985262798734  -0.0951230692222   \n",
      "\n",
      "       rhoeH         rhoeIH  \n",
      "0  21.335246  21.6757268715  \n",
      "1  19.991632  19.7350520639  \n",
      "===================================================================\n",
      "\n",
      "\n",
      "===================================================================\n",
      "  Host Impurity            chiFunc            chiPhi               chi  \\\n",
      "0   Pt       Au   0.00543898988382    0.014943805976   0.0203827958599   \n",
      "1   Au       Pt  -0.00989939149717  -0.0141576682501  -0.0240570597473   \n",
      "\n",
      "       rhoeH         rhoeIH  \n",
      "0  33.367564  32.8964758314  \n",
      "1  19.991632  20.4643069695  \n",
      "===================================================================\n",
      "\n",
      "\n",
      "===================================================================\n",
      "  Host Impurity            chiFunc            chiPhi               chi  \\\n",
      "0   Al       Au  -0.00085122763483  -0.0506254944676  -0.0514767221025   \n",
      "1   Au       Al   0.00668642812842    0.173857561032     0.18054398916   \n",
      "\n",
      "       rhoeH         rhoeIH  \n",
      "0  20.418205  20.6017932674  \n",
      "1  19.991632  19.8297008147  \n",
      "===================================================================\n",
      "\n",
      "\n",
      "===================================================================\n",
      "  Host Impurity            chiFunc            chiPhi               chi  \\\n",
      "0   Pd       Ni   0.00348883949676  -0.0639224861611  -0.0604336466643   \n",
      "1   Ni       Pd  -0.00106759315664    0.303525310253    0.302457717097   \n",
      "\n",
      "       rhoeH         rhoeIH  \n",
      "0  21.335246   20.992957101  \n",
      "1  27.562015  28.0371025602  \n",
      "===================================================================\n",
      "\n",
      "\n",
      "===================================================================\n",
      "  Host Impurity            chiFunc           chiPhi              chi  \\\n",
      "0   Pt       Ni      0.00938143067  -0.202087183665  -0.192705752995   \n",
      "1   Ni       Pt  -0.00451809489473   0.579218444114   0.574700349219   \n",
      "\n",
      "       rhoeH         rhoeIH  \n",
      "0  33.367564  32.2375419156  \n",
      "1  27.562015  28.9959720751  \n",
      "===================================================================\n",
      "\n",
      "\n",
      "===================================================================\n",
      "  Host Impurity            chiFunc           chiPhi              chi  \\\n",
      "0   Al       Ni   0.00159657378018  -0.139627356397  -0.138030782617   \n",
      "1   Ni       Al  -0.00322535667765    1.61772483568      1.614499479   \n",
      "\n",
      "       rhoeH         rhoeIH  \n",
      "0  20.418205  20.0378023879  \n",
      "1  27.562015  27.7820062029  \n",
      "===================================================================\n",
      "\n",
      "\n",
      "===================================================================\n",
      "  Host Impurity           chiFunc           chiPhi              chi  \\\n",
      "0   Pt       Pd  0.00839983565822  -0.150671938124  -0.142272102466   \n",
      "1   Pd       Pt   -0.014970411077   0.156874183523   0.141903772446   \n",
      "\n",
      "       rhoeH         rhoeIH  \n",
      "0  33.367564  32.5706678678  \n",
      "1  21.335246  22.1444091162  \n",
      "===================================================================\n",
      "\n"
     ]
    },
    {
     "name": "stdout",
     "output_type": "stream",
     "text": [
      "\n",
      "===================================================================\n",
      "  Host Impurity            chiFunc           chiPhi              chi  \\\n",
      "0   Al       Pd  0.000462436165713  -0.139408673048  -0.138946236883   \n",
      "1   Pd       Al  -0.00266773277491   0.598151485394   0.595483752619   \n",
      "\n",
      "       rhoeH         rhoeIH  \n",
      "0  20.418205  20.3334922576  \n",
      "1  21.335246   21.352451957  \n",
      "===================================================================\n",
      "\n",
      "\n",
      "===================================================================\n",
      "  Host Impurity            chiFunc            chiPhi               chi  \\\n",
      "0   Al       Pt  -0.00397013183721  -0.0861806345961  -0.0901507664333   \n",
      "1   Pt       Al    0.0266260866113    0.357428747985    0.384054834596   \n",
      "\n",
      "       rhoeH         rhoeIH  \n",
      "0  20.418205  21.0752510542  \n",
      "1  33.367564  32.6022673281  \n",
      "===================================================================\n",
      "\n"
     ]
    }
   ],
   "source": [
    "for var in sample:\n",
    "    PrintNegativity(var)"
   ]
  },
  {
   "cell_type": "code",
   "execution_count": 11,
   "metadata": {},
   "outputs": [],
   "source": [
    "n=10\n",
    "x=num.arange(-1*n,1*n)\n",
    "points=[[n1,n2,n3] for n1 in x for n2 in x for n3 in x]"
   ]
  },
  {
   "cell_type": "code",
   "execution_count": 12,
   "metadata": {},
   "outputs": [
    {
     "data": {
      "text/plain": [
       "array([[-10, -10, -10],\n",
       "       [-10, -10,  -9],\n",
       "       [-10, -10,  -8],\n",
       "       ..., \n",
       "       [  9,   9,   7],\n",
       "       [  9,   9,   8],\n",
       "       [  9,   9,   9]])"
      ]
     },
     "execution_count": 12,
     "metadata": {},
     "output_type": "execute_result"
    }
   ],
   "source": [
    "points=num.array(points)\n",
    "points"
   ]
  },
  {
   "cell_type": "code",
   "execution_count": 13,
   "metadata": {},
   "outputs": [],
   "source": [
    "distanceAllCrystal=dict()\n",
    "distanceAllCrystal[\"FCC\"]=num.sqrt((points[:,0]+points[:,1])**2+\\\n",
    "                                   (points[:,1]+points[:,2])**2+(points[:,2]+points[:,0])**2)\n",
    "\n",
    "\n",
    "\n",
    "distanceAllCrystal[\"BCC\"]=num.sqrt((points[:,0]+points[:,1]-points[:,2])**2+(points[:,1]+points[:,2]-\\\n",
    "                                    points[:,0])**2+(points[:,2]+points[:,0]-points[:,1])**2)"
   ]
  },
  {
   "cell_type": "code",
   "execution_count": 58,
   "metadata": {},
   "outputs": [],
   "source": [
    "name=\"BCC\"\n",
    "distanceAll=distanceAllCrystal[name]\n",
    "\n",
    "nnDistance=set(distanceAll)\n",
    "nnDistanceSort=num.sort(list(nnDistance))"
   ]
  },
  {
   "cell_type": "code",
   "execution_count": 59,
   "metadata": {},
   "outputs": [],
   "source": [
    "nnNumber=[]\n",
    "for var in nnDistanceSort:\n",
    "    nnNumber.append(distanceAll[distanceAll==var].size)"
   ]
  },
  {
   "cell_type": "code",
   "execution_count": 60,
   "metadata": {},
   "outputs": [
    {
     "data": {
      "text/plain": [
       "(0, 123)"
      ]
     },
     "execution_count": 60,
     "metadata": {},
     "output_type": "execute_result"
    },
    {
     "data": {
      "image/png": "[encoded data removed]",
      "text/plain": [
       "<matplotlib.figure.Figure at 0x7f3afbe66080>"
      ]
     },
     "metadata": {},
     "output_type": "display_data"
    }
   ],
   "source": [
    "lab.plot(nnNumber[:47],'o')\n",
    "#lab.xlim([0,10])\n",
    "lab.ylim([0,123])"
   ]
  },
  {
   "cell_type": "code",
   "execution_count": 61,
   "metadata": {},
   "outputs": [
    {
     "data": {
      "text/plain": [
       "10"
      ]
     },
     "execution_count": 61,
     "metadata": {},
     "output_type": "execute_result"
    }
   ],
   "source": [
    "sum(nnDistanceSort<n/2)"
   ]
  },
  {
   "cell_type": "code",
   "execution_count": 62,
   "metadata": {},
   "outputs": [
    {
     "data": {
      "text/plain": [
       "137"
      ]
     },
     "execution_count": 62,
     "metadata": {},
     "output_type": "execute_result"
    }
   ],
   "source": [
    "sum(nnNumber[:sum(nnDistanceSort<n/2)])"
   ]
  },
  {
   "cell_type": "code",
   "execution_count": 63,
   "metadata": {},
   "outputs": [
    {
     "data": {
      "text/plain": [
       "array([ 0.        ,  0.8660254 ,  1.        ,  1.41421356,  1.6583124 ,\n",
       "        1.73205081,  2.        ])"
      ]
     },
     "execution_count": 63,
     "metadata": {},
     "output_type": "execute_result"
    }
   ],
   "source": [
    "nNum,ndist=nnNumber[:8],nnDistanceSort[:7]/2\n",
    "ndist"
   ]
  },
  {
   "cell_type": "code",
   "execution_count": 65,
   "metadata": {},
   "outputs": [
    {
     "data": {
      "text/plain": [
       "array([ 0.        ,  1.        ,  1.15470054,  1.63299316,  1.91485422,\n",
       "        2.        ,  2.30940108])"
      ]
     },
     "execution_count": 65,
     "metadata": {},
     "output_type": "execute_result"
    }
   ],
   "source": [
    "ndist/ndist[1]"
   ]
  },
  {
   "cell_type": "code",
   "execution_count": 59,
   "metadata": {},
   "outputs": [
    {
     "data": {
      "text/plain": [
       "True"
      ]
     },
     "execution_count": 59,
     "metadata": {},
     "output_type": "execute_result"
    }
   ],
   "source": [
    "[1,2]==[1,2]"
   ]
  },
  {
   "cell_type": "code",
   "execution_count": 60,
   "metadata": {},
   "outputs": [
    {
     "data": {
      "text/plain": [
       "3.3166247903553998"
      ]
     },
     "execution_count": 60,
     "metadata": {},
     "output_type": "execute_result"
    }
   ],
   "source": [
    "num.sqrt(11)"
   ]
  },
  {
   "cell_type": "code",
   "execution_count": 873,
   "metadata": {},
   "outputs": [
    {
     "data": {
      "text/plain": [
       "array([ 0.        ,  2.771916  ,  3.9200812 ,  4.80109935,  5.543832  ,\n",
       "        6.1981926 ,  6.78977981,  7.33380039,  7.8401624 ,  8.315748  ])"
      ]
     },
     "execution_count": 873,
     "metadata": {},
     "output_type": "execute_result"
    }
   ],
   "source": [
    "d=3.92008119992*nnDistanceSort[:10]/2\n",
    "d"
   ]
  },
  {
   "cell_type": "code",
   "execution_count": 874,
   "metadata": {},
   "outputs": [
    {
     "data": {
      "text/plain": [
       "[1, 12, 6, 24, 12, 24, 8, 48, 6, 36]"
      ]
     },
     "execution_count": 874,
     "metadata": {},
     "output_type": "execute_result"
    }
   ],
   "source": [
    "n=nnNumber[:10]\n",
    "n"
   ]
  },
  {
   "cell_type": "code",
   "execution_count": 890,
   "metadata": {},
   "outputs": [
    {
     "name": "stdout",
     "output_type": "stream",
     "text": [
      "2.33650900235\n",
      "0.486140752402\n",
      "0.100097999862\n",
      "0.000834227419526\n",
      "1.03251286295e-05\n",
      "3.0337273981e-07\n",
      "1.58028023034e-08\n",
      "1.23214211476e-09\n",
      "1.2963486363e-10\n"
     ]
    }
   ],
   "source": [
    "den=[]\n",
    "dentemp=0\n",
    "for var in range(1,10):\n",
    "    denShell=n[var]*fEle_(d[var],5,Zhou)+dentemp\n",
    "    print(fEle_(d[var],5,Zhou))\n",
    "   \n",
    "    den.append(denShell)\n",
    "    dentemp=denShell"
   ]
  },
  {
   "cell_type": "code",
   "execution_count": 891,
   "metadata": {},
   "outputs": [
    {
     "data": {
      "text/plain": [
       "[28.038108028157922,\n",
       " 30.954952542569544,\n",
       " 33.357304539254095,\n",
       " 33.367315268288401,\n",
       " 33.367563071375507,\n",
       " 33.367565498357422,\n",
       " 33.367566256891934,\n",
       " 33.36756626428479,\n",
       " 33.367566268951641]"
      ]
     },
     "execution_count": 891,
     "metadata": {},
     "output_type": "execute_result"
    }
   ],
   "source": [
    "den"
   ]
  },
  {
   "cell_type": "code",
   "execution_count": 767,
   "metadata": {},
   "outputs": [
    {
     "data": {
      "text/plain": [
       "[<matplotlib.lines.Line2D at 0x7fc199fc0eb8>]"
      ]
     },
     "execution_count": 767,
     "metadata": {},
     "output_type": "execute_result"
    },
    {
     "data": {
      "image/png": "[encoded data removed]",
      "text/plain": [
       "<matplotlib.figure.Figure at 0x7fc19a3977f0>"
      ]
     },
     "metadata": {},
     "output_type": "display_data"
    }
   ],
   "source": [
    "lab.plot(den,'o')"
   ]
  },
  {
   "cell_type": "code",
   "execution_count": 20,
   "metadata": {},
   "outputs": [
    {
     "data": {
      "text/plain": [
       "0.70710678118654746"
      ]
     },
     "execution_count": 20,
     "metadata": {},
     "output_type": "execute_result"
    }
   ],
   "source": [
    "1/num.sqrt(2)"
   ]
  },
  {
   "cell_type": "code",
   "execution_count": 21,
   "metadata": {},
   "outputs": [],
   "source": [
    "cutoff=lambda r,k:1/(1+((r)-k)**20)"
   ]
  },
  {
   "cell_type": "code",
   "execution_count": 67,
   "metadata": {
    "scrolled": false
   },
   "outputs": [
    {
     "data": {
      "image/png": "[encoded data removed]",
      "text/plain": [
       "<matplotlib.figure.Figure at 0x7f3afc35d6a0>"
      ]
     },
     "metadata": {},
     "output_type": "display_data"
    }
   ],
   "source": [
    "#FCC 1-8\n",
    "#BCC 8-11\n",
    "#HCP 11-16\n",
    "tic=list(num.arange(1.5,2.7,.1))\n",
    "for var in range(1,16):\n",
    "    r=num.linspace(1.5,3.5,1000)\n",
    "    lab.title(Zhou.iloc[var][\"atom\"])\n",
    "    k=Zhou.iloc[var][\"lam\"]\n",
    "    lab.plot(r,cutoff(r,k))\n",
    "    lab.ylim([-1e-5,1e-4])\n",
    "    lab.xticks(tic)\n",
    "    #lab.show()"
   ]
  },
  {
   "cell_type": "code",
   "execution_count": 14,
   "metadata": {},
   "outputs": [],
   "source": [
    "#Heat of solution test\n",
    "x=num.arange(0,1.1,.1)\n",
    "h=[3900,3179,2541,1965,1508,1126,818,549,293,88,0]"
   ]
  },
  {
   "cell_type": "code",
   "execution_count": 69,
   "metadata": {},
   "outputs": [
    {
     "data": {
      "text/plain": [
       "[<matplotlib.lines.Line2D at 0x7f1ae8aca080>]"
      ]
     },
     "execution_count": 69,
     "metadata": {},
     "output_type": "execute_result"
    },
    {
     "data": {
      "image/png": "[encoded data removed]",
      "text/plain": [
       "<matplotlib.figure.Figure at 0x7f1ae8a41860>"
      ]
     },
     "metadata": {},
     "output_type": "display_data"
    }
   ],
   "source": [
    "lab.plot(x,h,'o-')"
   ]
  },
  {
   "cell_type": "code",
   "execution_count": 408,
   "metadata": {},
   "outputs": [
    {
     "name": "stdout",
     "output_type": "stream",
     "text": [
      "[-1  0  1]\n",
      "[-2 -1  0  1  2]\n",
      "[[-1 -2 -1]\n",
      " [-1 -2  0]\n",
      " [-1 -2  1]\n",
      " [-1 -1 -1]\n",
      " [-1 -1  0]\n",
      " [-1 -1  1]\n",
      " [-1  0 -1]\n",
      " [-1  0  0]\n",
      " [-1  0  1]\n",
      " [-1  1 -1]\n",
      " [-1  1  0]\n",
      " [-1  1  1]\n",
      " [-1  2 -1]\n",
      " [-1  2  0]\n",
      " [-1  2  1]\n",
      " [ 0 -2 -1]\n",
      " [ 0 -2  0]\n",
      " [ 0 -2  1]\n",
      " [ 0 -1 -1]\n",
      " [ 0 -1  0]\n",
      " [ 0 -1  1]\n",
      " [ 0  0 -1]\n",
      " [ 0  0  0]\n",
      " [ 0  0  1]\n",
      " [ 0  1 -1]\n",
      " [ 0  1  0]\n",
      " [ 0  1  1]\n",
      " [ 0  2 -1]\n",
      " [ 0  2  0]\n",
      " [ 0  2  1]\n",
      " [ 1 -2 -1]\n",
      " [ 1 -2  0]\n",
      " [ 1 -2  1]\n",
      " [ 1 -1 -1]\n",
      " [ 1 -1  0]\n",
      " [ 1 -1  1]\n",
      " [ 1  0 -1]\n",
      " [ 1  0  0]\n",
      " [ 1  0  1]\n",
      " [ 1  1 -1]\n",
      " [ 1  1  0]\n",
      " [ 1  1  1]\n",
      " [ 1  2 -1]\n",
      " [ 1  2  0]\n",
      " [ 1  2  1]]\n"
     ]
    },
    {
     "data": {
      "text/plain": [
       "array([ 2.44948974,  2.23606798,  2.44948974,  1.73205081,  1.41421356,\n",
       "        1.73205081,  1.41421356,  1.        ,  1.41421356,  1.73205081,\n",
       "        1.41421356,  1.73205081,  2.44948974,  2.23606798,  2.44948974,\n",
       "        2.23606798,  2.        ,  2.23606798,  1.41421356,  1.        ,\n",
       "        1.41421356,  1.        ,  0.        ,  1.        ,  1.41421356,\n",
       "        1.        ,  1.41421356,  2.23606798,  2.        ,  2.23606798,\n",
       "        2.44948974,  2.23606798,  2.44948974,  1.73205081,  1.41421356,\n",
       "        1.73205081,  1.41421356,  1.        ,  1.41421356,  1.73205081,\n",
       "        1.41421356,  1.73205081,  2.44948974,  2.23606798,  2.44948974])"
      ]
     },
     "execution_count": 408,
     "metadata": {},
     "output_type": "execute_result"
    }
   ],
   "source": [
    "a=1\n",
    "c=2\n",
    "x=num.arange(-1,2,1)\n",
    "z=x\n",
    "print(x)\n",
    "y=num.arange(-2,3,1)\n",
    "print(y)\n",
    "pos=num.array([[x1,y1,z1] for x1 in x for y1 in y for z1 in z])\n",
    "print(pos)\n",
    "num.sqrt(a*pos[:,0]**2+(pos[:,2]*c/2)**2+a*pos[:,1]**2)\n"
   ]
  },
  {
   "cell_type": "code",
   "execution_count": 19,
   "metadata": {},
   "outputs": [],
   "source": [
    "import numpy as num\n",
    "import scipy as sci\n",
    "import pandas as pan\n",
    "import pylab as lab\n",
    "from itertools import product\n",
    "import pandas as pan\n",
    "%matplotlib inline\n",
    "\n",
    "def FCC(a,b,c,T):\n",
    "    T=num.array(T)\n",
    "    first=num.array([0,0,0])\n",
    "    second=num.array([a/2.,b/2.,0])\n",
    "    third=num.array([0,b/2.,c/2.])\n",
    "    fourth=num.array([a/2.,0,c/2.])\n",
    "    coordinates=num.array([first+a*T,second+a*T,third+a*T,fourth+a*T])\n",
    "    return(coordinates)\n",
    "    \n",
    "    \n",
    "    \n",
    "    \n",
    "#------------------------------------------------------------------------------------------------------------------------\n",
    "\n",
    "\n",
    "\n",
    "def Lattice(a,b,c,dim):\n",
    "    LatticeCoordinates=[]\n",
    "    size=range(-dim,dim+1)\n",
    "    transVectors=list(product(size,size,size))\n",
    "    for var in transVectors:\n",
    "        LatticeCoordinates.append(FCC(a,b,c,var))\n",
    "        \n",
    "    LatticeCoordinates=num.array(LatticeCoordinates)\n",
    "    shape=LatticeCoordinates.shape\n",
    "    \n",
    "    return LatticeCoordinates.reshape(shape[0]*shape[1],shape[2])\n",
    " \n",
    "    \n",
    "#-------------------------------------------------------------------------------------------------------------------------  \n",
    " \n",
    "def L10(a,b,c,dim):\n",
    "    #s=2*(dim+1)\n",
    "    #coordinates=num.ones(s**3).reshape(s**3//3,3)\n",
    "    coordinates=[]\n",
    "    var=Lattice(a,b,c,dim)\n",
    "    countA=var.shape[0]/4\n",
    "    countB=countA\n",
    "    \n",
    "    \n",
    "    count=0\n",
    "    count2=countA\n",
    "    for j in range(int(countA)):\n",
    "        apos=4*j\n",
    "        coordinates.append([var[apos][0],var[apos][1],var[apos][2],0])\n",
    "        count=count+1\n",
    "        coordinates.append([var[apos+2][0],var[apos+2][1],var[apos+2][2],0])\n",
    "        count=count+1\n",
    "        \n",
    "    for j in range(int(countA)):\n",
    "        apos=4*j\n",
    "        coordinates.append([var[apos+1][0],var[apos+1][1],var[apos+1][2],1])\n",
    "        count=count+1\n",
    "        coordinates.append([var[apos+3][0],var[apos+3][1],var[apos+3][2],1])\n",
    "        \n",
    "        count=count+1\n",
    "    \n",
    "    return num.array(coordinates)\n",
    "\n",
    "def JohnsonMix(r,a,b,frame):\n",
    "    fa=fEle_(r,a,frame)\n",
    "    fb=fEle_(r,b,frame)\n",
    "    phia=phiT_(r,a,frame)\n",
    "    phib=phiT_(r,b,frame)\n",
    "    pot=(1/2)*((fb/fa)*phia+(fa/fb)*phib)\n",
    "    return pot\n",
    "\n",
    "\n",
    "\n",
    "def energy(a,c,size,m,n,frame):\n",
    "    #M at origin\n",
    "    pos=L10(a,a,c,size)\n",
    "    posM=pos[:,3]==0\n",
    "    posN=pos[:,3]==1\n",
    "    dist=num.sqrt((pos[:,0])**2+(pos[:,1])**2+(pos[:,2])**2)\n",
    "    \n",
    "    denFromM=fEle_(dist[posM],m,frame)\n",
    "    denFromN=fEle_(dist[posN],n,frame)\n",
    "    \n",
    "    totalDensity=num.sum(denFromM)+num.sum(denFromN)-fEle_(0,m,frame)\n",
    "    \n",
    "    pairWithM=JohnsonMix(dist[posM],m,n,Zhou)\n",
    "    pairWithN=JohnsonMix(dist[posN],m,n,Zhou)\n",
    "    \n",
    "    totalPotential=num.sum(pairWithM)+num.sum(pairWithN)-JohnsonMix(0,m,m,Zhou)\n",
    "    E=F_([totalDensity],m,frame)[0]#+totalPotential/2\n",
    "    return E"
   ]
  },
  {
   "cell_type": "code",
   "execution_count": 20,
   "metadata": {},
   "outputs": [
    {
     "data": {
      "text/plain": [
       "[<matplotlib.lines.Line2D at 0x7f493100bfd0>]"
      ]
     },
     "execution_count": 20,
     "metadata": {},
     "output_type": "execute_result"
    },
    {
     "data": {
      "image/png": "[encoded data removed]",
      "text/plain": [
       "<matplotlib.figure.Figure at 0x7f493afc6d68>"
      ]
     },
     "metadata": {},
     "output_type": "display_data"
    }
   ],
   "source": [
    "r=num.linspace(0,2,40)\n",
    "lab.plot(r,JohnsonMix(r,5,5,Zhou),'.')\n",
    "lab.plot(r,phiT_(r,5,Zhou))\n",
    "#lab.plot(r,fEle_(r,5,Zhou))"
   ]
  },
  {
   "cell_type": "code",
   "execution_count": 568,
   "metadata": {},
   "outputs": [
    {
     "data": {
      "text/plain": [
       "-1.1370060627649972"
      ]
     },
     "execution_count": 568,
     "metadata": {},
     "output_type": "execute_result"
    }
   ],
   "source": [
    "\n",
    "energy(3,3,1,0,0,Zhou)\n"
   ]
  },
  {
   "cell_type": "code",
   "execution_count": 533,
   "metadata": {},
   "outputs": [
    {
     "data": {
      "text/plain": [
       "[<matplotlib.lines.Line2D at 0x7fbd80420e10>]"
      ]
     },
     "execution_count": 533,
     "metadata": {},
     "output_type": "execute_result"
    },
    {
     "data": {
      "image/png": "[encoded data removed]",
      "text/plain": [
       "<matplotlib.figure.Figure at 0x7fbd7b8a4ef0>"
      ]
     },
     "metadata": {},
     "output_type": "display_data"
    }
   ],
   "source": [
    "lab.plot(num.sort(d),'+')"
   ]
  },
  {
   "cell_type": "code",
   "execution_count": null,
   "metadata": {},
   "outputs": [],
   "source": []
  },
  {
   "cell_type": "code",
   "execution_count": 21,
   "metadata": {},
   "outputs": [],
   "source": [
    "a=num.linspace(3,4.6,100)\n",
    "b=a\n",
    "lat=num.array([[aa,bb] for aa in a for bb in b])\n",
    "ene=[]\n",
    "for var in lat:\n",
    "    ene.append((energy(var[0],var[1],1,3,12,Zhou)+energy(var[0],var[1],1,12,3,Zhou))/2)\n",
    "ene=num.array(ene)"
   ]
  },
  {
   "cell_type": "code",
   "execution_count": 22,
   "metadata": {},
   "outputs": [
    {
     "data": {
      "text/html": [
       "<iframe id=\"igraph\" scrolling=\"no\" style=\"border:none;\" seamless=\"seamless\" src=\"https://plot.ly/~nanukanchisanu/30.embed\" height=\"525px\" width=\"100%\"></iframe>"
      ],
      "text/plain": [
       "<plotly.tools.PlotlyDisplay object>"
      ]
     },
     "execution_count": 22,
     "metadata": {},
     "output_type": "execute_result"
    }
   ],
   "source": [
    "import plotly.plotly as py\n",
    "import plotly.graph_objs as go\n",
    "\n",
    "import numpy as np\n",
    "#data1=num.loadtxt(\"../L10/PtFeL10/PtFeCoarseRc8MinCG.landscape\")\n",
    "x = lat[:,0]\n",
    "y= lat[:,1]\n",
    "z=ene\n",
    "trace1 = go.Scatter3d(\n",
    "    x=x,\n",
    "    y=y,\n",
    "    z=-z,\n",
    "    mode='markers',\n",
    "    marker=dict(\n",
    "        size=5,\n",
    "        color=z,                # set color to an array/list of desired values\n",
    "        colorscale='Jet',   # choose a colorscale\n",
    "        opacity=5\n",
    "    )\n",
    ")\n",
    "\n",
    "data = [trace1]\n",
    "layout = go.Layout(\n",
    "    margin=dict(\n",
    "        l=0,\n",
    "        r=0,\n",
    "        b=0,\n",
    "        t=0\n",
    "    )\n",
    ")\n",
    "fig = go.Figure(data=data, layout=layout)\n",
    "py.iplot(fig, filename='3d-scatter-colorscale')"
   ]
  },
  {
   "cell_type": "code",
   "execution_count": 576,
   "metadata": {},
   "outputs": [
    {
     "data": {
      "text/plain": [
       "[<matplotlib.lines.Line2D at 0x7fbd8043ce80>]"
      ]
     },
     "execution_count": 576,
     "metadata": {},
     "output_type": "execute_result"
    },
    {
     "data": {
      "image/png": "[encoded data removed]",
      "text/plain": [
       "<matplotlib.figure.Figure at 0x7fbd7bb23ac8>"
      ]
     },
     "metadata": {},
     "output_type": "display_data"
    }
   ],
   "source": [
    "lab.plot(a,ene,'o')"
   ]
  },
  {
   "cell_type": "code",
   "execution_count": 4,
   "metadata": {},
   "outputs": [],
   "source": [
    "from numpy import array\n",
    "o = array([0.0, 0.0, -0.06556])\n",
    "h1 = array([0.0, 0.75695, 0.52032])\n",
    "h2 = array([0.0, -0.75695, 0.52032])\n",
    "def dipole(qo1, qh1, qh2):\n",
    "    return qo1 * o + qh1 * h1 + qh2 * h2"
   ]
  },
  {
   "cell_type": "code",
   "execution_count": 10,
   "metadata": {},
   "outputs": [
    {
     "data": {
      "text/plain": [
       "array([ 0.        , -0.00804623,  0.70156159])"
      ]
     },
     "execution_count": 10,
     "metadata": {},
     "output_type": "execute_result"
    }
   ],
   "source": [
    "dipole(-1.197450e+00, 5.934097e-01, 6.040395e-01)"
   ]
  },
  {
   "cell_type": "code",
   "execution_count": 8,
   "metadata": {},
   "outputs": [
    {
     "data": {
      "text/plain": [
       "array([0.        , 0.00069866, 0.66340586])"
      ]
     },
     "execution_count": 8,
     "metadata": {},
     "output_type": "execute_result"
    }
   ],
   "source": [
    "dipole(-1.13233, 5.66623e-1, 5.6570e-1)"
   ]
  },
  {
   "cell_type": "code",
   "execution_count": 9,
   "metadata": {},
   "outputs": [
    {
     "data": {
      "text/plain": [
       "0.5454578"
      ]
     },
     "execution_count": 9,
     "metadata": {},
     "output_type": "execute_result"
    }
   ],
   "source": [
    "2.62 * 0.20819"
   ]
  },
  {
   "cell_type": "code",
   "execution_count": null,
   "metadata": {},
   "outputs": [],
   "source": []
  }
 ],
 "metadata": {
  "anaconda-cloud": {},
  "kernelspec": {
   "display_name": "Python 3",
   "language": "python",
   "name": "python3"
  },
  "language_info": {
   "codemirror_mode": {
    "name": "ipython",
    "version": 3
   },
   "file_extension": ".py",
   "mimetype": "text/x-python",
   "name": "python",
   "nbconvert_exporter": "python",
   "pygments_lexer": "ipython3",
   "version": "3.6.8"
  }
 },
 "nbformat": 4,
 "nbformat_minor": 2
}
