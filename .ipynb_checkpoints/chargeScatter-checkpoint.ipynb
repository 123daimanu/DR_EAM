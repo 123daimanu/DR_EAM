{
 "cells": [
  {
   "cell_type": "code",
   "execution_count": 25,
   "metadata": {},
   "outputs": [
    {
     "name": "stdout",
     "output_type": "stream",
     "text": [
      "686\n",
      "[0, 98, 196, 294, 392, 490, 588]\n"
     ]
    }
   ],
   "source": [
    "import numpy as num\n",
    "import matplotlib.pyplot as plt\n",
    "\n",
    "\n",
    "fileOmd=open(\"Pt111DiffusionUnchargedThermalizedN.dump\")\n",
    "linesOmd=fileOmd.readlines()\n",
    "process=\"Wait\"\n",
    "posz=[]\n",
    "for line in linesOmd:\n",
    "    linesSplit=str.split(line)\n",
    "    length=len(linesSplit)\n",
    "    \n",
    "    if(length!=0 and linesSplit[0]==\"<StuntDoubles>\" and process==\"Wait\"):\n",
    "        process=\"Start\"\n",
    "        continue;\n",
    "    elif(length!=0 and linesSplit[0]==\"</StuntDoubles>\" and process==\"Start\"):\n",
    "        break;\n",
    "    else:\n",
    "        process=process;\n",
    "        \n",
    "        \n",
    "    if (process==\"Start\"):\n",
    "        posz.append(float(linesSplit[4]))\n",
    "        \n",
    "posz.pop()\n",
    "lengthPosz=len(posz)\n",
    "print lengthPosz\n",
    "sortPos=num.argsort(posz)\n",
    "\n",
    "\n",
    "arrSortPos=num.array(sortPos)\n",
    "\n",
    "\n",
    "\n",
    "\n",
    "indexPoszSort=[]\n",
    "indexPoszSort.append(0)\n",
    "init=posz[sortPos[0]]\n",
    "for i in range(0,lengthPosz):\n",
    "    if(posz[sortPos[i]]!=init):\n",
    "        indexPoszSort.append(i)\n",
    "    init=posz[sortPos[i]]\n",
    "\n",
    "print indexPoszSort\n",
    "\n",
    "filexyz=open(\"Pt_test_7_layers_newc.xyz\")\n",
    "linesXYZ=filexyz.readlines()\n",
    "atomNumber=lengthPosz;\n",
    "layerCrystal=len(indexPoszSort)+1\n",
    "numFrames=100\n",
    "x=num.zeros((101,atomNumber))\n",
    "y=num.zeros((101,atomNumber))\n",
    "c=num.zeros((101,atomNumber))\n",
    "\n",
    "count=0\n",
    "\n",
    "\n",
    "for line in linesXYZ:\n",
    "    lineApp=str.split(line);\n",
    "    \n",
    "    if(lineApp[0]==\"Na+\"):\n",
    "        count=count+1\n",
    "        index=0\n",
    "        continue\n",
    "    else:\n",
    "        x[count][index]=float(lineApp[1])\n",
    "        y[count][index]=float(lineApp[2])\n",
    "        c[count][index]=float(lineApp[4])\n",
    "        index=index+1\n",
    "        \n",
    "indexPoszSort.append(atomNumber)\n",
    "#scatter plot of top layer\n",
    "frameNo=100\n",
    "zLayer=1\n",
    "\n",
    "layer=range(indexPoszSort[zLayer-1],indexPoszSort[zLayer])\n",
    "\n",
    "\n",
    "position=arrSortPos[layer]\n",
    "\n",
    "charge=c[frameNo,position]\n",
    "sign=[];\n",
    "for var in charge:\n",
    "    if (var<0):\n",
    "        sign.append(\"blue\");\n",
    "    elif(var>0):\n",
    "        sign.append(\"red\");\n",
    "    else:\n",
    "        sign.append(\"white\")\n",
    "chargeCol=charge-min(charge)\n",
    "xx= x[frameNo,position]\n",
    "yy= y[frameNo,position]\n",
    "#print xx\n",
    "#print yy\n",
    "plt.show()\n",
    "#print num.shape(xx)\n",
    "plt.figure(1)\n",
    "scaled_c = (charge - charge.min()) / charge.ptp()\n",
    "colors = plt.cm.coolwarm(scaled_c)\n",
    "\n",
    "\n",
    "plt.scatter(xx, yy, c=colors, s=50, cmap='jet',edgecolor=sign,linewidth=1)\n",
    "plt.grid()\n",
    "\n",
    "plt.savefig(\"1.jpeg\")\n",
    "plt.show()\n",
    "\n",
    "#plt.scatter(xx, yy, c=chargeCol, s=500, cmap='jet')\n",
    "#plt.show()"
   ]
  },
  {
   "cell_type": "code",
   "execution_count": 24,
   "metadata": {},
   "outputs": [
    {
     "name": "stdout",
     "output_type": "stream",
     "text": [
      "[46.70410562, 34.55505213, 40.62957888, 40.62957888, 38.60473663, 38.60473663, 44.67926337, 44.67926337, 42.65442112, 42.65442112, 46.70410562, 34.55505213, 36.57989438, 36.57989438, 34.55505213, 34.55505213, 40.62957888, 40.62957888, 38.60473663, 38.60473663, 44.67926337, 44.67926337, 38.60473663, 42.65442112, 42.65442112, 46.70410562, 46.70410562, 36.57989438, 36.57989438, 34.55505213, 34.55505213, 40.62957888, 40.62957888, 42.65442112, 38.60473663, 44.67926337, 44.67926337, 42.65442112, 42.65442112, 46.70410562, 46.70410562, 36.57989438, 36.57989438, 36.57989438, 40.62957888, 40.62957888, 38.60473663, 38.60473663, 44.67926337, 44.67926337, 42.65442112, 42.65442112, 46.70410562, 46.70410562, 34.55505213, 36.57989438, 34.55505213, 34.55505213, 40.62957888, 40.62957888, 38.60473663, 38.60473663, 44.67926337, 44.67926337, 42.65442112, 38.60473663, 42.65442112, 46.70410562, 46.70410562, 36.57989438, 36.57989438, 34.55505213, 34.55505213, 40.62957888, 40.62957888, 38.60473663, 44.67926337, 44.67926337, 44.67926337, 42.65442112, 42.65442112, 46.70410562, 46.70410562, 36.57989438, 36.57989438, 34.55505213, 42.65442112, 36.57989438, 34.55505213, 34.55505213, 40.62957888, 40.62957888, 38.60473663, 38.60473663, 44.67926337, 44.67926337, 42.65442112, 36.57989438]\n"
     ]
    }
   ],
   "source": [
    "print(posz[0:98])"
   ]
  },
  {
   "cell_type": "code",
   "execution_count": 90,
   "metadata": {},
   "outputs": [],
   "source": [
    "plt.scatter(xx,yy)\n",
    "plt.show()"
   ]
  },
  {
   "cell_type": "markdown",
   "metadata": {},
   "source": []
  }
 ],
 "metadata": {
  "kernelspec": {
   "display_name": "Python 2",
   "language": "python",
   "name": "python2"
  }
 },
 "nbformat": 4,
 "nbformat_minor": 1
}
