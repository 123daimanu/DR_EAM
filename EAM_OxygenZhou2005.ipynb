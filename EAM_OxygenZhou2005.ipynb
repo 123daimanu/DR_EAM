{
 "cells": [
  {
   "cell_type": "code",
   "execution_count": 1,
   "metadata": {
    "collapsed": true
   },
   "outputs": [],
   "source": [
    "import numpy as num\n",
    "import pylab as lab\n",
    "import scipy as sci\n",
    "import pandas as pan\n",
    "%matplotlib inline"
   ]
  },
  {
   "cell_type": "code",
   "execution_count": 18,
   "metadata": {
    "collapsed": true
   },
   "outputs": [],
   "source": [
    "#embedded function for oxygen\n",
    "def FO(rhoVar,rhoe,rho_min,rho_max,\\\n",
    "       F00,F01,F02,F03,F04,\\\n",
    "       F10,F11,F12,F13,F14,\\\n",
    "      F20,F21,F22,F23,F24,\\\n",
    "      F30,F31,F32,F33,F34):\n",
    "    func=[]\n",
    "    for rho in rhoVar:\n",
    "        if (rho>=rho_min[0] and rho<rho_max[0]):\n",
    "            func.append(F00*((rho/rhoe[0])-1)**0+F20*((rho/rhoe[0])-1)**2+F10*((rho/rhoe[0])-1)**1+\\\n",
    "                    F30*((rho/rhoe[0])-1)**3)\n",
    "        if (rho>=rho_min[1] and rho<rho_max[1]):\n",
    "            func.append(F01*((rho/rhoe[1])-1)**0+F21*((rho/rhoe[1])-1)**2+F11*((rho/rhoe[1])-1)**1+\\\n",
    "                    F31*((rho/rhoe[1])-1)**3)\n",
    "        if (rho>=rho_min[2] and rho<rho_max[2]):\n",
    "            func.append(F02*((rho/rhoe[2])-1)**0+F22*((rho/rhoe[2])-1)**2+F12*((rho/rhoe[2])-1)**1+\\\n",
    "                    F32*((rho/rhoe[2])-1)**3)\n",
    "        if (rho>=rho_min[3] and rho<rho_max[3]):\n",
    "            func.append(F03*((rho/rhoe[3])-1)**0+F23*((rho/rhoe[3])-1)**2+F13*((rho/rhoe[3])-1)**1+\\\n",
    "                    F33*((rho/rhoe[3])-1)**3)\n",
    "        if (rho>=rho_min[4] and rho<rho_max[4]):\n",
    "            func.append(F04*((rho/rhoe[4])-1)**0+F24*((rho/rhoe[4])-1)**2+F14*((rho/rhoe[4])-1)**1+\\\n",
    "                    F34*((rho/rhoe[4])-1)**3)\n",
    "    func=num.asarray(func)\n",
    "    return func\n",
    "    \n",
    "\n",
    "\n",
    "def f(r,q,N,fe,beta,re,lam):\n",
    "    return fe*num.exp(-beta*(r/re-1))/(1+(r/re-lam)**20)*(1-q/float(N))\n",
    "\n",
    "def phiN(r,A,alpha,re,kappa):\n",
    "    return A*num.exp(-alpha*(r/re-1))/(1+(r/re-kappa)**20)\n",
    "#def phiE(r,q):\n",
    "#    return (1-q/N)*B*num.exp(-beta*(r/re-1))/(1+(r/re-kappa)**20)\n",
    "\n",
    "def phiE(r,B,beta,re,lam):\n",
    "    return B*num.exp(-beta*(r/re-1))/(1+(r/re-lam)**20)\n",
    "def phiT(r,A,alpha,re,B,beta,kappa,lam):\n",
    "    return phiN(r,A,alpha,re,kappa)-phiE(r,B,beta,re,lam)"
   ]
  },
  {
   "cell_type": "code",
   "execution_count": 19,
   "metadata": {
    "collapsed": true
   },
   "outputs": [],
   "source": [
    "rhominO=[0,54.62910,65.24078,66.56797,70.57748]\n",
    "rhomaxO=[54.62910,65.24078,66.56797,70.57748,10**10]\n",
    "rhoe_O=[54.62910,64.26953,66.21202,66.92391,74.23105]\n",
    "F0=[-1.56489,-1.58967,-1.54116,-1.51798,-1.19082]\n",
    "F1=[-1.39123,1.30636,2.02821,2.30979,4.12936]\n",
    "F2=[1.77199,9.81033,6.56240,7.69582,10.32338]\n",
    "F3=[1.59833,0,0,0,0]\n",
    "re_O,A_O,alpha_O,B_O,beta_O,lam_O,fe_O,kappa_O=3.64857,0.34900,5.44072,0.57438,3.59746,0.39310,1.39479,0.08007\n",
    "gamma_O,nu_O=2.11725,0.37457\n",
    "N_O=6\n"
   ]
  },
  {
   "cell_type": "code",
   "execution_count": 243,
   "metadata": {
    "collapsed": true
   },
   "outputs": [],
   "source": [
    "r=num.linspace(1,5,100)\n"
   ]
  },
  {
   "cell_type": "code",
   "execution_count": 244,
   "metadata": {
    "collapsed": false
   },
   "outputs": [
    {
     "data": {
      "image/png": "[encoded data removed]",
      "text/plain": [
       "<matplotlib.figure.Figure at 0x7f47d5d1f6a0>"
      ]
     },
     "metadata": {},
     "output_type": "display_data"
    }
   ],
   "source": [
    "phi2005=phiT(r,A_O,alpha_O,re_O,B_O,beta_O,kappa_O,lam_O)\n",
    "phiModified=phiN(r,A_O,alpha_O,re_O,kappa_O)+phiE(r,B_O,gamma_O,re_O,nu_O)\n",
    "lab.plot(r,phi2005,\"r\")\n",
    "#lab.plot(r,phiModified,\"b\")\n",
    "lab.show()"
   ]
  },
  {
   "cell_type": "code",
   "execution_count": 245,
   "metadata": {
    "collapsed": false
   },
   "outputs": [],
   "source": [
    "rho_O=f(r,0,N_O,fe_O,gamma_O,re_O,nu_O)\n",
    "F_OU=FO(rho_O,rhoe_O,rhominO,rhomaxO,\\\n",
    "       F0[0],F0[1],F0[2],F0[3],F0[4],\\\n",
    "       F1[0],F1[1],F1[2],F1[3],F1[4],\\\n",
    "      F2[0],F2[1],F2[2],F2[3],F2[4],\\\n",
    "      F3[0],F3[1],F3[2],F3[3],F3[4])"
   ]
  },
  {
   "cell_type": "code",
   "execution_count": 246,
   "metadata": {
    "collapsed": false
   },
   "outputs": [
    {
     "data": {
      "text/plain": [
       "[<matplotlib.lines.Line2D at 0x7f47d5c9ba90>]"
      ]
     },
     "execution_count": 246,
     "metadata": {},
     "output_type": "execute_result"
    },
    {
     "data": {
      "image/png": "[encoded data removed]",
      "text/plain": [
       "<matplotlib.figure.Figure at 0x7f47d5d250b8>"
      ]
     },
     "metadata": {},
     "output_type": "display_data"
    }
   ],
   "source": [
    "lab.plot(r,F_OU+phi2005,'r')\n",
    "#lab.plot(r,F_OU+phiModified,'b')"
   ]
  },
  {
   "cell_type": "markdown",
   "metadata": {},
   "source": [
    "Bond dissociation energy of Oxygen molecule is 5.15ev/bond. So, the energy required to get rid of two bonds is 10.30ev. And at the bond length the well should be 10.30ev deep.\n",
    "\n",
    "We can add a negative gaussain to make a dip in energy landscape to form a molecule.\n",
    "\n",
    "gaussian=-a Exp(-(r-rb)^2/(2 w^2))\n",
    "\n",
    "where a= 10.30+6.86=17.16 , rb=1.208 , w is free\n",
    "       \n"
   ]
  },
  {
   "cell_type": "code",
   "execution_count": 247,
   "metadata": {
    "collapsed": false
   },
   "outputs": [],
   "source": [
    "a=7\n",
    "rb=1.208\n",
    "w=.01\n",
    "gauss=lambda r,a,rb,w: -a*num.exp(-(r-rb)**2/(2*w**2))\n",
    "gaussO=gauss(r,a,rb,w)\n"
   ]
  },
  {
   "cell_type": "code",
   "execution_count": 248,
   "metadata": {
    "collapsed": false
   },
   "outputs": [
    {
     "data": {
      "text/plain": [
       "[<matplotlib.lines.Line2D at 0x7f47d5c024e0>]"
      ]
     },
     "execution_count": 248,
     "metadata": {},
     "output_type": "execute_result"
    },
    {
     "data": {
      "image/png": "[encoded data removed]",
      "text/plain": [
       "<matplotlib.figure.Figure at 0x7f47d5c31208>"
      ]
     },
     "metadata": {},
     "output_type": "display_data"
    }
   ],
   "source": [
    "lab.plot(r,F_OU+phi2005+gaussO,'r')"
   ]
  },
  {
   "cell_type": "code",
   "execution_count": 249,
   "metadata": {
    "collapsed": false
   },
   "outputs": [],
   "source": [
    "morse= lambda r,De,beta,re : De*(num.exp(-2*beta*(r - re))- 2* num.exp(-beta*(r - re)))\n",
    "morseO=morse(r,13.1,2.6,1.085)"
   ]
  },
  {
   "cell_type": "code",
   "execution_count": 250,
   "metadata": {
    "collapsed": false
   },
   "outputs": [
    {
     "data": {
      "text/plain": [
       "[<matplotlib.lines.Line2D at 0x7f47d5b6b780>]"
      ]
     },
     "execution_count": 250,
     "metadata": {},
     "output_type": "execute_result"
    },
    {
     "data": {
      "image/png": "[encoded data removed]",
      "text/plain": [
       "<matplotlib.figure.Figure at 0x7f47d5ba67b8>"
      ]
     },
     "metadata": {},
     "output_type": "display_data"
    }
   ],
   "source": [
    "lab.plot(r,F_OU+phi2005+morseO,'r')"
   ]
  },
  {
   "cell_type": "code",
   "execution_count": null,
   "metadata": {
    "collapsed": true
   },
   "outputs": [],
   "source": []
  },
  {
   "cell_type": "code",
   "execution_count": null,
   "metadata": {
    "collapsed": true
   },
   "outputs": [],
   "source": []
  },
  {
   "cell_type": "code",
   "execution_count": null,
   "metadata": {
    "collapsed": true
   },
   "outputs": [],
   "source": []
  },
  {
   "cell_type": "code",
   "execution_count": null,
   "metadata": {
    "collapsed": true
   },
   "outputs": [],
   "source": []
  },
  {
   "cell_type": "code",
   "execution_count": null,
   "metadata": {
    "collapsed": true
   },
   "outputs": [],
   "source": []
  }
 ],
 "metadata": {
  "anaconda-cloud": {},
  "kernelspec": {
   "display_name": "Python [default]",
   "language": "python",
   "name": "python3"
  },
  "language_info": {
   "codemirror_mode": {
    "name": "ipython",
    "version": 3
   },
   "file_extension": ".py",
   "mimetype": "text/x-python",
   "name": "python",
   "nbconvert_exporter": "python",
   "pygments_lexer": "ipython3",
   "version": "3.5.2"
  }
 },
 "nbformat": 4,
 "nbformat_minor": 1
}
