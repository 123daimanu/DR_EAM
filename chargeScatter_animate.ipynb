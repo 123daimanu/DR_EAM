{
 "metadata": {
  "name": "",
  "signature": "sha256:70afe261ef4791f5313ab3a4a9fe46dcd7cc48d9a5f213cfb9d8d108044d5480"
 },
 "nbformat": 3,
 "nbformat_minor": 0,
 "worksheets": [
  {
   "cells": [
    {
     "cell_type": "code",
     "collapsed": false,
     "input": [
      "import numpy as num\n",
      "import matplotlib.pyplot as plt\n",
      "\n",
      "# Determine the index of the atoms having same z-value \n",
      "#list the index of atoms in same plane\n",
      "Ofile=\"../ImageCharge/Pt100ImageCharge/ChargeDistribution_12_layers/PtSlabZ_13.qd\"\n",
      "fileOmd=open(Ofile)\n",
      "linesOmd=fileOmd.readlines()\n",
      "\n",
      "posz=[]\n",
      "for line in linesOmd:\n",
      "    linesSplit=str.split(line)\n",
      "    length=len(linesSplit)\n",
      "    \n",
      "    if(linesSplit[0]!=\"Na+\"):\n",
      "        posz.append(float(linesSplit[3]))\n",
      "    \n",
      "    else:\n",
      "        break;\n",
      "       \n",
      "        \n",
      "\n",
      "\n",
      "lengthPosz=len(posz)\n",
      "sortPos=num.argsort(posz) # sorts the list with arguments as output i.e position as output\n",
      "\n",
      "\n",
      "\n",
      "arrSortPos=num.array(sortPos)\n",
      "\n",
      "# Make the different plane using the index of the atoms\n",
      "indexPoszSort=[]\n",
      "indexPoszSort.append(0)\n",
      "init=posz[sortPos[0]]\n",
      "for i in range(0,lengthPosz):\n",
      "    if(posz[sortPos[i]]!=init):\n",
      "        indexPoszSort.append(i)\n",
      "    init=posz[sortPos[i]]\n",
      "\n",
      "\n",
      "# X Y and C arrays for different atoms.\n",
      "\n",
      "filexyz=open(Ofile)\n",
      "linesXYZ=filexyz.readlines()\n",
      "atomNumber=lengthPosz;\n",
      "layerCrystal=len(indexPoszSort)+1\n",
      "numFrames=100\n",
      "x=num.zeros((numFrames+1,atomNumber))\n",
      "y=num.zeros((numFrames+1,atomNumber))\n",
      "c=num.zeros((numFrames+1,atomNumber))\n",
      "\n",
      "count=0\n",
      "index=0\n",
      "\n",
      "for line in linesXYZ:\n",
      "    lineApp=str.split(line);\n",
      "    \n",
      "    if(lineApp[0]==\"Na+\"):\n",
      "        count=count+1\n",
      "        index=0\n",
      "        continue\n",
      "    else:\n",
      "        x[count][index]=float(lineApp[1])\n",
      "        y[count][index]=float(lineApp[2])\n",
      "        c[count][index]=float(lineApp[4])\n",
      "        index=index+1\n",
      "        \n",
      "        \n",
      "indexPoszSort.append(atomNumber)\n",
      "\n",
      "#scatter plot of top layer\n",
      "frame=100\n",
      "Layer=layerCrystal-1\n",
      "row=Layer/3\n",
      "column=Layer/row\n",
      "for frameNo in range(frame+1):\n",
      "    fig=plt.figure()\n",
      "    for zLayer in range(1,Layer+1):\n",
      "        layer=range(indexPoszSort[zLayer-1],indexPoszSort[zLayer])\n",
      "        position=arrSortPos[layer]\n",
      "        charge=c[frameNo,position]\n",
      "        xx= x[frameNo,position]\n",
      "        yy= y[frameNo,position]\n",
      "        scaled_c = (charge - charge.min()) / charge.ptp()\n",
      "        colors = plt.cm.coolwarm(scaled_c)\n",
      "        sign=[];\n",
      "        for var in charge:\n",
      "            if (var<0):\n",
      "                sign.append(\"blue\");\n",
      "            elif(var>0):\n",
      "                sign.append(\"red\");\n",
      "            else:\n",
      "                sign.append(\"black\")\n",
      "            \n",
      "        ax1 = fig.add_subplot(row,column+1,zLayer)\n",
      "        cmax=c.max()\n",
      "        cmin=c.min()\n",
      "        plt.scatter(xx, yy, c=charge, s=50, cmap='jet',edgecolor=sign,linewidth=1,vmin=-0.01303879,vmax=-0.00906235)\n",
      "    fileName=str(frameNo)+\".pdf\"\n",
      "    plt.title(str(frameNo))\n",
      "    plt.savefig(fileName)\n",
      "       \n",
      "\n"
     ],
     "language": "python",
     "metadata": {},
     "outputs": [
      {
       "output_type": "stream",
       "stream": "stdout",
       "text": [
        "26\n",
        "8\n",
        "3\n"
       ]
      }
     ],
     "prompt_number": 35
    },
    {
     "cell_type": "code",
     "collapsed": false,
     "input": [
      "num.ceil(num.sqrt(11))"
     ],
     "language": "python",
     "metadata": {},
     "outputs": [
      {
       "metadata": {},
       "output_type": "pyout",
       "prompt_number": 23,
       "text": [
        "4.0"
       ]
      }
     ],
     "prompt_number": 23
    },
    {
     "cell_type": "code",
     "collapsed": false,
     "input": [],
     "language": "python",
     "metadata": {},
     "outputs": [],
     "prompt_number": 39
    },
    {
     "cell_type": "markdown",
     "metadata": {},
     "source": []
    }
   ],
   "metadata": {}
  }
 ]
}