{
 "metadata": {
  "name": "",
  "signature": "sha256:4762f732df81d82e1b54d16dd233d502ec4d4e84bed42ae88f564d9422eb8618"
 },
 "nbformat": 3,
 "nbformat_minor": 0,
 "worksheets": [
  {
   "cells": [
    {
     "cell_type": "markdown",
     "metadata": {},
     "source": [
      "Algorithm to generate equally distributed points\n",
      "\n",
      "Set Ncount = 0.\n",
      "\n",
      "Set a = $\\frac{4\u03c0r^2}{N}$and d =$\\sqrt a$\n",
      "\n",
      "Set $M_\\theta = round[\\frac{\\pi r}{d}]$.\n",
      "\n",
      "Set $d_\\theta = \\frac{\\pi}{M_\\theta}$ \n",
      "\n",
      "and $d_\\phi = \\frac{a}{d\\theta}$.\n",
      "\n",
      "For each m in 0 . . .$M_{\\theta} $\u2212 1 do {\n",
      "\n",
      "Set $\\theta = \\pi(m + 0.5)/M_\\theta$.\n",
      "\n",
      "Set $M\\phi = round[2\\pi r sin \u03d1/d\u03d5]$.\n",
      "\n",
      "For each n in 0 . . .M\u03d5 \u2212 1 do {\n",
      "\n",
      "Set \u03d5 = 2\u03c0n/M\u03d5.\n",
      "\n",
      "Ncount += 1.\n",
      "}\n",
      "}"
     ]
    },
    {
     "cell_type": "code",
     "collapsed": false,
     "input": [
      "import numpy as num\n",
      "import pylab as lab\n",
      "import matplotlib.pyplot as plt\n",
      "from mpl_toolkits.mplot3d import Axes3D"
     ],
     "language": "python",
     "metadata": {},
     "outputs": [],
     "prompt_number": 16
    },
    {
     "cell_type": "code",
     "collapsed": false,
     "input": [
      "#the distance between the points\n",
      "d=15\n",
      "#radius of the sphere\n",
      "r=100\n",
      "\n",
      "numberPoints=4*num.pi*r**2/d**2\n",
      "\n",
      "\n",
      "theta_phi=[]\n",
      "N=0\n",
      "M_theta=int(num.floor(num.pi*r/float(d)))\n",
      "d_theta=num.pi/float(M_theta)\n",
      "d_phi_r=d**2/float(r* d_theta)\n",
      "\n",
      "for count_theta in range(0,M_theta+1):\n",
      "    theta=d_theta*count_theta\n",
      "    M_phi=int(num.floor(2*num.pi*num.sin(theta)*r/d_phi_r))\n",
      "    for count_phi in range(M_phi):\n",
      "        phi=num.pi*2*count_phi/M_phi\n",
      "        theta_phi.append([theta,phi])\n",
      "        N=N+1"
     ],
     "language": "python",
     "metadata": {},
     "outputs": [],
     "prompt_number": 40
    },
    {
     "cell_type": "code",
     "collapsed": false,
     "input": [
      "\n",
      "theta_phi=num.asarray(theta_phi)\n",
      "x=r*num.multiply(num.cos(theta_phi[:,1]),num.sin(theta_phi[:,0]))\n",
      "y=r*num.multiply(num.sin(theta_phi[:,1]),num.sin(theta_phi[:,0]))\n",
      "z=r*num.cos(theta_phi[:,0])"
     ],
     "language": "python",
     "metadata": {},
     "outputs": [],
     "prompt_number": 41
    },
    {
     "cell_type": "code",
     "collapsed": false,
     "input": [
      "#fig=plt.figure()\n",
      "#ax = Axes3D(fig)\n",
      "#ax.scatter(x, y, z)\n",
      "#plt.show()"
     ],
     "language": "python",
     "metadata": {},
     "outputs": []
    },
    {
     "cell_type": "code",
     "collapsed": false,
     "input": [
      "x.size"
     ],
     "language": "python",
     "metadata": {},
     "outputs": [
      {
       "metadata": {},
       "output_type": "pyout",
       "prompt_number": 42,
       "text": [
        "547"
       ]
      }
     ],
     "prompt_number": 42
    },
    {
     "cell_type": "code",
     "collapsed": false,
     "input": [
      "linesAppend=[]\n",
      "for count in range(x.size):\n",
      "    lineApp=[]\n",
      "    lineApp.append(str(count))\n",
      "    lineApp.append(\"pv\")\n",
      "    lineApp.append(str(x[count]))\n",
      "    lineApp.append(str(y[count]))\n",
      "    lineApp.append(str(z[count]))\n",
      "    lineApp.append(str(0))\n",
      "    lineApp.append(str(0))\n",
      "    lineApp.append(str(0))\n",
      "    lineApp.append(\"\\n\")\n",
      "    sep=\"\\t\"\n",
      "    linesAppend.append(sep.join(lineApp))\n",
      "    \n",
      "\n",
      "    \n",
      "path=\"/home/hbhattar/afs/Hemanta/metals/ChargeDiffusion/Sphere/\"\n",
      "name=\"pv_file.txt\"\n",
      "pvFile=open(path+\"pv_file.txt\",\"w\")\n",
      "pvFile.writelines(linesAppend)\n",
      "pvFile.close()\n",
      "    \n",
      "    \n",
      "    "
     ],
     "language": "python",
     "metadata": {},
     "outputs": [],
     "prompt_number": 43
    },
    {
     "cell_type": "code",
     "collapsed": false,
     "input": [
      "num.sqrt(x[264]**2+y[264]**2+z[264]**2)"
     ],
     "language": "python",
     "metadata": {},
     "outputs": [
      {
       "metadata": {},
       "output_type": "pyout",
       "prompt_number": 50,
       "text": [
        "100.00000000000001"
       ]
      }
     ],
     "prompt_number": 50
    },
    {
     "cell_type": "code",
     "collapsed": false,
     "input": [],
     "language": "python",
     "metadata": {},
     "outputs": [
      {
       "ename": "TypeError",
       "evalue": "can't multiply sequence by non-int of type 'tuple'",
       "output_type": "pyerr",
       "traceback": [
        "\u001b[0;31m---------------------------------------------------------------------------\u001b[0m\n\u001b[0;31mTypeError\u001b[0m                                 Traceback (most recent call last)",
        "\u001b[0;32m<ipython-input-47-55910a9f7205>\u001b[0m in \u001b[0;36m<module>\u001b[0;34m()\u001b[0m\n\u001b[0;32m----> 1\u001b[0;31m \u001b[0ma\u001b[0m\u001b[0;34m*\u001b[0m\u001b[0ma\u001b[0m\u001b[0;34m\u001b[0m\u001b[0m\n\u001b[0m",
        "\u001b[0;31mTypeError\u001b[0m: can't multiply sequence by non-int of type 'tuple'"
       ]
      }
     ],
     "prompt_number": 47
    },
    {
     "cell_type": "code",
     "collapsed": false,
     "input": [],
     "language": "python",
     "metadata": {},
     "outputs": []
    }
   ],
   "metadata": {}
  }
 ]
}