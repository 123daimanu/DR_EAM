{
 "cells": [
  {
   "cell_type": "markdown",
   "metadata": {},
   "source": [
    "Algorithm to generate equally distributed points\n",
    "\n",
    "Set Ncount = 0.\n",
    "\n",
    "Set a = $\\frac{4πr^2}{N}$and d =$\\sqrt a$\n",
    "\n",
    "Set $M_\\theta = round[\\frac{\\pi r}{d}]$.\n",
    "\n",
    "Set $d_\\theta = \\frac{\\pi}{M_\\theta}$ \n",
    "\n",
    "and $d_\\phi = \\frac{a}{d\\theta}$.\n",
    "\n",
    "For each m in 0 . . .$M_{\\theta} $− 1 do {\n",
    "\n",
    "Set $\\theta = \\pi(m + 0.5)/M_\\theta$.\n",
    "\n",
    "Set $M\\phi = round[2\\pi r sin ϑ/dϕ]$.\n",
    "\n",
    "For each n in 0 . . .Mϕ − 1 do {\n",
    "\n",
    "Set ϕ = 2πn/Mϕ.\n",
    "\n",
    "Ncount += 1.\n",
    "}\n",
    "}"
   ]
  },
  {
   "cell_type": "code",
   "execution_count": 16,
   "metadata": {},
   "outputs": [],
   "source": [
    "import numpy as num\n",
    "import pylab as lab\n",
    "import matplotlib.pyplot as plt\n",
    "from mpl_toolkits.mplot3d import Axes3D"
   ]
  },
  {
   "cell_type": "code",
   "execution_count": 40,
   "metadata": {},
   "outputs": [],
   "source": [
    "#the distance between the points\n",
    "d=15\n",
    "#radius of the sphere\n",
    "r=100\n",
    "\n",
    "numberPoints=4*num.pi*r**2/d**2\n",
    "\n",
    "\n",
    "theta_phi=[]\n",
    "N=0\n",
    "M_theta=int(num.floor(num.pi*r/float(d)))\n",
    "d_theta=num.pi/float(M_theta)\n",
    "d_phi_r=d**2/float(r* d_theta)\n",
    "\n",
    "for count_theta in range(0,M_theta+1):\n",
    "    theta=d_theta*count_theta\n",
    "    M_phi=int(num.floor(2*num.pi*num.sin(theta)*r/d_phi_r))\n",
    "    for count_phi in range(M_phi):\n",
    "        phi=num.pi*2*count_phi/M_phi\n",
    "        theta_phi.append([theta,phi])\n",
    "        N=N+1"
   ]
  },
  {
   "cell_type": "code",
   "execution_count": 41,
   "metadata": {},
   "outputs": [],
   "source": [
    "\n",
    "theta_phi=num.asarray(theta_phi)\n",
    "x=r*num.multiply(num.cos(theta_phi[:,1]),num.sin(theta_phi[:,0]))\n",
    "y=r*num.multiply(num.sin(theta_phi[:,1]),num.sin(theta_phi[:,0]))\n",
    "z=r*num.cos(theta_phi[:,0])"
   ]
  },
  {
   "cell_type": "code",
   "execution_count": null,
   "metadata": {},
   "outputs": [],
   "source": [
    "#fig=plt.figure()\n",
    "#ax = Axes3D(fig)\n",
    "#ax.scatter(x, y, z)\n",
    "#plt.show()"
   ]
  },
  {
   "cell_type": "code",
   "execution_count": 42,
   "metadata": {},
   "outputs": [
    {
     "data": {
      "text/plain": [
       "547"
      ]
     },
     "execution_count": 42,
     "metadata": {},
     "output_type": "execute_result"
    }
   ],
   "source": [
    "x.size"
   ]
  },
  {
   "cell_type": "code",
   "execution_count": 43,
   "metadata": {},
   "outputs": [],
   "source": [
    "linesAppend=[]\n",
    "for count in range(x.size):\n",
    "    lineApp=[]\n",
    "    lineApp.append(str(count))\n",
    "    lineApp.append(\"pv\")\n",
    "    lineApp.append(str(x[count]))\n",
    "    lineApp.append(str(y[count]))\n",
    "    lineApp.append(str(z[count]))\n",
    "    lineApp.append(str(0))\n",
    "    lineApp.append(str(0))\n",
    "    lineApp.append(str(0))\n",
    "    lineApp.append(\"\\n\")\n",
    "    sep=\"\\t\"\n",
    "    linesAppend.append(sep.join(lineApp))\n",
    "    \n",
    "\n",
    "    \n",
    "path=\"/home/hbhattar/afs/Hemanta/metals/ChargeDiffusion/Sphere/\"\n",
    "name=\"pv_file.txt\"\n",
    "pvFile=open(path+\"pv_file.txt\",\"w\")\n",
    "pvFile.writelines(linesAppend)\n",
    "pvFile.close()\n",
    "    \n",
    "    \n",
    "    "
   ]
  },
  {
   "cell_type": "code",
   "execution_count": 50,
   "metadata": {},
   "outputs": [
    {
     "data": {
      "text/plain": [
       "100.00000000000001"
      ]
     },
     "execution_count": 50,
     "metadata": {},
     "output_type": "execute_result"
    }
   ],
   "source": [
    "num.sqrt(x[264]**2+y[264]**2+z[264]**2)"
   ]
  },
  {
   "cell_type": "code",
   "execution_count": null,
   "metadata": {},
   "outputs": [],
   "source": []
  }
 ],
 "metadata": {
  "anaconda-cloud": {},
  "kernelspec": {
   "display_name": "Python [default]",
   "language": "python",
   "name": "python3"
  },
  "language_info": {
   "codemirror_mode": {
    "name": "ipython",
    "version": 3
   },
   "file_extension": ".py",
   "mimetype": "text/x-python",
   "name": "python",
   "nbconvert_exporter": "python",
   "pygments_lexer": "ipython3",
   "version": "3.5.2"
  }
 },
 "nbformat": 4,
 "nbformat_minor": 1
}
