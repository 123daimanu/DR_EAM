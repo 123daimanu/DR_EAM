{
 "cells": [
  {
   "cell_type": "markdown",
   "metadata": {},
   "source": [
    "#### This notebook helps to extract necessary information from the *.report* file and saves all the information in a csv file. Latter it takes csv file and finds the data points required to fit oxygen embedding functional"
   ]
  },
  {
   "cell_type": "code",
   "execution_count": 1,
   "metadata": {},
   "outputs": [],
   "source": [
    "import sys\n",
    "sys.path.append('/home/hbhattar/afs/Hemanta/metals/pythonScripts/function/')\n",
    "import FDEAM as dream\n",
    "from matplotlib import rcParams\n",
    "import numpy as np\n",
    "from collections import OrderedDict\n",
    "from matplotlib.backends.backend_pdf import PdfPages\n",
    "%matplotlib inline\n",
    "\n",
    "params = {\n",
    "    'font.family':'serif',\n",
    "   'axes.labelsize': 14,\n",
    "   'font.size': 14,\n",
    "   'legend.fontsize': 14,\n",
    "   'xtick.labelsize': 14,\n",
    "   'ytick.labelsize': 14,\n",
    "   'text.usetex': False,\n",
    "   }\n",
    "rcParams.update(params)\n",
    "\n"
   ]
  },
  {
   "cell_type": "code",
   "execution_count": 2,
   "metadata": {},
   "outputs": [],
   "source": [
    "folder = \"/home/hbhattar/groupspace/hbhattar/OxideLibraryNew/NewOxides/EmbedPlot/\""
   ]
  },
  {
   "cell_type": "code",
   "execution_count": null,
   "metadata": {},
   "outputs": [],
   "source": []
  },
  {
   "cell_type": "code",
   "execution_count": 3,
   "metadata": {},
   "outputs": [],
   "source": [
    "hexColor =['#e6194b', '#3cb44b', '#ffe119', '#4363d8', '#f58231', \\\n",
    "           '#911eb4', '#46f0f0', '#f032e6', '#bcf60c', '#fabebe', \\\n",
    "           '#008080', '#e6beff', '#9a6324', '#fffac8', '#800000', \\\n",
    "           '#aaffc3', '#808000', '#ffd8b1', '#000075', '#808080', '#ffffff', '#000000']"
   ]
  },
  {
   "cell_type": "code",
   "execution_count": 4,
   "metadata": {},
   "outputs": [
    {
     "name": "stdout",
     "output_type": "stream",
     "text": [
      "{'Al2O3': 'A', 'Co3O4': 'B', 'CoO': 'C', 'Cu2O': 'D', 'CuO': 'E', 'alpha-Fe2O3': 'F', 'Fe3O4': 'G', 'MgO': 'H', 'MoO2': 'I', 'Pb3O4': 'J', 'PbO2': 'K', 'red-PbO': 'L', 'yellow-PbO': 'M', 'TiO2-anatase': 'N', 'TiO2-rutile': 'O', 'Ti2O3': 'P', 'Ti3O5': 'Q', 'TiO': 'R', 'WO2': 'S', 'WO3': 'T', 'ZrO2': 'U'}\n"
     ]
    }
   ],
   "source": [
    "oxideName = [\"Al2O3\",\n",
    "             \"Co3O4\",\n",
    "             \"CoO\",\n",
    "             \"Cu2O\",\n",
    "             \"CuO\",\n",
    "             \"alpha-Fe2O3\",\n",
    "             \"Fe3O4\",\n",
    "             \"MgO\",\n",
    "             \"MoO2\",\n",
    "             \"Pb3O4\",\n",
    "             \"PbO2\",\n",
    "             \"red-PbO\",\n",
    "             \"yellow-PbO\",\n",
    "             \"TiO2-anatase\",\n",
    "             \"TiO2-rutile\",\n",
    "             \"Ti2O3\",\n",
    "             \"Ti3O5\",\n",
    "             \"TiO\",\n",
    "             \"WO2\",\n",
    "             \"WO3\",\n",
    "             \"ZrO2\",\n",
    "            ]\n",
    "Metals = {\n",
    "    \"Al\":[\"Al2O3\"],\n",
    "    \"Co\":[\"Co3O4\", \"CoO\"],\n",
    "    \"Cu\":[\"Cu2O\",\"CuO\"],\n",
    "    \"Fe\":[\"alpha-Fe2O3\", \"Fe3O4\"],\n",
    "    \"Mg\":[\"MgO\"],\n",
    "    \"Mo\":[\"MoO2\"],\n",
    "    \"Pb\":[\"Pb3O4\", \"PbO2\", \"red-PbO\", \"yellow-PbO\"],\n",
    "    \"Ti\":[\"TiO2-anatase\", \"TiO2-rutile\", \"Ti2O3\", \"Ti3O5\", \"TiO\"],\n",
    "    \"W\": [\"WO2\", \"WO3\"],\n",
    "    \"Zr\":[\"ZrO2\"]\n",
    "}\n",
    "shapeMetals = {\n",
    "    \"Al\":\"o\",\n",
    "    \"Co\":\"+\",\n",
    "    \"Cu\":\"^\",\n",
    "    \"Fe\":\"*\",\n",
    "    \"Mg\":\"<\",\n",
    "    \"Mo\":\">\",\n",
    "    \"Pb\":\"s\",\n",
    "    \"Ti\":\"X\",\n",
    "    \"W\": \"D\",\n",
    "    \"Zr\":\"v\",\n",
    "    \n",
    "}\n",
    "\n",
    "colorMetals = {\n",
    "    \"Al\":\"r\",\n",
    "    \"Co\":\"b\",\n",
    "    \"Cu\":\"k\",\n",
    "    \"Fe\":'#1f77b4',\n",
    "    \"Mg\":'#2ca02c',\n",
    "    \"Mo\":'#d62728',\n",
    "    \"Pb\":'#9467bd',\n",
    "    \"Ti\":'#8c564b',\n",
    "    \"W\": '#e377c2',\n",
    "    \"Zr\":'indigo',\n",
    "    \n",
    "}\n",
    "oxideLabel = {}\n",
    "for index,nameOxide in enumerate(oxideName):\n",
    "    oxideLabel[nameOxide] = chr(65+index)\n",
    "print(oxideLabel)"
   ]
  },
  {
   "cell_type": "code",
   "execution_count": 5,
   "metadata": {},
   "outputs": [],
   "source": [
    "Echo = {'Al2O3': 3.39,\n",
    " 'Co3O4': 4.39,\n",
    " 'CoO': 4.39,\n",
    " 'Cu2O': 3.43,\n",
    " 'CuO': 3.43,\n",
    " 'alpha-Fe2O3': 4.28,\n",
    " 'Fe3O4': 4.28,\n",
    " 'MgO': 1.51,\n",
    " 'MoO2': 6.82,\n",
    " 'Pb3O4': 2.03,\n",
    " 'PbO2': 2.03,\n",
    " 'red-PbO': 2.03,\n",
    " 'yellow-PbO': 2.03,\n",
    " 'TiO2-anatase': 4.85,\n",
    " 'TiO2-rutile': 4.85,\n",
    " 'Ti2O3': 4.85,\n",
    " 'Ti3O5': 4.85,\n",
    " 'TiO': 4.85,\n",
    " 'WO2': 8.9,\n",
    " 'WO3': 8.9,\n",
    " 'ZrO2': 6.29}\n",
    "\n",
    "Ediss = 493.579 #kJ mol^-1\n",
    "\n",
    "Enthalpy = {\n",
    "     'Al2O3': 1663.608,\n",
    "     'Co3O4': 896.309,\n",
    "     'CoO': 238.056,\n",
    "     'Cu2O': 168.952,\n",
    "     'CuO': 153.807,\n",
    "     'alpha-Fe2O3': 819.025,\n",
    "     'Fe3O4': 1114.579,\n",
    "     'MgO': 597.06,\n",
    "     'MoO2': 582.903,\n",
    "     'Pb3O4': 710.871,\n",
    "     'PbO2': 269.874,\n",
    "     'red-PbO': 217.297,\n",
    "     'yellow-PbO': 216.08,\n",
    "     'TiO2-anatase': 933.837,\n",
    "     'TiO2-rutile': 939.87,\n",
    "     'Ti2O3': 1512.287,\n",
    "     'Ti3O5': 2446.057,\n",
    "     'TiO': 539.668,\n",
    "     'WO2': 584.745,\n",
    "     'WO3': 837.259,\n",
    "     'ZrO2': 1092.032,\n",
    "}  #kj/mol\n"
   ]
  },
  {
   "cell_type": "code",
   "execution_count": 6,
   "metadata": {},
   "outputs": [],
   "source": [
    "\n",
    "# no of oxygen in oxide\n",
    "m = {'Al2O3': 3,\n",
    " 'Co3O4': 4,\n",
    " 'CoO': 1,\n",
    " 'Cu2O': 1,\n",
    " 'CuO': 1,\n",
    " 'alpha-Fe2O3': 3,\n",
    " 'Fe3O4': 4,\n",
    " 'MgO': 1,\n",
    " 'MoO2': 2,\n",
    " 'Pb3O4': 4,\n",
    " 'PbO2': 2,\n",
    " 'red-PbO': 1,\n",
    " 'yellow-PbO': 1,\n",
    " 'TiO2-anatase': 2,\n",
    " 'TiO2-rutile': 2,\n",
    " 'Ti2O3': 3,\n",
    " 'Ti3O5': 5,\n",
    " 'TiO': 1,\n",
    " 'WO2': 2,\n",
    " 'WO3': 3,\n",
    " 'ZrO2': 2,\n",
    "    }\n"
   ]
  },
  {
   "cell_type": "code",
   "execution_count": 7,
   "metadata": {},
   "outputs": [],
   "source": [
    "\n",
    "n ={\n",
    " 'Al2O3': 2,\n",
    " 'Co3O4': 3,\n",
    " 'CoO': 1,\n",
    " 'Cu2O': 2,\n",
    " 'CuO': 1,\n",
    " 'alpha-Fe2O3': 2,\n",
    " 'Fe3O4': 3,\n",
    " 'MgO': 1,\n",
    " 'MoO2': 1,\n",
    " 'Pb3O4': 3,\n",
    " 'PbO2': 1,\n",
    " 'red-PbO': 1,\n",
    " 'yellow-PbO': 1,\n",
    " 'TiO2-anatase': 1,\n",
    " 'TiO2-rutile': 1,\n",
    " 'Ti2O3': 2,\n",
    " 'Ti3O5': 3,\n",
    " 'TiO': 1,\n",
    " 'WO2': 1,\n",
    " 'WO3': 1,\n",
    " 'ZrO2': 1\n",
    "}\n",
    "\n",
    "No_oxygen_sim_box = {\n",
    " 'Al2O3': 2700,\n",
    " 'Co3O4': 2048,\n",
    " 'CoO': 1372,\n",
    " 'Cu2O': 1024,\n",
    " 'CuO': 20800,\n",
    " 'alpha-Fe2O3': 3888,\n",
    " 'Fe3O4': 2048,\n",
    " 'MgO': 2048,\n",
    " 'MoO2': 2156,\n",
    " 'Pb3O4': 1280,\n",
    " 'PbO2': 2352,\n",
    " 'red-PbO': 768,\n",
    " 'yellow-PbO': 1008,\n",
    " 'TiO2-anatase': 2048,\n",
    " 'TiO2-rutile': 2156,\n",
    " 'Ti2O3': 3780,\n",
    " 'Ti3O5': 2560,\n",
    " 'TiO': 2048,\n",
    " 'WO2': 3072,\n",
    " 'WO3': 2400,\n",
    " 'ZrO2': 28800,\n",
    "}\n"
   ]
  },
  {
   "cell_type": "code",
   "execution_count": null,
   "metadata": {},
   "outputs": [],
   "source": []
  },
  {
   "cell_type": "code",
   "execution_count": 8,
   "metadata": {},
   "outputs": [],
   "source": [
    "U_sim = []\n",
    "for oxides in oxideName:\n",
    "    oxideFullPath = folder + oxides + \"_MinChargeSamples.report\"\n",
    "    U_sim.append(dream.ReportExtractor(oxideFullPath,5)[0])\n",
    "    "
   ]
  },
  {
   "cell_type": "code",
   "execution_count": 9,
   "metadata": {},
   "outputs": [],
   "source": [
    "U_sim = abs(np.array(U_sim))"
   ]
  },
  {
   "cell_type": "code",
   "execution_count": 10,
   "metadata": {},
   "outputs": [],
   "source": [
    "EnthalpyVal = np.array([*Enthalpy.values()]) * 0.23900574\n",
    "mVal = np.array([*m.values()])\n",
    "EdissVal = Ediss * 0.23900574\n",
    "nVal = np.array([*n.values()])\n",
    "EchoVal = np.array([*Echo.values()])* 23.0605\n",
    "U_simVal = U_sim\n",
    "NVal = np.array([*No_oxygen_sim_box.values()])/mVal\n",
    "\n",
    "\n",
    "Embedded = (EnthalpyVal + mVal/2 * EdissVal + nVal * EchoVal - U_simVal / NVal) / mVal"
   ]
  },
  {
   "cell_type": "code",
   "execution_count": 11,
   "metadata": {},
   "outputs": [
    {
     "data": {
      "text/plain": [
       "array([  900.,   512.,  1372.,  1024., 20800.,  1296.,   512.,  2048.,\n",
       "        1078.,   320.,  1176.,   768.,  1008.,  1024.,  1078.,  1260.,\n",
       "         512.,  2048.,  1536.,   800., 14400.])"
      ]
     },
     "execution_count": 11,
     "metadata": {},
     "output_type": "execute_result"
    }
   ],
   "source": [
    "NVal\n"
   ]
  },
  {
   "cell_type": "code",
   "execution_count": 12,
   "metadata": {},
   "outputs": [],
   "source": [
    "embedded_dict = {}\n",
    "for pos in range(len(Embedded)):\n",
    "    embedded_dict[oxideName[pos]] = -Embedded[pos]\n",
    "    "
   ]
  },
  {
   "cell_type": "code",
   "execution_count": 13,
   "metadata": {},
   "outputs": [
    {
     "data": {
      "text/plain": [
       "{'Al2O3': -82.16701299725888,\n",
       " 'Co3O4': -43.582763212645006,\n",
       " 'CoO': -44.657268839700606,\n",
       " 'Cu2O': -46.45611923120998,\n",
       " 'CuO': -29.840454846986944,\n",
       " 'alpha-Fe2O3': -65.58076983915181,\n",
       " 'Fe3O4': -64.31303799259501,\n",
       " 'MgO': -79.83630732113,\n",
       " 'MoO2': -28.633353429128505,\n",
       " 'Pb3O4': -43.22553067161499,\n",
       " 'PbO2': -44.67779673596034,\n",
       " 'red-PbO': -47.40090235651,\n",
       " 'yellow-PbO': -44.30834586299349,\n",
       " 'TiO2-anatase': -67.59284149642002,\n",
       " 'TiO2-rutile': -66.7039653010419,\n",
       " 'Ti2O3': -49.54216941154448,\n",
       " 'Ti3O5': -58.79301037016599,\n",
       " 'TiO': -1.9904809848000014,\n",
       " 'WO2': -44.733014352379996,\n",
       " 'WO3': 1387.7581739727166,\n",
       " 'ZrO2': -70.50061548134775}"
      ]
     },
     "execution_count": 13,
     "metadata": {},
     "output_type": "execute_result"
    }
   ],
   "source": [
    "embedded_dict"
   ]
  },
  {
   "cell_type": "code",
   "execution_count": 18,
   "metadata": {},
   "outputs": [],
   "source": [
    "densityAtO = {\"Al2O3\":26.0501,\n",
    "             \"Co3O4\":18.52,#30.8708,\n",
    "             \"CoO\":18.34,#30.5765,\n",
    "             \"Cu2O\":16.0199,#14.7876,#24.64,\n",
    "             \"CuO\":37.17,\n",
    "             \"alpha-Fe2O3\":17.34,#16.32,#20.4094,\n",
    "             \"Fe3O4\":18.93,#17.82,#21.5035,\n",
    "             \"MgO\":24.0735,\n",
    "             \"MoO2\":42.50,#28.3378,\n",
    "             \"Pb3O4\":16.4981,\n",
    "             \"PbO2\":16.8385,\n",
    "             \"red-PbO\":16.9535,\n",
    "             \"yellow-PbO\":17.2742,\n",
    "             \"TiO2-anatase\":30.7926,\n",
    "             \"TiO2-rutile\":31.7717,\n",
    "             \"Ti2O3\":36.1634,\n",
    "             \"Ti3O5\":33.8474,\n",
    "             \"TiO\":50.9129,\n",
    "             \"WO2\":40.1521,\n",
    "             \"WO3\":86.974,\n",
    "             \"ZrO2\":40.5837,\n",
    "          }\n"
   ]
  },
  {
   "cell_type": "code",
   "execution_count": 19,
   "metadata": {},
   "outputs": [],
   "source": [
    "embeddingEnergy = []\n",
    "density = []\n",
    "for pos in range(len(Embedded)):\n",
    "    embeddingEnergy.append(embedded_dict[oxideName[pos]])\n",
    "    density.append(densityAtO[oxideName[pos]])\n",
    "density.append(0)\n",
    "embeddingEnergy.append(0)\n",
    "embeddingEnergy = np.array(embeddingEnergy)\n",
    "density = np.array(density)"
   ]
  },
  {
   "cell_type": "code",
   "execution_count": 20,
   "metadata": {},
   "outputs": [],
   "source": [
    "rho = np.arange(0,110,1)\n",
    "ene = 604.155 * rho/95.0 *(rho/95.0 - 1)**3\n",
    "ene1 = -0.0226606*(-1 + 2.99736*rho) - 0.0225091*(-1 + 2.99736*rho)**2 + 0.000151562*(-1 + 2.99736*rho)**3\n",
    "ene2 = 265.182*(-1 + 0.0186463*rho) + 265.182*(-1 + 0.0186463*rho)**2\n",
    "ene3 = -3.45013 * rho - 0.0010212 * rho**2 + 0.00132107 * rho**3\n",
    "ene4 = -3.96413 * rho + 0.0458764 * rho**2 + 0.0000116652 * rho**4 \n",
    "ene5 = -4.94466*rho + 0.0921997*rho**2\n",
    "import matplotlib.pyplot as plt\n",
    "\n",
    "\n",
    "fe = 95"
   ]
  },
  {
   "cell_type": "code",
   "execution_count": 21,
   "metadata": {
    "scrolled": false
   },
   "outputs": [
    {
     "data": {
      "image/png": "[encoded data removed]",
      "text/plain": [
       "<Figure size 576x576 with 1 Axes>"
      ]
     },
     "metadata": {
      "needs_background": "light"
     },
     "output_type": "display_data"
    }
   ],
   "source": [
    "fig1 = plt.figure(num=None, figsize=(8,8))\n",
    "ax1 =  fig1.add_subplot()\n",
    "for metals in Metals.keys():\n",
    "    for oxide in Metals[metals]:\n",
    "        ax1.scatter(densityAtO[oxide],embedded_dict[oxide],s = 100,\\\n",
    "                    c = colorMetals[metals], marker=shapeMetals[metals],\\\n",
    "                label= metals)\n",
    "ax1.set_xlabel(\"Density\")\n",
    "ax1.set_ylabel(\"Embedding Energy (kcal/mol)\")\n",
    "\n",
    "\n",
    "#addition anotation \n",
    "#for i, txt in enumerate(oxideName):\n",
    "#    ax1.annotate(chr(i+65),(densityAtO[txt],embedded_dict[txt]),size=15)\n",
    "    \n",
    "\n",
    "ax1.set_ylim([-90,20])\n",
    "ax1.set_xlim([0,60])\n",
    "#ax1.set_title(\"E)\n",
    "\n",
    "# adding legends\n",
    "handles, labels = plt.gca().get_legend_handles_labels()\n",
    "by_label = OrderedDict(zip(labels, handles))\n",
    "plt.legend(by_label.values(), by_label.keys(),bbox_to_anchor=(1.135, 1.01), prop={'size':10}, title =\"Metals\")\n",
    "#plt.legend(by_label.values(), by_label.keys(), loc = 1)\n",
    "#r\"$ {} $\".format(item[0])\n",
    "\n",
    "#adding second legend\n",
    "\n",
    "#h = [plt.plot([],[], color=\"black\", marker=\"${}$\".format(chr(i+65)), ms=10, ls=\"\")[0] for i in range(len(oxideName))]\n",
    "#leg = plt.legend(handles=h, labels=oxideName,loc=(0.1,1.1), title=\"Oxides\", ncol = 5)\n",
    "#ax1.add_artist(leg)\n",
    "\n",
    "\n",
    "\n",
    "\n",
    "# adding legends\n",
    "#handles, labels = plt.gca().get_legend_handles_labels()\n",
    "#by_label = OrderedDict(zip(labels, handles))\n",
    "#plt.legend(by_label.values(), by_label.keys(),bbox_to_anchor=(1.25, 1), prop={'size':20}, title =\"Metals\")\n",
    "\n",
    "#fig1.savefig('embedding.pdf',bbox_inches='tight',pad_inches=0.2)\n",
    "\n",
    "\n",
    "\n",
    "\n",
    "ax1.plot(rho,ene5)\n",
    "fig1.savefig('embedding_with_fit5.pdf')\n",
    "plt.show()"
   ]
  },
  {
   "cell_type": "code",
   "execution_count": null,
   "metadata": {},
   "outputs": [],
   "source": [
    "\n"
   ]
  },
  {
   "cell_type": "code",
   "execution_count": 24,
   "metadata": {},
   "outputs": [],
   "source": []
  },
  {
   "cell_type": "code",
   "execution_count": 42,
   "metadata": {},
   "outputs": [
    {
     "data": {
      "text/plain": [
       "<matplotlib.collections.PathCollection at 0x7fc56309d7b8>"
      ]
     },
     "execution_count": 42,
     "metadata": {},
     "output_type": "execute_result"
    },
    {
     "data": {
      "image/png": "[encoded data removed]",
      "text/plain": [
       "<Figure size 432x288 with 1 Axes>"
      ]
     },
     "metadata": {
      "needs_background": "light"
     },
     "output_type": "display_data"
    }
   ],
   "source": []
  },
  {
   "cell_type": "code",
   "execution_count": 18,
   "metadata": {},
   "outputs": [],
   "source": [
    "def Functional(rho,F0, rho0,c):\n",
    "    return F0 *( (rho/rho0) * np.log(rho/rho0))\n",
    "\n",
    "\n",
    "def poly(rho,a):\n",
    "    out = 0\n",
    "    for index,coeff in enumerate(a):\n",
    "        out += a[index] * rho^(index+1)\n",
    "        "
   ]
  },
  {
   "cell_type": "code",
   "execution_count": 19,
   "metadata": {},
   "outputs": [],
   "source": [
    "from scipy.optimize import curve_fit\n",
    "d,e=np.array([*densityAtO.values()]),np.array([*embedded_dict.values()])"
   ]
  },
  {
   "cell_type": "code",
   "execution_count": null,
   "metadata": {},
   "outputs": [],
   "source": []
  },
  {
   "cell_type": "code",
   "execution_count": 125,
   "metadata": {},
   "outputs": [],
   "source": []
  },
  {
   "cell_type": "code",
   "execution_count": 34,
   "metadata": {},
   "outputs": [],
   "source": [
    "\n",
    "with open(folder+\"Energy.dat\",'w') as f:\n",
    "    for key in oxideName:\n",
    "        f.write(\"%f\\t%f\\n\"%(densityAtO[key],embedded_dict[key]))\n",
    "            #print(\"%f\\t%f\\n\"%(d[index],e[index]))"
   ]
  },
  {
   "cell_type": "code",
   "execution_count": 113,
   "metadata": {},
   "outputs": [
    {
     "data": {
      "text/plain": [
       "[<matplotlib.lines.Line2D at 0x7fbddafadeb8>]"
      ]
     },
     "execution_count": 113,
     "metadata": {},
     "output_type": "execute_result"
    },
    {
     "data": {
      "image/png": "[encoded data removed]",
      "text/plain": [
       "<Figure size 324x324 with 1 Axes>"
      ]
     },
     "metadata": {
      "needs_background": "light"
     },
     "output_type": "display_data"
    }
   ],
   "source": [
    "x = np.linspace(0.001,60,1000)\n",
    "y = Functional(x,coeff[0],coeff[1],coeff[2])\n",
    "\n",
    "fig,ax =  plt.subplots()\n",
    "ax.scatter(d,e)\n",
    "ax.set_xlim([0,60])\n",
    "ax.set_ylim([-200,0])\n",
    "ax.plot(x,y)"
   ]
  },
  {
   "cell_type": "code",
   "execution_count": 130,
   "metadata": {},
   "outputs": [
    {
     "data": {
      "text/plain": [
       "[<matplotlib.lines.Line2D at 0x7fbdd850ba58>]"
      ]
     },
     "execution_count": 130,
     "metadata": {},
     "output_type": "execute_result"
    },
    {
     "data": {
      "image/png": "[encoded data removed]",
      "text/plain": [
       "<Figure size 324x324 with 1 Axes>"
      ]
     },
     "metadata": {
      "needs_background": "light"
     },
     "output_type": "display_data"
    }
   ],
   "source": [
    "coeffPoly = np.polyfit(d[d<60],e[d<60],4)\n",
    "func = np.poly1d(coeffPoly)\n",
    "\n",
    "x = np.linspace(0.001,60,1000)\n",
    "y = func(x)\n",
    "\n",
    "fig,ax =  plt.subplots()\n",
    "ax.scatter(d,e)\n",
    "ax.set_xlim([0,60])\n",
    "ax.set_ylim([-200,0])\n",
    "ax.plot(x,y)"
   ]
  },
  {
   "cell_type": "code",
   "execution_count": 59,
   "metadata": {},
   "outputs": [],
   "source": [
    "def formDictonary(keys,values):\n",
    "    outDict = {}\n",
    "    for index,key in enumerate(keys):\n",
    "        outDict[key] = values[index]\n",
    "    return outDict"
   ]
  },
  {
   "cell_type": "code",
   "execution_count": 60,
   "metadata": {},
   "outputs": [
    {
     "data": {
      "text/plain": [
       "{'Al2O3': 3,\n",
       " 'Co3O4': 4,\n",
       " 'CoO': 1,\n",
       " 'Cu2O': 1,\n",
       " 'CuO': 1,\n",
       " 'alpha-Fe2O3': 3,\n",
       " 'Fe3O4': 4,\n",
       " 'MgO': 1,\n",
       " 'MoO2': 2,\n",
       " 'Pb3O4': 4,\n",
       " 'PbO2': 2,\n",
       " 'red-PbO': 1,\n",
       " 'yellow-PbO': 1,\n",
       " 'TiO2-anatase': 2,\n",
       " 'TiO2-rutile': 2,\n",
       " 'Ti2O3': 3,\n",
       " 'Ti3O5': 5,\n",
       " 'TiO': 1,\n",
       " 'WO2': 2,\n",
       " 'WO3': 3,\n",
       " 'ZrO2': 2}"
      ]
     },
     "execution_count": 60,
     "metadata": {},
     "output_type": "execute_result"
    }
   ],
   "source": [
    "formDictonary(oxideName,m)"
   ]
  },
  {
   "cell_type": "code",
   "execution_count": 70,
   "metadata": {},
   "outputs": [],
   "source": [
    "good_data = ['Al2O3','Co3O4','CoO','Cu2O','CuO','alpha-Fe2O3','Fe3O4','MgO','MoO2','Pb3O4','PbO2','red-PbO',\\\n",
    "            'yellow-PbO','TiO2-anatase','TiO2-rutile','Ti2O3','Ti3O5','TiO']\n",
    "e = [0]\n",
    "d = [0]\n",
    "for mol in good_data:\n",
    "    e.append(embedded_dict[mol])\n",
    "    d.append(densityAtO[mol])\n",
    "e.append(0)\n",
    "d.append(90)"
   ]
  },
  {
   "cell_type": "code",
   "execution_count": 71,
   "metadata": {},
   "outputs": [
    {
     "data": {
      "text/plain": [
       "[<matplotlib.lines.Line2D at 0x7f67ae2057b8>]"
      ]
     },
     "execution_count": 71,
     "metadata": {},
     "output_type": "execute_result"
    },
    {
     "data": {
      "image/png": "[encoded data removed]",
      "text/plain": [
       "<Figure size 432x288 with 1 Axes>"
      ]
     },
     "metadata": {
      "needs_background": "light"
     },
     "output_type": "display_data"
    }
   ],
   "source": [
    "plt.plot(d,e,'o')"
   ]
  },
  {
   "cell_type": "code",
   "execution_count": 87,
   "metadata": {},
   "outputs": [],
   "source": [
    "from scipy.optimize import curve_fit\n",
    "d,e=np.array([d,e])\n",
    "dnew = d/90-1"
   ]
  },
  {
   "cell_type": "code",
   "execution_count": 89,
   "metadata": {},
   "outputs": [
    {
     "data": {
      "text/plain": [
       "[<matplotlib.lines.Line2D at 0x7f67adc77b00>]"
      ]
     },
     "execution_count": 89,
     "metadata": {},
     "output_type": "execute_result"
    },
    {
     "data": {
      "image/png": "[encoded data removed]",
      "text/plain": [
       "<Figure size 432x288 with 1 Axes>"
      ]
     },
     "metadata": {
      "needs_background": "light"
     },
     "output_type": "display_data"
    }
   ],
   "source": [
    "plt.plot(dnew,e,'o')"
   ]
  },
  {
   "cell_type": "code",
   "execution_count": 106,
   "metadata": {},
   "outputs": [
    {
     "data": {
      "text/plain": [
       "[<matplotlib.lines.Line2D at 0x7f67ad7a4c50>]"
      ]
     },
     "execution_count": 106,
     "metadata": {},
     "output_type": "execute_result"
    },
    {
     "data": {
      "image/png": "[encoded data removed]",
      "text/plain": [
       "<Figure size 432x288 with 1 Axes>"
      ]
     },
     "metadata": {
      "needs_background": "light"
     },
     "output_type": "display_data"
    }
   ],
   "source": [
    "coeffPoly = np.polyfit(dnew,e,4)\n",
    "func = np.poly1d(coeffPoly)\n",
    "x = np.linspace(-1,0,1000)\n",
    "y = func(x)\n",
    "fig,ax =  plt.subplots()\n",
    "ax.scatter(dnew,e)\n",
    "#ax.set_xlim([-1,1.3])\n",
    "ax.set_ylim([-100,10])\n",
    "ax.plot(x,y)"
   ]
  },
  {
   "cell_type": "code",
   "execution_count": 112,
   "metadata": {},
   "outputs": [
    {
     "data": {
      "text/plain": [
       "[<matplotlib.lines.Line2D at 0x7f67ace57668>]"
      ]
     },
     "execution_count": 112,
     "metadata": {},
     "output_type": "execute_result"
    },
    {
     "data": {
      "image/png": "[encoded data removed]",
      "text/plain": [
       "<Figure size 432x288 with 1 Axes>"
      ]
     },
     "metadata": {
      "needs_background": "light"
     },
     "output_type": "display_data"
    }
   ],
   "source": [
    "def Functional(rho,F0, rho0,c):\n",
    "    return F0 *( (rho/rho0) * np.log(rho/rho0))\n",
    "from scipy.optimize import curve_fit\n",
    "d,e=np.array([d,e])\n",
    "d[0] = 0.001\n",
    "e[0] = 0.001\n",
    "coeff,var = curve_fit(Functional,d,e)\n",
    "x = np.linspace(0.001,90,1000)\n",
    "y = Functional(x,coeff[0],coeff[1],coeff[2])\n",
    "\n",
    "fig,ax =  plt.subplots()\n",
    "ax.scatter(d,e)\n",
    "ax.set_xlim([0,90])\n",
    "ax.set_ylim([-200,0])\n",
    "ax.plot(x,y)"
   ]
  },
  {
   "cell_type": "code",
   "execution_count": 110,
   "metadata": {},
   "outputs": [
    {
     "data": {
      "text/plain": [
       "(array([160.33007327,  83.73084131,   1.        ]), array([[inf, inf, inf],\n",
       "        [inf, inf, inf],\n",
       "        [inf, inf, inf]]))"
      ]
     },
     "execution_count": 110,
     "metadata": {},
     "output_type": "execute_result"
    }
   ],
   "source": [
    "coeff,var"
   ]
  },
  {
   "cell_type": "code",
   "execution_count": 60,
   "metadata": {},
   "outputs": [
    {
     "data": {
      "text/plain": [
       "array([  0.        , -82.167013  , -43.58276321, -44.65726884,\n",
       "       -46.45611923, -29.84045485, -65.58076984, -64.31303799,\n",
       "       -79.83630732, -28.63335343, -43.22553067, -44.67779674,\n",
       "       -47.40090236, -44.30834586, -80.9155954 , -79.78049591,\n",
       "       -64.47206359, -73.29418225, -23.01587161])"
      ]
     },
     "execution_count": 60,
     "metadata": {},
     "output_type": "execute_result"
    }
   ],
   "source": [
    "e"
   ]
  },
  {
   "cell_type": "code",
   "execution_count": null,
   "metadata": {},
   "outputs": [],
   "source": []
  }
 ],
 "metadata": {
  "kernelspec": {
   "display_name": "Python 3",
   "language": "python",
   "name": "python3"
  },
  "language_info": {
   "codemirror_mode": {
    "name": "ipython",
    "version": 3
   },
   "file_extension": ".py",
   "mimetype": "text/x-python",
   "name": "python",
   "nbconvert_exporter": "python",
   "pygments_lexer": "ipython3",
   "version": "3.6.8"
  }
 },
 "nbformat": 4,
 "nbformat_minor": 2
}
